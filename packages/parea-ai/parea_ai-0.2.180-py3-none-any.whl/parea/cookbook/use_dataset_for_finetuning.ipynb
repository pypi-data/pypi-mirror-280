{
 "cells": [
  {
   "cell_type": "code",
   "execution_count": 30,
   "metadata": {
    "collapsed": true
   },
   "outputs": [],
   "source": [
    "import os\n",
    "\n",
    "from dotenv import load_dotenv\n",
    "\n",
    "from parea import Parea\n",
    "\n",
    "load_dotenv()\n",
    "\n",
    "p = Parea(api_key=os.getenv(\"PAREA_API_KEY\"))\n",
    "\n",
    "dataset = p.get_collection(594)\n",
    "\n",
    "dataset_rows = list(dataset.get_all_test_inputs_and_targets_tuple())"
   ]
  },
  {
   "cell_type": "code",
   "execution_count": 31,
   "outputs": [
    {
     "ename": "TypeError",
     "evalue": "the JSON object must be str, bytes or bytearray, not dict",
     "output_type": "error",
     "traceback": [
      "\u001B[0;31m---------------------------------------------------------------------------\u001B[0m",
      "\u001B[0;31mTypeError\u001B[0m                                 Traceback (most recent call last)",
      "Cell \u001B[0;32mIn[31], line 1\u001B[0m\n\u001B[0;32m----> 1\u001B[0m \u001B[43mjson\u001B[49m\u001B[38;5;241;43m.\u001B[39;49m\u001B[43mloads\u001B[49m\u001B[43m(\u001B[49m\u001B[43mdataset_rows\u001B[49m\u001B[43m[\u001B[49m\u001B[38;5;241;43m0\u001B[39;49m\u001B[43m]\u001B[49m\u001B[43m[\u001B[49m\u001B[38;5;241;43m0\u001B[39;49m\u001B[43m]\u001B[49m\u001B[43m)\u001B[49m\n",
      "File \u001B[0;32m/Library/Developer/CommandLineTools/Library/Frameworks/Python3.framework/Versions/3.9/lib/python3.9/json/__init__.py:339\u001B[0m, in \u001B[0;36mloads\u001B[0;34m(s, cls, object_hook, parse_float, parse_int, parse_constant, object_pairs_hook, **kw)\u001B[0m\n\u001B[1;32m    337\u001B[0m \u001B[38;5;28;01melse\u001B[39;00m:\n\u001B[1;32m    338\u001B[0m     \u001B[38;5;28;01mif\u001B[39;00m \u001B[38;5;129;01mnot\u001B[39;00m \u001B[38;5;28misinstance\u001B[39m(s, (\u001B[38;5;28mbytes\u001B[39m, \u001B[38;5;28mbytearray\u001B[39m)):\n\u001B[0;32m--> 339\u001B[0m         \u001B[38;5;28;01mraise\u001B[39;00m \u001B[38;5;167;01mTypeError\u001B[39;00m(\u001B[38;5;124mf\u001B[39m\u001B[38;5;124m'\u001B[39m\u001B[38;5;124mthe JSON object must be str, bytes or bytearray, \u001B[39m\u001B[38;5;124m'\u001B[39m\n\u001B[1;32m    340\u001B[0m                         \u001B[38;5;124mf\u001B[39m\u001B[38;5;124m'\u001B[39m\u001B[38;5;124mnot \u001B[39m\u001B[38;5;132;01m{\u001B[39;00ms\u001B[38;5;241m.\u001B[39m\u001B[38;5;18m__class__\u001B[39m\u001B[38;5;241m.\u001B[39m\u001B[38;5;18m__name__\u001B[39m\u001B[38;5;132;01m}\u001B[39;00m\u001B[38;5;124m'\u001B[39m)\n\u001B[1;32m    341\u001B[0m     s \u001B[38;5;241m=\u001B[39m s\u001B[38;5;241m.\u001B[39mdecode(detect_encoding(s), \u001B[38;5;124m'\u001B[39m\u001B[38;5;124msurrogatepass\u001B[39m\u001B[38;5;124m'\u001B[39m)\n\u001B[1;32m    343\u001B[0m \u001B[38;5;28;01mif\u001B[39;00m (\u001B[38;5;28mcls\u001B[39m \u001B[38;5;129;01mis\u001B[39;00m \u001B[38;5;28;01mNone\u001B[39;00m \u001B[38;5;129;01mand\u001B[39;00m object_hook \u001B[38;5;129;01mis\u001B[39;00m \u001B[38;5;28;01mNone\u001B[39;00m \u001B[38;5;129;01mand\u001B[39;00m\n\u001B[1;32m    344\u001B[0m         parse_int \u001B[38;5;129;01mis\u001B[39;00m \u001B[38;5;28;01mNone\u001B[39;00m \u001B[38;5;129;01mand\u001B[39;00m parse_float \u001B[38;5;129;01mis\u001B[39;00m \u001B[38;5;28;01mNone\u001B[39;00m \u001B[38;5;129;01mand\u001B[39;00m\n\u001B[1;32m    345\u001B[0m         parse_constant \u001B[38;5;129;01mis\u001B[39;00m \u001B[38;5;28;01mNone\u001B[39;00m \u001B[38;5;129;01mand\u001B[39;00m object_pairs_hook \u001B[38;5;129;01mis\u001B[39;00m \u001B[38;5;28;01mNone\u001B[39;00m \u001B[38;5;129;01mand\u001B[39;00m \u001B[38;5;129;01mnot\u001B[39;00m kw):\n",
      "\u001B[0;31mTypeError\u001B[0m: the JSON object must be str, bytes or bytearray, not dict"
     ]
    }
   ],
   "source": [
    "json.loads(dataset_rows[0][0])"
   ],
   "metadata": {
    "collapsed": false
   }
  },
  {
   "cell_type": "code",
   "execution_count": 32,
   "outputs": [
    {
     "data": {
      "text/plain": "{'model': 'gpt-3.5-turbo-0613',\n 'tweet': \"I love the new iPhone 13 Pro Max. It's the best phone I've ever had. I can't wait to get my hands on it. #iPhone13ProMax\",\n 'messages': '[\\n  {\\n    \"content\": \"Tell me the sentiment of I love the new iPhone 13 Pro Max. It\\'s the best phone I\\'ve ever had. I can\\'t wait to get my hands on it. #iPhone13ProMax. Only respond with \\\\\"Positive\\\\\", \\\\\"Neutral\\\\\" or \\\\\"Negative\\\\\"\",\\n    \"role\": \"user\"\\n  }\\n]',\n 'provider': \"OpenAIProvider('gpt-3.5-turbo-0613')\",\n 'functions': '[]',\n 'model_params': '{\\n  \"model\": \"\",\\n  \"temp\": 0.5,\\n  \"top_p\": 1,\\n  \"frequency_penalty\": 0,\\n  \"presence_penalty\": 0,\\n  \"max_length\": 4024,\\n  \"response_format\": null,\\n  \"safe_prompt\": null\\n}',\n 'function_call': '{\\n  \"name\": null\\n}'}"
     },
     "execution_count": 32,
     "metadata": {},
     "output_type": "execute_result"
    }
   ],
   "source": [
    "dataset_rows[0][0]"
   ],
   "metadata": {
    "collapsed": false
   }
  },
  {
   "cell_type": "code",
   "execution_count": 35,
   "outputs": [],
   "source": [
    "from typing import Tuple, Dict, List\n",
    "import json\n",
    "\n",
    "\n",
    "def convert_dataset_to_ft_jsonl(rows: List[Tuple]) -> List[Dict]:\n",
    "    jsonl_rows = []\n",
    "    for inputs, target in rows:\n",
    "        messages = json.loads(inputs[\"messages\"])\n",
    "        try:\n",
    "            function_call = json.loads(target)\n",
    "            if isinstance(function_call, List):\n",
    "                function_call = function_call[0]\n",
    "            if not \"arguments\" in function_call:\n",
    "                # tool use format, need to convert\n",
    "                function_call = function_call[\"function\"]\n",
    "            function_call[\"arguments\"] = json.dumps(function_call[\"arguments\"])\n",
    "            assistant_response = {\"role\": \"assistant\", \"function_call\": function_call}\n",
    "        except json.JSONDecodeError:\n",
    "            assistant_response = {\"role\": \"assistant\", \"content\": target}\n",
    "        messages.append(assistant_response)\n",
    "        converted_row = {\"messages\": messages}\n",
    "        if functions := inputs.get(\"functions\", None):\n",
    "            if loaded_functions := json.loads(functions):\n",
    "                converted_row[\"functions\"] = loaded_functions\n",
    "        jsonl_rows.append(converted_row)\n",
    "    return jsonl_rows"
   ],
   "metadata": {
    "collapsed": false
   }
  },
  {
   "cell_type": "code",
   "execution_count": 36,
   "outputs": [],
   "source": [
    "def write_jsonl(file_path, lines):\n",
    "    \"\"\"Create a .jsonl file and dump contents.\n",
    "    file_path (unicode / Path): The path to the output file.\n",
    "    lines (list): The JSON-serializable contents of each line.\n",
    "    \"\"\"\n",
    "    data = [json.dumps(line) for line in lines]\n",
    "    with open(file_path, \"w\", encoding=\"utf-8\") as f:\n",
    "        f.write(\"\\n\".join(data))\n",
    "\n",
    "\n",
    "write_jsonl(\"finetuning.jsonl\", convert_dataset_to_ft_jsonl(dataset_rows * 10))"
   ],
   "metadata": {
    "collapsed": false
   }
  },
  {
   "cell_type": "code",
   "execution_count": 10,
   "outputs": [
    {
     "data": {
      "text/plain": "{'name': 'solarFarm_potential',\n 'arguments': {'coordinates': [43.653225, -79.383186],\n  'month': 'December',\n  'panelArea': 100000}}"
     },
     "execution_count": 10,
     "metadata": {},
     "output_type": "execute_result"
    }
   ],
   "source": [
    "function_call"
   ],
   "metadata": {
    "collapsed": false
   }
  },
  {
   "cell_type": "code",
   "execution_count": null,
   "outputs": [],
   "source": [],
   "metadata": {
    "collapsed": false
   }
  }
 ],
 "metadata": {
  "kernelspec": {
   "display_name": "Python 3",
   "language": "python",
   "name": "python3"
  },
  "language_info": {
   "codemirror_mode": {
    "name": "ipython",
    "version": 2
   },
   "file_extension": ".py",
   "mimetype": "text/x-python",
   "name": "python",
   "nbconvert_exporter": "python",
   "pygments_lexer": "ipython2",
   "version": "2.7.6"
  }
 },
 "nbformat": 4,
 "nbformat_minor": 0
}
