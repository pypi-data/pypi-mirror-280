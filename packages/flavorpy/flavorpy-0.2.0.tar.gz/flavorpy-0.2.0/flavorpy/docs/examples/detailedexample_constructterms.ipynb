{
 "cells": [
  {
   "cell_type": "code",
   "execution_count": 1,
   "id": "1e8843e8",
   "metadata": {},
   "outputs": [],
   "source": [
    "# Specify location to FlavorPy files\n",
    "directory_to_git_folder = \"/home/alex/GitRepos/FlavorPy/flavorpy\"\n",
    "import os\n",
    "os.chdir(os.path.expanduser(directory_to_git_folder))\n",
    "\n",
    "import constructterms as ct"
   ]
  },
  {
   "cell_type": "markdown",
   "id": "0f0243df",
   "metadata": {},
   "source": [
    "# Detailed Example"
   ]
  },
  {
   "cell_type": "markdown",
   "id": "f9ca7fc2",
   "metadata": {},
   "source": [
    "Compared to the simple example, in this detailed example, we will also determine the explicit form of the mass matrices for the flavor model introduced in \"Are neutrino masses modular forms?\" by F. Feruglio (https://arxiv.org/pdf/1706.08749) as so-called Example 1 in section 3.12. The chiral supermultiplets and their transformation properties of this model are\n",
    "<img src=\"simpleexample_constructterms_table.png\" width=600 height=600 />\n",
    "where $k_L=1$, $k_u=0$, $k_\\varphi=-3$, and $k_{E_i}+k_L+k_d+k_\\varphi=0$. Table taken from https://arxiv.org/pdf/1706.08749. "
   ]
  },
  {
   "cell_type": "markdown",
   "id": "b8059a94",
   "metadata": {},
   "source": [
    "## Import"
   ]
  },
  {
   "cell_type": "code",
   "execution_count": 2,
   "id": "699b9a12",
   "metadata": {},
   "outputs": [],
   "source": [
    "## Import the constructterms module of FlavorPy\n",
    "#import flavorpy.constructterms as ct"
   ]
  },
  {
   "cell_type": "markdown",
   "id": "cc191f8d",
   "metadata": {},
   "source": [
    "## Define Groups"
   ]
  },
  {
   "cell_type": "markdown",
   "id": "23e62f73",
   "metadata": {},
   "source": [
    "Analogous to the simple example, we start by defining the non-Abelian group $A_4$. Only this time, we also define specific clebsch-gordan coefficients"
   ]
  },
  {
   "cell_type": "code",
   "execution_count": 3,
   "id": "ecfffe3c",
   "metadata": {},
   "outputs": [],
   "source": [
    "# Representations of A4\n",
    "A4_reps = ['1', '1p', '1pp', '3']\n",
    "\n",
    "# Tensor products of A_reps as a matrix, i.e. A_tensor_procuts[i,j,] = A4_reps[i] x A4_reps[j]\n",
    "A4_tensor_products = [[['1'], ['1p'], ['1pp'], ['3']],\n",
    "                      [['1p'], ['1pp'], ['1'], ['3']],\n",
    "                      [['1pp'], ['1'], ['1p'], ['3']],\n",
    "                      [['3'], ['3'], ['3'], ['1', '1p', '1pp', '3', '3']]]\n",
    "\n",
    "# To determine the components of the mass matrix, we need to define the clebsch gordans for a specific basis. \n",
    "# In this case we will use the so-called \"complex basis\" specified in Appendix C of the paper \n",
    "A4_clebsches = {'1 x 1': {'1': [[[1]]]},\n",
    "                '1 x 1p': {'1p': [[[1]]]},\n",
    "                '1 x 1pp': {'1pp': [[[1]]]},\n",
    "                '1p x 1p': {'1pp': [[[1]]]},\n",
    "                '1p x 1pp': {'1': [[[1]]]},\n",
    "                '1pp x 1pp': {'1p': [[[1]]]},\n",
    "                '1 x 3': {'3': [[[1,0,0],[0,1,0],[0,0,1]]]},\n",
    "                '1p x 3': {'3': [[[0,0,1],[1,0,0],[0,1,0]]]},\n",
    "                '1pp x 3': {'3': [[[0,1,0],[0,0,1],[1,0,0]]]},\n",
    "                '3 x 3': {'1': [[[1,0,0, 0,0,1, 0,1,0]]],\n",
    "                          '1p': [[[0,1,0, 1,0,0, 0,0,1]]],\n",
    "                          '1pp': [[[0,0,1, 0,1,0, 1,0,0]]],\n",
    "                          '3': [[[\" 2/sqrt(3)\",0,0, 0,0,\"- 1/sqrt(3)\", 0,\"- 1/sqrt(3)\",0],\n",
    "                                 [0,\"- 1/sqrt(3)\",0, \"- 1/sqrt(3)\",0,0, 0,0,\" 2/sqrt(3)\"],\n",
    "                                 [0,0,\"- 1/sqrt(3)\", 0,\" 2/sqrt(3)\",0, \"- 1/sqrt(3)\",0,0]],\n",
    "                                [[0,0,0, 0,0,1, 0,-1,0],\n",
    "                                 [0,1,0, -1,0,0, 0,0,0],\n",
    "                                 [0,0,-1, 0,0,0, 1,0,0]]]}}\n",
    "\n",
    "# Construct A4 Group\n",
    "A4 = ct.NonAbelianGroup('A4', representations=A4_reps,\n",
    "                        tensor_products=A4_tensor_products, clebsches=A4_clebsches)\n",
    "\n",
    "# Construct Modular Weight \"group\"\n",
    "mod_weight = ct.U1Group('mod weight')\n",
    "\n",
    "# Construct U(1) Hypercharge\n",
    "U1y = ct.U1Group('U1y')"
   ]
  },
  {
   "cell_type": "markdown",
   "id": "99b31c59",
   "metadata": {},
   "source": [
    "## Define Fields"
   ]
  },
  {
   "cell_type": "markdown",
   "id": "82146310",
   "metadata": {},
   "source": [
    "Next, we can define the fields of the flavor model. Compared to the simple example we now also give explicit components under the A4 symmetry."
   ]
  },
  {
   "cell_type": "markdown",
   "id": "1e5839c4",
   "metadata": {},
   "source": [
    "It is very important to note that ConstructTerms can only handle one non-Abelian group or multiple non-Abelian groups that commute with each other, i.e. a direct product of multiple non-Abelian groups. Do not assign charges of two separate non-Abelian groups, if they do not commute!"
   ]
  },
  {
   "cell_type": "code",
   "execution_count": 4,
   "id": "bd72b345",
   "metadata": {},
   "outputs": [],
   "source": [
    "ke = 20\n",
    "kd = - ke + 1 - 3\n",
    "\n",
    "E1 = ct.Field('E1', charges={A4:['1'], mod_weight:ke, U1y:1}, components={A4: {'1': [['e1']]}})\n",
    "E2 = ct.Field('E2', charges={A4:['1pp'], mod_weight:ke, U1y:1}, components={A4: {'1pp': [['e2']]}})\n",
    "E3 = ct.Field('E3', charges={A4:['1p'], mod_weight:ke, U1y:1}, components={A4: {'1p': [['e3']]}})\n",
    "L = ct.Field('L', charges={A4:['3'], mod_weight:-1, U1y:-1/2}, components={A4: {'3': [['l1', 'l2', 'l3']]}})\n",
    "Hd = ct.Field('Hd', charges={A4:['1'], mod_weight:kd, U1y:-1/2}, components={A4: {'1': [['hd']]}})\n",
    "Hu = ct.Field('Hu', charges={A4:['1'], mod_weight:0, U1y:+1/2}, components={A4: {'1': [['hu']]}})\n",
    "PhiT = ct.Field('PhiT', charges={A4:['3'], mod_weight:3, U1y:0}, components={A4: {'3': [['phi1', 'phi2', 'phi3']]}})\n",
    "Y = ct.Field('Y', charges={A4:['3'], mod_weight:2, U1y:0}, components={A4: {'3': [['y1', 'y2', 'y3']]}})\n",
    "\n",
    "all_fields = [E1, E2, E3, L, Hd, Hu, PhiT, Y]\n",
    "\n",
    "W = ct.Field('W', charges={A4:['1'], mod_weight:0, U1y:0})"
   ]
  },
  {
   "cell_type": "markdown",
   "id": "02dc765e",
   "metadata": {},
   "source": [
    "As a side remark, it is also possible to determine the product of two fields, which again yields an instance of the Field class, i.e."
   ]
  },
  {
   "cell_type": "code",
   "execution_count": 5,
   "id": "efaba1ea",
   "metadata": {},
   "outputs": [
    {
     "name": "stdout",
     "output_type": "stream",
     "text": [
      "LxPhiT.charges:  {A4: ['1', '1p', '1pp', '3', '3'], mod weight: 2, U1y: -0.5} \n",
      "\n",
      "LxPhiT.components: {A4: {'1': [['l1 phi1 + l2 phi3 + l3 phi2']], '1p': [['l1 phi2 + l2 phi1 + l3 phi3']], '1pp': [['l1 phi3 + l2 phi2 + l3 phi1']], '3': [['2/sqrt(3) l1 phi1  - 1/sqrt(3) l2 phi3  - 1/sqrt(3) l3 phi2', '- 1/sqrt(3) l1 phi2  - 1/sqrt(3) l2 phi1 +  2/sqrt(3) l3 phi3', '- 1/sqrt(3) l1 phi3 +  2/sqrt(3) l2 phi2  - 1/sqrt(3) l3 phi1'], ['l2 phi3 - l3 phi2', 'l1 phi2 - l2 phi1', '- l1 phi3 + l3 phi1']]}}\n"
     ]
    }
   ],
   "source": [
    "LxPhiT = L.times(PhiT)\n",
    "print('LxPhiT.charges: ', LxPhiT.charges, '\\n')\n",
    "print('LxPhiT.components:', LxPhiT.components)"
   ]
  },
  {
   "cell_type": "markdown",
   "id": "ad8c9e6b",
   "metadata": {},
   "source": [
    "## Determine symmetry invariant terms in the superpotential"
   ]
  },
  {
   "cell_type": "markdown",
   "id": "395cfd4d",
   "metadata": {},
   "source": [
    "Then we can determine the symmetry invariant terms up to a specific order of the superpotential with"
   ]
  },
  {
   "cell_type": "code",
   "execution_count": 6,
   "id": "5a9348b3",
   "metadata": {},
   "outputs": [
    {
     "data": {
      "text/plain": [
       "[L L Hu Hu Y, E1 L Hd PhiT, E2 L Hd PhiT, E3 L Hd PhiT]"
      ]
     },
     "execution_count": 6,
     "metadata": {},
     "output_type": "execute_result"
    }
   ],
   "source": [
    "allowed_products = ct.list_allowed_terms(all_fields, W, order=5)\n",
    "allowed_products"
   ]
  },
  {
   "cell_type": "markdown",
   "id": "91b8376a",
   "metadata": {},
   "source": [
    "Moreover to obtain the explicit components of a term and determine the mass matrix call"
   ]
  },
  {
   "cell_type": "code",
   "execution_count": 7,
   "id": "cdbc5137",
   "metadata": {},
   "outputs": [
    {
     "name": "stdout",
     "output_type": "stream",
     "text": [
      "['(hu (hu (2/sqrt(3) l1 l1  - 1/sqrt(3) l2 l3  - 1/sqrt(3) l3 l2))) y1 + (hu (hu (- 1/sqrt(3) l1 l2  - 1/sqrt(3) l2 l1 +  2/sqrt(3) l3 l3))) y3 + (hu (hu (- 1/sqrt(3) l1 l3 +  2/sqrt(3) l2 l2  - 1/sqrt(3) l3 l1))) y2'] \n",
      "\n",
      "['(hu (hu (l2 l3 - l3 l2))) y1 + (hu (hu (l1 l2 - l2 l1))) y3 + (hu (hu (- l1 l3 + l3 l1))) y2'] \n",
      "\n"
     ]
    }
   ],
   "source": [
    "product0 = allowed_products[0]\n",
    "triv_A4_components = product0.components[A4]['1']\n",
    "for term in triv_A4_components:\n",
    "    print(term, \"\\n\")"
   ]
  },
  {
   "cell_type": "markdown",
   "id": "81516000",
   "metadata": {},
   "source": [
    "Here the first term of the product L L Hu Hu Y yields the mass matrix \n",
    "$$ M_\\nu ~=~ \\dfrac{hu\\,hu}{\\sqrt{3}} ~\\begin{pmatrix} 2\\,y1 & -y3 & -y2 \\\\ -y3 & 2\\,y2 & -y1 \\\\ -y2 & -y1 & 2\\,y3 \\end{pmatrix},$$\n",
    "while the second term yields \n",
    "$$\\tilde M_\\nu ~=~ hu\\,hu ~\\begin{pmatrix} 0 & y3 & -y2 \\\\ -y3 & 0 & y1 \\\\ y2 & -y1 & 0 \\end{pmatrix},$$\n",
    "which is antisymmetric and hence does not contribute to the neutrion mass.\n",
    "In total we can obtain the same mass matrix as the paper, see eq. (38)."
   ]
  },
  {
   "cell_type": "markdown",
   "id": "badfbe8f",
   "metadata": {},
   "source": [
    "For the products that give mass to the charged leptons we get"
   ]
  },
  {
   "cell_type": "code",
   "execution_count": 8,
   "id": "d0fa6b01",
   "metadata": {},
   "outputs": [
    {
     "name": "stdout",
     "output_type": "stream",
     "text": [
      "[['hd e1 l1 phi1 + hd e1 l2 phi3 + hd e1 l3 phi2']] \n",
      "\n",
      "[['hd e2 l2 phi1 + hd e2 l3 phi3 + hd e2 l1 phi2']] \n",
      "\n",
      "[['hd e3 l3 phi1 + hd e3 l1 phi3 + hd e3 l2 phi2']] \n",
      "\n"
     ]
    }
   ],
   "source": [
    "products13 = allowed_products[1:]\n",
    "triv_A4_components = [product.components[A4]['1'] for product in products13]\n",
    "for term in triv_A4_components:\n",
    "    print(term, \"\\n\")"
   ]
  },
  {
   "cell_type": "markdown",
   "id": "fbe92272",
   "metadata": {},
   "source": [
    "Given that the second and third components of the flavon field PhiT vanish, i.e. phi2=phi3=0, the charged lepton mass matrix is diagonal and reads\n",
    "$$ M_e ~=~ hd\\,phi1 ~\\begin{pmatrix} \\alpha & 0 & 0 \\\\ 0 & \\beta & 0 \\\\ 0 & 0 & \\gamma \\end{pmatrix},$$\n",
    "where $\\alpha$, $\\beta$, $\\gamma$ are the symmetry invariant coupling coefficients in front of the three individual terms. This is in agreement with the result from the paper, see eq. (36)"
   ]
  }
 ],
 "metadata": {
  "kernelspec": {
   "display_name": "Python 3",
   "language": "python",
   "name": "python3"
  },
  "language_info": {
   "codemirror_mode": {
    "name": "ipython",
    "version": 3
   },
   "file_extension": ".py",
   "mimetype": "text/x-python",
   "name": "python",
   "nbconvert_exporter": "python",
   "pygments_lexer": "ipython3",
   "version": "3.8.10"
  }
 },
 "nbformat": 4,
 "nbformat_minor": 5
}
