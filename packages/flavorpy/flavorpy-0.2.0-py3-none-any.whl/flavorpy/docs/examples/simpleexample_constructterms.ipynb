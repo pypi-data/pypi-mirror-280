{
 "cells": [
  {
   "cell_type": "code",
   "execution_count": 1,
   "id": "628ec74d",
   "metadata": {},
   "outputs": [],
   "source": [
    "# Specify location to FlavorPy files\n",
    "directory_to_git_folder = \"/home/alex/GitRepos/FlavorPy/flavorpy\"\n",
    "import os\n",
    "os.chdir(os.path.expanduser(directory_to_git_folder))\n",
    "\n",
    "import constructterms as ct"
   ]
  },
  {
   "cell_type": "markdown",
   "id": "b369cf6c",
   "metadata": {},
   "source": [
    "# Simple Example"
   ]
  },
  {
   "cell_type": "markdown",
   "id": "b7b39bab",
   "metadata": {},
   "source": [
    "This example is supposed to serve as a quick start to the ConstructTerms module of FlavorPy."
   ]
  },
  {
   "cell_type": "markdown",
   "id": "633d1d9f",
   "metadata": {},
   "source": [
    "We determine the symmetry invariant terms of the flavor model introduced in \"Are neutrino masses modular forms?\" by F. Feruglio (https://arxiv.org/pdf/1706.08749) as so-called Example 1 in section 3.12. The chiral supermultiplets and their transformation properties of this model are\n",
    "<img src=\"simpleexample_constructterms_table.png\" width=600 height=600 />\n",
    "where $k_L=1$, $k_u=0$, $k_\\varphi=-3$, and $k_{E_i}+k_L+k_d+k_\\varphi=0$. Table taken from https://arxiv.org/pdf/1706.08749. "
   ]
  },
  {
   "cell_type": "markdown",
   "id": "5e7891f7",
   "metadata": {},
   "source": [
    "## Import"
   ]
  },
  {
   "cell_type": "markdown",
   "id": "6034867e",
   "metadata": {},
   "source": [
    "After installing FlavorPy with pip install flavorpy, import the constructterms module."
   ]
  },
  {
   "cell_type": "code",
   "execution_count": 2,
   "id": "06125d63",
   "metadata": {},
   "outputs": [],
   "source": [
    "## Import the constructterms module of FlavorPy\n",
    "#import flavorpy.constructterms as ct"
   ]
  },
  {
   "cell_type": "markdown",
   "id": "6f219db9",
   "metadata": {},
   "source": [
    "## Define Groups"
   ]
  },
  {
   "cell_type": "markdown",
   "id": "1151da32",
   "metadata": {},
   "source": [
    "Let us start by defining the non-Abelian group $A_4$."
   ]
  },
  {
   "cell_type": "code",
   "execution_count": 3,
   "id": "d61d2104",
   "metadata": {},
   "outputs": [],
   "source": [
    "# Representations of A4\n",
    "A4_reps = ['1', '1p', '1pp', '3']\n",
    "\n",
    "# Tensor products of A4_reps as a matrix, i.e. A_tensor_procuts[i,j] = A4_reps[i] x A4_reps[j]\n",
    "A4_tensor_products = [[['1'], ['1p'], ['1pp'], ['3']],\n",
    "                      [['1p'], ['1pp'], ['1'], ['3']],\n",
    "                      [['1pp'], ['1'], ['1p'], ['3']],\n",
    "                      [['3'], ['3'], ['3'], ['1', '1p', '1pp', '3', '3']]]\n",
    "\n",
    "# Construct the group\n",
    "A4 = ct.NonAbelianGroup('A4', representations=A4_reps, tensor_products=A4_tensor_products)"
   ]
  },
  {
   "cell_type": "markdown",
   "id": "695a02d1",
   "metadata": {},
   "source": [
    "Next, we also need the modular weight. Since modular weights multiply in the same way as charges of a U(1) group, we can define the modular weight as a U(1) group"
   ]
  },
  {
   "cell_type": "code",
   "execution_count": 4,
   "id": "c1f7abce",
   "metadata": {},
   "outputs": [],
   "source": [
    "mod_weight = ct.U1Group('mod weight')"
   ]
  },
  {
   "cell_type": "markdown",
   "id": "e132de5f",
   "metadata": {},
   "source": [
    "It often also helps to define the gauge $U(1)_Y$ for the hypercharge"
   ]
  },
  {
   "cell_type": "code",
   "execution_count": 5,
   "id": "cdd252d9",
   "metadata": {},
   "outputs": [],
   "source": [
    "U1y = ct.U1Group('U1y')"
   ]
  },
  {
   "cell_type": "markdown",
   "id": "45df91c1",
   "metadata": {},
   "source": [
    "## Define Fields"
   ]
  },
  {
   "cell_type": "markdown",
   "id": "3e42a66f",
   "metadata": {},
   "source": [
    "Next, we can define the fields of the flavor model. \n",
    "\n",
    "The paper does not explicitly specifies the modular weight of $E_1^c$, $E_2^c$, $E_3^c$, and $H_d$, it only says that $k_{E_i}+k_L+k_d+k_\\phi=0$. Hence we choose them accordingly."
   ]
  },
  {
   "cell_type": "code",
   "execution_count": 6,
   "id": "f19449d9",
   "metadata": {},
   "outputs": [],
   "source": [
    "ke = 20\n",
    "kd = - ke + 1 - 3\n",
    "\n",
    "E1 = ct.Field('E1', charges={A4:['1'], mod_weight:ke, U1y:1})\n",
    "E2 = ct.Field('E2', charges={A4:['1pp'], mod_weight:ke, U1y:1})\n",
    "E3 = ct.Field('E3', charges={A4:['1p'], mod_weight:ke, U1y:1})\n",
    "L = ct.Field('L', charges={A4:['3'], mod_weight:-1, U1y:-1/2})\n",
    "Hd = ct.Field('Hd', charges={A4:['1'], mod_weight:kd, U1y:-1/2})\n",
    "Hu = ct.Field('Hu', charges={A4:['1'], mod_weight:0, U1y:+1/2})\n",
    "PhiT = ct.Field('PhiT', charges={A4:['3'], mod_weight:3, U1y:0})\n",
    "Y = ct.Field('Y', charges={A4:['3'], mod_weight:2, U1y:0})\n",
    "\n",
    "all_fields = [E1, E2, E3, L, Hd, Hu, PhiT, Y]"
   ]
  },
  {
   "cell_type": "markdown",
   "id": "44be4809",
   "metadata": {},
   "source": [
    "We also need to define the superpotential as a \"Field\""
   ]
  },
  {
   "cell_type": "code",
   "execution_count": 7,
   "id": "74ee2182",
   "metadata": {},
   "outputs": [],
   "source": [
    "W = ct.Field('W', charges={A4:['1'], mod_weight:0, U1y:0})"
   ]
  },
  {
   "cell_type": "markdown",
   "id": "f24ff83c",
   "metadata": {},
   "source": [
    "## Determine symmetry invariant terms in the superpotential"
   ]
  },
  {
   "cell_type": "markdown",
   "id": "192ee971",
   "metadata": {},
   "source": [
    "Then we can determine the symmetry invariant terms up to a specific order of the superpotential with"
   ]
  },
  {
   "cell_type": "code",
   "execution_count": 8,
   "id": "68124be9",
   "metadata": {},
   "outputs": [
    {
     "data": {
      "text/plain": [
       "[L L Hu Hu Y, E1 L Hd PhiT, E2 L Hd PhiT, E3 L Hd PhiT]"
      ]
     },
     "execution_count": 8,
     "metadata": {},
     "output_type": "execute_result"
    }
   ],
   "source": [
    "allowed_terms = ct.list_allowed_terms(all_fields, W, order=5)\n",
    "allowed_terms"
   ]
  },
  {
   "cell_type": "markdown",
   "id": "bed2e3d1",
   "metadata": {},
   "source": [
    "Hence, these four terms are the only symmetry invariant terms in the superpotential up to order 5. Note that this is exactly the same result as in the paper, see eqs. (35) and (37)"
   ]
  }
 ],
 "metadata": {
  "kernelspec": {
   "display_name": "Python 3",
   "language": "python",
   "name": "python3"
  },
  "language_info": {
   "codemirror_mode": {
    "name": "ipython",
    "version": 3
   },
   "file_extension": ".py",
   "mimetype": "text/x-python",
   "name": "python",
   "nbconvert_exporter": "python",
   "pygments_lexer": "ipython3",
   "version": "3.8.10"
  }
 },
 "nbformat": 4,
 "nbformat_minor": 5
}
