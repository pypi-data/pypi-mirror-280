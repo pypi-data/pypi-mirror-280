{
 "cells": [
  {
   "cell_type": "code",
   "execution_count": 1,
   "id": "04f5ca60",
   "metadata": {},
   "outputs": [],
   "source": [
    "# Specify location to FlavorPy files\n",
    "directory_to_git_folder = \"/home/alex/GitRepos/FlavorPy/flavorpy\"\n",
    "import os\n",
    "os.chdir(os.path.expanduser(directory_to_git_folder))\n",
    "\n",
    "import modelfitting as mf\n",
    "import numpy as np\n",
    "import pandas as pd"
   ]
  },
  {
   "cell_type": "markdown",
   "id": "8b0f2c33",
   "metadata": {},
   "source": [
    "# Detailed example"
   ]
  },
  {
   "cell_type": "markdown",
   "id": "369b5028",
   "metadata": {},
   "source": [
    "Let us now take a look at a more involved example that better showcases more advanced features of the modelfitting package. More specifically we consider the Model 1 described in section 3.1.2 of \"Are neutrino masses modular forms?\" by F. Feruglio (https://arxiv.org/pdf/1706.08749). This is a model of modular flavor symmetries, where modular forms are present in the neutrino mass matrix.\n",
    "\n",
    "We begin by importing the necessary packages:"
   ]
  },
  {
   "cell_type": "code",
   "execution_count": 2,
   "id": "e8c4c7e0",
   "metadata": {},
   "outputs": [],
   "source": [
    "## Import the modelfitting module of FlavorPy\n",
    "#import flavorpy.modelfitting as mf\n",
    "#\n",
    "## We will also need numpy and pandas\n",
    "#import numpy as np\n",
    "#import pandas as pd"
   ]
  },
  {
   "cell_type": "markdown",
   "id": "a29ae992",
   "metadata": {},
   "source": [
    "## Mass matrices"
   ]
  },
  {
   "cell_type": "markdown",
   "id": "e3c1060c",
   "metadata": {},
   "source": [
    "Then we define the mass matrices. There is a subtlety: The modelfitting package considers a mass matrix $M$ for $\\Phi_\\mathrm{left} ~M~ \\Phi_{\\mathrm{right}}$. However the convention used in the paper is $E^c ~M_\\mathrm{e}~L$, where $E^c$ is right-handed and $L$ is left-handed, meaning that we need to transpose the mass matrix compared to the paper! For this specific case the mass matrices are symmetric anyway. It is highly recommended to only use dimensionless parameters and then have one dimensionfull parameter, i.e. an overall scale, in front of the mass matrix. For the neutrino mass matrix, please name this parameter 'n_scale'. For the charged lepton mass matrix, simply ignore it, because we will only fit charged lepton mass ratios."
   ]
  },
  {
   "cell_type": "code",
   "execution_count": 3,
   "id": "cedf0429",
   "metadata": {},
   "outputs": [],
   "source": [
    "# Charged lepton mass matrix\n",
    "def Me(params):\n",
    "    return np.transpose(np.array([[params['alpha'], 0, 0],\n",
    "                                  [0, params['beta'], 0],\n",
    "                                  [0, 0, params['gamma']]]))\n",
    "\n",
    "# Modular forms\n",
    "def Y1(tau):\n",
    "    q=np.exp(2j*np.pi*tau/3)\n",
    "    return 1 + 12*np.power(q, 1*3) + 36*np.power(q, 2*3) + 12*np.power(q, 3*3)\n",
    "def Y2(tau):\n",
    "    q=np.exp(2j*np.pi*tau/3)\n",
    "    return -6*q*(1 + 7*np.power(q,1*3) + 8*np.power(q, 2*3))\n",
    "def Y3(tau):\n",
    "    q=np.exp(2j*np.pi*tau/3)\n",
    "    return -18*np.power(q, 2)*(1 + 2*np.power(q, 1*3) + 5*np.power(q, 2*3))\n",
    "\n",
    "# Neutrino mass matrix\n",
    "def Mn(params):\n",
    "    tau = params['Retau']+1j*params['Imtau']\n",
    "    return params['n_scale']*np.transpose(np.array([[2*Y1(tau), -1*Y3(tau), -1*Y2(tau)],\n",
    "                                                    [-1*Y3(tau), 2*Y2(tau), -1*Y1(tau)],\n",
    "                                                    [-1*Y2(tau), -1*Y1(tau), 2*Y3(tau)]], dtype=complex))"
   ]
  },
  {
   "cell_type": "markdown",
   "id": "15ecfe4d",
   "metadata": {},
   "source": [
    "## Parameter space"
   ]
  },
  {
   "cell_type": "markdown",
   "id": "7cd542a0",
   "metadata": {},
   "source": [
    "Next we construct the parameter space. We therefore write our own sampling functions, that when called yield a random point. Note that especailly for fitting complicated models the sampling heavily impacts the number of random points (and therefore also the time) needed to find a good fit. A logarithmic sampling or a mixture of logarithmic and linear sampling is often a good idea. The ‘lin_sampling(low, high)’ defined here draws a random number between ‘low’ and ‘high’ with a uniform distribution. The ‘const_sampling(value)’ always yields ‘value’ when called. For our specific model, we can already know what the values of alpha, beta and gamma will be, since they are directly correlated to the charged lepton masses. We will therefore use const_sampling to set them by hand to a fixed value and prevent the fitting algorithm from varying this value by setting ‘vary=False’. For the modulus tau, we will choose the ‘lin_sampling’ and restrict the boundaries of the parameter space by ‘min’ and ‘max’."
   ]
  },
  {
   "cell_type": "code",
   "execution_count": 4,
   "id": "0df0d96f",
   "metadata": {},
   "outputs": [],
   "source": [
    "# Sampling functions\n",
    "def lin_sampling(low=0, high=1):\n",
    "    def fct():\n",
    "        return np.random.uniform(low=low, high=high)\n",
    "    return fct\n",
    "def const_sampling(value=0):\n",
    "    def fct():\n",
    "        return value\n",
    "    return fct\n",
    "\n",
    "# Constructing the parameter space\n",
    "ParamSpace = mf.ParameterSpace()\n",
    "ParamSpace.add_dim(name='Retau', sample_fct=lin_sampling(low=-0.5, high=0.5), min=-0.5, max=0.5)\n",
    "ParamSpace.add_dim(name='Imtau', sample_fct=lin_sampling(low=0.866, high=3), min=0.866, max=4)\n",
    "ParamSpace.add_dim(name='n_scale', sample_fct=const_sampling(1.), vary=False)\n",
    "ParamSpace.add_dim(name='alpha', sample_fct=const_sampling(0.0048*0.0565), vary=False)\n",
    "ParamSpace.add_dim(name='beta', sample_fct=const_sampling(0.0565), vary=False)\n",
    "ParamSpace.add_dim(name='gamma', sample_fct=const_sampling(1.), vary=False)"
   ]
  },
  {
   "cell_type": "markdown",
   "id": "53debf52",
   "metadata": {},
   "source": [
    "## Experimental data"
   ]
  },
  {
   "cell_type": "markdown",
   "id": "32c7741b",
   "metadata": {},
   "source": [
    "We already know from the paper that this model gives better fits with an invered neutrino mass ordering. We therefore choose the NuFit v5.2 experimental data for inverted ordering including the SK data. The onedimensional chisqure projections of the NuFit v5.2 data are already implemented in the modelfitting package and can be simply loaded by"
   ]
  },
  {
   "cell_type": "code",
   "execution_count": 5,
   "id": "bf97bfb0",
   "metadata": {},
   "outputs": [
    {
     "data": {
      "text/plain": [
       "NuFit v5.3 IO with SK chisquare profiles"
      ]
     },
     "execution_count": 5,
     "metadata": {},
     "output_type": "execute_result"
    }
   ],
   "source": [
    "mf.NuFit53_IO"
   ]
  },
  {
   "cell_type": "markdown",
   "id": "c70e91d2",
   "metadata": {},
   "source": [
    "If you wanted to compare your model to your own experimental data, you can create an experimental dataset by"
   ]
  },
  {
   "cell_type": "code",
   "execution_count": 6,
   "id": "aa9ed4a0",
   "metadata": {},
   "outputs": [],
   "source": [
    "my_table = pd.DataFrame(np.array([\n",
    "    [0.0048, 0.0565, 0.303, 0.02223, 0.569, 0.0741/-2.486, 1.54, 7.41e-05, -2.486e-03],\n",
    "    [0.0046, 0.0520, 0.292, 0.02165, 0.548, 0.0721/-2.511, 1.38, 7.21e-05, -2.458e-03],\n",
    "    [0.0050, 0.0610, 0.315, 0.02281, 0.585, 0.0762/-2.458, 1.67, 7.62e-05, -2.511e-03]]),\n",
    "                             columns=[\"me/mu\", \"mu/mt\", \"s12^2\", \"s13^2\", \"s23^2\", \"r\", \"d/pi\", \"m21^2\", \"m3l^2\"],\n",
    "                             index=['best', '1sig_min', '1sig_max'])\n",
    "My_ExpData = mf.ExperimentalData(name='my name', data_table=my_table)"
   ]
  },
  {
   "cell_type": "markdown",
   "id": "67820ef3",
   "metadata": {},
   "source": [
    "The total resudiual is then $\\chi^2 = \\sum_x \\chi^2_x$, where $x$ represents the observables, e.g. ‘me/mu’. The individual contributions are determined by $\\chi^2_x = \\big(\\dfrac{x_\\mathrm{model} - x_\\mathrm{best}}{1/2\\,(x_{1\\mathrm{sig}\\_\\mathrm{max}} - x_\\mathrm{1sig\\_min}) }\\big)^2$, where $x_\\mathrm{model}$ is the value of the model and $x_\\mathrm{best}$, $x_{1\\mathrm{sig\\_max}}$, and $x_{1\\mathrm{sig\\_min}}$ are the experimental values\n",
    "\n",
    "\n",
    "Alternatively, if you have a non-gaussian error distribution for lets say me/mu and you want $\\chi^2$ to be calculated using a specific $\\chi^2$-profile, then you can define your experimental data set as"
   ]
  },
  {
   "cell_type": "code",
   "execution_count": 7,
   "id": "d6511fdd",
   "metadata": {},
   "outputs": [],
   "source": [
    "def memu_profile(memu):  # This is just an example profile\n",
    "    return 1e11*(memu - 0.003) * (memu - 0.007) * (memu - 0.008) * (memu - 0.001) + 3.0978\n",
    "\n",
    "My_ExpData_2 = mf.ExperimentalData(name='my name2', \n",
    "                                   data_table=my_table[[key for key in my_table.columns if key not in ['me/mu']]],\n",
    "                                   data={'me/mu':memu_profile})"
   ]
  },
  {
   "cell_type": "markdown",
   "id": "9e32455e",
   "metadata": {},
   "source": [
    "## Constructing the model"
   ]
  },
  {
   "cell_type": "markdown",
   "id": "5403b7df",
   "metadata": {},
   "source": [
    "In the modelfitting module, everything is packed into a class called FlavorModel. The FlavorModel object contains the mass matrices, the parameterspace, the experimental data, the neutrino mass ordering, and even the results of fits can be stored in this object. Note that the neutrino ordering is not (yet) automatically determined by the modelfitting package, nor is it checked whether the results of a given random point indeed follow that ordering. \n",
    "A FlavorModel instance can be a model of leptons, of quarks or of both. It depends on which mass matrices you specify when initializing the FlavorModel.\n",
    "\n",
    "As the model of this example is a lepton model, we will only specify the mass_matrix_e and mass_matric_n. Since the paper does not compare the CP violating phase ‘d/pi’ to the experimental data, we will do the same here and only fit the three mixing angles as well as the squared neutrino mass differences. It is also not necessary to fit the charged lepton masses, since we already fixed them to their correct value."
   ]
  },
  {
   "cell_type": "code",
   "execution_count": 8,
   "id": "88eede3a",
   "metadata": {},
   "outputs": [],
   "source": [
    "Model1 = mf.FlavorModel(name='Feruglios model 1', \n",
    "                       comments='''This was the first modular flavor symmetry model.\n",
    "                                Unfortunately it is now way outside the experimentally viable region.''',\n",
    "                       mass_matrix_e=Me,\n",
    "                       mass_matrix_n=Mn,\n",
    "                       parameterspace=ParamSpace,\n",
    "                       ordering='IO',\n",
    "                       experimental_data=mf.NuFit53_IO,\n",
    "                       fitted_observables=['s12^2', 's13^2', 's23^2', 'm21^2', 'm3l^2'])"
   ]
  },
  {
   "cell_type": "markdown",
   "id": "3aa17b90",
   "metadata": {},
   "source": [
    "You can now test if the model works, by calculating a random sample point"
   ]
  },
  {
   "cell_type": "code",
   "execution_count": 9,
   "id": "b37e3b5b",
   "metadata": {},
   "outputs": [
    {
     "data": {
      "text/plain": [
       "{'me/mu': 0.0048,\n",
       " 'mu/mt': 0.0565,\n",
       " 's12^2': 0.999889815537418,\n",
       " 's13^2': 2.8667406090866322e-05,\n",
       " 's23^2': 0.4921266138553866,\n",
       " 'd/pi': 0.23645762527543615,\n",
       " 'r': -0.9795497247469228,\n",
       " 'm21^2': 0.001254630307860425,\n",
       " 'm3l^2': -0.0012808235010066205,\n",
       " 'm1': 0.02087600341297992,\n",
       " 'm2': 0.04111493434701282,\n",
       " 'm3': 0.020238930934032902,\n",
       " 'eta1': 0.2362765443592603,\n",
       " 'eta2': 0.3204549337296819,\n",
       " 'J': 1.9003468739495824e-05,\n",
       " 'Jmax': 2.809533105931343e-05,\n",
       " 'Sum(m_i)': 0.08222986869402565,\n",
       " 'm_b': 0.04111616890318147,\n",
       " 'm_bb': 0.04111066795658337,\n",
       " 'nscale': 0.020555777634506344}"
      ]
     },
     "execution_count": 9,
     "metadata": {},
     "output_type": "execute_result"
    }
   ],
   "source": [
    "random_point = Model1.parameterspace.random_pt()\n",
    "Model1.get_obs(random_point)"
   ]
  },
  {
   "cell_type": "markdown",
   "id": "a7eb5438",
   "metadata": {},
   "source": [
    "If you wanted to see, whether the model can also fit the experimental data for a normal ordered spectrum simply define"
   ]
  },
  {
   "cell_type": "code",
   "execution_count": 10,
   "id": "b01bfe69",
   "metadata": {},
   "outputs": [],
   "source": [
    "Model1_NO = Model1.copy()\n",
    "Model1_NO.ordering = 'NO'\n",
    "Model1_NO.experimental_data = mf.NuFit53_NO"
   ]
  },
  {
   "cell_type": "markdown",
   "id": "234d3e76",
   "metadata": {},
   "source": [
    "and do the following fitting with Model1_NO."
   ]
  },
  {
   "cell_type": "markdown",
   "id": "ca23121a",
   "metadata": {},
   "source": [
    "In case we were interested in studying a model that simultaneously descibes leptons and quarks and where the two sectors have a common parameter, we would define"
   ]
  },
  {
   "cell_type": "code",
   "execution_count": 11,
   "id": "7dc0cd9e",
   "metadata": {},
   "outputs": [],
   "source": [
    "# We need to define the quark mass matrices\n",
    "def Mu(params):\n",
    "    return np.array([[params['Retau'], 0.1, 0], [0, 0, params['Imtau']], [0, 1, 0.2]])\n",
    "\n",
    "def Md(params):\n",
    "    tau = params['Retau'] + 1j * params['Imtau']\n",
    "    return np.array([[Y1(tau), 0, 0],\n",
    "                     [0, Y2(tau), 0],\n",
    "                     [0, 0, Y3(tau)]], dtype=complex)\n",
    "\n",
    "# Also we would need to specify the quark experimental data. For example the data used in arXiv:2103.16311\n",
    "Qexpdata_Standard = pd.DataFrame(np.array([\n",
    "    [1.9286e-03, 2.8213e-03, 5.0523e-02, 1.8241e-02, 13.0268, 0.199962, 2.30043, 69.2133],\n",
    "    [1.6278e-03, 2.7616e-03, 4.7428e-02, 1.7739e-02, 13.0059, 0.196238, 2.28210, 67.6560],\n",
    "    [2.2295e-03, 2.8811e-03, 5.3619e-02, 1.8744e-02, 13.0477, 0.203686, 2.31877, 70.7706]]), \n",
    "                                 columns=[\"mu/mc\",\"mc/mt\",\"md/ms\",\"ms/mb\",\"t12\",\"t13\",\"t23\",\"dq\"], \n",
    "                                 index=['best', '1sig_min', '1sig_max'])\n",
    "# and combine Lepton and Quark experimental data\n",
    "LeptonQuark_data_table = pd.concat([mf.NuFit53_IO_gauss.data_table, Qexpdata_Standard], axis=1)\n",
    "LeptonQuark_ExpData = mf.ExperimentalData(data_table=LeptonQuark_data_table)\n",
    "\n",
    "# Then we can initialize the Lepton-Quark-Model\n",
    "MyLeptonQuarkModel = mf.FlavorModel(mass_matrix_e=Me, mass_matrix_n=Mn,\n",
    "                                    mass_matrix_u=Mu, mass_matrix_d=Md,\n",
    "                                    parameterspace=ParamSpace,\n",
    "                                    experimental_data=LeptonQuark_ExpData,\n",
    "                                    ordering='IO',\n",
    "                                    ckm_parameterization='standard')"
   ]
  },
  {
   "cell_type": "markdown",
   "id": "7dc781c0",
   "metadata": {},
   "source": [
    "## Fitting"
   ]
  },
  {
   "cell_type": "markdown",
   "id": "16dcdc94",
   "metadata": {},
   "source": [
    "We can now fit our model to match experimental data as good as possible. This is done by simply calling 'make_fit(points=int)' on the LeptonModel. This yields a pandas.DataFrame object, which is very convenient in data handling. Automatically, it is sorted such that the lowest $\\chi^2$ is on top.\n",
    "\n",
    "The fit is based on the lmfit minimizer, cf. https://lmfit.github.io/lmfit-py/intro.html. When fitting a LeptonModel a certain number of random points according to the sample functions of the parameter space are drawn. Then several minimization algorithms (methods) implemented in lmfit are applied consecutively several times (nr_methods) onto every random point. Since minimization algorithms sometimes get lost and run very long, every applied algorithm is stopped after a certain amount of second (max_time). These and other arguments used for the fit, can be adjusted to the individual needs. However, in most cases the default values work very well and it is not necessary to adjust them. Here, we will do it for the purpose of demonstation."
   ]
  },
  {
   "cell_type": "code",
   "execution_count": 12,
   "id": "8f09d8f4",
   "metadata": {},
   "outputs": [
    {
     "data": {
      "text/html": [
       "<div>\n",
       "<style scoped>\n",
       "    .dataframe tbody tr th:only-of-type {\n",
       "        vertical-align: middle;\n",
       "    }\n",
       "\n",
       "    .dataframe tbody tr th {\n",
       "        vertical-align: top;\n",
       "    }\n",
       "\n",
       "    .dataframe thead th {\n",
       "        text-align: right;\n",
       "    }\n",
       "</style>\n",
       "<table border=\"1\" class=\"dataframe\">\n",
       "  <thead>\n",
       "    <tr style=\"text-align: right;\">\n",
       "      <th></th>\n",
       "      <th>chisq</th>\n",
       "      <th>chisq_dimless</th>\n",
       "      <th>Retau</th>\n",
       "      <th>Imtau</th>\n",
       "      <th>n_scale</th>\n",
       "      <th>alpha</th>\n",
       "      <th>beta</th>\n",
       "      <th>gamma</th>\n",
       "      <th>me/mu</th>\n",
       "      <th>mu/mt</th>\n",
       "      <th>s12^2</th>\n",
       "      <th>s13^2</th>\n",
       "      <th>s23^2</th>\n",
       "      <th>d/pi</th>\n",
       "      <th>r</th>\n",
       "      <th>m21^2</th>\n",
       "      <th>m3l^2</th>\n",
       "      <th>m1</th>\n",
       "      <th>m2</th>\n",
       "      <th>m3</th>\n",
       "      <th>eta1</th>\n",
       "      <th>eta2</th>\n",
       "      <th>J</th>\n",
       "      <th>Jmax</th>\n",
       "      <th>Sum(m_i)</th>\n",
       "      <th>m_b</th>\n",
       "      <th>m_bb</th>\n",
       "      <th>nscale</th>\n",
       "    </tr>\n",
       "  </thead>\n",
       "  <tbody>\n",
       "    <tr>\n",
       "      <th>0</th>\n",
       "      <td>1450.840160</td>\n",
       "      <td>1450.834863</td>\n",
       "      <td>-0.011631</td>\n",
       "      <td>0.994666</td>\n",
       "      <td>1.0</td>\n",
       "      <td>0.000271</td>\n",
       "      <td>0.0565</td>\n",
       "      <td>1.0</td>\n",
       "      <td>0.0048</td>\n",
       "      <td>0.0565</td>\n",
       "      <td>0.304975</td>\n",
       "      <td>0.044684</td>\n",
       "      <td>0.348874</td>\n",
       "      <td>1.454255</td>\n",
       "      <td>-0.029727</td>\n",
       "      <td>0.000074</td>\n",
       "      <td>-0.002489</td>\n",
       "      <td>0.049152</td>\n",
       "      <td>0.049899</td>\n",
       "      <td>0.000747</td>\n",
       "      <td>0.242450</td>\n",
       "      <td>1.027443</td>\n",
       "      <td>-0.043855</td>\n",
       "      <td>0.044312</td>\n",
       "      <td>0.099797</td>\n",
       "      <td>0.049273</td>\n",
       "      <td>0.038493</td>\n",
       "      <td>0.021938</td>\n",
       "    </tr>\n",
       "    <tr>\n",
       "      <th>1</th>\n",
       "      <td>1450.869308</td>\n",
       "      <td>1450.831289</td>\n",
       "      <td>0.011608</td>\n",
       "      <td>0.994678</td>\n",
       "      <td>1.0</td>\n",
       "      <td>0.000271</td>\n",
       "      <td>0.0565</td>\n",
       "      <td>1.0</td>\n",
       "      <td>0.0048</td>\n",
       "      <td>0.0565</td>\n",
       "      <td>0.304997</td>\n",
       "      <td>0.044684</td>\n",
       "      <td>0.348874</td>\n",
       "      <td>0.545733</td>\n",
       "      <td>-0.029669</td>\n",
       "      <td>0.000074</td>\n",
       "      <td>-0.002492</td>\n",
       "      <td>0.049177</td>\n",
       "      <td>0.049923</td>\n",
       "      <td>0.000746</td>\n",
       "      <td>1.757572</td>\n",
       "      <td>0.972569</td>\n",
       "      <td>0.043856</td>\n",
       "      <td>0.044313</td>\n",
       "      <td>0.099847</td>\n",
       "      <td>0.049296</td>\n",
       "      <td>0.038513</td>\n",
       "      <td>0.021950</td>\n",
       "    </tr>\n",
       "    <tr>\n",
       "      <th>2</th>\n",
       "      <td>1450.870137</td>\n",
       "      <td>1450.831319</td>\n",
       "      <td>0.011607</td>\n",
       "      <td>0.994678</td>\n",
       "      <td>1.0</td>\n",
       "      <td>0.000271</td>\n",
       "      <td>0.0565</td>\n",
       "      <td>1.0</td>\n",
       "      <td>0.0048</td>\n",
       "      <td>0.0565</td>\n",
       "      <td>0.305002</td>\n",
       "      <td>0.044684</td>\n",
       "      <td>0.348874</td>\n",
       "      <td>0.545732</td>\n",
       "      <td>-0.029668</td>\n",
       "      <td>0.000074</td>\n",
       "      <td>-0.002492</td>\n",
       "      <td>0.049178</td>\n",
       "      <td>0.049924</td>\n",
       "      <td>0.000746</td>\n",
       "      <td>1.757576</td>\n",
       "      <td>0.972573</td>\n",
       "      <td>0.043857</td>\n",
       "      <td>0.044313</td>\n",
       "      <td>0.099848</td>\n",
       "      <td>0.049296</td>\n",
       "      <td>0.038513</td>\n",
       "      <td>0.021950</td>\n",
       "    </tr>\n",
       "    <tr>\n",
       "      <th>3</th>\n",
       "      <td>1450.870886</td>\n",
       "      <td>1450.831218</td>\n",
       "      <td>0.011607</td>\n",
       "      <td>0.994678</td>\n",
       "      <td>1.0</td>\n",
       "      <td>0.000271</td>\n",
       "      <td>0.0565</td>\n",
       "      <td>1.0</td>\n",
       "      <td>0.0048</td>\n",
       "      <td>0.0565</td>\n",
       "      <td>0.305000</td>\n",
       "      <td>0.044684</td>\n",
       "      <td>0.348874</td>\n",
       "      <td>0.545732</td>\n",
       "      <td>-0.029666</td>\n",
       "      <td>0.000074</td>\n",
       "      <td>-0.002492</td>\n",
       "      <td>0.049178</td>\n",
       "      <td>0.049924</td>\n",
       "      <td>0.000746</td>\n",
       "      <td>1.757575</td>\n",
       "      <td>0.972571</td>\n",
       "      <td>0.043856</td>\n",
       "      <td>0.044313</td>\n",
       "      <td>0.099849</td>\n",
       "      <td>0.049297</td>\n",
       "      <td>0.038514</td>\n",
       "      <td>0.021950</td>\n",
       "    </tr>\n",
       "    <tr>\n",
       "      <th>4</th>\n",
       "      <td>1450.870897</td>\n",
       "      <td>1450.831219</td>\n",
       "      <td>0.011607</td>\n",
       "      <td>0.994678</td>\n",
       "      <td>1.0</td>\n",
       "      <td>0.000271</td>\n",
       "      <td>0.0565</td>\n",
       "      <td>1.0</td>\n",
       "      <td>0.0048</td>\n",
       "      <td>0.0565</td>\n",
       "      <td>0.305000</td>\n",
       "      <td>0.044684</td>\n",
       "      <td>0.348874</td>\n",
       "      <td>0.545732</td>\n",
       "      <td>-0.029666</td>\n",
       "      <td>0.000074</td>\n",
       "      <td>-0.002492</td>\n",
       "      <td>0.049178</td>\n",
       "      <td>0.049924</td>\n",
       "      <td>0.000746</td>\n",
       "      <td>1.757575</td>\n",
       "      <td>0.972571</td>\n",
       "      <td>0.043856</td>\n",
       "      <td>0.044313</td>\n",
       "      <td>0.099849</td>\n",
       "      <td>0.049297</td>\n",
       "      <td>0.038514</td>\n",
       "      <td>0.021950</td>\n",
       "    </tr>\n",
       "    <tr>\n",
       "      <th>5</th>\n",
       "      <td>1450.873011</td>\n",
       "      <td>1450.831209</td>\n",
       "      <td>-0.011606</td>\n",
       "      <td>0.994679</td>\n",
       "      <td>1.0</td>\n",
       "      <td>0.000271</td>\n",
       "      <td>0.0565</td>\n",
       "      <td>1.0</td>\n",
       "      <td>0.0048</td>\n",
       "      <td>0.0565</td>\n",
       "      <td>0.305000</td>\n",
       "      <td>0.044684</td>\n",
       "      <td>0.348874</td>\n",
       "      <td>1.454268</td>\n",
       "      <td>-0.029664</td>\n",
       "      <td>0.000074</td>\n",
       "      <td>-0.002492</td>\n",
       "      <td>0.049180</td>\n",
       "      <td>0.049926</td>\n",
       "      <td>0.000746</td>\n",
       "      <td>0.242425</td>\n",
       "      <td>1.027429</td>\n",
       "      <td>-0.043856</td>\n",
       "      <td>0.044313</td>\n",
       "      <td>0.099851</td>\n",
       "      <td>0.049298</td>\n",
       "      <td>0.038515</td>\n",
       "      <td>0.021951</td>\n",
       "    </tr>\n",
       "    <tr>\n",
       "      <th>6</th>\n",
       "      <td>1450.873011</td>\n",
       "      <td>1450.831209</td>\n",
       "      <td>-0.011606</td>\n",
       "      <td>0.994679</td>\n",
       "      <td>1.0</td>\n",
       "      <td>0.000271</td>\n",
       "      <td>0.0565</td>\n",
       "      <td>1.0</td>\n",
       "      <td>0.0048</td>\n",
       "      <td>0.0565</td>\n",
       "      <td>0.305000</td>\n",
       "      <td>0.044684</td>\n",
       "      <td>0.348874</td>\n",
       "      <td>1.454268</td>\n",
       "      <td>-0.029664</td>\n",
       "      <td>0.000074</td>\n",
       "      <td>-0.002492</td>\n",
       "      <td>0.049180</td>\n",
       "      <td>0.049926</td>\n",
       "      <td>0.000746</td>\n",
       "      <td>0.242425</td>\n",
       "      <td>1.027429</td>\n",
       "      <td>-0.043856</td>\n",
       "      <td>0.044313</td>\n",
       "      <td>0.099851</td>\n",
       "      <td>0.049298</td>\n",
       "      <td>0.038515</td>\n",
       "      <td>0.021951</td>\n",
       "    </tr>\n",
       "    <tr>\n",
       "      <th>7</th>\n",
       "      <td>1450.875212</td>\n",
       "      <td>1450.831233</td>\n",
       "      <td>-0.011605</td>\n",
       "      <td>0.994679</td>\n",
       "      <td>1.0</td>\n",
       "      <td>0.000271</td>\n",
       "      <td>0.0565</td>\n",
       "      <td>1.0</td>\n",
       "      <td>0.0048</td>\n",
       "      <td>0.0565</td>\n",
       "      <td>0.305000</td>\n",
       "      <td>0.044684</td>\n",
       "      <td>0.348874</td>\n",
       "      <td>1.454269</td>\n",
       "      <td>-0.029661</td>\n",
       "      <td>0.000074</td>\n",
       "      <td>-0.002492</td>\n",
       "      <td>0.049181</td>\n",
       "      <td>0.049927</td>\n",
       "      <td>0.000746</td>\n",
       "      <td>0.242425</td>\n",
       "      <td>1.027428</td>\n",
       "      <td>-0.043856</td>\n",
       "      <td>0.044313</td>\n",
       "      <td>0.099854</td>\n",
       "      <td>0.049299</td>\n",
       "      <td>0.038516</td>\n",
       "      <td>0.021951</td>\n",
       "    </tr>\n",
       "    <tr>\n",
       "      <th>8</th>\n",
       "      <td>1450.875235</td>\n",
       "      <td>1450.831215</td>\n",
       "      <td>-0.011605</td>\n",
       "      <td>0.994679</td>\n",
       "      <td>1.0</td>\n",
       "      <td>0.000271</td>\n",
       "      <td>0.0565</td>\n",
       "      <td>1.0</td>\n",
       "      <td>0.0048</td>\n",
       "      <td>0.0565</td>\n",
       "      <td>0.305000</td>\n",
       "      <td>0.044684</td>\n",
       "      <td>0.348874</td>\n",
       "      <td>1.454268</td>\n",
       "      <td>-0.029661</td>\n",
       "      <td>0.000074</td>\n",
       "      <td>-0.002492</td>\n",
       "      <td>0.049181</td>\n",
       "      <td>0.049927</td>\n",
       "      <td>0.000746</td>\n",
       "      <td>0.242425</td>\n",
       "      <td>1.027429</td>\n",
       "      <td>-0.043856</td>\n",
       "      <td>0.044313</td>\n",
       "      <td>0.099854</td>\n",
       "      <td>0.049299</td>\n",
       "      <td>0.038516</td>\n",
       "      <td>0.021951</td>\n",
       "    </tr>\n",
       "    <tr>\n",
       "      <th>9</th>\n",
       "      <td>1450.957056</td>\n",
       "      <td>1450.886723</td>\n",
       "      <td>-0.011609</td>\n",
       "      <td>0.994722</td>\n",
       "      <td>1.0</td>\n",
       "      <td>0.000271</td>\n",
       "      <td>0.0565</td>\n",
       "      <td>1.0</td>\n",
       "      <td>0.0048</td>\n",
       "      <td>0.0565</td>\n",
       "      <td>0.306397</td>\n",
       "      <td>0.044684</td>\n",
       "      <td>0.348874</td>\n",
       "      <td>1.454640</td>\n",
       "      <td>-0.029628</td>\n",
       "      <td>0.000074</td>\n",
       "      <td>-0.002493</td>\n",
       "      <td>0.049195</td>\n",
       "      <td>0.049940</td>\n",
       "      <td>0.000745</td>\n",
       "      <td>0.241250</td>\n",
       "      <td>1.026557</td>\n",
       "      <td>-0.043920</td>\n",
       "      <td>0.044370</td>\n",
       "      <td>0.099881</td>\n",
       "      <td>0.049311</td>\n",
       "      <td>0.038526</td>\n",
       "      <td>0.021959</td>\n",
       "    </tr>\n",
       "  </tbody>\n",
       "</table>\n",
       "</div>"
      ],
      "text/plain": [
       "         chisq  chisq_dimless     Retau     Imtau  n_scale     alpha    beta  \\\n",
       "0  1450.840160    1450.834863 -0.011631  0.994666      1.0  0.000271  0.0565   \n",
       "1  1450.869308    1450.831289  0.011608  0.994678      1.0  0.000271  0.0565   \n",
       "2  1450.870137    1450.831319  0.011607  0.994678      1.0  0.000271  0.0565   \n",
       "3  1450.870886    1450.831218  0.011607  0.994678      1.0  0.000271  0.0565   \n",
       "4  1450.870897    1450.831219  0.011607  0.994678      1.0  0.000271  0.0565   \n",
       "5  1450.873011    1450.831209 -0.011606  0.994679      1.0  0.000271  0.0565   \n",
       "6  1450.873011    1450.831209 -0.011606  0.994679      1.0  0.000271  0.0565   \n",
       "7  1450.875212    1450.831233 -0.011605  0.994679      1.0  0.000271  0.0565   \n",
       "8  1450.875235    1450.831215 -0.011605  0.994679      1.0  0.000271  0.0565   \n",
       "9  1450.957056    1450.886723 -0.011609  0.994722      1.0  0.000271  0.0565   \n",
       "\n",
       "   gamma   me/mu   mu/mt     s12^2     s13^2     s23^2      d/pi         r  \\\n",
       "0    1.0  0.0048  0.0565  0.304975  0.044684  0.348874  1.454255 -0.029727   \n",
       "1    1.0  0.0048  0.0565  0.304997  0.044684  0.348874  0.545733 -0.029669   \n",
       "2    1.0  0.0048  0.0565  0.305002  0.044684  0.348874  0.545732 -0.029668   \n",
       "3    1.0  0.0048  0.0565  0.305000  0.044684  0.348874  0.545732 -0.029666   \n",
       "4    1.0  0.0048  0.0565  0.305000  0.044684  0.348874  0.545732 -0.029666   \n",
       "5    1.0  0.0048  0.0565  0.305000  0.044684  0.348874  1.454268 -0.029664   \n",
       "6    1.0  0.0048  0.0565  0.305000  0.044684  0.348874  1.454268 -0.029664   \n",
       "7    1.0  0.0048  0.0565  0.305000  0.044684  0.348874  1.454269 -0.029661   \n",
       "8    1.0  0.0048  0.0565  0.305000  0.044684  0.348874  1.454268 -0.029661   \n",
       "9    1.0  0.0048  0.0565  0.306397  0.044684  0.348874  1.454640 -0.029628   \n",
       "\n",
       "      m21^2     m3l^2        m1        m2        m3      eta1      eta2  \\\n",
       "0  0.000074 -0.002489  0.049152  0.049899  0.000747  0.242450  1.027443   \n",
       "1  0.000074 -0.002492  0.049177  0.049923  0.000746  1.757572  0.972569   \n",
       "2  0.000074 -0.002492  0.049178  0.049924  0.000746  1.757576  0.972573   \n",
       "3  0.000074 -0.002492  0.049178  0.049924  0.000746  1.757575  0.972571   \n",
       "4  0.000074 -0.002492  0.049178  0.049924  0.000746  1.757575  0.972571   \n",
       "5  0.000074 -0.002492  0.049180  0.049926  0.000746  0.242425  1.027429   \n",
       "6  0.000074 -0.002492  0.049180  0.049926  0.000746  0.242425  1.027429   \n",
       "7  0.000074 -0.002492  0.049181  0.049927  0.000746  0.242425  1.027428   \n",
       "8  0.000074 -0.002492  0.049181  0.049927  0.000746  0.242425  1.027429   \n",
       "9  0.000074 -0.002493  0.049195  0.049940  0.000745  0.241250  1.026557   \n",
       "\n",
       "          J      Jmax  Sum(m_i)       m_b      m_bb    nscale  \n",
       "0 -0.043855  0.044312  0.099797  0.049273  0.038493  0.021938  \n",
       "1  0.043856  0.044313  0.099847  0.049296  0.038513  0.021950  \n",
       "2  0.043857  0.044313  0.099848  0.049296  0.038513  0.021950  \n",
       "3  0.043856  0.044313  0.099849  0.049297  0.038514  0.021950  \n",
       "4  0.043856  0.044313  0.099849  0.049297  0.038514  0.021950  \n",
       "5 -0.043856  0.044313  0.099851  0.049298  0.038515  0.021951  \n",
       "6 -0.043856  0.044313  0.099851  0.049298  0.038515  0.021951  \n",
       "7 -0.043856  0.044313  0.099854  0.049299  0.038516  0.021951  \n",
       "8 -0.043856  0.044313  0.099854  0.049299  0.038516  0.021951  \n",
       "9 -0.043920  0.044370  0.099881  0.049311  0.038526  0.021959  "
      ]
     },
     "execution_count": 12,
     "metadata": {},
     "output_type": "execute_result"
    }
   ],
   "source": [
    "pd.set_option('display.max_columns', None)  # This pandas setting allows us to see all columns\n",
    "\n",
    "# Adjusting the default setup for fitting.  Usually this is \n",
    "fitting_kwargs = {'nr_methods':2,\n",
    "                  'methods':['least_squares', 'least_squares', 'nelder', 'powell', 'cobyla'],\n",
    "                  'max_time':20}\n",
    "\n",
    "# Running the fit\n",
    "df = Model1.make_fit(points=5, **fitting_kwargs)\n",
    "df"
   ]
  },
  {
   "cell_type": "markdown",
   "id": "b7d68eae",
   "metadata": {},
   "source": [
    "We can also store this result for later purpose in the LeptonModel object"
   ]
  },
  {
   "cell_type": "code",
   "execution_count": 13,
   "id": "5722765f",
   "metadata": {},
   "outputs": [],
   "source": [
    "Model1.fit_results.append(df)  # call it with Model1.fit_results[0]"
   ]
  },
  {
   "cell_type": "markdown",
   "id": "fcdde8ba",
   "metadata": {},
   "source": [
    "The fitting of this model is rather easy and does not require a lot of recources. However, if one was to fit a more involved model with more parameters, it can be necessary to run the fit on an external machine, e.g. a server, and then transfer the result back to your local machine. To keep the transfer-file as small as possible it is advisable to only do the dimensionless fit on the external machine, since this is the computation heavy part. The fitting of the neutrino mass scale and adding of all lepton observables can then be done on the local machine. The workflow would be as follows"
   ]
  },
  {
   "cell_type": "code",
   "execution_count": 13,
   "id": "3fd1f526",
   "metadata": {},
   "outputs": [],
   "source": [
    "# On the external machine, define the model and then run\n",
    "df = Model1.dimless_fit(points=10)\n",
    "\n",
    "# Then export 'df' to a file, e.g. a csv with 'df.to_csv(\"/path_to_file/results.csv\", index=False)'\n",
    "# Transfer this file 'results.csv' to your local machine\n",
    "# On your local machine, import the file as 'df' with, e.g. 'df = pd.read_csv(\"/path_to_file/results.csv\")'\n",
    "\n",
    "# This df only contains the values of the parameters and chisquare. To add the lepton observables call\n",
    "df = Model1.complete_fit(df)\n",
    "\n",
    "# And store it in the model\n",
    "Model1.fit_results.append(df)"
   ]
  },
  {
   "cell_type": "markdown",
   "id": "ff10cbe3",
   "metadata": {},
   "source": [
    "Analogously we could fit our Lepton-Quark-Model with"
   ]
  },
  {
   "cell_type": "code",
   "execution_count": 14,
   "id": "04de3721",
   "metadata": {},
   "outputs": [
    {
     "data": {
      "text/html": [
       "<div>\n",
       "<style scoped>\n",
       "    .dataframe tbody tr th:only-of-type {\n",
       "        vertical-align: middle;\n",
       "    }\n",
       "\n",
       "    .dataframe tbody tr th {\n",
       "        vertical-align: top;\n",
       "    }\n",
       "\n",
       "    .dataframe thead th {\n",
       "        text-align: right;\n",
       "    }\n",
       "</style>\n",
       "<table border=\"1\" class=\"dataframe\">\n",
       "  <thead>\n",
       "    <tr style=\"text-align: right;\">\n",
       "      <th></th>\n",
       "      <th>chisq</th>\n",
       "      <th>chisq_dimless</th>\n",
       "      <th>Retau</th>\n",
       "      <th>Imtau</th>\n",
       "      <th>n_scale</th>\n",
       "      <th>alpha</th>\n",
       "      <th>beta</th>\n",
       "      <th>gamma</th>\n",
       "      <th>me/mu</th>\n",
       "      <th>mu/mt</th>\n",
       "      <th>s12^2</th>\n",
       "      <th>s13^2</th>\n",
       "      <th>s23^2</th>\n",
       "      <th>d/pi</th>\n",
       "      <th>r</th>\n",
       "      <th>m21^2</th>\n",
       "      <th>m3l^2</th>\n",
       "      <th>m1</th>\n",
       "      <th>m2</th>\n",
       "      <th>m3</th>\n",
       "      <th>eta1</th>\n",
       "      <th>eta2</th>\n",
       "      <th>J</th>\n",
       "      <th>Jmax</th>\n",
       "      <th>Sum(m_i)</th>\n",
       "      <th>m_b</th>\n",
       "      <th>m_bb</th>\n",
       "      <th>nscale</th>\n",
       "      <th>mu/mc</th>\n",
       "      <th>mc/mt</th>\n",
       "      <th>md/ms</th>\n",
       "      <th>ms/mb</th>\n",
       "      <th>t12</th>\n",
       "      <th>t13</th>\n",
       "      <th>t23</th>\n",
       "      <th>dq</th>\n",
       "    </tr>\n",
       "  </thead>\n",
       "  <tbody>\n",
       "    <tr>\n",
       "      <th>0</th>\n",
       "      <td>29819.562345</td>\n",
       "      <td>27889.667489</td>\n",
       "      <td>-0.5</td>\n",
       "      <td>1.027139</td>\n",
       "      <td>1.0</td>\n",
       "      <td>0.000271</td>\n",
       "      <td>0.0565</td>\n",
       "      <td>1.0</td>\n",
       "      <td>0.0048</td>\n",
       "      <td>0.0565</td>\n",
       "      <td>0.632693</td>\n",
       "      <td>0.033717</td>\n",
       "      <td>0.132304</td>\n",
       "      <td>2.0</td>\n",
       "      <td>-0.791345</td>\n",
       "      <td>0.001021</td>\n",
       "      <td>-0.00129</td>\n",
       "      <td>0.023138</td>\n",
       "      <td>0.039452</td>\n",
       "      <td>0.016314</td>\n",
       "      <td>1.0</td>\n",
       "      <td>1.0</td>\n",
       "      <td>-8.431851e-17</td>\n",
       "      <td>0.028981</td>\n",
       "      <td>0.078904</td>\n",
       "      <td>0.043305</td>\n",
       "      <td>0.032882</td>\n",
       "      <td>0.016195</td>\n",
       "      <td>0.538355</td>\n",
       "      <td>0.822271</td>\n",
       "      <td>0.351797</td>\n",
       "      <td>0.703595</td>\n",
       "      <td>14.256250</td>\n",
       "      <td>82.076160</td>\n",
       "      <td>59.363982</td>\n",
       "      <td>180.0</td>\n",
       "    </tr>\n",
       "    <tr>\n",
       "      <th>1</th>\n",
       "      <td>29819.563629</td>\n",
       "      <td>27889.667484</td>\n",
       "      <td>-0.5</td>\n",
       "      <td>1.027168</td>\n",
       "      <td>1.0</td>\n",
       "      <td>0.000271</td>\n",
       "      <td>0.0565</td>\n",
       "      <td>1.0</td>\n",
       "      <td>0.0048</td>\n",
       "      <td>0.0565</td>\n",
       "      <td>0.632725</td>\n",
       "      <td>0.033713</td>\n",
       "      <td>0.132319</td>\n",
       "      <td>2.0</td>\n",
       "      <td>-0.791323</td>\n",
       "      <td>0.001021</td>\n",
       "      <td>-0.00129</td>\n",
       "      <td>0.023138</td>\n",
       "      <td>0.039452</td>\n",
       "      <td>0.016313</td>\n",
       "      <td>1.0</td>\n",
       "      <td>1.0</td>\n",
       "      <td>-2.347008e-13</td>\n",
       "      <td>0.028980</td>\n",
       "      <td>0.078904</td>\n",
       "      <td>0.043305</td>\n",
       "      <td>0.032882</td>\n",
       "      <td>0.016196</td>\n",
       "      <td>0.538348</td>\n",
       "      <td>0.822271</td>\n",
       "      <td>0.351775</td>\n",
       "      <td>0.703550</td>\n",
       "      <td>14.255616</td>\n",
       "      <td>82.076192</td>\n",
       "      <td>59.367621</td>\n",
       "      <td>180.0</td>\n",
       "    </tr>\n",
       "    <tr>\n",
       "      <th>2</th>\n",
       "      <td>29819.563667</td>\n",
       "      <td>27889.667484</td>\n",
       "      <td>-0.5</td>\n",
       "      <td>1.027169</td>\n",
       "      <td>1.0</td>\n",
       "      <td>0.000271</td>\n",
       "      <td>0.0565</td>\n",
       "      <td>1.0</td>\n",
       "      <td>0.0048</td>\n",
       "      <td>0.0565</td>\n",
       "      <td>0.632726</td>\n",
       "      <td>0.033713</td>\n",
       "      <td>0.132320</td>\n",
       "      <td>2.0</td>\n",
       "      <td>-0.791322</td>\n",
       "      <td>0.001021</td>\n",
       "      <td>-0.00129</td>\n",
       "      <td>0.023138</td>\n",
       "      <td>0.039452</td>\n",
       "      <td>0.016313</td>\n",
       "      <td>1.0</td>\n",
       "      <td>1.0</td>\n",
       "      <td>-2.503838e-15</td>\n",
       "      <td>0.028980</td>\n",
       "      <td>0.078904</td>\n",
       "      <td>0.043305</td>\n",
       "      <td>0.032882</td>\n",
       "      <td>0.016196</td>\n",
       "      <td>0.538347</td>\n",
       "      <td>0.822271</td>\n",
       "      <td>0.351774</td>\n",
       "      <td>0.703549</td>\n",
       "      <td>14.255597</td>\n",
       "      <td>82.076193</td>\n",
       "      <td>59.367727</td>\n",
       "      <td>180.0</td>\n",
       "    </tr>\n",
       "    <tr>\n",
       "      <th>3</th>\n",
       "      <td>29819.563687</td>\n",
       "      <td>27889.667484</td>\n",
       "      <td>-0.5</td>\n",
       "      <td>1.027170</td>\n",
       "      <td>1.0</td>\n",
       "      <td>0.000271</td>\n",
       "      <td>0.0565</td>\n",
       "      <td>1.0</td>\n",
       "      <td>0.0048</td>\n",
       "      <td>0.0565</td>\n",
       "      <td>0.632726</td>\n",
       "      <td>0.033713</td>\n",
       "      <td>0.132320</td>\n",
       "      <td>2.0</td>\n",
       "      <td>-0.791322</td>\n",
       "      <td>0.001021</td>\n",
       "      <td>-0.00129</td>\n",
       "      <td>0.023138</td>\n",
       "      <td>0.039452</td>\n",
       "      <td>0.016313</td>\n",
       "      <td>1.0</td>\n",
       "      <td>1.0</td>\n",
       "      <td>-1.357960e-16</td>\n",
       "      <td>0.028980</td>\n",
       "      <td>0.078904</td>\n",
       "      <td>0.043305</td>\n",
       "      <td>0.032882</td>\n",
       "      <td>0.016196</td>\n",
       "      <td>0.538347</td>\n",
       "      <td>0.822271</td>\n",
       "      <td>0.351774</td>\n",
       "      <td>0.703548</td>\n",
       "      <td>14.255587</td>\n",
       "      <td>82.076193</td>\n",
       "      <td>59.367784</td>\n",
       "      <td>180.0</td>\n",
       "    </tr>\n",
       "    <tr>\n",
       "      <th>4</th>\n",
       "      <td>29819.563694</td>\n",
       "      <td>27889.667484</td>\n",
       "      <td>-0.5</td>\n",
       "      <td>1.027170</td>\n",
       "      <td>1.0</td>\n",
       "      <td>0.000271</td>\n",
       "      <td>0.0565</td>\n",
       "      <td>1.0</td>\n",
       "      <td>0.0048</td>\n",
       "      <td>0.0565</td>\n",
       "      <td>0.632726</td>\n",
       "      <td>0.033713</td>\n",
       "      <td>0.132320</td>\n",
       "      <td>2.0</td>\n",
       "      <td>-0.791321</td>\n",
       "      <td>0.001021</td>\n",
       "      <td>-0.00129</td>\n",
       "      <td>0.023138</td>\n",
       "      <td>0.039452</td>\n",
       "      <td>0.016313</td>\n",
       "      <td>1.0</td>\n",
       "      <td>1.0</td>\n",
       "      <td>-1.357960e-16</td>\n",
       "      <td>0.028980</td>\n",
       "      <td>0.078904</td>\n",
       "      <td>0.043305</td>\n",
       "      <td>0.032882</td>\n",
       "      <td>0.016196</td>\n",
       "      <td>0.538347</td>\n",
       "      <td>0.822271</td>\n",
       "      <td>0.351774</td>\n",
       "      <td>0.703548</td>\n",
       "      <td>14.255584</td>\n",
       "      <td>82.076193</td>\n",
       "      <td>59.367804</td>\n",
       "      <td>180.0</td>\n",
       "    </tr>\n",
       "  </tbody>\n",
       "</table>\n",
       "</div>"
      ],
      "text/plain": [
       "          chisq  chisq_dimless  Retau     Imtau  n_scale     alpha    beta  \\\n",
       "0  29819.562345   27889.667489   -0.5  1.027139      1.0  0.000271  0.0565   \n",
       "1  29819.563629   27889.667484   -0.5  1.027168      1.0  0.000271  0.0565   \n",
       "2  29819.563667   27889.667484   -0.5  1.027169      1.0  0.000271  0.0565   \n",
       "3  29819.563687   27889.667484   -0.5  1.027170      1.0  0.000271  0.0565   \n",
       "4  29819.563694   27889.667484   -0.5  1.027170      1.0  0.000271  0.0565   \n",
       "\n",
       "   gamma   me/mu   mu/mt     s12^2     s13^2     s23^2  d/pi         r  \\\n",
       "0    1.0  0.0048  0.0565  0.632693  0.033717  0.132304   2.0 -0.791345   \n",
       "1    1.0  0.0048  0.0565  0.632725  0.033713  0.132319   2.0 -0.791323   \n",
       "2    1.0  0.0048  0.0565  0.632726  0.033713  0.132320   2.0 -0.791322   \n",
       "3    1.0  0.0048  0.0565  0.632726  0.033713  0.132320   2.0 -0.791322   \n",
       "4    1.0  0.0048  0.0565  0.632726  0.033713  0.132320   2.0 -0.791321   \n",
       "\n",
       "      m21^2    m3l^2        m1        m2        m3  eta1  eta2             J  \\\n",
       "0  0.001021 -0.00129  0.023138  0.039452  0.016314   1.0   1.0 -8.431851e-17   \n",
       "1  0.001021 -0.00129  0.023138  0.039452  0.016313   1.0   1.0 -2.347008e-13   \n",
       "2  0.001021 -0.00129  0.023138  0.039452  0.016313   1.0   1.0 -2.503838e-15   \n",
       "3  0.001021 -0.00129  0.023138  0.039452  0.016313   1.0   1.0 -1.357960e-16   \n",
       "4  0.001021 -0.00129  0.023138  0.039452  0.016313   1.0   1.0 -1.357960e-16   \n",
       "\n",
       "       Jmax  Sum(m_i)       m_b      m_bb    nscale     mu/mc     mc/mt  \\\n",
       "0  0.028981  0.078904  0.043305  0.032882  0.016195  0.538355  0.822271   \n",
       "1  0.028980  0.078904  0.043305  0.032882  0.016196  0.538348  0.822271   \n",
       "2  0.028980  0.078904  0.043305  0.032882  0.016196  0.538347  0.822271   \n",
       "3  0.028980  0.078904  0.043305  0.032882  0.016196  0.538347  0.822271   \n",
       "4  0.028980  0.078904  0.043305  0.032882  0.016196  0.538347  0.822271   \n",
       "\n",
       "      md/ms     ms/mb        t12        t13        t23     dq  \n",
       "0  0.351797  0.703595  14.256250  82.076160  59.363982  180.0  \n",
       "1  0.351775  0.703550  14.255616  82.076192  59.367621  180.0  \n",
       "2  0.351774  0.703549  14.255597  82.076193  59.367727  180.0  \n",
       "3  0.351774  0.703548  14.255587  82.076193  59.367784  180.0  \n",
       "4  0.351774  0.703548  14.255584  82.076193  59.367804  180.0  "
      ]
     },
     "execution_count": 14,
     "metadata": {},
     "output_type": "execute_result"
    }
   ],
   "source": [
    "tmp = MyLeptonQuarkModel.make_fit(points=10)\n",
    "tmp.head(5)"
   ]
  },
  {
   "cell_type": "markdown",
   "id": "00cd84ef",
   "metadata": {},
   "source": [
    "## Analysing results"
   ]
  },
  {
   "cell_type": "markdown",
   "id": "6300440d",
   "metadata": {},
   "source": [
    "You can now analyse the pandas.DataFrame that contains the fit results conveniently with all the methods that pandas provides. For this example, let us just look at the $\\chi^2$-decomposition of the best fit point"
   ]
  },
  {
   "cell_type": "code",
   "execution_count": 15,
   "id": "b9c7592a",
   "metadata": {},
   "outputs": [
    {
     "name": "stdout",
     "output_type": "stream",
     "text": [
      "'s12^2': 0.3049753248207408,   chisq: 0.0008610874231279788\n",
      "'s13^2': 0.04468384581156096,   chisq: 1371.4143830828527\n",
      "'s23^2': 0.3488737891713785,   chisq: 79.41605107231653\n",
      "'m21^2': 7.400113796594195e-05,   chisq: 0.0020254325309340816\n",
      "'m3l^2': -0.0024893256217561536,   chisq: 0.006839537831949735\n",
      "Total chi-square: 1450.8401602129552\n"
     ]
    }
   ],
   "source": [
    "Model1.print_chisq(df.loc[0])"
   ]
  },
  {
   "cell_type": "markdown",
   "id": "d8879a2e",
   "metadata": {},
   "source": [
    "As also discussed in the paper, the mixing angle $\\theta_{13}$ seems not to be in agreement with the experimental data. "
   ]
  },
  {
   "cell_type": "markdown",
   "id": "a3d1f5d0",
   "metadata": {},
   "source": [
    "## Exploring a minimum with Markov Chain Monte Carlo (MCMC)"
   ]
  },
  {
   "cell_type": "markdown",
   "id": "849ae3cd",
   "metadata": {},
   "source": [
    "Using the emcee marcov chain monte carlo sampler one can conveniently explore the neighborhood and hence the confidence level contours of a specific minimum. FlavorPy uses the emcee (https://emcee.readthedocs.io/en/stable/) MCMC sampler. To sample with a given amount x of mcmc_steps around one or multiple minima of a FlavorModel, simply call FlavorModel.mcmc_fit(df, mcmc_steps=x). You can also pass down keyword arguments to the underlying lmfit.Minimizer.emcee and emcee.EnsembleSampler.run_mcmc, see https://lmfit.github.io/lmfit-py/fitting.html#lmfit.minimizer.Minimizer.emcee and https://emcee.readthedocs.io/en/stable/user/sampler/#emcee.EnsembleSampler.run_mcmc there are several interesting options like adjusting the number of ranodm walkers of parallelizing the job using several workers. Calling the function yields the flatchain containing all sampled points in parameter space. The observables and chisq can the easily be added with FlavorModel.complete_fit(df)."
   ]
  },
  {
   "cell_type": "code",
   "execution_count": 16,
   "id": "f83e328f",
   "metadata": {},
   "outputs": [
    {
     "name": "stdout",
     "output_type": "stream",
     "text": [
      "0 : \n"
     ]
    },
    {
     "name": "stderr",
     "output_type": "stream",
     "text": [
      "100%|██████████| 2000/2000 [01:03<00:00, 31.39it/s]\n"
     ]
    }
   ],
   "source": [
    "mcmc_kwargs = {'nwalkers':60, 'thin':2, 'workers':5}\n",
    "df_mcmc = Model1.mcmc_fit(df.loc[[0]], mcmc_steps=2000, **mcmc_kwargs)\n",
    "df_mcmc = Model1.complete_fit(df_mcmc)"
   ]
  },
  {
   "cell_type": "code",
   "execution_count": 17,
   "id": "8967e038",
   "metadata": {},
   "outputs": [
    {
     "data": {
      "image/png": "[encoded data removed]",
      "text/plain": [
       "<Figure size 444.96x275.04 with 2 Axes>"
      ]
     },
     "metadata": {
      "needs_background": "light"
     },
     "output_type": "display_data"
    }
   ],
   "source": [
    "mf.plot(df_mcmc, x='Retau', y='Imtau', cmap='viridis_r', vmax=np.min(df_mcmc['chisq'])+25);"
   ]
  },
  {
   "cell_type": "markdown",
   "id": "607ff508",
   "metadata": {},
   "source": [
    "This method is especially usefull if you want to sample around multiple minima.\n",
    "Alternatively with FlavorPy you can directly define a lmfit.Minimizer object, on which you can call .emcee(). This enables you to use a wide range of analysis tools of lmfit (https://lmfit.github.io/lmfit-py/fitting.html#minimizerresult-the-optimization-result) and emcee (https://emcee.readthedocs.io/en/stable/tutorials/quickstart/). However, you can only fit one minimum at a time. And you need to input the minimum in form of a lmfit.Parameters object."
   ]
  },
  {
   "cell_type": "code",
   "execution_count": 18,
   "id": "dde58a98",
   "metadata": {},
   "outputs": [],
   "source": [
    "params = ParamSpace.random_pt()  # This is not a random point, but we will set it to the best fit point df.loc[0] in the next lines\n",
    "for param in params:\n",
    "    params[param].value = df.loc[0][param]\n",
    "\n",
    "LmfitMinimizer = mf.LmfitMinimizer(model=Model1, params=params)"
   ]
  },
  {
   "cell_type": "markdown",
   "id": "2e91b492",
   "metadata": {},
   "source": [
    "This has the nice feature, that you can sample a couple of points and if they were not sufficiently many, you can continue running the same, already trained, sampler with 'reuse_sampler'."
   ]
  },
  {
   "cell_type": "code",
   "execution_count": 19,
   "id": "fa3cb3aa",
   "metadata": {},
   "outputs": [
    {
     "name": "stderr",
     "output_type": "stream",
     "text": [
      "100%|██████████| 1000/1000 [00:45<00:00, 21.78it/s]"
     ]
    },
    {
     "name": "stdout",
     "output_type": "stream",
     "text": [
      "The chain is shorter than 50 times the integrated autocorrelation time for 2 parameter(s). Use this estimate with caution and run a longer chain!\n",
      "N/50 = 20;\n",
      "tau: [23.81724905 25.39524904]\n"
     ]
    },
    {
     "name": "stderr",
     "output_type": "stream",
     "text": [
      "\n"
     ]
    }
   ],
   "source": [
    "res = LmfitMinimizer.emcee(steps=1000)"
   ]
  },
  {
   "cell_type": "code",
   "execution_count": 20,
   "id": "eb0f0461",
   "metadata": {},
   "outputs": [
    {
     "data": {
      "text/plain": [
       "100000"
      ]
     },
     "execution_count": 20,
     "metadata": {},
     "output_type": "execute_result"
    }
   ],
   "source": [
    "len(res.flatchain)"
   ]
  },
  {
   "cell_type": "code",
   "execution_count": 21,
   "id": "86279c43",
   "metadata": {},
   "outputs": [
    {
     "name": "stderr",
     "output_type": "stream",
     "text": [
      "100%|██████████| 1000/1000 [00:45<00:00, 21.96it/s]\n"
     ]
    }
   ],
   "source": [
    "res = LmfitMinimizer.emcee(steps=1000, reuse_sampler=True)"
   ]
  },
  {
   "cell_type": "code",
   "execution_count": 22,
   "id": "4bf039e9",
   "metadata": {},
   "outputs": [
    {
     "data": {
      "text/plain": [
       "200000"
      ]
     },
     "execution_count": 22,
     "metadata": {},
     "output_type": "execute_result"
    }
   ],
   "source": [
    "len(res.flatchain)"
   ]
  },
  {
   "cell_type": "markdown",
   "id": "9184eeb0",
   "metadata": {},
   "source": [
    "Also you can print all sorts of information about the fit results. For more information see https://lmfit.github.io/lmfit-py/fitting.html#lmfit.minimizer.MinimizerResult."
   ]
  },
  {
   "cell_type": "code",
   "execution_count": 23,
   "id": "3eadd966",
   "metadata": {},
   "outputs": [
    {
     "data": {
      "text/html": [
       "<h2>Fit Statistics</h2><table><tr><td>fitting method</td><td>emcee</td><td></td></tr><tr><td># function evals</td><td>100000</td><td></td></tr><tr><td># data points</td><td>4</td><td></td></tr><tr><td># variables</td><td>2</td><td></td></tr><tr><td>chi-square</td><td> 1450.89382</td><td></td></tr><tr><td>reduced chi-square</td><td> 725.446911</td><td></td></tr><tr><td>Akaike info crit.</td><td> 27.5745629</td><td></td></tr><tr><td>Bayesian info crit.</td><td> 26.3471516</td><td></td></tr></table><h2>Variables</h2><table><tr><th> name </th><th> value </th><th> standard error </th><th> relative error </th><th> initial value </th><th> min </th><th> max </th><th> vary </th></tr><tr><td> Retau </td><td> -0.01163794 </td><td>  4.6109e-04 </td><td> (3.96%) </td><td> -0.0116306881653227 </td><td> -0.50000000 </td><td>  0.50000000 </td><td> True </td></tr><tr><td> Imtau </td><td>  0.99471795 </td><td>  3.7336e-04 </td><td> (0.04%) </td><td> 0.9946662946961622 </td><td>  0.86600000 </td><td>  4.00000000 </td><td> True </td></tr><tr><td> n_scale </td><td>  1.00000000 </td><td>  </td><td> (0.04%) </td><td> 1.0 </td><td>        -inf </td><td>         inf </td><td> False </td></tr><tr><td> alpha </td><td>  2.7120e-04 </td><td>  </td><td> (0.04%) </td><td> 0.0002712 </td><td>        -inf </td><td>         inf </td><td> False </td></tr><tr><td> beta </td><td>  0.05650000 </td><td>  </td><td> (0.04%) </td><td> 0.0565 </td><td>        -inf </td><td>         inf </td><td> False </td></tr><tr><td> gamma </td><td>  1.00000000 </td><td>  </td><td> (0.04%) </td><td> 1.0 </td><td>        -inf </td><td>         inf </td><td> False </td></tr></table><h2>Correlations (unreported correlations are < 0.100)</h2><table><tr><td>Retau</td><td>Imtau</td><td>0.2939</td></tr></table>"
      ],
      "text/plain": [
       "<lmfit.minimizer.MinimizerResult at 0x7f1bd131ed90>"
      ]
     },
     "execution_count": 23,
     "metadata": {},
     "output_type": "execute_result"
    }
   ],
   "source": [
    "res"
   ]
  }
 ],
 "metadata": {
  "kernelspec": {
   "display_name": "Python 3",
   "language": "python",
   "name": "python3"
  },
  "language_info": {
   "codemirror_mode": {
    "name": "ipython",
    "version": 3
   },
   "file_extension": ".py",
   "mimetype": "text/x-python",
   "name": "python",
   "nbconvert_exporter": "python",
   "pygments_lexer": "ipython3",
   "version": "3.8.10"
  }
 },
 "nbformat": 4,
 "nbformat_minor": 5
}
