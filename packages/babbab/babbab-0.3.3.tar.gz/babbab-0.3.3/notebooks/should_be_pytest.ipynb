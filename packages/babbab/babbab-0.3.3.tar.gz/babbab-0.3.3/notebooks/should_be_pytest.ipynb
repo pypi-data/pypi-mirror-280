{
 "cells": [
  {
   "cell_type": "code",
   "execution_count": 1,
   "id": "1e042a55-fd76-484a-8c01-252f8f103ca4",
   "metadata": {},
   "outputs": [
    {
     "name": "stdout",
     "output_type": "stream",
     "text": [
      "Processing /home/juan/work/babbab\n",
      "  Installing build dependencies ... \u001b[?25ldone\n",
      "\u001b[?25h  Getting requirements to build wheel ... \u001b[?25ldone\n",
      "\u001b[?25h  Preparing metadata (pyproject.toml) ... \u001b[?25ldone\n",
      "\u001b[?25hRequirement already satisfied: pymc>=4.1.2 in /home/juan/work/babbab/.venv/lib/python3.10/site-packages (from babbab==0.3.3) (5.10.3)\n",
      "Requirement already satisfied: arviz>=0.12.1 in /home/juan/work/babbab/.venv/lib/python3.10/site-packages (from babbab==0.3.3) (0.17.0)\n",
      "Requirement already satisfied: matplotlib>=3.5.2 in /home/juan/work/babbab/.venv/lib/python3.10/site-packages (from babbab==0.3.3) (3.8.2)\n",
      "Requirement already satisfied: typing-extensions>=4.1.0 in /home/juan/work/babbab/.venv/lib/python3.10/site-packages (from arviz>=0.12.1->babbab==0.3.3) (4.9.0)\n",
      "Requirement already satisfied: setuptools>=60.0.0 in /home/juan/work/babbab/.venv/lib/python3.10/site-packages (from arviz>=0.12.1->babbab==0.3.3) (69.0.3)\n",
      "Requirement already satisfied: packaging in /home/juan/work/babbab/.venv/lib/python3.10/site-packages (from arviz>=0.12.1->babbab==0.3.3) (23.2)\n",
      "Requirement already satisfied: h5netcdf>=1.0.2 in /home/juan/work/babbab/.venv/lib/python3.10/site-packages (from arviz>=0.12.1->babbab==0.3.3) (1.3.0)\n",
      "Requirement already satisfied: pandas>=1.4.0 in /home/juan/work/babbab/.venv/lib/python3.10/site-packages (from arviz>=0.12.1->babbab==0.3.3) (2.2.0)\n",
      "Requirement already satisfied: xarray>=0.21.0 in /home/juan/work/babbab/.venv/lib/python3.10/site-packages (from arviz>=0.12.1->babbab==0.3.3) (2024.1.0)\n",
      "Requirement already satisfied: xarray-einstats>=0.3 in /home/juan/work/babbab/.venv/lib/python3.10/site-packages (from arviz>=0.12.1->babbab==0.3.3) (0.7.0)\n",
      "Requirement already satisfied: scipy>=1.8.0 in /home/juan/work/babbab/.venv/lib/python3.10/site-packages (from arviz>=0.12.1->babbab==0.3.3) (1.12.0)\n",
      "Requirement already satisfied: numpy<2.0,>=1.22.0 in /home/juan/work/babbab/.venv/lib/python3.10/site-packages (from arviz>=0.12.1->babbab==0.3.3) (1.26.3)\n",
      "Requirement already satisfied: cycler>=0.10 in /home/juan/work/babbab/.venv/lib/python3.10/site-packages (from matplotlib>=3.5.2->babbab==0.3.3) (0.12.1)\n",
      "Requirement already satisfied: pyparsing>=2.3.1 in /home/juan/work/babbab/.venv/lib/python3.10/site-packages (from matplotlib>=3.5.2->babbab==0.3.3) (3.1.1)\n",
      "Requirement already satisfied: python-dateutil>=2.7 in /home/juan/work/babbab/.venv/lib/python3.10/site-packages (from matplotlib>=3.5.2->babbab==0.3.3) (2.8.2)\n",
      "Requirement already satisfied: kiwisolver>=1.3.1 in /home/juan/work/babbab/.venv/lib/python3.10/site-packages (from matplotlib>=3.5.2->babbab==0.3.3) (1.4.5)\n",
      "Requirement already satisfied: pillow>=8 in /home/juan/work/babbab/.venv/lib/python3.10/site-packages (from matplotlib>=3.5.2->babbab==0.3.3) (10.2.0)\n",
      "Requirement already satisfied: fonttools>=4.22.0 in /home/juan/work/babbab/.venv/lib/python3.10/site-packages (from matplotlib>=3.5.2->babbab==0.3.3) (4.47.2)\n",
      "Requirement already satisfied: contourpy>=1.0.1 in /home/juan/work/babbab/.venv/lib/python3.10/site-packages (from matplotlib>=3.5.2->babbab==0.3.3) (1.2.0)\n",
      "Requirement already satisfied: pytensor<2.19,>=2.18.1 in /home/juan/work/babbab/.venv/lib/python3.10/site-packages (from pymc>=4.1.2->babbab==0.3.3) (2.18.6)\n",
      "Requirement already satisfied: cloudpickle in /home/juan/work/babbab/.venv/lib/python3.10/site-packages (from pymc>=4.1.2->babbab==0.3.3) (3.0.0)\n",
      "Requirement already satisfied: fastprogress>=0.2.0 in /home/juan/work/babbab/.venv/lib/python3.10/site-packages (from pymc>=4.1.2->babbab==0.3.3) (1.0.3)\n",
      "Requirement already satisfied: cachetools>=4.2.1 in /home/juan/work/babbab/.venv/lib/python3.10/site-packages (from pymc>=4.1.2->babbab==0.3.3) (5.3.2)\n",
      "Requirement already satisfied: h5py in /home/juan/work/babbab/.venv/lib/python3.10/site-packages (from h5netcdf>=1.0.2->arviz>=0.12.1->babbab==0.3.3) (3.10.0)\n",
      "Requirement already satisfied: tzdata>=2022.7 in /home/juan/work/babbab/.venv/lib/python3.10/site-packages (from pandas>=1.4.0->arviz>=0.12.1->babbab==0.3.3) (2023.4)\n",
      "Requirement already satisfied: pytz>=2020.1 in /home/juan/work/babbab/.venv/lib/python3.10/site-packages (from pandas>=1.4.0->arviz>=0.12.1->babbab==0.3.3) (2023.3.post1)\n",
      "Requirement already satisfied: miniKanren in /home/juan/work/babbab/.venv/lib/python3.10/site-packages (from pytensor<2.19,>=2.18.1->pymc>=4.1.2->babbab==0.3.3) (1.0.3)\n",
      "Requirement already satisfied: cons in /home/juan/work/babbab/.venv/lib/python3.10/site-packages (from pytensor<2.19,>=2.18.1->pymc>=4.1.2->babbab==0.3.3) (0.4.6)\n",
      "Requirement already satisfied: etuples in /home/juan/work/babbab/.venv/lib/python3.10/site-packages (from pytensor<2.19,>=2.18.1->pymc>=4.1.2->babbab==0.3.3) (0.3.9)\n",
      "Requirement already satisfied: logical-unification in /home/juan/work/babbab/.venv/lib/python3.10/site-packages (from pytensor<2.19,>=2.18.1->pymc>=4.1.2->babbab==0.3.3) (0.4.6)\n",
      "Requirement already satisfied: filelock in /home/juan/work/babbab/.venv/lib/python3.10/site-packages (from pytensor<2.19,>=2.18.1->pymc>=4.1.2->babbab==0.3.3) (3.13.1)\n",
      "Requirement already satisfied: six>=1.5 in /home/juan/work/babbab/.venv/lib/python3.10/site-packages (from python-dateutil>=2.7->matplotlib>=3.5.2->babbab==0.3.3) (1.16.0)\n",
      "Requirement already satisfied: toolz in /home/juan/work/babbab/.venv/lib/python3.10/site-packages (from logical-unification->pytensor<2.19,>=2.18.1->pymc>=4.1.2->babbab==0.3.3) (0.12.0)\n",
      "Requirement already satisfied: multipledispatch in /home/juan/work/babbab/.venv/lib/python3.10/site-packages (from logical-unification->pytensor<2.19,>=2.18.1->pymc>=4.1.2->babbab==0.3.3) (1.0.0)\n",
      "Building wheels for collected packages: babbab\n",
      "  Building wheel for babbab (pyproject.toml) ... \u001b[?25ldone\n",
      "\u001b[?25h  Created wheel for babbab: filename=babbab-0.3.3-py2.py3-none-any.whl size=5732 sha256=6b2b77ebebfd51c9dcb4fb21d48ac9d592b88fd436fcfff7c49f3befc99c70a5\n",
      "  Stored in directory: /tmp/pip-ephem-wheel-cache-xdn2c_8i/wheels/7d/3d/21/626f1d9bb707128b01811635f89cdb97f67bc09dba0950347a\n",
      "Successfully built babbab\n",
      "Installing collected packages: babbab\n",
      "  Attempting uninstall: babbab\n",
      "    Found existing installation: babbab 0.3.3\n",
      "    Uninstalling babbab-0.3.3:\n",
      "      Successfully uninstalled babbab-0.3.3\n",
      "Successfully installed babbab-0.3.3\n"
     ]
    }
   ],
   "source": [
    "!pip install .."
   ]
  },
  {
   "cell_type": "code",
   "execution_count": 2,
   "id": "664abafa-7b7c-4caf-b6b1-c2c99bde24fa",
   "metadata": {},
   "outputs": [
    {
     "name": "stderr",
     "output_type": "stream",
     "text": [
      "WARNING (pytensor.tensor.blas): Using NumPy C-API based implementation for BLAS functions.\n"
     ]
    },
    {
     "data": {
      "text/plain": [
       "'0.3.3'"
      ]
     },
     "execution_count": 2,
     "metadata": {},
     "output_type": "execute_result"
    }
   ],
   "source": [
    "import babbab as bab\n",
    "bab.__version__"
   ]
  },
  {
   "cell_type": "code",
   "execution_count": 3,
   "id": "366ff472-5887-455a-a892-f36c1788b0d2",
   "metadata": {},
   "outputs": [
    {
     "name": "stderr",
     "output_type": "stream",
     "text": [
      "Auto-assigning NUTS sampler...\n",
      "Initializing NUTS using jitter+adapt_diag...\n",
      "Multiprocess sampling (4 chains in 4 jobs)\n",
      "NUTS: [control, variant]\n"
     ]
    },
    {
     "data": {
      "text/html": [
       "\n",
       "<style>\n",
       "    /* Turns off some styling */\n",
       "    progress {\n",
       "        /* gets rid of default border in Firefox and Opera. */\n",
       "        border: none;\n",
       "        /* Needs to be in here for Safari polyfill so background images work as expected. */\n",
       "        background-size: auto;\n",
       "    }\n",
       "    progress:not([value]), progress:not([value])::-webkit-progress-bar {\n",
       "        background: repeating-linear-gradient(45deg, #7e7e7e, #7e7e7e 10px, #5c5c5c 10px, #5c5c5c 20px);\n",
       "    }\n",
       "    .progress-bar-interrupted, .progress-bar-interrupted::-webkit-progress-bar {\n",
       "        background: #F44336;\n",
       "    }\n",
       "</style>\n"
      ],
      "text/plain": [
       "<IPython.core.display.HTML object>"
      ]
     },
     "metadata": {},
     "output_type": "display_data"
    },
    {
     "data": {
      "text/html": [
       "\n",
       "    <div>\n",
       "      <progress value='24000' class='' max='24000' style='width:300px; height:20px; vertical-align: middle;'></progress>\n",
       "      100.00% [24000/24000 00:02&lt;00:00 Sampling 4 chains, 0 divergences]\n",
       "    </div>\n",
       "    "
      ],
      "text/plain": [
       "<IPython.core.display.HTML object>"
      ]
     },
     "metadata": {},
     "output_type": "display_data"
    },
    {
     "name": "stderr",
     "output_type": "stream",
     "text": [
      "Sampling 4 chains for 1_000 tune and 5_000 draw iterations (4_000 + 20_000 draws total) took 3 seconds.\n"
     ]
    },
    {
     "data": {
      "image/png": "[encoded data removed]",
      "text/plain": [
       "<Figure size 1600x800 with 1 Axes>"
      ]
     },
     "metadata": {},
     "output_type": "display_data"
    }
   ],
   "source": [
    "control_sold_subscriptions = 200 \n",
    "control_users = 40316\n",
    "variant_sold_subscriptions = 250\n",
    "variant_users = 40567\n",
    "\n",
    "fig, statement, trace = bab.quick_analysis(control_sold_subscriptions, control_users, variant_sold_subscriptions, variant_users);"
   ]
  },
  {
   "cell_type": "code",
   "execution_count": 4,
   "id": "72567264-cbb2-42c6-af19-bd31ba081bad",
   "metadata": {},
   "outputs": [
    {
     "data": {
      "text/plain": [
       "'There is a 95% chance that the difference between Variant and Control is between 9.6% and 40.0%'"
      ]
     },
     "execution_count": 4,
     "metadata": {},
     "output_type": "execute_result"
    }
   ],
   "source": [
    "statement"
   ]
  },
  {
   "cell_type": "code",
   "execution_count": 5,
   "id": "a0a0c471-f29d-4536-8e23-62bffb640b15",
   "metadata": {},
   "outputs": [
    {
     "data": {
      "text/plain": [
       "arviz.data.inference_data.InferenceData"
      ]
     },
     "execution_count": 5,
     "metadata": {},
     "output_type": "execute_result"
    }
   ],
   "source": [
    "type(trace)"
   ]
  },
  {
   "cell_type": "markdown",
   "id": "5748f63d-02f1-4aba-b206-364221e67b0d",
   "metadata": {
    "tags": []
   },
   "source": [
    "### "
   ]
  }
 ],
 "metadata": {
  "kernelspec": {
   "display_name": "Python 3 (ipykernel)",
   "language": "python",
   "name": "python3"
  },
  "language_info": {
   "codemirror_mode": {
    "name": "ipython",
    "version": 3
   },
   "file_extension": ".py",
   "mimetype": "text/x-python",
   "name": "python",
   "nbconvert_exporter": "python",
   "pygments_lexer": "ipython3",
   "version": "3.10.12"
  }
 },
 "nbformat": 4,
 "nbformat_minor": 5
}
