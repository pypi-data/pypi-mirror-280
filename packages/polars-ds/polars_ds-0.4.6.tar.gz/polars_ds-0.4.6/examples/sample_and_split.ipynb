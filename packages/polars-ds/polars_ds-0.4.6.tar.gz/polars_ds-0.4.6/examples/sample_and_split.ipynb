{
 "cells": [
  {
   "cell_type": "markdown",
   "metadata": {},
   "source": [
    "# Sampling and Splitting"
   ]
  },
  {
   "cell_type": "markdown",
   "metadata": {},
   "source": [
    "## Sampling\n",
    "\n",
    "Sampling for basic tabular datasets. (Not designed for time series as of now.)"
   ]
  },
  {
   "cell_type": "code",
   "execution_count": 1,
   "metadata": {},
   "outputs": [],
   "source": [
    "import polars as pl\n",
    "import polars_ds as pds\n",
    "import polars_ds.sample as sa"
   ]
  },
  {
   "cell_type": "code",
   "execution_count": 2,
   "metadata": {},
   "outputs": [
    {
     "data": {
      "text/html": [
       "<div><style>\n",
       ".dataframe > thead > tr,\n",
       ".dataframe > tbody > tr {\n",
       "  text-align: right;\n",
       "  white-space: pre-wrap;\n",
       "}\n",
       "</style>\n",
       "<small>shape: (5, 8)</small><table border=\"1\" class=\"dataframe\"><thead><tr><th>row_num</th><th>uniform_1</th><th>uniform_2</th><th>exp</th><th>normal</th><th>fat_normal</th><th>flags</th><th>category</th></tr><tr><td>i64</td><td>f64</td><td>f64</td><td>f64</td><td>f64</td><td>f64</td><td>i32</td><td>str</td></tr></thead><tbody><tr><td>0</td><td>0.101301</td><td>0.241236</td><td>0.068629</td><td>-1.546608</td><td>-1820.064986</td><td>0</td><td>&quot;A&quot;</td></tr><tr><td>1</td><td>7.763778</td><td>0.688527</td><td>1.564067</td><td>-0.219875</td><td>2842.128922</td><td>0</td><td>&quot;A&quot;</td></tr><tr><td>2</td><td>6.692104</td><td>0.302039</td><td>2.184995</td><td>-2.038565</td><td>-107.693276</td><td>0</td><td>&quot;A&quot;</td></tr><tr><td>3</td><td>8.069798</td><td>0.589782</td><td>0.047991</td><td>-1.029594</td><td>52.045207</td><td>1</td><td>&quot;A&quot;</td></tr><tr><td>4</td><td>4.709925</td><td>0.289922</td><td>0.538721</td><td>1.08094</td><td>711.807154</td><td>1</td><td>&quot;A&quot;</td></tr></tbody></table></div>"
      ],
      "text/plain": [
       "shape: (5, 8)\n",
       "┌─────────┬───────────┬───────────┬──────────┬───────────┬──────────────┬───────┬──────────┐\n",
       "│ row_num ┆ uniform_1 ┆ uniform_2 ┆ exp      ┆ normal    ┆ fat_normal   ┆ flags ┆ category │\n",
       "│ ---     ┆ ---       ┆ ---       ┆ ---      ┆ ---       ┆ ---          ┆ ---   ┆ ---      │\n",
       "│ i64     ┆ f64       ┆ f64       ┆ f64      ┆ f64       ┆ f64          ┆ i32   ┆ str      │\n",
       "╞═════════╪═══════════╪═══════════╪══════════╪═══════════╪══════════════╪═══════╪══════════╡\n",
       "│ 0       ┆ 0.101301  ┆ 0.241236  ┆ 0.068629 ┆ -1.546608 ┆ -1820.064986 ┆ 0     ┆ A        │\n",
       "│ 1       ┆ 7.763778  ┆ 0.688527  ┆ 1.564067 ┆ -0.219875 ┆ 2842.128922  ┆ 0     ┆ A        │\n",
       "│ 2       ┆ 6.692104  ┆ 0.302039  ┆ 2.184995 ┆ -2.038565 ┆ -107.693276  ┆ 0     ┆ A        │\n",
       "│ 3       ┆ 8.069798  ┆ 0.589782  ┆ 0.047991 ┆ -1.029594 ┆ 52.045207    ┆ 1     ┆ A        │\n",
       "│ 4       ┆ 4.709925  ┆ 0.289922  ┆ 0.538721 ┆ 1.08094   ┆ 711.807154   ┆ 1     ┆ A        │\n",
       "└─────────┴───────────┴───────────┴──────────┴───────────┴──────────────┴───────┴──────────┘"
      ]
     },
     "execution_count": 2,
     "metadata": {},
     "output_type": "execute_result"
    }
   ],
   "source": [
    "df = pds.random_data(size=100_000, n_cols = 0).with_columns(\n",
    "    pds.random(0.0, 12.0).alias(\"uniform_1\"),\n",
    "    pds.random(0.0, 1.0).alias(\"uniform_2\"),\n",
    "    pds.random_exp(0.5).alias(\"exp\"),\n",
    "    pds.random_normal(0.0, 1.0).alias(\"normal\"),\n",
    "    pds.random_normal(0.0, 1000.0).alias(\"fat_normal\"),\n",
    "    (pds.random_int(0, 3)).alias(\"flags\"),\n",
    "    pl.Series([\"A\"] * 30_000 + [\"B\"] * 30_000 + [\"C\"] * 40_000).alias(\"category\"),\n",
    ")\n",
    "df.head()"
   ]
  },
  {
   "cell_type": "code",
   "execution_count": 3,
   "metadata": {},
   "outputs": [
    {
     "data": {
      "text/plain": [
       "['row_num', 'uniform_1', 'fat_normal']"
      ]
     },
     "execution_count": 3,
     "metadata": {},
     "output_type": "execute_result"
    }
   ],
   "source": [
    "sa.random_cols(df, 2, keep = [\"row_num\"])"
   ]
  },
  {
   "cell_type": "code",
   "execution_count": 4,
   "metadata": {},
   "outputs": [
    {
     "data": {
      "text/html": [
       "<div><style>\n",
       ".dataframe > thead > tr,\n",
       ".dataframe > tbody > tr {\n",
       "  text-align: right;\n",
       "  white-space: pre-wrap;\n",
       "}\n",
       "</style>\n",
       "<small>shape: (60_000, 8)</small><table border=\"1\" class=\"dataframe\"><thead><tr><th>row_num</th><th>uniform_1</th><th>uniform_2</th><th>exp</th><th>normal</th><th>fat_normal</th><th>flags</th><th>category</th></tr><tr><td>i64</td><td>f64</td><td>f64</td><td>f64</td><td>f64</td><td>f64</td><td>i32</td><td>str</td></tr></thead><tbody><tr><td>2</td><td>6.692104</td><td>0.302039</td><td>2.184995</td><td>-2.038565</td><td>-107.693276</td><td>0</td><td>&quot;A&quot;</td></tr><tr><td>3</td><td>8.069798</td><td>0.589782</td><td>0.047991</td><td>-1.029594</td><td>52.045207</td><td>1</td><td>&quot;A&quot;</td></tr><tr><td>4</td><td>4.709925</td><td>0.289922</td><td>0.538721</td><td>1.08094</td><td>711.807154</td><td>1</td><td>&quot;A&quot;</td></tr><tr><td>7</td><td>9.679737</td><td>0.431594</td><td>1.131895</td><td>-0.739637</td><td>1269.613996</td><td>1</td><td>&quot;A&quot;</td></tr><tr><td>8</td><td>10.803224</td><td>0.546317</td><td>3.25459</td><td>-0.904231</td><td>243.572733</td><td>2</td><td>&quot;A&quot;</td></tr><tr><td>&hellip;</td><td>&hellip;</td><td>&hellip;</td><td>&hellip;</td><td>&hellip;</td><td>&hellip;</td><td>&hellip;</td><td>&hellip;</td></tr><tr><td>99991</td><td>10.25385</td><td>0.632615</td><td>0.263188</td><td>-0.388282</td><td>273.417495</td><td>2</td><td>&quot;C&quot;</td></tr><tr><td>99993</td><td>5.213348</td><td>0.199494</td><td>4.928223</td><td>-0.362607</td><td>1729.126716</td><td>0</td><td>&quot;C&quot;</td></tr><tr><td>99994</td><td>9.441603</td><td>0.347907</td><td>0.318096</td><td>-0.112797</td><td>242.457284</td><td>0</td><td>&quot;C&quot;</td></tr><tr><td>99998</td><td>7.374466</td><td>0.030731</td><td>3.606166</td><td>-0.582265</td><td>1290.937356</td><td>0</td><td>&quot;C&quot;</td></tr><tr><td>99999</td><td>7.164853</td><td>0.399791</td><td>0.354686</td><td>-0.999868</td><td>1678.190405</td><td>1</td><td>&quot;C&quot;</td></tr></tbody></table></div>"
      ],
      "text/plain": [
       "shape: (60_000, 8)\n",
       "┌─────────┬───────────┬───────────┬──────────┬───────────┬─────────────┬───────┬──────────┐\n",
       "│ row_num ┆ uniform_1 ┆ uniform_2 ┆ exp      ┆ normal    ┆ fat_normal  ┆ flags ┆ category │\n",
       "│ ---     ┆ ---       ┆ ---       ┆ ---      ┆ ---       ┆ ---         ┆ ---   ┆ ---      │\n",
       "│ i64     ┆ f64       ┆ f64       ┆ f64      ┆ f64       ┆ f64         ┆ i32   ┆ str      │\n",
       "╞═════════╪═══════════╪═══════════╪══════════╪═══════════╪═════════════╪═══════╪══════════╡\n",
       "│ 2       ┆ 6.692104  ┆ 0.302039  ┆ 2.184995 ┆ -2.038565 ┆ -107.693276 ┆ 0     ┆ A        │\n",
       "│ 3       ┆ 8.069798  ┆ 0.589782  ┆ 0.047991 ┆ -1.029594 ┆ 52.045207   ┆ 1     ┆ A        │\n",
       "│ 4       ┆ 4.709925  ┆ 0.289922  ┆ 0.538721 ┆ 1.08094   ┆ 711.807154  ┆ 1     ┆ A        │\n",
       "│ 7       ┆ 9.679737  ┆ 0.431594  ┆ 1.131895 ┆ -0.739637 ┆ 1269.613996 ┆ 1     ┆ A        │\n",
       "│ 8       ┆ 10.803224 ┆ 0.546317  ┆ 3.25459  ┆ -0.904231 ┆ 243.572733  ┆ 2     ┆ A        │\n",
       "│ …       ┆ …         ┆ …         ┆ …        ┆ …         ┆ …           ┆ …     ┆ …        │\n",
       "│ 99991   ┆ 10.25385  ┆ 0.632615  ┆ 0.263188 ┆ -0.388282 ┆ 273.417495  ┆ 2     ┆ C        │\n",
       "│ 99993   ┆ 5.213348  ┆ 0.199494  ┆ 4.928223 ┆ -0.362607 ┆ 1729.126716 ┆ 0     ┆ C        │\n",
       "│ 99994   ┆ 9.441603  ┆ 0.347907  ┆ 0.318096 ┆ -0.112797 ┆ 242.457284  ┆ 0     ┆ C        │\n",
       "│ 99998   ┆ 7.374466  ┆ 0.030731  ┆ 3.606166 ┆ -0.582265 ┆ 1290.937356 ┆ 0     ┆ C        │\n",
       "│ 99999   ┆ 7.164853  ┆ 0.399791  ┆ 0.354686 ┆ -0.999868 ┆ 1678.190405 ┆ 1     ┆ C        │\n",
       "└─────────┴───────────┴───────────┴──────────┴───────────┴─────────────┴───────┴──────────┘"
      ]
     },
     "execution_count": 4,
     "metadata": {},
     "output_type": "execute_result"
    }
   ],
   "source": [
    "# Random Sample\n",
    "sa.sample(df, 0.6) # by ratio"
   ]
  },
  {
   "cell_type": "code",
   "execution_count": 5,
   "metadata": {},
   "outputs": [
    {
     "data": {
      "text/html": [
       "<div><style>\n",
       ".dataframe > thead > tr,\n",
       ".dataframe > tbody > tr {\n",
       "  text-align: right;\n",
       "  white-space: pre-wrap;\n",
       "}\n",
       "</style>\n",
       "<small>shape: (30_000, 8)</small><table border=\"1\" class=\"dataframe\"><thead><tr><th>row_num</th><th>uniform_1</th><th>uniform_2</th><th>exp</th><th>normal</th><th>fat_normal</th><th>flags</th><th>category</th></tr><tr><td>i64</td><td>f64</td><td>f64</td><td>f64</td><td>f64</td><td>f64</td><td>i32</td><td>str</td></tr></thead><tbody><tr><td>14</td><td>3.29052</td><td>0.62766</td><td>0.684437</td><td>-0.114606</td><td>1440.324971</td><td>0</td><td>&quot;A&quot;</td></tr><tr><td>15</td><td>10.033849</td><td>0.555832</td><td>0.265698</td><td>1.894409</td><td>-2266.65647</td><td>1</td><td>&quot;A&quot;</td></tr><tr><td>18</td><td>10.209092</td><td>0.411413</td><td>1.781309</td><td>1.502181</td><td>63.521515</td><td>1</td><td>&quot;A&quot;</td></tr><tr><td>23</td><td>5.461989</td><td>0.631279</td><td>2.069071</td><td>-0.735686</td><td>-1463.48885</td><td>0</td><td>&quot;A&quot;</td></tr><tr><td>27</td><td>8.902278</td><td>0.732549</td><td>2.877614</td><td>-0.049382</td><td>-1301.745218</td><td>0</td><td>&quot;A&quot;</td></tr><tr><td>&hellip;</td><td>&hellip;</td><td>&hellip;</td><td>&hellip;</td><td>&hellip;</td><td>&hellip;</td><td>&hellip;</td><td>&hellip;</td></tr><tr><td>99974</td><td>6.541671</td><td>0.052039</td><td>2.622168</td><td>-0.451139</td><td>-1270.959364</td><td>2</td><td>&quot;C&quot;</td></tr><tr><td>99976</td><td>1.147642</td><td>0.885223</td><td>0.704189</td><td>0.61381</td><td>344.861659</td><td>1</td><td>&quot;C&quot;</td></tr><tr><td>99985</td><td>7.321052</td><td>0.76491</td><td>6.039978</td><td>-0.407754</td><td>304.340042</td><td>1</td><td>&quot;C&quot;</td></tr><tr><td>99991</td><td>10.25385</td><td>0.632615</td><td>0.263188</td><td>-0.388282</td><td>273.417495</td><td>2</td><td>&quot;C&quot;</td></tr><tr><td>99995</td><td>1.948428</td><td>0.923293</td><td>6.168104</td><td>-0.151161</td><td>997.159514</td><td>0</td><td>&quot;C&quot;</td></tr></tbody></table></div>"
      ],
      "text/plain": [
       "shape: (30_000, 8)\n",
       "┌─────────┬───────────┬───────────┬──────────┬───────────┬──────────────┬───────┬──────────┐\n",
       "│ row_num ┆ uniform_1 ┆ uniform_2 ┆ exp      ┆ normal    ┆ fat_normal   ┆ flags ┆ category │\n",
       "│ ---     ┆ ---       ┆ ---       ┆ ---      ┆ ---       ┆ ---          ┆ ---   ┆ ---      │\n",
       "│ i64     ┆ f64       ┆ f64       ┆ f64      ┆ f64       ┆ f64          ┆ i32   ┆ str      │\n",
       "╞═════════╪═══════════╪═══════════╪══════════╪═══════════╪══════════════╪═══════╪══════════╡\n",
       "│ 14      ┆ 3.29052   ┆ 0.62766   ┆ 0.684437 ┆ -0.114606 ┆ 1440.324971  ┆ 0     ┆ A        │\n",
       "│ 15      ┆ 10.033849 ┆ 0.555832  ┆ 0.265698 ┆ 1.894409  ┆ -2266.65647  ┆ 1     ┆ A        │\n",
       "│ 18      ┆ 10.209092 ┆ 0.411413  ┆ 1.781309 ┆ 1.502181  ┆ 63.521515    ┆ 1     ┆ A        │\n",
       "│ 23      ┆ 5.461989  ┆ 0.631279  ┆ 2.069071 ┆ -0.735686 ┆ -1463.48885  ┆ 0     ┆ A        │\n",
       "│ 27      ┆ 8.902278  ┆ 0.732549  ┆ 2.877614 ┆ -0.049382 ┆ -1301.745218 ┆ 0     ┆ A        │\n",
       "│ …       ┆ …         ┆ …         ┆ …        ┆ …         ┆ …            ┆ …     ┆ …        │\n",
       "│ 99974   ┆ 6.541671  ┆ 0.052039  ┆ 2.622168 ┆ -0.451139 ┆ -1270.959364 ┆ 2     ┆ C        │\n",
       "│ 99976   ┆ 1.147642  ┆ 0.885223  ┆ 0.704189 ┆ 0.61381   ┆ 344.861659   ┆ 1     ┆ C        │\n",
       "│ 99985   ┆ 7.321052  ┆ 0.76491   ┆ 6.039978 ┆ -0.407754 ┆ 304.340042   ┆ 1     ┆ C        │\n",
       "│ 99991   ┆ 10.25385  ┆ 0.632615  ┆ 0.263188 ┆ -0.388282 ┆ 273.417495   ┆ 2     ┆ C        │\n",
       "│ 99995   ┆ 1.948428  ┆ 0.923293  ┆ 6.168104 ┆ -0.151161 ┆ 997.159514   ┆ 0     ┆ C        │\n",
       "└─────────┴───────────┴───────────┴──────────┴───────────┴──────────────┴───────┴──────────┘"
      ]
     },
     "execution_count": 5,
     "metadata": {},
     "output_type": "execute_result"
    }
   ],
   "source": [
    "sa.sample(df, 30_000) # by count"
   ]
  },
  {
   "cell_type": "code",
   "execution_count": 6,
   "metadata": {},
   "outputs": [
    {
     "data": {
      "text/html": [
       "<div><style>\n",
       ".dataframe > thead > tr,\n",
       ".dataframe > tbody > tr {\n",
       "  text-align: right;\n",
       "  white-space: pre-wrap;\n",
       "}\n",
       "</style>\n",
       "<small>shape: (3, 2)</small><table border=\"1\" class=\"dataframe\"><thead><tr><th>flags</th><th>len</th></tr><tr><td>i32</td><td>u32</td></tr></thead><tbody><tr><td>0</td><td>33282</td></tr><tr><td>1</td><td>33654</td></tr><tr><td>2</td><td>33064</td></tr></tbody></table></div>"
      ],
      "text/plain": [
       "shape: (3, 2)\n",
       "┌───────┬───────┐\n",
       "│ flags ┆ len   │\n",
       "│ ---   ┆ ---   │\n",
       "│ i32   ┆ u32   │\n",
       "╞═══════╪═══════╡\n",
       "│ 0     ┆ 33282 │\n",
       "│ 1     ┆ 33654 │\n",
       "│ 2     ┆ 33064 │\n",
       "└───────┴───────┘"
      ]
     },
     "execution_count": 6,
     "metadata": {},
     "output_type": "execute_result"
    }
   ],
   "source": [
    "df.group_by(\"flags\").len().sort(\"flags\")"
   ]
  },
  {
   "cell_type": "code",
   "execution_count": 7,
   "metadata": {},
   "outputs": [
    {
     "data": {
      "text/html": [
       "<div><style>\n",
       ".dataframe > thead > tr,\n",
       ".dataframe > tbody > tr {\n",
       "  text-align: right;\n",
       "  white-space: pre-wrap;\n",
       "}\n",
       "</style>\n",
       "<small>shape: (3, 2)</small><table border=\"1\" class=\"dataframe\"><thead><tr><th>flags</th><th>len</th></tr><tr><td>i32</td><td>u32</td></tr></thead><tbody><tr><td>0</td><td>16641</td></tr><tr><td>1</td><td>33654</td></tr><tr><td>2</td><td>33064</td></tr></tbody></table></div>"
      ],
      "text/plain": [
       "shape: (3, 2)\n",
       "┌───────┬───────┐\n",
       "│ flags ┆ len   │\n",
       "│ ---   ┆ ---   │\n",
       "│ i32   ┆ u32   │\n",
       "╞═══════╪═══════╡\n",
       "│ 0     ┆ 16641 │\n",
       "│ 1     ┆ 33654 │\n",
       "│ 2     ┆ 33064 │\n",
       "└───────┴───────┘"
      ]
     },
     "execution_count": 7,
     "metadata": {},
     "output_type": "execute_result"
    }
   ],
   "source": [
    "# Downsample on one group\n",
    "sa1 = sa.downsample(\n",
    "    df, \n",
    "    (pl.col(\"flags\") == 0, 0.5)\n",
    ")\n",
    "sa1.group_by(\"flags\").len().sort(\"flags\")"
   ]
  },
  {
   "cell_type": "code",
   "execution_count": 8,
   "metadata": {},
   "outputs": [
    {
     "data": {
      "text/html": [
       "<div><style>\n",
       ".dataframe > thead > tr,\n",
       ".dataframe > tbody > tr {\n",
       "  text-align: right;\n",
       "  white-space: pre-wrap;\n",
       "}\n",
       "</style>\n",
       "<small>shape: (3, 2)</small><table border=\"1\" class=\"dataframe\"><thead><tr><th>flags</th><th>len</th></tr><tr><td>i32</td><td>u32</td></tr></thead><tbody><tr><td>0</td><td>16641</td></tr><tr><td>1</td><td>10097</td></tr><tr><td>2</td><td>13226</td></tr></tbody></table></div>"
      ],
      "text/plain": [
       "shape: (3, 2)\n",
       "┌───────┬───────┐\n",
       "│ flags ┆ len   │\n",
       "│ ---   ┆ ---   │\n",
       "│ i32   ┆ u32   │\n",
       "╞═══════╪═══════╡\n",
       "│ 0     ┆ 16641 │\n",
       "│ 1     ┆ 10097 │\n",
       "│ 2     ┆ 13226 │\n",
       "└───────┴───────┘"
      ]
     },
     "execution_count": 8,
     "metadata": {},
     "output_type": "execute_result"
    }
   ],
   "source": [
    "# Downsample on multiple groups\n",
    "sa2 = sa.downsample(\n",
    "    df, \n",
    "    [\n",
    "        (pl.col(\"flags\") == 0, 0.5),\n",
    "        (pl.col(\"flags\") == 1, 0.3),\n",
    "        (pl.col(\"flags\") == 2, 0.4),\n",
    "    ]\n",
    ")\n",
    "sa2.group_by(\"flags\").len().sort(\"flags\")"
   ]
  },
  {
   "cell_type": "code",
   "execution_count": 9,
   "metadata": {},
   "outputs": [
    {
     "data": {
      "text/html": [
       "<div><style>\n",
       ".dataframe > thead > tr,\n",
       ".dataframe > tbody > tr {\n",
       "  text-align: right;\n",
       "  white-space: pre-wrap;\n",
       "}\n",
       "</style>\n",
       "<small>shape: (3, 2)</small><table border=\"1\" class=\"dataframe\"><thead><tr><th>category</th><th>len</th></tr><tr><td>str</td><td>u32</td></tr></thead><tbody><tr><td>&quot;A&quot;</td><td>30000</td></tr><tr><td>&quot;B&quot;</td><td>30000</td></tr><tr><td>&quot;C&quot;</td><td>40000</td></tr></tbody></table></div>"
      ],
      "text/plain": [
       "shape: (3, 2)\n",
       "┌──────────┬───────┐\n",
       "│ category ┆ len   │\n",
       "│ ---      ┆ ---   │\n",
       "│ str      ┆ u32   │\n",
       "╞══════════╪═══════╡\n",
       "│ A        ┆ 30000 │\n",
       "│ B        ┆ 30000 │\n",
       "│ C        ┆ 40000 │\n",
       "└──────────┴───────┘"
      ]
     },
     "execution_count": 9,
     "metadata": {},
     "output_type": "execute_result"
    }
   ],
   "source": [
    "df.group_by(\"category\").len().sort(\"category\")"
   ]
  },
  {
   "cell_type": "code",
   "execution_count": 10,
   "metadata": {},
   "outputs": [
    {
     "data": {
      "text/html": [
       "<div><style>\n",
       ".dataframe > thead > tr,\n",
       ".dataframe > tbody > tr {\n",
       "  text-align: right;\n",
       "  white-space: pre-wrap;\n",
       "}\n",
       "</style>\n",
       "<small>shape: (3, 2)</small><table border=\"1\" class=\"dataframe\"><thead><tr><th>category</th><th>len</th></tr><tr><td>str</td><td>u32</td></tr></thead><tbody><tr><td>&quot;A&quot;</td><td>30000</td></tr><tr><td>&quot;B&quot;</td><td>30000</td></tr><tr><td>&quot;C&quot;</td><td>30000</td></tr></tbody></table></div>"
      ],
      "text/plain": [
       "shape: (3, 2)\n",
       "┌──────────┬───────┐\n",
       "│ category ┆ len   │\n",
       "│ ---      ┆ ---   │\n",
       "│ str      ┆ u32   │\n",
       "╞══════════╪═══════╡\n",
       "│ A        ┆ 30000 │\n",
       "│ B        ┆ 30000 │\n",
       "│ C        ┆ 30000 │\n",
       "└──────────┴───────┘"
      ]
     },
     "execution_count": 10,
     "metadata": {},
     "output_type": "execute_result"
    }
   ],
   "source": [
    "# Volume neutral by each category, will take the greatest possible value so that we get neutral volume.\n",
    "vn = sa.volume_neutral(\n",
    "    df,\n",
    "    by = pl.col(\"category\"),\n",
    ")\n",
    "vn.group_by(\"category\").len().sort(\"category\")"
   ]
  },
  {
   "cell_type": "code",
   "execution_count": 11,
   "metadata": {},
   "outputs": [
    {
     "data": {
      "text/html": [
       "<div><style>\n",
       ".dataframe > thead > tr,\n",
       ".dataframe > tbody > tr {\n",
       "  text-align: right;\n",
       "  white-space: pre-wrap;\n",
       "}\n",
       "</style>\n",
       "<small>shape: (3, 2)</small><table border=\"1\" class=\"dataframe\"><thead><tr><th>category</th><th>len</th></tr><tr><td>str</td><td>u32</td></tr></thead><tbody><tr><td>&quot;A&quot;</td><td>10000</td></tr><tr><td>&quot;B&quot;</td><td>10000</td></tr><tr><td>&quot;C&quot;</td><td>10000</td></tr></tbody></table></div>"
      ],
      "text/plain": [
       "shape: (3, 2)\n",
       "┌──────────┬───────┐\n",
       "│ category ┆ len   │\n",
       "│ ---      ┆ ---   │\n",
       "│ str      ┆ u32   │\n",
       "╞══════════╪═══════╡\n",
       "│ A        ┆ 10000 │\n",
       "│ B        ┆ 10000 │\n",
       "│ C        ┆ 10000 │\n",
       "└──────────┴───────┘"
      ]
     },
     "execution_count": 11,
     "metadata": {},
     "output_type": "execute_result"
    }
   ],
   "source": [
    "# Volume neutral (10_000) by each category\n",
    "vn = sa.volume_neutral(\n",
    "    df,\n",
    "    by = pl.col(\"category\"),\n",
    "    target_volume = 10_000\n",
    ")\n",
    "vn.group_by(\"category\").len().sort(\"category\")"
   ]
  },
  {
   "cell_type": "code",
   "execution_count": 12,
   "metadata": {},
   "outputs": [
    {
     "data": {
      "text/html": [
       "<div><style>\n",
       ".dataframe > thead > tr,\n",
       ".dataframe > tbody > tr {\n",
       "  text-align: right;\n",
       "  white-space: pre-wrap;\n",
       "}\n",
       "</style>\n",
       "<small>shape: (3, 2)</small><table border=\"1\" class=\"dataframe\"><thead><tr><th>category</th><th>len</th></tr><tr><td>str</td><td>u32</td></tr></thead><tbody><tr><td>&quot;A&quot;</td><td>10000</td></tr><tr><td>&quot;B&quot;</td><td>4302</td></tr><tr><td>&quot;C&quot;</td><td>5698</td></tr></tbody></table></div>"
      ],
      "text/plain": [
       "shape: (3, 2)\n",
       "┌──────────┬───────┐\n",
       "│ category ┆ len   │\n",
       "│ ---      ┆ ---   │\n",
       "│ str      ┆ u32   │\n",
       "╞══════════╪═══════╡\n",
       "│ A        ┆ 10000 │\n",
       "│ B        ┆ 4302  │\n",
       "│ C        ┆ 5698  │\n",
       "└──────────┴───────┘"
      ]
     },
     "execution_count": 12,
     "metadata": {},
     "output_type": "execute_result"
    }
   ],
   "source": [
    "# Volume neutral (10_000) by a more complicated condition\n",
    "vn = sa.volume_neutral(\n",
    "    df,\n",
    "    by = pl.col(\"category\") == \"A\",\n",
    "    target_volume = 10_000\n",
    ") # This makes sense because count for B + count for C = 10_000\n",
    "vn.group_by(\"category\").len().sort(\"category\")"
   ]
  },
  {
   "cell_type": "code",
   "execution_count": 13,
   "metadata": {},
   "outputs": [
    {
     "data": {
      "text/html": [
       "<div><style>\n",
       ".dataframe > thead > tr,\n",
       ".dataframe > tbody > tr {\n",
       "  text-align: right;\n",
       "  white-space: pre-wrap;\n",
       "}\n",
       "</style>\n",
       "<small>shape: (9, 3)</small><table border=\"1\" class=\"dataframe\"><thead><tr><th>category</th><th>flags</th><th>len</th></tr><tr><td>str</td><td>i32</td><td>u32</td></tr></thead><tbody><tr><td>&quot;A&quot;</td><td>0</td><td>9865</td></tr><tr><td>&quot;A&quot;</td><td>1</td><td>9865</td></tr><tr><td>&quot;A&quot;</td><td>2</td><td>9865</td></tr><tr><td>&quot;B&quot;</td><td>0</td><td>9909</td></tr><tr><td>&quot;B&quot;</td><td>1</td><td>9909</td></tr><tr><td>&quot;B&quot;</td><td>2</td><td>9909</td></tr><tr><td>&quot;C&quot;</td><td>0</td><td>13224</td></tr><tr><td>&quot;C&quot;</td><td>1</td><td>13224</td></tr><tr><td>&quot;C&quot;</td><td>2</td><td>13224</td></tr></tbody></table></div>"
      ],
      "text/plain": [
       "shape: (9, 3)\n",
       "┌──────────┬───────┬───────┐\n",
       "│ category ┆ flags ┆ len   │\n",
       "│ ---      ┆ ---   ┆ ---   │\n",
       "│ str      ┆ i32   ┆ u32   │\n",
       "╞══════════╪═══════╪═══════╡\n",
       "│ A        ┆ 0     ┆ 9865  │\n",
       "│ A        ┆ 1     ┆ 9865  │\n",
       "│ A        ┆ 2     ┆ 9865  │\n",
       "│ B        ┆ 0     ┆ 9909  │\n",
       "│ B        ┆ 1     ┆ 9909  │\n",
       "│ B        ┆ 2     ┆ 9909  │\n",
       "│ C        ┆ 0     ┆ 13224 │\n",
       "│ C        ┆ 1     ┆ 13224 │\n",
       "│ C        ┆ 2     ┆ 13224 │\n",
       "└──────────┴───────┴───────┘"
      ]
     },
     "execution_count": 13,
     "metadata": {},
     "output_type": "execute_result"
    }
   ],
   "source": [
    "# Volume neutral sample with a control level. Volume neutral happens under the category level, meaning\n",
    "# the volume for each flag in each category is neutral.\n",
    "vn = sa.volume_neutral(\n",
    "    df,\n",
    "    by = pl.col(\"flags\"),\n",
    "    control = pl.col(\"category\")\n",
    ") \n",
    "vn.group_by([\"category\", \"flags\"]).len().sort([\"category\", \"flags\"])"
   ]
  },
  {
   "cell_type": "code",
   "execution_count": 14,
   "metadata": {},
   "outputs": [
    {
     "data": {
      "text/html": [
       "<div><style>\n",
       ".dataframe > thead > tr,\n",
       ".dataframe > tbody > tr {\n",
       "  text-align: right;\n",
       "  white-space: pre-wrap;\n",
       "}\n",
       "</style>\n",
       "<small>shape: (9, 3)</small><table border=\"1\" class=\"dataframe\"><thead><tr><th>category</th><th>flags</th><th>len</th></tr><tr><td>str</td><td>i32</td><td>u32</td></tr></thead><tbody><tr><td>&quot;A&quot;</td><td>0</td><td>9865</td></tr><tr><td>&quot;A&quot;</td><td>1</td><td>9865</td></tr><tr><td>&quot;A&quot;</td><td>2</td><td>9865</td></tr><tr><td>&quot;B&quot;</td><td>0</td><td>9909</td></tr><tr><td>&quot;B&quot;</td><td>1</td><td>9909</td></tr><tr><td>&quot;B&quot;</td><td>2</td><td>9909</td></tr><tr><td>&quot;C&quot;</td><td>0</td><td>10000</td></tr><tr><td>&quot;C&quot;</td><td>1</td><td>10000</td></tr><tr><td>&quot;C&quot;</td><td>2</td><td>10000</td></tr></tbody></table></div>"
      ],
      "text/plain": [
       "shape: (9, 3)\n",
       "┌──────────┬───────┬───────┐\n",
       "│ category ┆ flags ┆ len   │\n",
       "│ ---      ┆ ---   ┆ ---   │\n",
       "│ str      ┆ i32   ┆ u32   │\n",
       "╞══════════╪═══════╪═══════╡\n",
       "│ A        ┆ 0     ┆ 9865  │\n",
       "│ A        ┆ 1     ┆ 9865  │\n",
       "│ A        ┆ 2     ┆ 9865  │\n",
       "│ B        ┆ 0     ┆ 9909  │\n",
       "│ B        ┆ 1     ┆ 9909  │\n",
       "│ B        ┆ 2     ┆ 9909  │\n",
       "│ C        ┆ 0     ┆ 10000 │\n",
       "│ C        ┆ 1     ┆ 10000 │\n",
       "│ C        ┆ 2     ┆ 10000 │\n",
       "└──────────┴───────┴───────┘"
      ]
     },
     "execution_count": 14,
     "metadata": {},
     "output_type": "execute_result"
    }
   ],
   "source": [
    "# We may not meet the target volume for all categories.\n",
    "vn = sa.volume_neutral(\n",
    "    df,\n",
    "    by = pl.col(\"flags\"),\n",
    "    control = pl.col(\"category\"),\n",
    "    target_volume= 10_000\n",
    ") # \n",
    "vn.group_by([\"category\", \"flags\"]).len().sort([\"category\", \"flags\"])"
   ]
  },
  {
   "cell_type": "markdown",
   "metadata": {},
   "source": [
    "## Splitting\n",
    "\n",
    "To be added..."
   ]
  },
  {
   "cell_type": "markdown",
   "metadata": {},
   "source": []
  },
  {
   "cell_type": "markdown",
   "metadata": {},
   "source": []
  }
 ],
 "metadata": {
  "kernelspec": {
   "display_name": ".venv",
   "language": "python",
   "name": "python3"
  },
  "language_info": {
   "codemirror_mode": {
    "name": "ipython",
    "version": 3
   },
   "file_extension": ".py",
   "mimetype": "text/x-python",
   "name": "python",
   "nbconvert_exporter": "python",
   "pygments_lexer": "ipython3",
   "version": "3.12.3"
  }
 },
 "nbformat": 4,
 "nbformat_minor": 2
}
