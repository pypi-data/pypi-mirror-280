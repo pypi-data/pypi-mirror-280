{
 "cells": [
  {
   "cell_type": "markdown",
   "source": [
    "# The Pendulum between Machine Learning and Knowledge Graphs\n",
    "\n",
    "In March 2023 Frank van [Frank van Harmelen](https://www.cs.vu.nl/~frankh/) visited the [Institute for Artificial Intelligence](https://ai.uni-bremen.de/).\n",
    "\n",
    "He talked about the duality of research in artificial intelligence using the metaphor of a pendulum. \n",
    "The pendulum swings between the extremes of having purely machine learning enabled AI and purely knowledge graph driven AI.\n",
    "Frank argued, that there needs to be a middle ground where machine learning and knowledge graphs come together.\n",
    "\n",
    "The implementation of probabilistic models in this package is capable of doing so. Knowledge graphs generate sets that describe feasible assignments that match the constraints and instance knowledge of ontologies. Probability distributions describe likelihoods of every possible solution. Combining these in an efficient way provides a framework that is capable putting the pendulum to rest."
   ],
   "metadata": {
    "collapsed": false
   },
   "id": "682905a2f416031c"
  }
 ],
 "metadata": {
  "kernelspec": {
   "display_name": "Python 3",
   "language": "python",
   "name": "python3"
  },
  "language_info": {
   "codemirror_mode": {
    "name": "ipython",
    "version": 2
   },
   "file_extension": ".py",
   "mimetype": "text/x-python",
   "name": "python",
   "nbconvert_exporter": "python",
   "pygments_lexer": "ipython2",
   "version": "2.7.6"
  }
 },
 "nbformat": 4,
 "nbformat_minor": 5
}
