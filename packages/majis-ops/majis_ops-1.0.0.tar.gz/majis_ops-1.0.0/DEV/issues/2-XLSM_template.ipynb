{
 "cells": [
  {
   "cell_type": "markdown",
   "metadata": {},
   "source": [
    "# Implement XLSM template"
   ]
  },
  {
   "cell_type": "code",
   "execution_count": 1,
   "metadata": {},
   "outputs": [],
   "source": [
    "import warnings\n",
    "from collections import defaultdict\n",
    "from pathlib import Path\n",
    "\n",
    "from planetary_coverage.events import EventsDict, EventsList\n",
    "from planetary_coverage.html import table\n",
    "from planetary_coverage import datetime\n",
    "\n",
    "from openpyxl import load_workbook\n",
    "\n",
    "from majis.itl.reader import read_itl\n",
    "from majis.misc import fmt_datetime\n"
   ]
  },
  {
   "cell_type": "code",
   "execution_count": 4,
   "metadata": {},
   "outputs": [
    {
     "data": {
      "text/plain": [
       "<openpyxl.workbook.workbook.Workbook at 0x10ed90810>"
      ]
     },
     "execution_count": 4,
     "metadata": {},
     "output_type": "execute_result"
    }
   ],
   "source": [
    "with warnings.catch_warnings():\n",
    "    # Disable openpyxl warning about unsupported extension ()\n",
    "    warnings.simplefilter('ignore')\n",
    "\n",
    "    template = load_workbook('timeline.xltm', keep_vba=True)\n",
    "\n",
    "template"
   ]
  },
  {
   "cell_type": "code",
   "execution_count": null,
   "metadata": {},
   "outputs": [],
   "source": [
    "template.save('foo.xlsm')"
   ]
  },
  {
   "cell_type": "code",
   "execution_count": null,
   "metadata": {},
   "outputs": [
    {
     "data": {
      "text/plain": [
       "['Timeline', 'Color code', 'info', 'change log', 'internal']"
      ]
     },
     "execution_count": 3,
     "metadata": {},
     "output_type": "execute_result"
    }
   ],
   "source": [
    "template.sheetnames"
   ]
  },
  {
   "cell_type": "markdown",
   "metadata": {},
   "source": [
    "## Change log"
   ]
  },
  {
   "cell_type": "code",
   "execution_count": null,
   "metadata": {},
   "outputs": [
    {
     "data": {
      "text/plain": [
       "(<ReadOnlyCell 'change log'.D2>, <EmptyCell>)"
      ]
     },
     "execution_count": 8,
     "metadata": {},
     "output_type": "execute_result"
    }
   ],
   "source": [
    "rows = list(template['change log'])\n",
    "row = rows[1]\n",
    "cell = row[3]\n",
    "cell_empty = row[4]\n",
    "\n",
    "cell, cell_empty"
   ]
  },
  {
   "cell_type": "code",
   "execution_count": null,
   "metadata": {},
   "outputs": [
    {
     "data": {
      "text/plain": [
       "[('1.9.10', '2024-05-29', 'Cydalise Dumesnil', 'Add new column \"Comments\"'),\n",
       " ('1.9.9',\n",
       "  '2024-05-23',\n",
       "  'Vincent Carlier',\n",
       "  'Add new columns \"VI Gain\", \"VI Offset\", \"IR Gain\", \"IR Offset\"'),\n",
       " ('1.9.8',\n",
       "  '2024-05-13',\n",
       "  'Vincent Carlier',\n",
       "  \"Fix issues related to the decimal separator ',' or '.' depending on the host PC :\\n- new variable name 'decimal_separator' used to compute the time 'wrt C/A' from 'UTC' in the cells\\n- fix of the macro DIFF_TIME_ms used to compute the DV in case of continuous acquisition\\nAdd a note about 'scanner_timetot' computation\\nAdd a note about decimal separator in the time 'wrt C/A' columns\"),\n",
       " ('1.9.7', '2024-04-25', 'Vincent Carlier', 'Add spectral masks'),\n",
       " ('1.9.7',\n",
       "  '2024-03-21',\n",
       "  'Vincent Carlier',\n",
       "  'Change the names BROWSE_TABLE into BROWSE_PARAMETERS\\nChange column names: \"Browse\" into \"Browse Parameters\"\\nFix fomulas for nomi and brow to take into account VI_Flag and IR_Flag\\nAdd bullet tips in 2nd row (copy of footer comments)'),\n",
       " ('1.9.7',\n",
       "  '2024-03-14',\n",
       "  'Vincent Carlier',\n",
       "  'Split de number of spectels from the spectral table into VI and IR.\\nSplit de number of spectels from the browse parameters into VI and IR.'),\n",
       " ('1.9.6',\n",
       "  '2024-03-14',\n",
       "  'Vincent Carlier',\n",
       "  'Add a macro which resets the unused values if Mirror Flag is \"DISABLE\"\\nAdd a data validation on start_angle and stop_angle (from -2.1 to +2.1)'),\n",
       " ('1.9.6',\n",
       "  '2024-03-13',\n",
       "  'Vincent Carlier',\n",
       "  '- reorganisation of the order of columns'),\n",
       " ('1.9.6',\n",
       "  '2024-03-11',\n",
       "  'Vincent Carlier',\n",
       "  '- Change column names: \"Observation ID\" changed in \"OBS_NAME\"'),\n",
       " ('1.9.6',\n",
       "  '2024-03-04',\n",
       "  'Vincent Carlier',\n",
       "  '- Add a check in DV cell to check that the number of CU Frame entered by hand is equal to the computed value\\n- fix the DIFF_TIME_CA_ms function to work with column name instead of cell name\\n- Update color code\\n- Add comments'),\n",
       " ('1.9.5',\n",
       "  '2024-02-27',\n",
       "  'Vincent Carlier',\n",
       "  '- fix computation of scanner_timetot (ms)\\n- rename the test browse table\\n- change the suffix of browse parameters file to _xxx_BROWSE_PARAMETERS\\n- add Europa scan bowse parameters : MAJIS_EUROPA_SCAN_BROWSE_PARAMETERS\\n- add Europa scan spectral table : MAJIS_EUROPA_SCAN_SPECTRAL_TABLE\\n- add some test browse parameters'),\n",
       " ('1.9.4',\n",
       "  '2024-02-08',\n",
       "  'Vincent Carlier',\n",
       "  '- update of the Start Row VI and Start Row IR\\n- fix formula of scanner_timetot (abs added for start and stop speed)\\n- new spectral table MAJIS_STAR_LOCATION_WITH_SCAN_SPECTRAL_TABLE'),\n",
       " ('1.9.4',\n",
       "  '2024-01-25',\n",
       "  'Vincent Carlier',\n",
       "  '- new column \"nb_cu_frames_tot (computed)\" added with the same formula than timeline2config when the scanner is used in asynchronous mode.\\n- new column \"scanner_timetot (ms)\" added which compute the duration between the scanner start and end position. This value is then used to compute the number of CU Frames in the column \"nb_cu_frames_tot (computed)\"\\n- Human-readable naming of cells used in formulas to make all the formulas readable and understandable.\\n- Some foot notes are added or modified for better clarity\\n- some new Spectral tables added in \\'internal\\' sheet'),\n",
       " ('1.9.3', '2023-11-14', 'Vincent Carlier', 'Browse datavolume formula fixed'),\n",
       " ('1.9.2',\n",
       "  '2023-10-23',\n",
       "  'Cydalise Dumesnil',\n",
       "  'equivalent nb of bits updated for table MAJIS_JUP_DISC_SCAN and MAJIS_JUP_DISC_SLEW'),\n",
       " ('1.9.2',\n",
       "  '2023-10-12',\n",
       "  'Vincent Carlier',\n",
       "  '- Formula DIFF_TIME_CA_ms(start_ca;stop_ca) added to compute the time in milliseconds between Start and Stop. Useful to compute the number of frame and the datavolume of segment observations.'),\n",
       " ('1.9.1',\n",
       "  '2023-09-13',\n",
       "  'Vincent Carlier',\n",
       "  '- version updated in \"info\" tab\\n- New column AO: \"Nb of bits per spectel after compression\"\\n- Comment in column AN fixed : \"This includes the compression rate per band\" replaced by \"This includes the spectral binning\"\\n- Title of column AO updated in \"Number of spectels after spectral binning\"\\n- Browse datavolume added (4 new columns BB to BE)\\n- \"internal\" sheet added\\n- dropdown lists created to select \"Spectral mapping\" and \"Browse\"\\n- Datavolume and datarate formulas added for Nominal and Browse data\\n- Power estimations added (formulas + table)'),\n",
       " ('1.9',\n",
       "  '2023-07-13',\n",
       "  'Quentin Gottafray',\n",
       "  'Change parameters name to match MOS'),\n",
       " ('1.8.2',\n",
       "  '2023-06-14',\n",
       "  'Cydalise Dumesnil',\n",
       "  'parameters language modification (french to english) and Gfinder correspondance'),\n",
       " ('1.8.1', '2023-06-07', 'all', 'New issue'),\n",
       " ('1.0',\n",
       "  '2022-12-06',\n",
       "  'Cydalise Dumesnil',\n",
       "  'Despiking parameter Tint and NPE added\\nScan step number in case of synchronization added'),\n",
       " ('1.0',\n",
       "  '2022-11-28',\n",
       "  'Cydalise Dumesnil',\n",
       "  'change of  names wrt the build_TC template'),\n",
       " ('1.0', '2022-11-08', 'François Poulet', 'creation')]"
      ]
     },
     "execution_count": 68,
     "metadata": {},
     "output_type": "execute_result"
    }
   ],
   "source": [
    "class TimelineChangeLog:\n",
    "    \"\"\"MAJIS timeline template change log.\"\"\"\n",
    "\n",
    "    sheet_name = 'change log'\n",
    "\n",
    "    def __init__(self, template):\n",
    "        self.log = self.read_changelog(list(template[self.sheet_name])[1:])\n",
    "\n",
    "    def __str__(self):\n",
    "        return '\\n\\n'.join(\n",
    "            f'>>> {version:>6} | {date} | {author}\\n{changes}'\n",
    "            for version, date, author, changes in self.log\n",
    "        )\n",
    "\n",
    "    def __getitem__(self, i):\n",
    "        return self.log[i]\n",
    "\n",
    "    def __iter__(self):\n",
    "        return iter(self.log)\n",
    "\n",
    "    def _repr_html_(self):\n",
    "        return table(self.log, header=['Version', 'Date', 'Author', 'Changes'])\n",
    "\n",
    "    def read_changelog(self, rows) -> (list, list):\n",
    "        \"\"\"Read changelog changes grouped by version, date and author.\"\"\"\n",
    "        log = defaultdict(list)\n",
    "\n",
    "        # Group release changes\n",
    "        key = None, None, None\n",
    "        for row in rows:\n",
    "            version, date, change, author = (cell.value for cell in row[:4])\n",
    "\n",
    "            if change and change != '…':\n",
    "                key = (\n",
    "                    str(version) if version else key[0],\n",
    "                    str(date.date()) if date else key[1],\n",
    "                    str(author) if author else key[2],\n",
    "                )\n",
    "\n",
    "                log[key].extend(change.splitlines())\n",
    "\n",
    "        # Reverse changes order (latest first) and add line returns between changes\n",
    "        return [(*key, '\\n'.join(log[key])) for key in reversed(log)]\n",
    "\n",
    "\n",
    "change_log = TimelineChangeLog(template)\n",
    "\n",
    "change_log.log"
   ]
  },
  {
   "cell_type": "code",
   "execution_count": null,
   "metadata": {},
   "outputs": [
    {
     "data": {
      "text/html": [
       "<table><thead><tr><th>Version</th><th>Date</th><th>Author</th><th>Changes</th></tr></thead><tbody><tr><td>1.9.10</td><td>2024-05-29</td><td>Cydalise Dumesnil</td><td>Add new column \"Comments\"</td></tr><tr><td>1.9.9</td><td>2024-05-23</td><td>Vincent Carlier</td><td>Add new columns \"VI Gain\", \"VI Offset\", \"IR Gain\", \"IR Offset\"</td></tr><tr><td>1.9.8</td><td>2024-05-13</td><td>Vincent Carlier</td><td>Fix issues related to the decimal separator ',' or '.' depending on the host PC :\n",
       "- new variable name 'decimal_separator' used to compute the time 'wrt C/A' from 'UTC' in the cells\n",
       "- fix of the macro DIFF_TIME_ms used to compute the DV in case of continuous acquisition\n",
       "Add a note about 'scanner_timetot' computation\n",
       "Add a note about decimal separator in the time 'wrt C/A' columns</td></tr><tr><td>1.9.7</td><td>2024-04-25</td><td>Vincent Carlier</td><td>Add spectral masks</td></tr><tr><td>1.9.7</td><td>2024-03-21</td><td>Vincent Carlier</td><td>Change the names BROWSE_TABLE into BROWSE_PARAMETERS\n",
       "Change column names: \"Browse\" into \"Browse Parameters\"\n",
       "Fix fomulas for nomi and brow to take into account VI_Flag and IR_Flag\n",
       "Add bullet tips in 2nd row (copy of footer comments)</td></tr><tr><td>1.9.7</td><td>2024-03-14</td><td>Vincent Carlier</td><td>Split de number of spectels from the spectral table into VI and IR.\n",
       "Split de number of spectels from the browse parameters into VI and IR.</td></tr><tr><td>1.9.6</td><td>2024-03-14</td><td>Vincent Carlier</td><td>Add a macro which resets the unused values if Mirror Flag is \"DISABLE\"\n",
       "Add a data validation on start_angle and stop_angle (from -2.1 to +2.1)</td></tr><tr><td>1.9.6</td><td>2024-03-13</td><td>Vincent Carlier</td><td>- reorganisation of the order of columns</td></tr><tr><td>1.9.6</td><td>2024-03-11</td><td>Vincent Carlier</td><td>- Change column names: \"Observation ID\" changed in \"OBS_NAME\"</td></tr><tr><td>1.9.6</td><td>2024-03-04</td><td>Vincent Carlier</td><td>- Add a check in DV cell to check that the number of CU Frame entered by hand is equal to the computed value\n",
       "- fix the DIFF_TIME_CA_ms function to work with column name instead of cell name\n",
       "- Update color code\n",
       "- Add comments</td></tr><tr><td>1.9.5</td><td>2024-02-27</td><td>Vincent Carlier</td><td>- fix computation of scanner_timetot (ms)\n",
       "- rename the test browse table\n",
       "- change the suffix of browse parameters file to _xxx_BROWSE_PARAMETERS\n",
       "- add Europa scan bowse parameters : MAJIS_EUROPA_SCAN_BROWSE_PARAMETERS\n",
       "- add Europa scan spectral table : MAJIS_EUROPA_SCAN_SPECTRAL_TABLE\n",
       "- add some test browse parameters</td></tr><tr><td>1.9.4</td><td>2024-02-08</td><td>Vincent Carlier</td><td>- update of the Start Row VI and Start Row IR\n",
       "- fix formula of scanner_timetot (abs added for start and stop speed)\n",
       "- new spectral table MAJIS_STAR_LOCATION_WITH_SCAN_SPECTRAL_TABLE</td></tr><tr><td>1.9.4</td><td>2024-01-25</td><td>Vincent Carlier</td><td>- new column \"nb_cu_frames_tot (computed)\" added with the same formula than timeline2config when the scanner is used in asynchronous mode.\n",
       "- new column \"scanner_timetot (ms)\" added which compute the duration between the scanner start and end position. This value is then used to compute the number of CU Frames in the column \"nb_cu_frames_tot (computed)\"\n",
       "- Human-readable naming of cells used in formulas to make all the formulas readable and understandable.\n",
       "- Some foot notes are added or modified for better clarity\n",
       "- some new Spectral tables added in 'internal' sheet</td></tr><tr><td>1.9.3</td><td>2023-11-14</td><td>Vincent Carlier</td><td>Browse datavolume formula fixed</td></tr><tr><td>1.9.2</td><td>2023-10-23</td><td>Cydalise Dumesnil</td><td>equivalent nb of bits updated for table MAJIS_JUP_DISC_SCAN and MAJIS_JUP_DISC_SLEW</td></tr><tr><td>1.9.2</td><td>2023-10-12</td><td>Vincent Carlier</td><td>- Formula DIFF_TIME_CA_ms(start_ca;stop_ca) added to compute the time in milliseconds between Start and Stop. Useful to compute the number of frame and the datavolume of segment observations.</td></tr><tr><td>1.9.1</td><td>2023-09-13</td><td>Vincent Carlier</td><td>- version updated in \"info\" tab\n",
       "- New column AO: \"Nb of bits per spectel after compression\"\n",
       "- Comment in column AN fixed : \"This includes the compression rate per band\" replaced by \"This includes the spectral binning\"\n",
       "- Title of column AO updated in \"Number of spectels after spectral binning\"\n",
       "- Browse datavolume added (4 new columns BB to BE)\n",
       "- \"internal\" sheet added\n",
       "- dropdown lists created to select \"Spectral mapping\" and \"Browse\"\n",
       "- Datavolume and datarate formulas added for Nominal and Browse data\n",
       "- Power estimations added (formulas + table)</td></tr><tr><td>1.9</td><td>2023-07-13</td><td>Quentin Gottafray</td><td>Change parameters name to match MOS</td></tr><tr><td>1.8.2</td><td>2023-06-14</td><td>Cydalise Dumesnil</td><td>parameters language modification (french to english) and Gfinder correspondance</td></tr><tr><td>1.8.1</td><td>2023-06-07</td><td>all</td><td>New issue</td></tr><tr><td>1.0</td><td>2022-12-06</td><td>Cydalise Dumesnil</td><td>Despiking parameter Tint and NPE added\n",
       "Scan step number in case of synchronization added</td></tr><tr><td>1.0</td><td>2022-11-28</td><td>Cydalise Dumesnil</td><td>change of  names wrt the build_TC template</td></tr><tr><td>1.0</td><td>2022-11-08</td><td>François Poulet</td><td>creation</td></tr></tbody></table>"
      ],
      "text/plain": [
       "<__main__.TimelineChangeLog at 0x12ef97890>"
      ]
     },
     "execution_count": 62,
     "metadata": {},
     "output_type": "execute_result"
    }
   ],
   "source": [
    "change_log"
   ]
  },
  {
   "cell_type": "code",
   "execution_count": null,
   "metadata": {},
   "outputs": [
    {
     "name": "stdout",
     "output_type": "stream",
     "text": [
      ">>> 1.9.10 | 2024-05-29 | Cydalise Dumesnil\n",
      "Add new column \"Comments\"\n",
      "\n",
      ">>>  1.9.9 | 2024-05-23 | Vincent Carlier\n",
      "Add new columns \"VI Gain\", \"VI Offset\", \"IR Gain\", \"IR Offset\"\n",
      "\n",
      ">>>  1.9.8 | 2024-05-13 | Vincent Carlier\n",
      "Fix issues related to the decimal separator ',' or '.' depending on the host PC :\n",
      "- new variable name 'decimal_separator' used to compute the time 'wrt C/A' from 'UTC' in the cells\n",
      "- fix of the macro DIFF_TIME_ms used to compute the DV in case of continuous acquisition\n",
      "Add a note about 'scanner_timetot' computation\n",
      "Add a note about decimal separator in the time 'wrt C/A' columns\n",
      "\n",
      ">>>  1.9.7 | 2024-04-25 | Vincent Carlier\n",
      "Add spectral masks\n",
      "\n",
      ">>>  1.9.7 | 2024-03-21 | Vincent Carlier\n",
      "Change the names BROWSE_TABLE into BROWSE_PARAMETERS\n",
      "Change column names: \"Browse\" into \"Browse Parameters\"\n",
      "Fix fomulas for nomi and brow to take into account VI_Flag and IR_Flag\n",
      "Add bullet tips in 2nd row (copy of footer comments)\n",
      "\n",
      ">>>  1.9.7 | 2024-03-14 | Vincent Carlier\n",
      "Split de number of spectels from the spectral table into VI and IR.\n",
      "Split de number of spectels from the browse parameters into VI and IR.\n",
      "\n",
      ">>>  1.9.6 | 2024-03-14 | Vincent Carlier\n",
      "Add a macro which resets the unused values if Mirror Flag is \"DISABLE\"\n",
      "Add a data validation on start_angle and stop_angle (from -2.1 to +2.1)\n",
      "\n",
      ">>>  1.9.6 | 2024-03-13 | Vincent Carlier\n",
      "- reorganisation of the order of columns\n",
      "\n",
      ">>>  1.9.6 | 2024-03-11 | Vincent Carlier\n",
      "- Change column names: \"Observation ID\" changed in \"OBS_NAME\"\n",
      "\n",
      ">>>  1.9.6 | 2024-03-04 | Vincent Carlier\n",
      "- Add a check in DV cell to check that the number of CU Frame entered by hand is equal to the computed value\n",
      "- fix the DIFF_TIME_CA_ms function to work with column name instead of cell name\n",
      "- Update color code\n",
      "- Add comments\n",
      "\n",
      ">>>  1.9.5 | 2024-02-27 | Vincent Carlier\n",
      "- fix computation of scanner_timetot (ms)\n",
      "- rename the test browse table\n",
      "- change the suffix of browse parameters file to _xxx_BROWSE_PARAMETERS\n",
      "- add Europa scan bowse parameters : MAJIS_EUROPA_SCAN_BROWSE_PARAMETERS\n",
      "- add Europa scan spectral table : MAJIS_EUROPA_SCAN_SPECTRAL_TABLE\n",
      "- add some test browse parameters\n",
      "\n",
      ">>>  1.9.4 | 2024-02-08 | Vincent Carlier\n",
      "- update of the Start Row VI and Start Row IR\n",
      "- fix formula of scanner_timetot (abs added for start and stop speed)\n",
      "- new spectral table MAJIS_STAR_LOCATION_WITH_SCAN_SPECTRAL_TABLE\n",
      "\n",
      ">>>  1.9.4 | 2024-01-25 | Vincent Carlier\n",
      "- new column \"nb_cu_frames_tot (computed)\" added with the same formula than timeline2config when the scanner is used in asynchronous mode.\n",
      "- new column \"scanner_timetot (ms)\" added which compute the duration between the scanner start and end position. This value is then used to compute the number of CU Frames in the column \"nb_cu_frames_tot (computed)\"\n",
      "- Human-readable naming of cells used in formulas to make all the formulas readable and understandable.\n",
      "- Some foot notes are added or modified for better clarity\n",
      "- some new Spectral tables added in 'internal' sheet\n",
      "\n",
      ">>>  1.9.3 | 2023-11-14 | Vincent Carlier\n",
      "Browse datavolume formula fixed\n",
      "\n",
      ">>>  1.9.2 | 2023-10-23 | Cydalise Dumesnil\n",
      "equivalent nb of bits updated for table MAJIS_JUP_DISC_SCAN and MAJIS_JUP_DISC_SLEW\n",
      "\n",
      ">>>  1.9.2 | 2023-10-12 | Vincent Carlier\n",
      "- Formula DIFF_TIME_CA_ms(start_ca;stop_ca) added to compute the time in milliseconds between Start and Stop. Useful to compute the number of frame and the datavolume of segment observations.\n",
      "\n",
      ">>>  1.9.1 | 2023-09-13 | Vincent Carlier\n",
      "- version updated in \"info\" tab\n",
      "- New column AO: \"Nb of bits per spectel after compression\"\n",
      "- Comment in column AN fixed : \"This includes the compression rate per band\" replaced by \"This includes the spectral binning\"\n",
      "- Title of column AO updated in \"Number of spectels after spectral binning\"\n",
      "- Browse datavolume added (4 new columns BB to BE)\n",
      "- \"internal\" sheet added\n",
      "- dropdown lists created to select \"Spectral mapping\" and \"Browse\"\n",
      "- Datavolume and datarate formulas added for Nominal and Browse data\n",
      "- Power estimations added (formulas + table)\n",
      "\n",
      ">>>    1.9 | 2023-07-13 | Quentin Gottafray\n",
      "Change parameters name to match MOS\n",
      "\n",
      ">>>  1.8.2 | 2023-06-14 | Cydalise Dumesnil\n",
      "parameters language modification (french to english) and Gfinder correspondance\n",
      "\n",
      ">>>  1.8.1 | 2023-06-07 | all\n",
      "New issue\n",
      "\n",
      ">>>    1.0 | 2022-12-06 | Cydalise Dumesnil\n",
      "Despiking parameter Tint and NPE added\n",
      "Scan step number in case of synchronization added\n",
      "\n",
      ">>>    1.0 | 2022-11-28 | Cydalise Dumesnil\n",
      "change of  names wrt the build_TC template\n",
      "\n",
      ">>>    1.0 | 2022-11-08 | François Poulet\n",
      "creation\n"
     ]
    }
   ],
   "source": [
    "print(change_log)"
   ]
  },
  {
   "cell_type": "markdown",
   "metadata": {},
   "source": [
    "## Timeline"
   ]
  },
  {
   "cell_type": "code",
   "execution_count": null,
   "metadata": {},
   "outputs": [
    {
     "data": {
      "text/plain": [
       "<Worksheet \"Timeline\">"
      ]
     },
     "execution_count": 122,
     "metadata": {},
     "output_type": "execute_result"
    }
   ],
   "source": [
    "timeline = template['Timeline']\n",
    "\n",
    "timeline"
   ]
  },
  {
   "cell_type": "code",
   "execution_count": null,
   "metadata": {},
   "outputs": [
    {
     "data": {
      "text/plain": [
       "['Event Name',\n",
       " 'Phase',\n",
       " 'block',\n",
       " 'Comments',\n",
       " 'OBS_NAME',\n",
       " 'start_time_relative_ca',\n",
       " 'stop_time_relative_ca',\n",
       " 'start_time_utc',\n",
       " 'stop_time_utc',\n",
       " 'pointing desc',\n",
       " 'MAJIS resol',\n",
       " 'prime',\n",
       " 'MAJIS ODF name',\n",
       " 'ITL name',\n",
       " 'Mirror Flag',\n",
       " 'start_angle',\n",
       " 'start_scan_speed',\n",
       " 'stop_scan_speed',\n",
       " 'Scanner step per frame',\n",
       " 'stop_angle',\n",
       " 'scanner_timetot (ms)',\n",
       " 'First CU_frame start wrt C/A',\n",
       " 'Last CU_frame stop wrt C/A',\n",
       " 'First CU_frame start (UTC)',\n",
       " 'Last CU_frame stop (UTC)',\n",
       " 'cu_trep_ms',\n",
       " 'spatial_binning',\n",
       " 'obs durat (sec) (w/o borders)',\n",
       " 'nb_cu_frames_tot',\n",
       " 'nb_cu_frames_tot (computed)',\n",
       " 'ppe',\n",
       " 'Spectral Mapping',\n",
       " 'Number of spectels after spectral binning',\n",
       " 'Nb of bits per spectel after compression',\n",
       " 'datarate (bits/s)',\n",
       " 'DV (Mbits)',\n",
       " 'Browse Parameters',\n",
       " 'Number of browse spectels',\n",
       " 'Nb of bits per browse spectel after compression',\n",
       " 'browse datarate (bits/s)',\n",
       " 'browse DV (Mbits)',\n",
       " 'Image Mode',\n",
       " 'Dark Strategy',\n",
       " 'Dark Subtraction',\n",
       " 'VI flag',\n",
       " 'IR flag',\n",
       " 'VI Readout',\n",
       " 'IR Readout',\n",
       " 'Start Row VI',\n",
       " 'Start Row IR',\n",
       " 'VI Despiking N',\n",
       " 'VI Despiking M',\n",
       " 'VI Despiking K',\n",
       " 'VI Tint',\n",
       " 'VI Gain',\n",
       " 'VI Offset',\n",
       " 'VI NPE',\n",
       " 'IR Despiking N',\n",
       " 'IR Despiking M',\n",
       " 'IR Despiking K',\n",
       " 'IR Tint',\n",
       " 'IR Gain',\n",
       " 'IR Offset',\n",
       " 'IR NPE',\n",
       " 'Power (W)',\n",
       " 'Science mode (for power estimation)']"
      ]
     },
     "execution_count": 68,
     "metadata": {},
     "output_type": "execute_result"
    }
   ],
   "source": [
    "fields = [cell.value for cell in next(timeline.rows)]\n",
    "\n",
    "fields"
   ]
  },
  {
   "cell_type": "code",
   "execution_count": null,
   "metadata": {},
   "outputs": [],
   "source": [
    "BINNING = {\n",
    "    '1': 'No Binning',\n",
    "    '2': 'Binning x2',\n",
    "    '4': 'Binning x4',\n",
    "}\n",
    "\n",
    "MAPPING = {\n",
    "    # ITL parameters\n",
    "    'OBS_NAME': ('OBS_NAME', str),\n",
    "    'start_angle': ('START_ANGLE', float),                          # °\n",
    "    'start_scan_speed': ('START_SCAN_SPEED', float),                # °/s\n",
    "    'stop_scan_speed': ('STOP_SCAN_SPEED', float),                  # °/s\n",
    "    'Scanner step per frame': ('SYNCHRONOUS', float),               # (-3, 0, 3)\n",
    "    'stop_angle': ('STOP_ANGLE', float),                            # °\n",
    "    'First CU_frame start (UTC)': ('t_start', fmt_datetime),        # YYYY-MM-DDThh:mm:ss.ms\n",
    "    'Last CU_frame stop (UTC)': ('t_end', fmt_datetime),            # YYYY-MM-DDThh:mm:ss.ms\n",
    "    'cu_trep_ms': ('CU_TREP', lambda s: int(s.replace('ms', ''))),  # ms\n",
    "    'spatial_binning': ('BINNING', lambda i: BINNING[i]),\n",
    "    'nb_cu_frames_tot': ('CU_FRAME', int),\n",
    "    'ppe': ('PPE', int),\n",
    "    'Start Row VI': ('START_ROW_VIS', int),\n",
    "    # Other\n",
    "    'Comments': ('COMMENTS', str),\n",
    "    'prime': ('PRIME', lambda b: 'MAJIS' if b else 'other'),\n",
    "}\n",
    "\n",
    "    # 'ITL name': ('', str),\n",
    "    # 'Mirror Flag': ('', str),  # 'ENABLE' if 'START_SCAN_SPEED' or 'STOP_SCAN_SPEED' else DISABLE\n",
    "    # 'First CU_frame start wrt C/A': ('t_start', fmt_td(dt - dt_ca)),\n",
    "    # 'Last CU_frame stop wrt C/A': ('t_end', fmt_td(dt- dt_ca)),\n"
   ]
  },
  {
   "cell_type": "code",
   "execution_count": null,
   "metadata": {},
   "outputs": [
    {
     "data": {
      "text/plain": [
       "[<Cell 'Timeline'.A1>, <Cell 'Timeline'.A2>]"
      ]
     },
     "execution_count": 11,
     "metadata": {},
     "output_type": "execute_result"
    }
   ],
   "source": [
    "cols = [col for col in next(timeline.columns) if col.value]\n",
    "\n",
    "cols"
   ]
  },
  {
   "cell_type": "code",
   "execution_count": null,
   "metadata": {},
   "outputs": [
    {
     "data": {
      "text/plain": [
       "<Cell 'Timeline'.A2>"
      ]
     },
     "execution_count": 34,
     "metadata": {},
     "output_type": "execute_result"
    }
   ],
   "source": [
    "col = cols[1]\n",
    "\n",
    "col"
   ]
  },
  {
   "cell_type": "code",
   "execution_count": null,
   "metadata": {},
   "outputs": [
    {
     "data": {
      "text/plain": [
       "'A2'"
      ]
     },
     "execution_count": 42,
     "metadata": {},
     "output_type": "execute_result"
    }
   ],
   "source": [
    "col.coordinate"
   ]
  },
  {
   "cell_type": "code",
   "execution_count": null,
   "metadata": {},
   "outputs": [
    {
     "data": {
      "text/plain": [
       "(<Cell 'Timeline'.B1>,\n",
       " <Cell 'Timeline'.B2>,\n",
       " <Cell 'Timeline'.B3>,\n",
       " <Cell 'Timeline'.B4>,\n",
       " <Cell 'Timeline'.B5>,\n",
       " <Cell 'Timeline'.B6>,\n",
       " <Cell 'Timeline'.B7>,\n",
       " <Cell 'Timeline'.B8>,\n",
       " <Cell 'Timeline'.B9>,\n",
       " <Cell 'Timeline'.B10>,\n",
       " <Cell 'Timeline'.B11>,\n",
       " <Cell 'Timeline'.B12>,\n",
       " <Cell 'Timeline'.B13>,\n",
       " <Cell 'Timeline'.B14>,\n",
       " <Cell 'Timeline'.B15>,\n",
       " <Cell 'Timeline'.B16>,\n",
       " <Cell 'Timeline'.B17>,\n",
       " <Cell 'Timeline'.B18>,\n",
       " <Cell 'Timeline'.B19>,\n",
       " <Cell 'Timeline'.B20>,\n",
       " <Cell 'Timeline'.B21>,\n",
       " <Cell 'Timeline'.B22>,\n",
       " <Cell 'Timeline'.B23>,\n",
       " <Cell 'Timeline'.B24>,\n",
       " <Cell 'Timeline'.B25>,\n",
       " <Cell 'Timeline'.B26>,\n",
       " <Cell 'Timeline'.B27>,\n",
       " <Cell 'Timeline'.B28>,\n",
       " <Cell 'Timeline'.B29>)"
      ]
     },
     "execution_count": 126,
     "metadata": {},
     "output_type": "execute_result"
    }
   ],
   "source": [
    "timeline['B']"
   ]
  },
  {
   "cell_type": "code",
   "execution_count": null,
   "metadata": {},
   "outputs": [
    {
     "data": {
      "text/plain": [
       "'A'"
      ]
     },
     "execution_count": 36,
     "metadata": {},
     "output_type": "execute_result"
    }
   ],
   "source": [
    "col.column_letter"
   ]
  },
  {
   "cell_type": "code",
   "execution_count": null,
   "metadata": {},
   "outputs": [
    {
     "data": {
      "text/plain": [
       "1"
      ]
     },
     "execution_count": 41,
     "metadata": {},
     "output_type": "execute_result"
    }
   ],
   "source": [
    "col.col_idx"
   ]
  },
  {
   "cell_type": "code",
   "execution_count": null,
   "metadata": {},
   "outputs": [],
   "source": []
  },
  {
   "cell_type": "code",
   "execution_count": null,
   "metadata": {},
   "outputs": [],
   "source": []
  },
  {
   "cell_type": "code",
   "execution_count": null,
   "metadata": {},
   "outputs": [
    {
     "data": {
      "text/html": [
       "<table><thead><tr><th></th><th>t_start</th><th>t_end</th><th>INSTRUMENT</th><th>SCENARIO</th><th>OBS_NAME</th><th>TARGET</th><th>CU_TREP</th><th>CU_FRAME</th><th>BINNING</th><th>PPE</th><th>START_ROW_VIS</th><th>START_ANGLE</th><th>STOP_ANGLE</th><th>SYNCHRONOUS</th><th>START_SCAN_SPEED</th><th>STOP_SCAN_SPEED</th><th>PRIME</th><th>COMMENTS</th></tr></thead><tbody><tr><td><em>0</em></td><td>2024-08-19T21:18:09.850</td><td>2024-08-19T21:18:59.350</td><td>MAJIS</td><td>XXXX_XX</td><td>MAJ_LEGA_SCAN_001</td><td>MOON</td><td>500ms</td><td>99</td><td>1</td><td>400</td><td>100</td><td>+0.00000</td><td>+0.00000</td><td>0</td><td>+0.0000000000</td><td>+0.0000000000</td><td>True</td><td>CROSSING OF THE MOON'S TERMINATOR / MULTI LINES</td></tr><tr><td><em>1</em></td><td>2024-08-20T21:25</td><td>2024-08-20T21:27:54</td><td>MAJIS</td><td>XXXX_XX</td><td>MAJ_EGA_SCAN_001</td><td>EARTH</td><td>200ms</td><td>870</td><td>1</td><td>128</td><td>372</td><td>-1.99951</td><td>+2.09682</td><td>0</td><td>+0.0235421317</td><td>+0.0235421317</td><td>True</td><td>NIGHT OBSERVATION OF KUALA LUMPUR AND SUMATRA ISLAND EAST COAST</td></tr></tbody></table>"
      ],
      "text/plain": [
       "<EventsList> MAJ_LEGA_SCAN (2024-08-19 -> 2024-08-20 | 2 events)"
      ]
     },
     "execution_count": 92,
     "metadata": {},
     "output_type": "execute_result"
    }
   ],
   "source": [
    "itl = read_itl('../../tests/data/absolute_time.itl', flat=True)\n",
    "\n",
    "itl"
   ]
  },
  {
   "cell_type": "code",
   "execution_count": null,
   "metadata": {},
   "outputs": [],
   "source": []
  },
  {
   "cell_type": "code",
   "execution_count": null,
   "metadata": {},
   "outputs": [],
   "source": []
  },
  {
   "cell_type": "code",
   "execution_count": null,
   "metadata": {},
   "outputs": [
    {
     "data": {
      "text/plain": [
       "['MAJ_LEGA_SCAN_001', 'FOO', 'MAJ_LEGA_SCAN_001', 'MAJ_EGA_SCAN_001']"
      ]
     },
     "execution_count": 143,
     "metadata": {},
     "output_type": "execute_result"
    }
   ],
   "source": [
    "DEFAULT_TEMPLATE = Path('timeline.xltm')\n",
    "\n",
    "BINNING = {\n",
    "    '1': 'No Binning',\n",
    "    '2': 'Binning x2',\n",
    "    '4': 'Binning x4',\n",
    "}\n",
    "\n",
    "ITL_MAPPING = {\n",
    "    # Timeline field: (ITL key, value formatter)\n",
    "    'OBS_NAME': ('OBS_NAME', str),\n",
    "    'start_angle': ('START_ANGLE', float),                          # °\n",
    "    'start_scan_speed': ('START_SCAN_SPEED', float),                # °/s\n",
    "    'stop_scan_speed': ('STOP_SCAN_SPEED', float),                  # °/s\n",
    "    'Scanner step per frame': ('SYNCHRONOUS', float),               # (-3, 0, 3)\n",
    "    'stop_angle': ('STOP_ANGLE', float),                            # °\n",
    "    'First CU_frame start (UTC)': ('t_start', fmt_datetime),        # YYYY-MM-DDThh:mm:ss.ms\n",
    "    'Last CU_frame stop (UTC)': ('t_end', fmt_datetime),            # YYYY-MM-DDThh:mm:ss.ms\n",
    "    'cu_trep_ms': ('CU_TREP', lambda s: int(s.replace('ms', ''))),  # ms\n",
    "    'spatial_binning': ('BINNING', lambda i: BINNING[i]),\n",
    "    'nb_cu_frames_tot': ('CU_FRAME', int),\n",
    "    'ppe': ('PPE', int),\n",
    "    'Start Row VI': ('START_ROW_VIS', int),\n",
    "    'prime': ('PRIME', lambda b: 'MAJIS' if b else 'other'),\n",
    "    'Comments': ('COMMENTS', str),\n",
    "}\n",
    "\n",
    "\n",
    "class Timeline:\n",
    "    \"\"\"MAJIS timeline from template.\n",
    "\n",
    "    You can either append an existing timeline template\n",
    "    or use the default one.\n",
    "\n",
    "    Warning\n",
    "    -------\n",
    "    Some extensions (`Data Validation`) are not included\n",
    "    into the exported file. This is a openpyxl limitation.\n",
    "\n",
    "    \"\"\"\n",
    "\n",
    "    sheet_name = 'Timeline'\n",
    "    header = 2\n",
    "\n",
    "    def __init__(self, timeline: str | Path | None = None, itl: str | Path | None = None, **kwargs):\n",
    "        self.fname = Path(timeline) if timeline else DEFAULT_TEMPLATE\n",
    "        self._load_data()\n",
    "\n",
    "        if itl:\n",
    "            self.append(itl, **kwargs)\n",
    "\n",
    "    def __repr__(self):\n",
    "        return f\"{self.__class__.__name__}('{self.fname}')\"\n",
    "\n",
    "    def __len__(self) -> int:\n",
    "        return len(self['OBS_NAME'])\n",
    "\n",
    "    def __getitem__(self, name: str) -> list:\n",
    "        return [\n",
    "            col.value\n",
    "            for col in self._timeline[self._fields[name]][self.header:]\n",
    "            if col.value\n",
    "        ]\n",
    "\n",
    "    def __setitem__(self, item: (str, int), value: str | int | float) -> None:\n",
    "        field, index = item\n",
    "        self._timeline[self._fields[field] + str(index + self.header)] = value\n",
    "\n",
    "    def _load_data(self) -> None:\n",
    "        \"\"\"Load file data.\"\"\"\n",
    "        # Disable openpyxl warning about unsupported extension (`Data validation`)\n",
    "        with warnings.catch_warnings():\n",
    "            warnings.simplefilter('ignore')\n",
    "            self._template = load_workbook(self.fname, keep_vba=True)\n",
    "\n",
    "        # Load Timeline spreadsheet\n",
    "        self._timeline = self._template[self.sheet_name]\n",
    "\n",
    "        # Load Timeline header fields mapping\n",
    "        self._fields = {cell.value: cell.column_letter for cell in next(self._timeline.rows)}\n",
    "\n",
    "    def append(\n",
    "        self,\n",
    "        itl: str | Path,\n",
    "        ca_ref: str | dict | None = None,\n",
    "        refs: dict | str | list | None = None\n",
    "    ) -> None:\n",
    "        \"\"\"Append ITL observations blocks.\"\"\"\n",
    "        observations = read_itl(itl, refs=refs, flat=True)\n",
    "\n",
    "        for i, obs in enumerate(observations, start=len(self['OBS_NAME']) + 1):\n",
    "            for field, (key, fmt) in ITL_MAPPING.items():\n",
    "                self[field, i] = fmt(obs[key])\n",
    "\n",
    "            # Additional fields\n",
    "            self['ITL name', i] = str(itl)  # ITL filename\n",
    "            self['Mirror Flag', i] = 'ENABLE' if float(obs['START_SCAN_SPEED']) or float(obs['STOP_SCAN_SPEED']) else 'DISABLE'\n",
    "\n",
    "            if ca_ref:\n",
    "                self['First CU_frame start wrt C/A', i] = fmt_td(obs.start - datetime(dt_ca))\n",
    "                self['Last CU_frame stop wrt C/A', i] = fmt_td(obs.stop - datetime(dt_ca))\n",
    "\n",
    "    def save(self, fout: str | Path | None = None) -> Path:\n",
    "        \"\"\"Save MAJIS timeline.\"\"\"\n",
    "        if fout:\n",
    "            fout = Path(fout)\n",
    "        elif self.fname != DEFAULT_TEMPLATE:\n",
    "            fout = self.fname\n",
    "        else:\n",
    "            raise FileExistsError('Can not overwrite default template. Please provide and export filename.')\n",
    "\n",
    "        self._template.save(fout)\n",
    "\n",
    "        return fout\n",
    "\n",
    "    @property\n",
    "    def log(self):\n",
    "        return TimelineChangeLog(self._template)\n",
    "\n",
    "    @property\n",
    "    def version(self):\n",
    "        \"\"\"Template version.\"\"\"\n",
    "        return self.log[0][0]\n",
    "\n",
    "\n",
    "timeline = Timeline()\n",
    "\n",
    "timeline.append(*itl)\n",
    "\n",
    "timeline['OBS_NAME', 2] = 'FOO'\n",
    "\n",
    "timeline.append('../../tests/data/absolute_time.itl')\n",
    "\n",
    "timeline.save('foo.xlsm')\n",
    "\n",
    "timeline['OBS_NAME']"
   ]
  },
  {
   "cell_type": "code",
   "execution_count": null,
   "metadata": {},
   "outputs": [
    {
     "data": {
      "text/plain": [
       "{'Event Name': 'A',\n",
       " 'Phase': 'B',\n",
       " 'block': 'C',\n",
       " 'Comments': 'D',\n",
       " 'OBS_NAME': 'E',\n",
       " 'start_time_relative_ca': 'F',\n",
       " 'stop_time_relative_ca': 'G',\n",
       " 'start_time_utc': 'H',\n",
       " 'stop_time_utc': 'I',\n",
       " 'pointing desc': 'J',\n",
       " 'MAJIS resol': 'K',\n",
       " 'prime': 'L',\n",
       " 'MAJIS ODF name': 'M',\n",
       " 'ITL name': 'N',\n",
       " 'Mirror Flag': 'O',\n",
       " 'start_angle': 'P',\n",
       " 'start_scan_speed': 'Q',\n",
       " 'stop_scan_speed': 'R',\n",
       " 'Scanner step per frame': 'S',\n",
       " 'stop_angle': 'T',\n",
       " 'scanner_timetot (ms)': 'U',\n",
       " 'First CU_frame start wrt C/A': 'V',\n",
       " 'Last CU_frame stop wrt C/A': 'W',\n",
       " 'First CU_frame start (UTC)': 'X',\n",
       " 'Last CU_frame stop (UTC)': 'Y',\n",
       " 'cu_trep_ms': 'Z',\n",
       " 'spatial_binning': 'AA',\n",
       " 'obs durat (sec) (w/o borders)': 'AB',\n",
       " 'nb_cu_frames_tot': 'AC',\n",
       " 'nb_cu_frames_tot (computed)': 'AD',\n",
       " 'ppe': 'AE',\n",
       " 'Spectral Mapping': 'AF',\n",
       " 'Number of spectels after spectral binning': 'AG',\n",
       " 'Nb of bits per spectel after compression': 'AH',\n",
       " 'datarate (bits/s)': 'AI',\n",
       " 'DV (Mbits)': 'AJ',\n",
       " 'Browse Parameters': 'AK',\n",
       " 'Number of browse spectels': 'AL',\n",
       " 'Nb of bits per browse spectel after compression': 'AM',\n",
       " 'browse datarate (bits/s)': 'AN',\n",
       " 'browse DV (Mbits)': 'AO',\n",
       " 'Image Mode': 'AP',\n",
       " 'Dark Strategy': 'AQ',\n",
       " 'Dark Subtraction': 'AR',\n",
       " 'VI flag': 'AS',\n",
       " 'IR flag': 'AT',\n",
       " 'VI Readout': 'AU',\n",
       " 'IR Readout': 'AV',\n",
       " 'Start Row VI': 'AW',\n",
       " 'Start Row IR': 'AX',\n",
       " 'VI Despiking N': 'AY',\n",
       " 'VI Despiking M': 'AZ',\n",
       " 'VI Despiking K': 'BA',\n",
       " 'VI Tint': 'BB',\n",
       " 'VI Gain': 'BC',\n",
       " 'VI Offset': 'BD',\n",
       " 'VI NPE': 'BE',\n",
       " 'IR Despiking N': 'BF',\n",
       " 'IR Despiking M': 'BG',\n",
       " 'IR Despiking K': 'BH',\n",
       " 'IR Tint': 'BI',\n",
       " 'IR Gain': 'BJ',\n",
       " 'IR Offset': 'BK',\n",
       " 'IR NPE': 'BL',\n",
       " 'Power (W)': 'BM',\n",
       " 'Science mode (for power estimation)': 'BN'}"
      ]
     },
     "execution_count": 71,
     "metadata": {},
     "output_type": "execute_result"
    }
   ],
   "source": [
    "timeline._fields"
   ]
  },
  {
   "cell_type": "code",
   "execution_count": null,
   "metadata": {},
   "outputs": [
    {
     "data": {
      "text/plain": [
       "'1.9.10'"
      ]
     },
     "execution_count": 70,
     "metadata": {},
     "output_type": "execute_result"
    }
   ],
   "source": [
    "timeline.version"
   ]
  },
  {
   "cell_type": "code",
   "execution_count": null,
   "metadata": {},
   "outputs": [],
   "source": [
    "Timeline(itl='../../tests/data/absolute_time.itl').save('bar.xlsx')"
   ]
  },
  {
   "cell_type": "code",
   "execution_count": 5,
   "metadata": {},
   "outputs": [
    {
     "data": {
      "text/plain": [
       "<Worksheet \"Timeline\">"
      ]
     },
     "execution_count": 5,
     "metadata": {},
     "output_type": "execute_result"
    }
   ],
   "source": [
    "timeline = template['Timeline']\n",
    "\n",
    "timeline"
   ]
  },
  {
   "cell_type": "code",
   "execution_count": 7,
   "metadata": {},
   "outputs": [
    {
     "data": {
      "text/plain": [
       "((<Cell 'Timeline'.A1>, <Cell 'Timeline'.B1>),\n",
       " (<Cell 'Timeline'.A2>, <Cell 'Timeline'.B2>))"
      ]
     },
     "execution_count": 7,
     "metadata": {},
     "output_type": "execute_result"
    }
   ],
   "source": [
    "timeline['A1:B2']"
   ]
  },
  {
   "cell_type": "code",
   "execution_count": 9,
   "metadata": {},
   "outputs": [],
   "source": [
    "from majis.itl.timeline import Timeline"
   ]
  },
  {
   "cell_type": "code",
   "execution_count": 25,
   "metadata": {},
   "outputs": [
    {
     "data": {
      "text/plain": [
       "['MAJIS', 'MAJIS', 'MAJIS', 'MAJIS', 'MAJIS', 'MAJIS']"
      ]
     },
     "execution_count": 25,
     "metadata": {},
     "output_type": "execute_result"
    }
   ],
   "source": [
    "Timeline('../../tests/data/absolute_time.itl', timeline='foo.xlsm')['prime']"
   ]
  },
  {
   "cell_type": "code",
   "execution_count": 15,
   "metadata": {},
   "outputs": [
    {
     "ename": "TypeError",
     "evalue": "'dict_values' object is not subscriptable",
     "output_type": "error",
     "traceback": [
      "\u001b[0;31m---------------------------------------------------------------------------\u001b[0m",
      "\u001b[0;31mTypeError\u001b[0m                                 Traceback (most recent call last)",
      "Cell \u001b[0;32mIn[15], line 3\u001b[0m\n\u001b[1;32m      1\u001b[0m a \u001b[38;5;241m=\u001b[39m {\u001b[38;5;124m'\u001b[39m\u001b[38;5;124ma\u001b[39m\u001b[38;5;124m'\u001b[39m: \u001b[38;5;241m1\u001b[39m, \u001b[38;5;124m'\u001b[39m\u001b[38;5;124mb\u001b[39m\u001b[38;5;124m'\u001b[39m: \u001b[38;5;241m2\u001b[39m}\n\u001b[0;32m----> 3\u001b[0m \u001b[43ma\u001b[49m\u001b[38;5;241;43m.\u001b[39;49m\u001b[43mvalues\u001b[49m\u001b[43m(\u001b[49m\u001b[43m)\u001b[49m\u001b[43m[\u001b[49m\u001b[38;5;241;43m-\u001b[39;49m\u001b[38;5;241;43m1\u001b[39;49m\u001b[43m]\u001b[49m\n",
      "\u001b[0;31mTypeError\u001b[0m: 'dict_values' object is not subscriptable"
     ]
    }
   ],
   "source": [
    "a = {'a': 1, 'b': 2}\n",
    "\n",
    "a.values()[-1]"
   ]
  },
  {
   "cell_type": "code",
   "execution_count": 31,
   "metadata": {},
   "outputs": [
    {
     "data": {
      "text/plain": [
       "(<Cell 'Timeline'.A1>,\n",
       " <Cell 'Timeline'.A2>,\n",
       " <Cell 'Timeline'.A3>,\n",
       " <Cell 'Timeline'.A4>,\n",
       " <Cell 'Timeline'.A5>,\n",
       " <Cell 'Timeline'.A6>,\n",
       " <Cell 'Timeline'.A7>,\n",
       " <Cell 'Timeline'.A8>,\n",
       " <Cell 'Timeline'.A9>,\n",
       " <Cell 'Timeline'.A10>,\n",
       " <Cell 'Timeline'.A11>,\n",
       " <Cell 'Timeline'.A12>,\n",
       " <Cell 'Timeline'.A13>,\n",
       " <Cell 'Timeline'.A14>,\n",
       " <Cell 'Timeline'.A15>,\n",
       " <Cell 'Timeline'.A16>,\n",
       " <Cell 'Timeline'.A17>,\n",
       " <Cell 'Timeline'.A18>,\n",
       " <Cell 'Timeline'.A19>,\n",
       " <Cell 'Timeline'.A20>,\n",
       " <Cell 'Timeline'.A21>,\n",
       " <Cell 'Timeline'.A22>,\n",
       " <Cell 'Timeline'.A23>,\n",
       " <Cell 'Timeline'.A24>,\n",
       " <Cell 'Timeline'.A25>,\n",
       " <Cell 'Timeline'.A26>,\n",
       " <Cell 'Timeline'.A27>,\n",
       " <Cell 'Timeline'.A28>,\n",
       " <Cell 'Timeline'.A29>)"
      ]
     },
     "execution_count": 31,
     "metadata": {},
     "output_type": "execute_result"
    }
   ],
   "source": [
    "timeline['A']"
   ]
  },
  {
   "cell_type": "code",
   "execution_count": 37,
   "metadata": {},
   "outputs": [
    {
     "data": {
      "text/plain": [
       "{'Comments': 'NIGHT OBSERVATION OF KUALA LUMPUR AND SUMATRA ISLAND EAST COAST',\n",
       " 'OBS_NAME': 'FOO',\n",
       " 'prime': 'MAJIS',\n",
       " 'start_angle': -1.99951,\n",
       " 'start_scan_speed': 0.0235421317,\n",
       " 'stop_scan_speed': 0.0235421317,\n",
       " 'stop_angle': 2.09682,\n",
       " 'First CU_frame start (UTC)': '2024-08-20T21:25',\n",
       " 'Last CU_frame stop (UTC)': '2024-08-20T21:27:54',\n",
       " 'cu_trep_ms': 200,\n",
       " 'spatial_binning': 'No Binning',\n",
       " 'nb_cu_frames_tot': 870,\n",
       " 'ppe': 128,\n",
       " 'Start Row VI': 372}"
      ]
     },
     "execution_count": 37,
     "metadata": {},
     "output_type": "execute_result"
    }
   ],
   "source": [
    "Timeline('../../tests/data/absolute_time.itl', timeline='foo.xlsm')[2]"
   ]
  },
  {
   "cell_type": "code",
   "execution_count": 42,
   "metadata": {},
   "outputs": [
    {
     "data": {
      "text/plain": [
       "'MAJ_LEGA_SCAN_001'"
      ]
     },
     "execution_count": 42,
     "metadata": {},
     "output_type": "execute_result"
    }
   ],
   "source": [
    "Timeline('../../tests/data/absolute_time.itl', timeline='foo.xlsm')['OBS_NAME', 2]"
   ]
  },
  {
   "cell_type": "code",
   "execution_count": 38,
   "metadata": {},
   "outputs": [
    {
     "data": {
      "text/plain": [
       "((<Cell 'Timeline'.A1>,\n",
       "  <Cell 'Timeline'.B1>,\n",
       "  <Cell 'Timeline'.C1>,\n",
       "  <Cell 'Timeline'.D1>,\n",
       "  <Cell 'Timeline'.E1>,\n",
       "  <Cell 'Timeline'.F1>,\n",
       "  <Cell 'Timeline'.G1>,\n",
       "  <Cell 'Timeline'.H1>,\n",
       "  <Cell 'Timeline'.I1>,\n",
       "  <Cell 'Timeline'.J1>,\n",
       "  <Cell 'Timeline'.K1>,\n",
       "  <Cell 'Timeline'.L1>,\n",
       "  <Cell 'Timeline'.M1>,\n",
       "  <Cell 'Timeline'.N1>,\n",
       "  <Cell 'Timeline'.O1>,\n",
       "  <Cell 'Timeline'.P1>,\n",
       "  <Cell 'Timeline'.Q1>,\n",
       "  <Cell 'Timeline'.R1>,\n",
       "  <Cell 'Timeline'.S1>,\n",
       "  <Cell 'Timeline'.T1>,\n",
       "  <Cell 'Timeline'.U1>,\n",
       "  <Cell 'Timeline'.V1>,\n",
       "  <Cell 'Timeline'.W1>,\n",
       "  <Cell 'Timeline'.X1>,\n",
       "  <Cell 'Timeline'.Y1>,\n",
       "  <Cell 'Timeline'.Z1>,\n",
       "  <Cell 'Timeline'.AA1>,\n",
       "  <Cell 'Timeline'.AB1>,\n",
       "  <Cell 'Timeline'.AC1>,\n",
       "  <Cell 'Timeline'.AD1>,\n",
       "  <Cell 'Timeline'.AE1>,\n",
       "  <Cell 'Timeline'.AF1>,\n",
       "  <Cell 'Timeline'.AG1>,\n",
       "  <Cell 'Timeline'.AH1>,\n",
       "  <Cell 'Timeline'.AI1>,\n",
       "  <Cell 'Timeline'.AJ1>,\n",
       "  <Cell 'Timeline'.AK1>,\n",
       "  <Cell 'Timeline'.AL1>,\n",
       "  <Cell 'Timeline'.AM1>,\n",
       "  <Cell 'Timeline'.AN1>,\n",
       "  <Cell 'Timeline'.AO1>,\n",
       "  <Cell 'Timeline'.AP1>,\n",
       "  <Cell 'Timeline'.AQ1>,\n",
       "  <Cell 'Timeline'.AR1>,\n",
       "  <Cell 'Timeline'.AS1>,\n",
       "  <Cell 'Timeline'.AT1>,\n",
       "  <Cell 'Timeline'.AU1>,\n",
       "  <Cell 'Timeline'.AV1>,\n",
       "  <Cell 'Timeline'.AW1>,\n",
       "  <Cell 'Timeline'.AX1>,\n",
       "  <Cell 'Timeline'.AY1>,\n",
       "  <Cell 'Timeline'.AZ1>,\n",
       "  <Cell 'Timeline'.BA1>,\n",
       "  <Cell 'Timeline'.BB1>,\n",
       "  <Cell 'Timeline'.BC1>,\n",
       "  <Cell 'Timeline'.BD1>,\n",
       "  <Cell 'Timeline'.BE1>,\n",
       "  <Cell 'Timeline'.BF1>,\n",
       "  <Cell 'Timeline'.BG1>,\n",
       "  <Cell 'Timeline'.BH1>,\n",
       "  <Cell 'Timeline'.BI1>,\n",
       "  <Cell 'Timeline'.BJ1>,\n",
       "  <Cell 'Timeline'.BK1>,\n",
       "  <Cell 'Timeline'.BL1>,\n",
       "  <Cell 'Timeline'.BM1>,\n",
       "  <Cell 'Timeline'.BN1>),\n",
       " (<Cell 'Timeline'.A2>,\n",
       "  <Cell 'Timeline'.B2>,\n",
       "  <Cell 'Timeline'.C2>,\n",
       "  <Cell 'Timeline'.D2>,\n",
       "  <Cell 'Timeline'.E2>,\n",
       "  <Cell 'Timeline'.F2>,\n",
       "  <Cell 'Timeline'.G2>,\n",
       "  <Cell 'Timeline'.H2>,\n",
       "  <Cell 'Timeline'.I2>,\n",
       "  <Cell 'Timeline'.J2>,\n",
       "  <Cell 'Timeline'.K2>,\n",
       "  <Cell 'Timeline'.L2>,\n",
       "  <Cell 'Timeline'.M2>,\n",
       "  <Cell 'Timeline'.N2>,\n",
       "  <Cell 'Timeline'.O2>,\n",
       "  <Cell 'Timeline'.P2>,\n",
       "  <Cell 'Timeline'.Q2>,\n",
       "  <Cell 'Timeline'.R2>,\n",
       "  <Cell 'Timeline'.S2>,\n",
       "  <Cell 'Timeline'.T2>,\n",
       "  <Cell 'Timeline'.U2>,\n",
       "  <Cell 'Timeline'.V2>,\n",
       "  <Cell 'Timeline'.W2>,\n",
       "  <Cell 'Timeline'.X2>,\n",
       "  <Cell 'Timeline'.Y2>,\n",
       "  <Cell 'Timeline'.Z2>,\n",
       "  <Cell 'Timeline'.AA2>,\n",
       "  <Cell 'Timeline'.AB2>,\n",
       "  <Cell 'Timeline'.AC2>,\n",
       "  <Cell 'Timeline'.AD2>,\n",
       "  <Cell 'Timeline'.AE2>,\n",
       "  <Cell 'Timeline'.AF2>,\n",
       "  <Cell 'Timeline'.AG2>,\n",
       "  <Cell 'Timeline'.AH2>,\n",
       "  <Cell 'Timeline'.AI2>,\n",
       "  <Cell 'Timeline'.AJ2>,\n",
       "  <Cell 'Timeline'.AK2>,\n",
       "  <Cell 'Timeline'.AL2>,\n",
       "  <Cell 'Timeline'.AM2>,\n",
       "  <Cell 'Timeline'.AN2>,\n",
       "  <Cell 'Timeline'.AO2>,\n",
       "  <Cell 'Timeline'.AP2>,\n",
       "  <Cell 'Timeline'.AQ2>,\n",
       "  <Cell 'Timeline'.AR2>,\n",
       "  <Cell 'Timeline'.AS2>,\n",
       "  <Cell 'Timeline'.AT2>,\n",
       "  <Cell 'Timeline'.AU2>,\n",
       "  <Cell 'Timeline'.AV2>,\n",
       "  <Cell 'Timeline'.AW2>,\n",
       "  <Cell 'Timeline'.AX2>,\n",
       "  <Cell 'Timeline'.AY2>,\n",
       "  <Cell 'Timeline'.AZ2>,\n",
       "  <Cell 'Timeline'.BA2>,\n",
       "  <Cell 'Timeline'.BB2>,\n",
       "  <Cell 'Timeline'.BC2>,\n",
       "  <Cell 'Timeline'.BD2>,\n",
       "  <Cell 'Timeline'.BE2>,\n",
       "  <Cell 'Timeline'.BF2>,\n",
       "  <Cell 'Timeline'.BG2>,\n",
       "  <Cell 'Timeline'.BH2>,\n",
       "  <Cell 'Timeline'.BI2>,\n",
       "  <Cell 'Timeline'.BJ2>,\n",
       "  <Cell 'Timeline'.BK2>,\n",
       "  <Cell 'Timeline'.BL2>,\n",
       "  <Cell 'Timeline'.BM2>,\n",
       "  <Cell 'Timeline'.BN2>))"
      ]
     },
     "execution_count": 38,
     "metadata": {},
     "output_type": "execute_result"
    }
   ],
   "source": [
    "timeline['1:2']"
   ]
  },
  {
   "cell_type": "code",
   "execution_count": 41,
   "metadata": {},
   "outputs": [
    {
     "data": {
      "text/html": [
       "<table><thead><tr><th>Event Name</th><th>Phase</th><th>block</th><th>Comments</th><th>OBS_NAME</th><th>start_time_relative_ca</th><th>stop_time_relative_ca</th><th>start_time_utc</th><th>stop_time_utc</th><th>pointing desc</th><th>MAJIS resol</th><th>prime</th><th>MAJIS ODF name</th><th>ITL name</th><th>Mirror Flag</th><th>start_angle</th><th>start_scan_speed</th><th>stop_scan_speed</th><th>Scanner step per frame</th><th>stop_angle</th><th>scanner_timetot (ms)</th><th>First CU_frame start wrt C/A</th><th>Last CU_frame stop wrt C/A</th><th>First CU_frame start (UTC)</th><th>Last CU_frame stop (UTC)</th><th>cu_trep_ms</th><th>spatial_binning</th><th>obs durat (sec) (w/o borders)</th><th>nb_cu_frames_tot</th><th>nb_cu_frames_tot (computed)</th><th>ppe</th><th>Spectral Mapping</th><th>Number of spectels after spectral binning</th><th>Nb of bits per spectel after compression</th><th>datarate (bits/s)</th><th>DV (Mbits)</th><th>Browse Parameters</th><th>Number of browse spectels</th><th>Nb of bits per browse spectel after compression</th><th>browse datarate (bits/s)</th><th>browse DV (Mbits)</th><th>Image Mode</th><th>Dark Strategy</th><th>Dark Subtraction</th><th>VI flag</th><th>IR flag</th><th>VI Readout</th><th>IR Readout</th><th>Start Row VI</th><th>Start Row IR</th><th>VI Despiking N</th><th>VI Despiking M</th><th>VI Despiking K</th><th>VI Tint</th><th>VI Gain</th><th>VI Offset</th><th>VI NPE</th><th>IR Despiking N</th><th>IR Despiking M</th><th>IR Despiking K</th><th>IR Tint</th><th>IR Gain</th><th>IR Offset</th><th>IR NPE</th><th>Power (W)</th><th>Science mode (for power estimation)</th></tr></thead><tbody><tr><td/><td/><td/><td>CROSSING OF THE MOON'S TERMINATOR / MULTI LINES</td><td>MAJ_LEGA_SCAN_001</td><td/><td/><td/><td/><td/><td/><td>MAJIS</td><td/><td/><td>DISABLE</td><td>0</td><td>0</td><td>0</td><td>0</td><td>0</td><td>=IF(AND(Mirror_Flag=\"ENABLE\",ABS(Scanner_step_per_frame)<>3),\n",
       "    IF(start_scan_speed=stop_scan_speed,\n",
       "        ABS( (stop_angle - start_angle) / start_scan_speed ) *1000,\n",
       "        ABS( (stop_angle - start_angle) / (stop_scan_speed - start_scan_speed) * LN( stop_scan_speed / start_scan_speed ) ) *1000\n",
       "        ),\n",
       "    \"N/A\")</td><td>=IF(X3<$Y$2,\"-\",\"\") & TEXT(ABS(X3-$Y$2),\"hh:mm:ss\"&decimal_separator&\"000\")</td><td>=IF(Y3<$Y$2,\"-\",\"\") & TEXT(ABS(Y3-$Y$2),\"hh:mm:ss\"&decimal_separator&\"000\")</td><td>2024-08-19T21:18:09.850</td><td>2024-08-19T21:18:59.350</td><td>500</td><td>No Binning</td><td/><td>99</td><td>=IF(AND(Mirror_Flag=\"ENABLE\",ABS(Scanner_step_per_frame)<>3),\n",
       "          INT( (scanner_timetot__ms / cu_trep_ms) + 0.5),\n",
       "          \"N/A\")</td><td>400</td><td>MAJIS_JUP_DISK_SCAN_SPECTRAL_MASK</td><td>=(VI_flag=\"ON\") * VLOOKUP(SPECTRAL_MASK,list_of_spectral_masks,2,FALSE) +\n",
       "  (IR_flag=\"ON\") * VLOOKUP(SPECTRAL_MASK,list_of_spectral_masks,4,FALSE)</td><td>=((VI_flag=\"ON\") * (VLOOKUP(SPECTRAL_MASK,list_of_spectral_masks,3,FALSE)*VLOOKUP(SPECTRAL_MASK,list_of_spectral_masks,2,FALSE)) +\n",
       "   (IR_flag=\"ON\") * (VLOOKUP(SPECTRAL_MASK,list_of_spectral_masks,5,FALSE)*VLOOKUP(SPECTRAL_MASK,list_of_spectral_masks,4,FALSE))\n",
       "   ) / Number_of_spectels_after_spectral_binning</td><td>=DV__Mbits/cu_trep_ms/\n",
       "IF(nb_cu_frames_tot=65535,\n",
       "    DIFF_TIME_CA_ms(First_CU_frame_start_wrt_C_A,\n",
       "    Last_CU_frame_stop_wrt_C_A)/cu_trep_ms,nb_cu_frames_tot)*(1024*1024)</td><td>=IF(AND(nb_cu_frames_tot__computed<>\"N/A\",nb_cu_frames_tot<>nb_cu_frames_tot__computed),\n",
       "          \"ERROR: nb_cu_frames_tot and nb_cu_frames_tot (computed) are not equal\",\n",
       "          IF(nb_cu_frames_tot=65535,\n",
       "                DIFF_TIME_CA_ms(First_CU_frame_start_wrt_C_A,Last_CU_frame_stop_wrt_C_A)/cu_trep_ms,\n",
       "                nb_cu_frames_tot)\n",
       "            * ( ppe / 2^(IF(spatial_binning=\"No Binning\",0,IF(spatial_binning=\"Binning x2\",1,IF(spatial_binning=\"Binning x4\",2,\"N/A\")))) )\n",
       "            * Number_of_spectels_after_spectral_binning\n",
       "            * Nb_of_bits_per_spectel_after_compression\n",
       "            / (1024*1024)\n",
       "          )</td><td>MAJIS_JUP_DISK_SCAN_BROWSE_PARAMETERS</td><td>=(VI_flag=\"ON\") * VLOOKUP(BROWSE_PARAMETERS,list_of_browse_parameters,2,FALSE) +\n",
       "  (IR_flag=\"ON\") * VLOOKUP(BROWSE_PARAMETERS,list_of_browse_parameters,4,FALSE)</td><td>=IF(Number_of_browse_spectels=0,0,\n",
       "      ((VI_flag=\"ON\") * (VLOOKUP(BROWSE_PARAMETERS,list_of_browse_parameters,3,FALSE)*VLOOKUP(BROWSE_PARAMETERS,list_of_browse_parameters,2,FALSE)) +\n",
       "         (IR_flag=\"ON\") * (VLOOKUP(BROWSE_PARAMETERS,list_of_browse_parameters,5,FALSE)*VLOOKUP(BROWSE_PARAMETERS,list_of_browse_parameters,4,FALSE))\n",
       "         ) / Number_of_browse_spectels\n",
       "      )</td><td>=browse_DV__Mbits / cu_trep_ms / nb_cu_frames_tot * (1024*1024)</td><td>=IF(AND(nb_cu_frames_tot__computed<>\"N/A\",nb_cu_frames_tot<>nb_cu_frames_tot__computed),\n",
       "          \"ERROR: nb_cu_frames_tot and nb_cu_frames_tot (computed) are not equal\",\n",
       "          IF(nb_cu_frames_tot=65535,\n",
       "                DIFF_TIME_CA_ms(First_CU_frame_start_wrt_C_A,Last_CU_frame_stop_wrt_C_A)/cu_trep_ms,\n",
       "                nb_cu_frames_tot)\n",
       "            * ( ppe / 2^(IF(spatial_binning=\"No Binning\",0,IF(spatial_binning=\"Binning x2\",1,IF(spatial_binning=\"Binning x4\",2,\"N/A\")))) )\n",
       "            * Number_of_browse_spectels\n",
       "            * Nb_of_bits_per_browse_spectel_after_compression\n",
       "            / (1024*1024)\n",
       "          )</td><td>Nominal</td><td>Dark Before</td><td>Subtracted</td><td>ON</td><td>ON</td><td>1 MHz</td><td>1 MHz</td><td>100</td><td>87</td><td>4</td><td>3</td><td>Lowest</td><td>0</td><td>10</td><td>1</td><td>3</td><td>4</td><td>3</td><td>Lowest</td><td>0</td><td>10</td><td>1</td><td>3</td><td>=IF(AND(VI_flag=\"ON\",IR_flag=\"ON\"),\n",
       "      IF( Mirror_Flag = \"ENABLE\",\n",
       "          power_2ch_science_scanning,\n",
       "          power_2ch_science_pointing),\n",
       "      IF( Mirror_Flag = \"ENABLE\",\n",
       "          power_1ch_science_scanning,\n",
       "          power_1ch_science_pointing))</td><td>=IF(AND(VI_flag=\"ON\",IR_flag=\"ON\"),\n",
       "      IF( Mirror_Flag = \"ENABLE\",\n",
       "          power_2ch_science_scanning_description,\n",
       "          power_2ch_science_pointing_description),\n",
       "      IF( Mirror_Flag = \"ENABLE\",\n",
       "          power_1ch_science_scanning_description,\n",
       "          power_1ch_science_pointing_description))</td></tr><tr><td/><td/><td/><td>NIGHT OBSERVATION OF KUALA LUMPUR AND SUMATRA ISLAND EAST COAST</td><td>FOO</td><td/><td/><td/><td/><td/><td/><td>MAJIS</td><td/><td/><td/><td>-1.99951</td><td>0.0235421317</td><td>0.0235421317</td><td>0</td><td>2.09682</td><td>=IF(AND(Mirror_Flag=\"ENABLE\",ABS(Scanner_step_per_frame)<>3),\n",
       "IF(start_scan_speed=stop_scan_speed,\n",
       "ABS( (stop_angle - start_angle) / start_scan_speed ) *1000,\n",
       "ABS( (stop_angle - start_angle) / (stop_scan_speed - start_scan_speed) * LN( stop_scan_speed / start_scan_speed ) ) *\n",
       "1000),\n",
       "\"N/A\")</td><td/><td/><td>2024-08-20T21:25</td><td>2024-08-20T21:27:54</td><td>200</td><td>No Binning</td><td/><td>870</td><td>=IF(AND(Mirror_Flag=\"ENABLE\",ABS(Scanner_step_per_frame)<>3),\n",
       "          INT( (scanner_timetot__ms / cu_trep_ms) + 0.5),\n",
       "          \"N/A\")</td><td>128</td><td/><td>=(VI_flag=\"ON\") * VLOOKUP(SPECTRAL_MASK,list_of_spectral_masks,2,FALSE) +\n",
       "  (IR_flag=\"ON\") * VLOOKUP(SPECTRAL_MASK,list_of_spectral_masks,4,FALSE)</td><td>=((VI_flag=\"ON\") * (VLOOKUP(SPECTRAL_MASK,list_of_spectral_masks,3,FALSE)*VLOOKUP(SPECTRAL_MASK,list_of_spectral_masks,2,FALSE)) +\n",
       "   (IR_flag=\"ON\") * (VLOOKUP(SPECTRAL_MASK,list_of_spectral_masks,5,FALSE)*VLOOKUP(SPECTRAL_MASK,list_of_spectral_masks,4,FALSE))\n",
       "   ) / Number_of_spectels_after_spectral_binning</td><td>=DV__Mbits/cu_trep_ms/\n",
       "IF(nb_cu_frames_tot=65535,\n",
       "    DIFF_TIME_CA_ms(First_CU_frame_start_wrt_C_A,\n",
       "    Last_CU_frame_stop_wrt_C_A)/cu_trep_ms,nb_cu_frames_tot)*(1024*1024)</td><td>=IF(AND(nb_cu_frames_tot__computed<>\"N/A\",nb_cu_frames_tot<>nb_cu_frames_tot__computed),\n",
       "          \"ERROR: nb_cu_frames_tot and nb_cu_frames_tot (computed) are not equal\",\n",
       "          IF(nb_cu_frames_tot=65535,\n",
       "                DIFF_TIME_CA_ms(First_CU_frame_start_wrt_C_A,Last_CU_frame_stop_wrt_C_A)/cu_trep_ms,\n",
       "                nb_cu_frames_tot)\n",
       "            * ( ppe / 2^(IF(spatial_binning=\"No Binning\",0,IF(spatial_binning=\"Binning x2\",1,IF(spatial_binning=\"Binning x4\",2,\"N/A\")))) )\n",
       "            * Number_of_spectels_after_spectral_binning\n",
       "            * Nb_of_bits_per_spectel_after_compression\n",
       "            / (1024*1024)\n",
       "          )</td><td/><td>=(VI_flag=\"ON\") * VLOOKUP(BROWSE_PARAMETERS,list_of_browse_parameters,2,FALSE) +\n",
       "  (IR_flag=\"ON\") * VLOOKUP(BROWSE_PARAMETERS,list_of_browse_parameters,4,FALSE)</td><td>=IF(Number_of_browse_spectels=0,0,\n",
       "      ((VI_flag=\"ON\") * (VLOOKUP(BROWSE_PARAMETERS,list_of_browse_parameters,3,FALSE)*VLOOKUP(BROWSE_PARAMETERS,list_of_browse_parameters,2,FALSE)) +\n",
       "         (IR_flag=\"ON\") * (VLOOKUP(BROWSE_PARAMETERS,list_of_browse_parameters,5,FALSE)*VLOOKUP(BROWSE_PARAMETERS,list_of_browse_parameters,4,FALSE))\n",
       "         ) / Number_of_browse_spectels\n",
       "      )</td><td>=browse_DV__Mbits / cu_trep_ms / nb_cu_frames_tot * (1024*1024)</td><td>=IF(AND(nb_cu_frames_tot__computed<>\"N/A\",nb_cu_frames_tot<>nb_cu_frames_tot__computed),\n",
       "          \"ERROR: nb_cu_frames_tot and nb_cu_frames_tot (computed) are not equal\",\n",
       "          IF(nb_cu_frames_tot=65535,\n",
       "                DIFF_TIME_CA_ms(First_CU_frame_start_wrt_C_A,Last_CU_frame_stop_wrt_C_A)/cu_trep_ms,\n",
       "                nb_cu_frames_tot)\n",
       "            * ( ppe / 2^(IF(spatial_binning=\"No Binning\",0,IF(spatial_binning=\"Binning x2\",1,IF(spatial_binning=\"Binning x4\",2,\"N/A\")))) )\n",
       "            * Number_of_browse_spectels\n",
       "            * Nb_of_bits_per_browse_spectel_after_compression\n",
       "            / (1024*1024)\n",
       "          )</td><td/><td/><td/><td/><td/><td/><td/><td>372</td><td/><td/><td/><td/><td/><td/><td/><td/><td/><td/><td/><td/><td/><td/><td/><td>=IF(AND(VI_flag=\"ON\",IR_flag=\"ON\"),\n",
       "      IF( Mirror_Flag = \"ENABLE\",\n",
       "          power_2ch_science_scanning,\n",
       "          power_2ch_science_pointing),\n",
       "      IF( Mirror_Flag = \"ENABLE\",\n",
       "          power_1ch_science_scanning,\n",
       "          power_1ch_science_pointing))</td><td>=IF(AND(VI_flag=\"ON\",IR_flag=\"ON\"),\n",
       "      IF( Mirror_Flag = \"ENABLE\",\n",
       "          power_2ch_science_scanning_description,\n",
       "          power_2ch_science_pointing_description),\n",
       "      IF( Mirror_Flag = \"ENABLE\",\n",
       "          power_1ch_science_scanning_description,\n",
       "          power_1ch_science_pointing_description))</td></tr><tr><td/><td/><td/><td>CROSSING OF THE MOON'S TERMINATOR / MULTI LINES</td><td>MAJ_LEGA_SCAN_001</td><td/><td/><td/><td/><td/><td/><td>MAJIS</td><td/><td/><td/><td>0</td><td>0</td><td>0</td><td>0</td><td>0</td><td>=IF(AND(Mirror_Flag=\"ENABLE\",ABS(Scanner_step_per_frame)<>3),\n",
       "IF(start_scan_speed=stop_scan_speed,\n",
       "ABS( (stop_angle - start_angle) / start_scan_speed ) *1000,\n",
       "ABS( (stop_angle - start_angle) / (stop_scan_speed - start_scan_speed) * LN( stop_scan_speed / start_scan_speed ) ) *\n",
       "1000),\n",
       "\"N/A\")</td><td/><td/><td>2024-08-19T21:18:09.850</td><td>2024-08-19T21:18:59.350</td><td>500</td><td>No Binning</td><td/><td>99</td><td>=IF(AND(Mirror_Flag=\"ENABLE\",ABS(Scanner_step_per_frame)<>3),\n",
       "          INT( (scanner_timetot__ms / cu_trep_ms) + 0.5),\n",
       "          \"N/A\")</td><td>400</td><td/><td>=(VI_flag=\"ON\") * VLOOKUP(SPECTRAL_MASK,list_of_spectral_masks,2,FALSE) +\n",
       "  (IR_flag=\"ON\") * VLOOKUP(SPECTRAL_MASK,list_of_spectral_masks,4,FALSE)</td><td>=((VI_flag=\"ON\") * (VLOOKUP(SPECTRAL_MASK,list_of_spectral_masks,3,FALSE)*VLOOKUP(SPECTRAL_MASK,list_of_spectral_masks,2,FALSE)) +\n",
       "   (IR_flag=\"ON\") * (VLOOKUP(SPECTRAL_MASK,list_of_spectral_masks,5,FALSE)*VLOOKUP(SPECTRAL_MASK,list_of_spectral_masks,4,FALSE))\n",
       "   ) / Number_of_spectels_after_spectral_binning</td><td>=DV__Mbits/cu_trep_ms/\n",
       "IF(nb_cu_frames_tot=65535,\n",
       "    DIFF_TIME_CA_ms(First_CU_frame_start_wrt_C_A,\n",
       "    Last_CU_frame_stop_wrt_C_A)/cu_trep_ms,nb_cu_frames_tot)*(1024*1024)</td><td>=IF(AND(nb_cu_frames_tot__computed<>\"N/A\",nb_cu_frames_tot<>nb_cu_frames_tot__computed),\n",
       "          \"ERROR: nb_cu_frames_tot and nb_cu_frames_tot (computed) are not equal\",\n",
       "          IF(nb_cu_frames_tot=65535,\n",
       "                DIFF_TIME_CA_ms(First_CU_frame_start_wrt_C_A,Last_CU_frame_stop_wrt_C_A)/cu_trep_ms,\n",
       "                nb_cu_frames_tot)\n",
       "            * ( ppe / 2^(IF(spatial_binning=\"No Binning\",0,IF(spatial_binning=\"Binning x2\",1,IF(spatial_binning=\"Binning x4\",2,\"N/A\")))) )\n",
       "            * Number_of_spectels_after_spectral_binning\n",
       "            * Nb_of_bits_per_spectel_after_compression\n",
       "            / (1024*1024)\n",
       "          )</td><td/><td>=(VI_flag=\"ON\") * VLOOKUP(BROWSE_PARAMETERS,list_of_browse_parameters,2,FALSE) +\n",
       "  (IR_flag=\"ON\") * VLOOKUP(BROWSE_PARAMETERS,list_of_browse_parameters,4,FALSE)</td><td>=IF(Number_of_browse_spectels=0,0,\n",
       "      ((VI_flag=\"ON\") * (VLOOKUP(BROWSE_PARAMETERS,list_of_browse_parameters,3,FALSE)*VLOOKUP(BROWSE_PARAMETERS,list_of_browse_parameters,2,FALSE)) +\n",
       "         (IR_flag=\"ON\") * (VLOOKUP(BROWSE_PARAMETERS,list_of_browse_parameters,5,FALSE)*VLOOKUP(BROWSE_PARAMETERS,list_of_browse_parameters,4,FALSE))\n",
       "         ) / Number_of_browse_spectels\n",
       "      )</td><td>=browse_DV__Mbits / cu_trep_ms / nb_cu_frames_tot * (1024*1024)</td><td>=IF(AND(nb_cu_frames_tot__computed<>\"N/A\",nb_cu_frames_tot<>nb_cu_frames_tot__computed),\n",
       "          \"ERROR: nb_cu_frames_tot and nb_cu_frames_tot (computed) are not equal\",\n",
       "          IF(nb_cu_frames_tot=65535,\n",
       "                DIFF_TIME_CA_ms(First_CU_frame_start_wrt_C_A,Last_CU_frame_stop_wrt_C_A)/cu_trep_ms,\n",
       "                nb_cu_frames_tot)\n",
       "            * ( ppe / 2^(IF(spatial_binning=\"No Binning\",0,IF(spatial_binning=\"Binning x2\",1,IF(spatial_binning=\"Binning x4\",2,\"N/A\")))) )\n",
       "            * Number_of_browse_spectels\n",
       "            * Nb_of_bits_per_browse_spectel_after_compression\n",
       "            / (1024*1024)\n",
       "          )</td><td/><td/><td/><td/><td/><td/><td/><td>100</td><td/><td/><td/><td/><td/><td/><td/><td/><td/><td/><td/><td/><td/><td/><td/><td>=IF(AND(VI_flag=\"ON\",IR_flag=\"ON\"),\n",
       "      IF( Mirror_Flag = \"ENABLE\",\n",
       "          power_2ch_science_scanning,\n",
       "          power_2ch_science_pointing),\n",
       "      IF( Mirror_Flag = \"ENABLE\",\n",
       "          power_1ch_science_scanning,\n",
       "          power_1ch_science_pointing))</td><td>=IF(AND(VI_flag=\"ON\",IR_flag=\"ON\"),\n",
       "      IF( Mirror_Flag = \"ENABLE\",\n",
       "          power_2ch_science_scanning_description,\n",
       "          power_2ch_science_pointing_description),\n",
       "      IF( Mirror_Flag = \"ENABLE\",\n",
       "          power_1ch_science_scanning_description,\n",
       "          power_1ch_science_pointing_description))</td></tr><tr><td/><td/><td/><td>NIGHT OBSERVATION OF KUALA LUMPUR AND SUMATRA ISLAND EAST COAST</td><td>MAJ_EGA_SCAN_001</td><td/><td/><td/><td/><td/><td/><td>MAJIS</td><td/><td/><td/><td>-1.99951</td><td>0.0235421317</td><td>0.0235421317</td><td>0</td><td>2.09682</td><td>=IF(AND(Mirror_Flag=\"ENABLE\",ABS(Scanner_step_per_frame)<>3),\n",
       "IF(start_scan_speed=stop_scan_speed,\n",
       "ABS( (stop_angle - start_angle) / start_scan_speed ) *1000,\n",
       "ABS( (stop_angle - start_angle) / (stop_scan_speed - start_scan_speed) * LN( stop_scan_speed / start_scan_speed ) ) *\n",
       "1000),\n",
       "\"N/A\")</td><td/><td/><td>2024-08-20T21:25</td><td>2024-08-20T21:27:54</td><td>200</td><td>No Binning</td><td/><td>870</td><td>=IF(AND(Mirror_Flag=\"ENABLE\",ABS(Scanner_step_per_frame)<>3),\n",
       "          INT( (scanner_timetot__ms / cu_trep_ms) + 0.5),\n",
       "          \"N/A\")</td><td>128</td><td/><td>=(VI_flag=\"ON\") * VLOOKUP(SPECTRAL_MASK,list_of_spectral_masks,2,FALSE) +\n",
       "  (IR_flag=\"ON\") * VLOOKUP(SPECTRAL_MASK,list_of_spectral_masks,4,FALSE)</td><td>=((VI_flag=\"ON\") * (VLOOKUP(SPECTRAL_MASK,list_of_spectral_masks,3,FALSE)*VLOOKUP(SPECTRAL_MASK,list_of_spectral_masks,2,FALSE)) +\n",
       "   (IR_flag=\"ON\") * (VLOOKUP(SPECTRAL_MASK,list_of_spectral_masks,5,FALSE)*VLOOKUP(SPECTRAL_MASK,list_of_spectral_masks,4,FALSE))\n",
       "   ) / Number_of_spectels_after_spectral_binning</td><td>=DV__Mbits/cu_trep_ms/\n",
       "IF(nb_cu_frames_tot=65535,\n",
       "    DIFF_TIME_CA_ms(First_CU_frame_start_wrt_C_A,\n",
       "    Last_CU_frame_stop_wrt_C_A)/cu_trep_ms,nb_cu_frames_tot)*(1024*1024)</td><td>=IF(AND(nb_cu_frames_tot__computed<>\"N/A\",nb_cu_frames_tot<>nb_cu_frames_tot__computed),\n",
       "          \"ERROR: nb_cu_frames_tot and nb_cu_frames_tot (computed) are not equal\",\n",
       "          IF(nb_cu_frames_tot=65535,\n",
       "                DIFF_TIME_CA_ms(First_CU_frame_start_wrt_C_A,Last_CU_frame_stop_wrt_C_A)/cu_trep_ms,\n",
       "                nb_cu_frames_tot)\n",
       "            * ( ppe / 2^(IF(spatial_binning=\"No Binning\",0,IF(spatial_binning=\"Binning x2\",1,IF(spatial_binning=\"Binning x4\",2,\"N/A\")))) )\n",
       "            * Number_of_spectels_after_spectral_binning\n",
       "            * Nb_of_bits_per_spectel_after_compression\n",
       "            / (1024*1024)\n",
       "          )</td><td/><td>=(VI_flag=\"ON\") * VLOOKUP(BROWSE_PARAMETERS,list_of_browse_parameters,2,FALSE) +\n",
       "  (IR_flag=\"ON\") * VLOOKUP(BROWSE_PARAMETERS,list_of_browse_parameters,4,FALSE)</td><td>=IF(Number_of_browse_spectels=0,0,\n",
       "      ((VI_flag=\"ON\") * (VLOOKUP(BROWSE_PARAMETERS,list_of_browse_parameters,3,FALSE)*VLOOKUP(BROWSE_PARAMETERS,list_of_browse_parameters,2,FALSE)) +\n",
       "         (IR_flag=\"ON\") * (VLOOKUP(BROWSE_PARAMETERS,list_of_browse_parameters,5,FALSE)*VLOOKUP(BROWSE_PARAMETERS,list_of_browse_parameters,4,FALSE))\n",
       "         ) / Number_of_browse_spectels\n",
       "      )</td><td>=browse_DV__Mbits / cu_trep_ms / nb_cu_frames_tot * (1024*1024)</td><td>=IF(AND(nb_cu_frames_tot__computed<>\"N/A\",nb_cu_frames_tot<>nb_cu_frames_tot__computed),\n",
       "          \"ERROR: nb_cu_frames_tot and nb_cu_frames_tot (computed) are not equal\",\n",
       "          IF(nb_cu_frames_tot=65535,\n",
       "                DIFF_TIME_CA_ms(First_CU_frame_start_wrt_C_A,Last_CU_frame_stop_wrt_C_A)/cu_trep_ms,\n",
       "                nb_cu_frames_tot)\n",
       "            * ( ppe / 2^(IF(spatial_binning=\"No Binning\",0,IF(spatial_binning=\"Binning x2\",1,IF(spatial_binning=\"Binning x4\",2,\"N/A\")))) )\n",
       "            * Number_of_browse_spectels\n",
       "            * Nb_of_bits_per_browse_spectel_after_compression\n",
       "            / (1024*1024)\n",
       "          )</td><td/><td/><td/><td/><td/><td/><td/><td>372</td><td/><td/><td/><td/><td/><td/><td/><td/><td/><td/><td/><td/><td/><td/><td/><td>=IF(AND(VI_flag=\"ON\",IR_flag=\"ON\"),\n",
       "      IF( Mirror_Flag = \"ENABLE\",\n",
       "          power_2ch_science_scanning,\n",
       "          power_2ch_science_pointing),\n",
       "      IF( Mirror_Flag = \"ENABLE\",\n",
       "          power_1ch_science_scanning,\n",
       "          power_1ch_science_pointing))</td><td>=IF(AND(VI_flag=\"ON\",IR_flag=\"ON\"),\n",
       "      IF( Mirror_Flag = \"ENABLE\",\n",
       "          power_2ch_science_scanning_description,\n",
       "          power_2ch_science_pointing_description),\n",
       "      IF( Mirror_Flag = \"ENABLE\",\n",
       "          power_1ch_science_scanning_description,\n",
       "          power_1ch_science_pointing_description))</td></tr><tr><td/><td/><td/><td>CROSSING OF THE MOON'S TERMINATOR / MULTI LINES</td><td>MAJ_LEGA_SCAN_001</td><td/><td/><td/><td/><td/><td/><td>MAJIS</td><td/><td>../../tests/data/absolute_time.itl</td><td>DISABLE</td><td>0.0</td><td>0.0</td><td>0.0</td><td>0.0</td><td>0.0</td><td>=IF(AND(Mirror_Flag=\"ENABLE\",ABS(Scanner_step_per_frame)<>3),\n",
       "IF(start_scan_speed=stop_scan_speed,\n",
       "ABS( (stop_angle - start_angle) / start_scan_speed ) *1000,\n",
       "ABS( (stop_angle - start_angle) / (stop_scan_speed - start_scan_speed) * LN( stop_scan_speed / start_scan_speed ) ) *\n",
       "1000),\n",
       "\"N/A\")</td><td/><td/><td>2024-08-19T21:18:09.850</td><td>2024-08-19T21:18:59.350</td><td>500</td><td>No Binning</td><td/><td>99</td><td>=IF(AND(Mirror_Flag=\"ENABLE\",ABS(Scanner_step_per_frame)<>3),\n",
       "          INT( (scanner_timetot__ms / cu_trep_ms) + 0.5),\n",
       "          \"N/A\")</td><td>400</td><td/><td>=(VI_flag=\"ON\") * VLOOKUP(SPECTRAL_MASK,list_of_spectral_masks,2,FALSE) +\n",
       "  (IR_flag=\"ON\") * VLOOKUP(SPECTRAL_MASK,list_of_spectral_masks,4,FALSE)</td><td>=((VI_flag=\"ON\") * (VLOOKUP(SPECTRAL_MASK,list_of_spectral_masks,3,FALSE)*VLOOKUP(SPECTRAL_MASK,list_of_spectral_masks,2,FALSE)) +\n",
       "   (IR_flag=\"ON\") * (VLOOKUP(SPECTRAL_MASK,list_of_spectral_masks,5,FALSE)*VLOOKUP(SPECTRAL_MASK,list_of_spectral_masks,4,FALSE))\n",
       "   ) / Number_of_spectels_after_spectral_binning</td><td>=DV__Mbits/cu_trep_ms/\n",
       "IF(nb_cu_frames_tot=65535,\n",
       "    DIFF_TIME_CA_ms(First_CU_frame_start_wrt_C_A,\n",
       "    Last_CU_frame_stop_wrt_C_A)/cu_trep_ms,nb_cu_frames_tot)*(1024*1024)</td><td>=IF(AND(nb_cu_frames_tot__computed<>\"N/A\",nb_cu_frames_tot<>nb_cu_frames_tot__computed),\n",
       "          \"ERROR: nb_cu_frames_tot and nb_cu_frames_tot (computed) are not equal\",\n",
       "          IF(nb_cu_frames_tot=65535,\n",
       "                DIFF_TIME_CA_ms(First_CU_frame_start_wrt_C_A,Last_CU_frame_stop_wrt_C_A)/cu_trep_ms,\n",
       "                nb_cu_frames_tot)\n",
       "            * ( ppe / 2^(IF(spatial_binning=\"No Binning\",0,IF(spatial_binning=\"Binning x2\",1,IF(spatial_binning=\"Binning x4\",2,\"N/A\")))) )\n",
       "            * Number_of_spectels_after_spectral_binning\n",
       "            * Nb_of_bits_per_spectel_after_compression\n",
       "            / (1024*1024)\n",
       "          )</td><td/><td>=(VI_flag=\"ON\") * VLOOKUP(BROWSE_PARAMETERS,list_of_browse_parameters,2,FALSE) +\n",
       "  (IR_flag=\"ON\") * VLOOKUP(BROWSE_PARAMETERS,list_of_browse_parameters,4,FALSE)</td><td>=IF(Number_of_browse_spectels=0,0,\n",
       "      ((VI_flag=\"ON\") * (VLOOKUP(BROWSE_PARAMETERS,list_of_browse_parameters,3,FALSE)*VLOOKUP(BROWSE_PARAMETERS,list_of_browse_parameters,2,FALSE)) +\n",
       "         (IR_flag=\"ON\") * (VLOOKUP(BROWSE_PARAMETERS,list_of_browse_parameters,5,FALSE)*VLOOKUP(BROWSE_PARAMETERS,list_of_browse_parameters,4,FALSE))\n",
       "         ) / Number_of_browse_spectels\n",
       "      )</td><td>=browse_DV__Mbits / cu_trep_ms / nb_cu_frames_tot * (1024*1024)</td><td>=IF(AND(nb_cu_frames_tot__computed<>\"N/A\",nb_cu_frames_tot<>nb_cu_frames_tot__computed),\n",
       "          \"ERROR: nb_cu_frames_tot and nb_cu_frames_tot (computed) are not equal\",\n",
       "          IF(nb_cu_frames_tot=65535,\n",
       "                DIFF_TIME_CA_ms(First_CU_frame_start_wrt_C_A,Last_CU_frame_stop_wrt_C_A)/cu_trep_ms,\n",
       "                nb_cu_frames_tot)\n",
       "            * ( ppe / 2^(IF(spatial_binning=\"No Binning\",0,IF(spatial_binning=\"Binning x2\",1,IF(spatial_binning=\"Binning x4\",2,\"N/A\")))) )\n",
       "            * Number_of_browse_spectels\n",
       "            * Nb_of_bits_per_browse_spectel_after_compression\n",
       "            / (1024*1024)\n",
       "          )</td><td/><td/><td/><td/><td/><td/><td/><td>100</td><td/><td/><td/><td/><td/><td/><td/><td/><td/><td/><td/><td/><td/><td/><td/><td>=IF(AND(VI_flag=\"ON\",IR_flag=\"ON\"),\n",
       "      IF( Mirror_Flag = \"ENABLE\",\n",
       "          power_2ch_science_scanning,\n",
       "          power_2ch_science_pointing),\n",
       "      IF( Mirror_Flag = \"ENABLE\",\n",
       "          power_1ch_science_scanning,\n",
       "          power_1ch_science_pointing))</td><td>=IF(AND(VI_flag=\"ON\",IR_flag=\"ON\"),\n",
       "      IF( Mirror_Flag = \"ENABLE\",\n",
       "          power_2ch_science_scanning_description,\n",
       "          power_2ch_science_pointing_description),\n",
       "      IF( Mirror_Flag = \"ENABLE\",\n",
       "          power_1ch_science_scanning_description,\n",
       "          power_1ch_science_pointing_description))</td></tr><tr><td/><td/><td/><td>NIGHT OBSERVATION OF KUALA LUMPUR AND SUMATRA ISLAND EAST COAST</td><td>MAJ_EGA_SCAN_001</td><td/><td/><td/><td/><td/><td/><td>MAJIS</td><td/><td>../../tests/data/absolute_time.itl</td><td>ENABLE</td><td>-1.99951</td><td>0.0235421317</td><td>0.0235421317</td><td>0.0</td><td>2.09682</td><td>=IF(AND(Mirror_Flag=\"ENABLE\",ABS(Scanner_step_per_frame)<>3),\n",
       "IF(start_scan_speed=stop_scan_speed,\n",
       "ABS( (stop_angle - start_angle) / start_scan_speed ) *1000,\n",
       "ABS( (stop_angle - start_angle) / (stop_scan_speed - start_scan_speed) * LN( stop_scan_speed / start_scan_speed ) ) *\n",
       "1000),\n",
       "\"N/A\")</td><td/><td/><td>2024-08-20T21:25</td><td>2024-08-20T21:27:54</td><td>200</td><td>No Binning</td><td/><td>870</td><td>=IF(AND(Mirror_Flag=\"ENABLE\",ABS(Scanner_step_per_frame)<>3),\n",
       "          INT( (scanner_timetot__ms / cu_trep_ms) + 0.5),\n",
       "          \"N/A\")</td><td>128</td><td/><td>=(VI_flag=\"ON\") * VLOOKUP(SPECTRAL_MASK,list_of_spectral_masks,2,FALSE) +\n",
       "  (IR_flag=\"ON\") * VLOOKUP(SPECTRAL_MASK,list_of_spectral_masks,4,FALSE)</td><td>=((VI_flag=\"ON\") * (VLOOKUP(SPECTRAL_MASK,list_of_spectral_masks,3,FALSE)*VLOOKUP(SPECTRAL_MASK,list_of_spectral_masks,2,FALSE)) +\n",
       "   (IR_flag=\"ON\") * (VLOOKUP(SPECTRAL_MASK,list_of_spectral_masks,5,FALSE)*VLOOKUP(SPECTRAL_MASK,list_of_spectral_masks,4,FALSE))\n",
       "   ) / Number_of_spectels_after_spectral_binning</td><td>=DV__Mbits/cu_trep_ms/\n",
       "IF(nb_cu_frames_tot=65535,\n",
       "    DIFF_TIME_CA_ms(First_CU_frame_start_wrt_C_A,\n",
       "    Last_CU_frame_stop_wrt_C_A)/cu_trep_ms,nb_cu_frames_tot)*(1024*1024)</td><td>=IF(AND(nb_cu_frames_tot__computed<>\"N/A\",nb_cu_frames_tot<>nb_cu_frames_tot__computed),\n",
       "          \"ERROR: nb_cu_frames_tot and nb_cu_frames_tot (computed) are not equal\",\n",
       "          IF(nb_cu_frames_tot=65535,\n",
       "                DIFF_TIME_CA_ms(First_CU_frame_start_wrt_C_A,Last_CU_frame_stop_wrt_C_A)/cu_trep_ms,\n",
       "                nb_cu_frames_tot)\n",
       "            * ( ppe / 2^(IF(spatial_binning=\"No Binning\",0,IF(spatial_binning=\"Binning x2\",1,IF(spatial_binning=\"Binning x4\",2,\"N/A\")))) )\n",
       "            * Number_of_spectels_after_spectral_binning\n",
       "            * Nb_of_bits_per_spectel_after_compression\n",
       "            / (1024*1024)\n",
       "          )</td><td/><td>=(VI_flag=\"ON\") * VLOOKUP(BROWSE_PARAMETERS,list_of_browse_parameters,2,FALSE) +\n",
       "  (IR_flag=\"ON\") * VLOOKUP(BROWSE_PARAMETERS,list_of_browse_parameters,4,FALSE)</td><td>=IF(Number_of_browse_spectels=0,0,\n",
       "      ((VI_flag=\"ON\") * (VLOOKUP(BROWSE_PARAMETERS,list_of_browse_parameters,3,FALSE)*VLOOKUP(BROWSE_PARAMETERS,list_of_browse_parameters,2,FALSE)) +\n",
       "         (IR_flag=\"ON\") * (VLOOKUP(BROWSE_PARAMETERS,list_of_browse_parameters,5,FALSE)*VLOOKUP(BROWSE_PARAMETERS,list_of_browse_parameters,4,FALSE))\n",
       "         ) / Number_of_browse_spectels\n",
       "      )</td><td>=browse_DV__Mbits / cu_trep_ms / nb_cu_frames_tot * (1024*1024)</td><td>=IF(AND(nb_cu_frames_tot__computed<>\"N/A\",nb_cu_frames_tot<>nb_cu_frames_tot__computed),\n",
       "          \"ERROR: nb_cu_frames_tot and nb_cu_frames_tot (computed) are not equal\",\n",
       "          IF(nb_cu_frames_tot=65535,\n",
       "                DIFF_TIME_CA_ms(First_CU_frame_start_wrt_C_A,Last_CU_frame_stop_wrt_C_A)/cu_trep_ms,\n",
       "                nb_cu_frames_tot)\n",
       "            * ( ppe / 2^(IF(spatial_binning=\"No Binning\",0,IF(spatial_binning=\"Binning x2\",1,IF(spatial_binning=\"Binning x4\",2,\"N/A\")))) )\n",
       "            * Number_of_browse_spectels\n",
       "            * Nb_of_bits_per_browse_spectel_after_compression\n",
       "            / (1024*1024)\n",
       "          )</td><td/><td/><td/><td/><td/><td/><td/><td>372</td><td/><td/><td/><td/><td/><td/><td/><td/><td/><td/><td/><td/><td/><td/><td/><td>=IF(AND(VI_flag=\"ON\",IR_flag=\"ON\"),\n",
       "      IF( Mirror_Flag = \"ENABLE\",\n",
       "          power_2ch_science_scanning,\n",
       "          power_2ch_science_pointing),\n",
       "      IF( Mirror_Flag = \"ENABLE\",\n",
       "          power_1ch_science_scanning,\n",
       "          power_1ch_science_pointing))</td><td>=IF(AND(VI_flag=\"ON\",IR_flag=\"ON\"),\n",
       "      IF( Mirror_Flag = \"ENABLE\",\n",
       "          power_2ch_science_scanning_description,\n",
       "          power_2ch_science_pointing_description),\n",
       "      IF( Mirror_Flag = \"ENABLE\",\n",
       "          power_1ch_science_scanning_description,\n",
       "          power_1ch_science_pointing_description))</td></tr></tbody></table>"
      ],
      "text/plain": [
       "Timeline('foo.xlsm')"
      ]
     },
     "execution_count": 41,
     "metadata": {},
     "output_type": "execute_result"
    }
   ],
   "source": [
    "Timeline('../../tests/data/absolute_time.itl', timeline='foo.xlsm')"
   ]
  },
  {
   "cell_type": "code",
   "execution_count": 44,
   "metadata": {},
   "outputs": [
    {
     "data": {
      "text/plain": [
       "'1.9.10'"
      ]
     },
     "execution_count": 44,
     "metadata": {},
     "output_type": "execute_result"
    }
   ],
   "source": [
    "Timeline('../../tests/data/absolute_time.itl', timeline='foo.xlsm').version"
   ]
  },
  {
   "cell_type": "code",
   "execution_count": 45,
   "metadata": {},
   "outputs": [
    {
     "data": {
      "text/html": [
       "<table><thead><tr><th>Version</th><th>Date</th><th>Author</th><th>Changes</th></tr></thead><tbody><tr><td>1.9.10</td><td>2024-05-29</td><td>Cydalise Dumesnil</td><td>Add new column \"Comments\"</td></tr><tr><td>1.9.9</td><td>2024-05-23</td><td>Vincent Carlier</td><td>Add new columns \"VI Gain\", \"VI Offset\", \"IR Gain\", \"IR Offset\"</td></tr><tr><td>1.9.8</td><td>2024-05-13</td><td>Vincent Carlier</td><td>Fix issues related to the decimal separator ',' or '.' depending on the host PC :\n",
       "- new variable name 'decimal_separator' used to compute the time 'wrt C/A' from 'UTC' in the cells\n",
       "- fix of the macro DIFF_TIME_ms used to compute the DV in case of continuous acquisition\n",
       "Add a note about 'scanner_timetot' computation\n",
       "Add a note about decimal separator in the time 'wrt C/A' columns</td></tr><tr><td>1.9.7</td><td>2024-04-25</td><td>Vincent Carlier</td><td>Add spectral masks</td></tr><tr><td>1.9.7</td><td>2024-03-21</td><td>Vincent Carlier</td><td>Change the names BROWSE_TABLE into BROWSE_PARAMETERS\n",
       "Change column names: \"Browse\" into \"Browse Parameters\"\n",
       "Fix fomulas for nomi and brow to take into account VI_Flag and IR_Flag\n",
       "Add bullet tips in 2nd row (copy of footer comments)</td></tr><tr><td>1.9.7</td><td>2024-03-14</td><td>Vincent Carlier</td><td>Split de number of spectels from the spectral table into VI and IR.\n",
       "Split de number of spectels from the browse parameters into VI and IR.</td></tr><tr><td>1.9.6</td><td>2024-03-14</td><td>Vincent Carlier</td><td>Add a macro which resets the unused values if Mirror Flag is \"DISABLE\"\n",
       "Add a data validation on start_angle and stop_angle (from -2.1 to +2.1)</td></tr><tr><td>1.9.6</td><td>2024-03-13</td><td>Vincent Carlier</td><td>- reorganisation of the order of columns</td></tr><tr><td>1.9.6</td><td>2024-03-11</td><td>Vincent Carlier</td><td>- Change column names: \"Observation ID\" changed in \"OBS_NAME\"</td></tr><tr><td>1.9.6</td><td>2024-03-04</td><td>Vincent Carlier</td><td>- Add a check in DV cell to check that the number of CU Frame entered by hand is equal to the computed value\n",
       "- fix the DIFF_TIME_CA_ms function to work with column name instead of cell name\n",
       "- Update color code\n",
       "- Add comments</td></tr><tr><td>1.9.5</td><td>2024-02-27</td><td>Vincent Carlier</td><td>- fix computation of scanner_timetot (ms)\n",
       "- rename the test browse table\n",
       "- change the suffix of browse parameters file to _xxx_BROWSE_PARAMETERS\n",
       "- add Europa scan bowse parameters : MAJIS_EUROPA_SCAN_BROWSE_PARAMETERS\n",
       "- add Europa scan spectral table : MAJIS_EUROPA_SCAN_SPECTRAL_TABLE\n",
       "- add some test browse parameters</td></tr><tr><td>1.9.4</td><td>2024-02-08</td><td>Vincent Carlier</td><td>- update of the Start Row VI and Start Row IR\n",
       "- fix formula of scanner_timetot (abs added for start and stop speed)\n",
       "- new spectral table MAJIS_STAR_LOCATION_WITH_SCAN_SPECTRAL_TABLE</td></tr><tr><td>1.9.4</td><td>2024-01-25</td><td>Vincent Carlier</td><td>- new column \"nb_cu_frames_tot (computed)\" added with the same formula than timeline2config when the scanner is used in asynchronous mode.\n",
       "- new column \"scanner_timetot (ms)\" added which compute the duration between the scanner start and end position. This value is then used to compute the number of CU Frames in the column \"nb_cu_frames_tot (computed)\"\n",
       "- Human-readable naming of cells used in formulas to make all the formulas readable and understandable.\n",
       "- Some foot notes are added or modified for better clarity\n",
       "- some new Spectral tables added in 'internal' sheet</td></tr><tr><td>1.9.3</td><td>2023-11-14</td><td>Vincent Carlier</td><td>Browse datavolume formula fixed</td></tr><tr><td>1.9.2</td><td>2023-10-23</td><td>Cydalise Dumesnil</td><td>equivalent nb of bits updated for table MAJIS_JUP_DISC_SCAN and MAJIS_JUP_DISC_SLEW</td></tr><tr><td>1.9.2</td><td>2023-10-12</td><td>Vincent Carlier</td><td>- Formula DIFF_TIME_CA_ms(start_ca;stop_ca) added to compute the time in milliseconds between Start and Stop. Useful to compute the number of frame and the datavolume of segment observations.</td></tr><tr><td>1.9.1</td><td>2023-09-13</td><td>Vincent Carlier</td><td>- version updated in \"info\" tab\n",
       "- New column AO: \"Nb of bits per spectel after compression\"\n",
       "- Comment in column AN fixed : \"This includes the compression rate per band\" replaced by \"This includes the spectral binning\"\n",
       "- Title of column AO updated in \"Number of spectels after spectral binning\"\n",
       "- Browse datavolume added (4 new columns BB to BE)\n",
       "- \"internal\" sheet added\n",
       "- dropdown lists created to select \"Spectral mapping\" and \"Browse\"\n",
       "- Datavolume and datarate formulas added for Nominal and Browse data\n",
       "- Power estimations added (formulas + table)</td></tr><tr><td>1.9</td><td>2023-07-13</td><td>Quentin Gottafray</td><td>Change parameters name to match MOS</td></tr><tr><td>1.8.2</td><td>2023-06-14</td><td>Cydalise Dumesnil</td><td>parameters language modification (french to english) and Gfinder correspondance</td></tr><tr><td>1.8.1</td><td>2023-06-07</td><td>all</td><td>New issue</td></tr><tr><td>1.0</td><td>2022-12-06</td><td>Cydalise Dumesnil</td><td>Despiking parameter Tint and NPE added\n",
       "Scan step number in case of synchronization added</td></tr><tr><td>1.0</td><td>2022-11-28</td><td>Cydalise Dumesnil</td><td>change of  names wrt the build_TC template</td></tr><tr><td>1.0</td><td>2022-11-08</td><td>François Poulet</td><td>creation</td></tr></tbody></table>"
      ],
      "text/plain": [
       "<majis.itl.timeline.TimelineChangeLog at 0x11c224890>"
      ]
     },
     "execution_count": 45,
     "metadata": {},
     "output_type": "execute_result"
    }
   ],
   "source": [
    "Timeline('../../tests/data/absolute_time.itl', timeline='foo.xlsm').log"
   ]
  },
  {
   "cell_type": "code",
   "execution_count": 48,
   "metadata": {},
   "outputs": [
    {
     "data": {
      "text/plain": [
       "'float'"
      ]
     },
     "execution_count": 48,
     "metadata": {},
     "output_type": "execute_result"
    }
   ],
   "source": [
    "str(type(1.0).__name__)"
   ]
  },
  {
   "cell_type": "code",
   "execution_count": 51,
   "metadata": {},
   "outputs": [
    {
     "data": {
      "text/plain": [
       "['OBS_NAME',\n",
       " None,\n",
       " None,\n",
       " None,\n",
       " None,\n",
       " None,\n",
       " None,\n",
       " None,\n",
       " None,\n",
       " None,\n",
       " None,\n",
       " None,\n",
       " None,\n",
       " None,\n",
       " None,\n",
       " None,\n",
       " None,\n",
       " None,\n",
       " None,\n",
       " None,\n",
       " None,\n",
       " None,\n",
       " None,\n",
       " None,\n",
       " None,\n",
       " None,\n",
       " None,\n",
       " None,\n",
       " None]"
      ]
     },
     "execution_count": 51,
     "metadata": {},
     "output_type": "execute_result"
    }
   ],
   "source": [
    "[\n",
    "    cell.value\n",
    "    for cell in timeline['E']\n",
    "]"
   ]
  },
  {
   "cell_type": "code",
   "execution_count": 52,
   "metadata": {},
   "outputs": [
    {
     "data": {
      "text/html": [
       "<table><thead><tr><th>Event Name</th><th>Phase</th><th>block</th><th>Comments</th><th>OBS_NAME</th><th>start_time_relative_ca</th><th>stop_time_relative_ca</th><th>start_time_utc</th><th>stop_time_utc</th><th>pointing desc</th><th>MAJIS resol</th><th>prime</th><th>MAJIS ODF name</th><th>ITL name</th><th>Mirror Flag</th><th>start_angle</th><th>start_scan_speed</th><th>stop_scan_speed</th><th>Scanner step per frame</th><th>stop_angle</th><th>scanner_timetot (ms)</th><th>First CU_frame start wrt C/A</th><th>Last CU_frame stop wrt C/A</th><th>First CU_frame start (UTC)</th><th>Last CU_frame stop (UTC)</th><th>cu_trep_ms</th><th>spatial_binning</th><th>obs durat (sec) (w/o borders)</th><th>nb_cu_frames_tot</th><th>nb_cu_frames_tot (computed)</th><th>ppe</th><th>Spectral Mapping</th><th>Number of spectels after spectral binning</th><th>Nb of bits per spectel after compression</th><th>datarate (bits/s)</th><th>DV (Mbits)</th><th>Browse Parameters</th><th>Number of browse spectels</th><th>Nb of bits per browse spectel after compression</th><th>browse datarate (bits/s)</th><th>browse DV (Mbits)</th><th>Image Mode</th><th>Dark Strategy</th><th>Dark Subtraction</th><th>VI flag</th><th>IR flag</th><th>VI Readout</th><th>IR Readout</th><th>Start Row VI</th><th>Start Row IR</th><th>VI Despiking N</th><th>VI Despiking M</th><th>VI Despiking K</th><th>VI Tint</th><th>VI Gain</th><th>VI Offset</th><th>VI NPE</th><th>IR Despiking N</th><th>IR Despiking M</th><th>IR Despiking K</th><th>IR Tint</th><th>IR Gain</th><th>IR Offset</th><th>IR NPE</th><th>Power (W)</th><th>Science mode (for power estimation)</th></tr></thead><tbody><tr><td/><td/><td/><td>MULTI WORDS COMMENT / MULTI LINES COMMENT</td><td>MAJ_JUP_DISK_SCAN_001</td><td/><td/><td/><td/><td/><td/><td>MAJIS</td><td/><td>../../tests/data/absolute_time.itl</td><td>ENABLE</td><td>-1.31051</td><td>0.0022421078</td><td>0.0022421078</td><td>0.0</td><td>0.10202</td><td>=IF(AND(Mirror_Flag=\"ENABLE\",ABS(Scanner_step_per_frame)<>3),\n",
       "    IF(start_scan_speed=stop_scan_speed,\n",
       "        ABS( (stop_angle - start_angle) / start_scan_speed ) *1000,\n",
       "        ABS( (stop_angle - start_angle) / (stop_scan_speed - start_scan_speed) * LN( stop_scan_speed / start_scan_speed ) ) *1000\n",
       "        ),\n",
       "    \"N/A\")</td><td>=IF(X3<$Y$2,\"-\",\"\") & TEXT(ABS(X3-$Y$2),\"hh:mm:ss\"&decimal_separator&\"000\")</td><td>=IF(Y3<$Y$2,\"-\",\"\") & TEXT(ABS(Y3-$Y$2),\"hh:mm:ss\"&decimal_separator&\"000\")</td><td>2032-09-23T05:15:45</td><td>2032-09-23T05:26:15</td><td>500</td><td>No Binning</td><td/><td>300</td><td>=IF(AND(Mirror_Flag=\"ENABLE\",ABS(Scanner_step_per_frame)<>3),\n",
       "          INT( (scanner_timetot__ms / cu_trep_ms) + 0.5),\n",
       "          \"N/A\")</td><td>400</td><td>MAJIS_JUP_DISK_SCAN_SPECTRAL_MASK</td><td>=(VI_flag=\"ON\") * VLOOKUP(SPECTRAL_MASK,list_of_spectral_masks,2,FALSE) +\n",
       "  (IR_flag=\"ON\") * VLOOKUP(SPECTRAL_MASK,list_of_spectral_masks,4,FALSE)</td><td>=((VI_flag=\"ON\") * (VLOOKUP(SPECTRAL_MASK,list_of_spectral_masks,3,FALSE)*VLOOKUP(SPECTRAL_MASK,list_of_spectral_masks,2,FALSE)) +\n",
       "   (IR_flag=\"ON\") * (VLOOKUP(SPECTRAL_MASK,list_of_spectral_masks,5,FALSE)*VLOOKUP(SPECTRAL_MASK,list_of_spectral_masks,4,FALSE))\n",
       "   ) / Number_of_spectels_after_spectral_binning</td><td>=DV__Mbits/cu_trep_ms/\n",
       "IF(nb_cu_frames_tot=65535,\n",
       "    DIFF_TIME_CA_ms(First_CU_frame_start_wrt_C_A,\n",
       "    Last_CU_frame_stop_wrt_C_A)/cu_trep_ms,nb_cu_frames_tot)*(1024*1024)</td><td>=IF(AND(nb_cu_frames_tot__computed<>\"N/A\",nb_cu_frames_tot<>nb_cu_frames_tot__computed),\n",
       "          \"ERROR: nb_cu_frames_tot and nb_cu_frames_tot (computed) are not equal\",\n",
       "          IF(nb_cu_frames_tot=65535,\n",
       "                DIFF_TIME_CA_ms(First_CU_frame_start_wrt_C_A,Last_CU_frame_stop_wrt_C_A)/cu_trep_ms,\n",
       "                nb_cu_frames_tot)\n",
       "            * ( ppe / 2^(IF(spatial_binning=\"No Binning\",0,IF(spatial_binning=\"Binning x2\",1,IF(spatial_binning=\"Binning x4\",2,\"N/A\")))) )\n",
       "            * Number_of_spectels_after_spectral_binning\n",
       "            * Nb_of_bits_per_spectel_after_compression\n",
       "            / (1024*1024)\n",
       "          )</td><td>MAJIS_JUP_DISK_SCAN_BROWSE_PARAMETERS</td><td>=(VI_flag=\"ON\") * VLOOKUP(BROWSE_PARAMETERS,list_of_browse_parameters,2,FALSE) +\n",
       "  (IR_flag=\"ON\") * VLOOKUP(BROWSE_PARAMETERS,list_of_browse_parameters,4,FALSE)</td><td>=IF(Number_of_browse_spectels=0,0,\n",
       "      ((VI_flag=\"ON\") * (VLOOKUP(BROWSE_PARAMETERS,list_of_browse_parameters,3,FALSE)*VLOOKUP(BROWSE_PARAMETERS,list_of_browse_parameters,2,FALSE)) +\n",
       "         (IR_flag=\"ON\") * (VLOOKUP(BROWSE_PARAMETERS,list_of_browse_parameters,5,FALSE)*VLOOKUP(BROWSE_PARAMETERS,list_of_browse_parameters,4,FALSE))\n",
       "         ) / Number_of_browse_spectels\n",
       "      )</td><td>=browse_DV__Mbits / cu_trep_ms / nb_cu_frames_tot * (1024*1024)</td><td>=IF(AND(nb_cu_frames_tot__computed<>\"N/A\",nb_cu_frames_tot<>nb_cu_frames_tot__computed),\n",
       "          \"ERROR: nb_cu_frames_tot and nb_cu_frames_tot (computed) are not equal\",\n",
       "          IF(nb_cu_frames_tot=65535,\n",
       "                DIFF_TIME_CA_ms(First_CU_frame_start_wrt_C_A,Last_CU_frame_stop_wrt_C_A)/cu_trep_ms,\n",
       "                nb_cu_frames_tot)\n",
       "            * ( ppe / 2^(IF(spatial_binning=\"No Binning\",0,IF(spatial_binning=\"Binning x2\",1,IF(spatial_binning=\"Binning x4\",2,\"N/A\")))) )\n",
       "            * Number_of_browse_spectels\n",
       "            * Nb_of_bits_per_browse_spectel_after_compression\n",
       "            / (1024*1024)\n",
       "          )</td><td>Nominal</td><td>Dark Before</td><td>Subtracted</td><td>ON</td><td>ON</td><td>1 MHz</td><td>1 MHz</td><td>100</td><td>87</td><td>4</td><td>3</td><td>Lowest</td><td>0</td><td>10</td><td>1</td><td>3</td><td>4</td><td>3</td><td>Lowest</td><td>0</td><td>10</td><td>1</td><td>3</td><td>=IF(AND(VI_flag=\"ON\",IR_flag=\"ON\"),\n",
       "      IF( Mirror_Flag = \"ENABLE\",\n",
       "          power_2ch_science_scanning,\n",
       "          power_2ch_science_pointing),\n",
       "      IF( Mirror_Flag = \"ENABLE\",\n",
       "          power_1ch_science_scanning,\n",
       "          power_1ch_science_pointing))</td><td>=IF(AND(VI_flag=\"ON\",IR_flag=\"ON\"),\n",
       "      IF( Mirror_Flag = \"ENABLE\",\n",
       "          power_2ch_science_scanning_description,\n",
       "          power_2ch_science_pointing_description),\n",
       "      IF( Mirror_Flag = \"ENABLE\",\n",
       "          power_1ch_science_scanning_description,\n",
       "          power_1ch_science_pointing_description))</td></tr><tr><td/><td/><td/><td/><td>MAJ_JUP_DISK_SCAN_002</td><td/><td/><td/><td/><td/><td/><td>MAJIS</td><td/><td>../../tests/data/absolute_time.itl</td><td>ENABLE</td><td>1.32935</td><td>-0.0022421078</td><td>-0.0022421078</td><td>3.0</td><td>-0.08318</td><td>=IF(AND(Mirror_Flag=\"ENABLE\",ABS(Scanner_step_per_frame)<>3),\n",
       "IF(start_scan_speed=stop_scan_speed,\n",
       "ABS( (stop_angle - start_angle) / start_scan_speed ) *1000,\n",
       "ABS( (stop_angle - start_angle) / (stop_scan_speed - start_scan_speed) * LN( stop_scan_speed / start_scan_speed ) ) *\n",
       "1000),\n",
       "\"N/A\")</td><td/><td/><td>2032-09-23T06:09:45</td><td>2032-09-23T06:20:15</td><td>2100</td><td>Binning x2</td><td/><td>300</td><td>=IF(AND(Mirror_Flag=\"ENABLE\",ABS(Scanner_step_per_frame)<>3),\n",
       "          INT( (scanner_timetot__ms / cu_trep_ms) + 0.5),\n",
       "          \"N/A\")</td><td>400</td><td/><td>=(VI_flag=\"ON\") * VLOOKUP(SPECTRAL_MASK,list_of_spectral_masks,2,FALSE) +\n",
       "  (IR_flag=\"ON\") * VLOOKUP(SPECTRAL_MASK,list_of_spectral_masks,4,FALSE)</td><td>=((VI_flag=\"ON\") * (VLOOKUP(SPECTRAL_MASK,list_of_spectral_masks,3,FALSE)*VLOOKUP(SPECTRAL_MASK,list_of_spectral_masks,2,FALSE)) +\n",
       "   (IR_flag=\"ON\") * (VLOOKUP(SPECTRAL_MASK,list_of_spectral_masks,5,FALSE)*VLOOKUP(SPECTRAL_MASK,list_of_spectral_masks,4,FALSE))\n",
       "   ) / Number_of_spectels_after_spectral_binning</td><td>=DV__Mbits/cu_trep_ms/\n",
       "IF(nb_cu_frames_tot=65535,\n",
       "    DIFF_TIME_CA_ms(First_CU_frame_start_wrt_C_A,\n",
       "    Last_CU_frame_stop_wrt_C_A)/cu_trep_ms,nb_cu_frames_tot)*(1024*1024)</td><td>=IF(AND(nb_cu_frames_tot__computed<>\"N/A\",nb_cu_frames_tot<>nb_cu_frames_tot__computed),\n",
       "          \"ERROR: nb_cu_frames_tot and nb_cu_frames_tot (computed) are not equal\",\n",
       "          IF(nb_cu_frames_tot=65535,\n",
       "                DIFF_TIME_CA_ms(First_CU_frame_start_wrt_C_A,Last_CU_frame_stop_wrt_C_A)/cu_trep_ms,\n",
       "                nb_cu_frames_tot)\n",
       "            * ( ppe / 2^(IF(spatial_binning=\"No Binning\",0,IF(spatial_binning=\"Binning x2\",1,IF(spatial_binning=\"Binning x4\",2,\"N/A\")))) )\n",
       "            * Number_of_spectels_after_spectral_binning\n",
       "            * Nb_of_bits_per_spectel_after_compression\n",
       "            / (1024*1024)\n",
       "          )</td><td/><td>=(VI_flag=\"ON\") * VLOOKUP(BROWSE_PARAMETERS,list_of_browse_parameters,2,FALSE) +\n",
       "  (IR_flag=\"ON\") * VLOOKUP(BROWSE_PARAMETERS,list_of_browse_parameters,4,FALSE)</td><td>=IF(Number_of_browse_spectels=0,0,\n",
       "      ((VI_flag=\"ON\") * (VLOOKUP(BROWSE_PARAMETERS,list_of_browse_parameters,3,FALSE)*VLOOKUP(BROWSE_PARAMETERS,list_of_browse_parameters,2,FALSE)) +\n",
       "         (IR_flag=\"ON\") * (VLOOKUP(BROWSE_PARAMETERS,list_of_browse_parameters,5,FALSE)*VLOOKUP(BROWSE_PARAMETERS,list_of_browse_parameters,4,FALSE))\n",
       "         ) / Number_of_browse_spectels\n",
       "      )</td><td>=browse_DV__Mbits / cu_trep_ms / nb_cu_frames_tot * (1024*1024)</td><td>=IF(AND(nb_cu_frames_tot__computed<>\"N/A\",nb_cu_frames_tot<>nb_cu_frames_tot__computed),\n",
       "          \"ERROR: nb_cu_frames_tot and nb_cu_frames_tot (computed) are not equal\",\n",
       "          IF(nb_cu_frames_tot=65535,\n",
       "                DIFF_TIME_CA_ms(First_CU_frame_start_wrt_C_A,Last_CU_frame_stop_wrt_C_A)/cu_trep_ms,\n",
       "                nb_cu_frames_tot)\n",
       "            * ( ppe / 2^(IF(spatial_binning=\"No Binning\",0,IF(spatial_binning=\"Binning x2\",1,IF(spatial_binning=\"Binning x4\",2,\"N/A\")))) )\n",
       "            * Number_of_browse_spectels\n",
       "            * Nb_of_bits_per_browse_spectel_after_compression\n",
       "            / (1024*1024)\n",
       "          )</td><td/><td/><td/><td/><td/><td/><td/><td>372</td><td/><td/><td/><td/><td/><td/><td/><td/><td/><td/><td/><td/><td/><td/><td/><td>=IF(AND(VI_flag=\"ON\",IR_flag=\"ON\"),\n",
       "      IF( Mirror_Flag = \"ENABLE\",\n",
       "          power_2ch_science_scanning,\n",
       "          power_2ch_science_pointing),\n",
       "      IF( Mirror_Flag = \"ENABLE\",\n",
       "          power_1ch_science_scanning,\n",
       "          power_1ch_science_pointing))</td><td>=IF(AND(VI_flag=\"ON\",IR_flag=\"ON\"),\n",
       "      IF( Mirror_Flag = \"ENABLE\",\n",
       "          power_2ch_science_scanning_description,\n",
       "          power_2ch_science_pointing_description),\n",
       "      IF( Mirror_Flag = \"ENABLE\",\n",
       "          power_1ch_science_scanning_description,\n",
       "          power_1ch_science_pointing_description))</td></tr></tbody></table>"
      ],
      "text/plain": [
       "Timeline('/Users/seignovert-b/Documents/Research/Nantes/repos/ias/majis-ops-toolbox/src/majis/itl/timeline.xltm')"
      ]
     },
     "execution_count": 52,
     "metadata": {},
     "output_type": "execute_result"
    }
   ],
   "source": [
    "Timeline('../../tests/data/absolute_time.itl')"
   ]
  },
  {
   "cell_type": "code",
   "execution_count": null,
   "metadata": {},
   "outputs": [],
   "source": []
  }
 ],
 "metadata": {
  "kernelspec": {
   "display_name": ".venv",
   "language": "python",
   "name": "python3"
  },
  "language_info": {
   "codemirror_mode": {
    "name": "ipython",
    "version": 3
   },
   "file_extension": ".py",
   "mimetype": "text/x-python",
   "name": "python",
   "nbconvert_exporter": "python",
   "pygments_lexer": "ipython3",
   "version": "3.11.5"
  }
 },
 "nbformat": 4,
 "nbformat_minor": 2
}
