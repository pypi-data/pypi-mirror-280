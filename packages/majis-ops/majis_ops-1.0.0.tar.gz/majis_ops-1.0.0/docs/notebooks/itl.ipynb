{
 "cells": [
  {
   "cell_type": "markdown",
   "metadata": {},
   "source": [
    "# MAJIS ITL reader"
   ]
  },
  {
   "cell_type": "code",
   "execution_count": 1,
   "metadata": {},
   "outputs": [],
   "source": [
    "from majis import read_itl\n",
    "from majis.itl import save_csv, save_itl, save_xlsm"
   ]
  },
  {
   "cell_type": "markdown",
   "metadata": {},
   "source": [
    "## Load absolute time ITL as [`EventsDict`](https://docs.planetary-coverage.org/en/stable/api/events.html#planetary_coverage.events.EventsDict)"
   ]
  },
  {
   "cell_type": "code",
   "execution_count": 2,
   "metadata": {},
   "outputs": [
    {
     "data": {
      "text/html": [
       "<table><thead><tr><th></th><th>event</th><th>#</th><th>t_start</th><th>t_stop</th></tr></thead><tbody><tr><td><em>0</em></td><td>MAJ_JUP_DISK_SCAN</td><td>2</td><td>2032-09-23</td><td>2032-09-23</td></tr></tbody></table>"
      ],
      "text/plain": [
       "<EventsDict> (2032-09-23 -> 2032-09-23 | 1 key):\n",
       " - MAJ_JUP_DISK_SCAN (2032-09-23 -> 2032-09-23 | 2 events)"
      ]
     },
     "execution_count": 2,
     "metadata": {},
     "output_type": "execute_result"
    }
   ],
   "source": [
    "itl_abs = read_itl('absolute_time.itl')\n",
    "\n",
    "itl_abs"
   ]
  },
  {
   "cell_type": "markdown",
   "metadata": {},
   "source": [
    "## Load relative time ITL as [`EventsList`](https://docs.planetary-coverage.org/en/stable/api/events.html#planetary_coverage.events.EventsList) (as a flat list)"
   ]
  },
  {
   "cell_type": "code",
   "execution_count": 3,
   "metadata": {},
   "outputs": [
    {
     "data": {
      "text/html": [
       "<table><thead><tr><th></th><th>t_start</th><th>t_end</th><th>INSTRUMENT</th><th>SCENARIO</th><th>OBS_NAME</th><th>TARGET</th><th>CU_TREP</th><th>CU_FRAME</th><th>BINNING</th><th>PPE</th><th>START_ROW_VIS</th><th>START_ANGLE</th><th>STOP_ANGLE</th><th>SYNCHRONOUS</th><th>START_SCAN_SPEED</th><th>STOP_SCAN_SPEED</th><th>PRIME</th><th>COMMENTS</th><th>ITL</th></tr></thead><tbody><tr><td><em>0</em></td><td>2032-09-23T02:58:11.000</td><td>2032-09-23T03:01:59.900</td><td>MAJIS</td><td>S007_01</td><td>MAJ_JUP_DISK_SCAN_101</td><td>JUPITER</td><td>100ms</td><td>109</td><td>1</td><td>64</td><td>436</td><td>-0.27937</td><td>+0.23385</td><td>+3</td><td>+0.0022421078</td><td>+0.0022421078</td><td>False</td><td/><td>relative_time.itl</td></tr><tr><td><em>1</em></td><td>2032-09-23T03:04:34.000</td><td>2032-09-23T03:08:22.900</td><td>MAJIS</td><td>S007_01</td><td>MAJ_JUP_DISK_SCAN_102</td><td>JUPITER</td><td>200ms</td><td>109</td><td>4</td><td>64</td><td>802</td><td>-0.37981</td><td>+0.13341</td><td>+3</td><td>+0.0022421078</td><td>+0.0022421078</td><td>False</td><td/><td>relative_time.itl</td></tr></tbody></table>"
      ],
      "text/plain": [
       "<EventsList> MAJ_JUP_DISK_SCAN (2032-09-23 -> 2032-09-23 | 2 events)"
      ]
     },
     "execution_count": 3,
     "metadata": {},
     "output_type": "execute_result"
    }
   ],
   "source": [
    "itl_rel = read_itl('relative_time.itl', refs='events.evf', flat=True)\n",
    "\n",
    "itl_rel"
   ]
  },
  {
   "cell_type": "markdown",
   "metadata": {},
   "source": [
    "## Concatenate ITL files into a single file"
   ]
  },
  {
   "cell_type": "code",
   "execution_count": 4,
   "metadata": {
    "tags": [
     "remove-output"
    ]
   },
   "outputs": [
    {
     "data": {
      "text/plain": [
       "PosixPath('output.itl')"
      ]
     },
     "execution_count": 4,
     "metadata": {},
     "output_type": "execute_result"
    }
   ],
   "source": [
    "save_itl('output.itl', itl_abs, itl_rel)"
   ]
  },
  {
   "cell_type": "code",
   "execution_count": 5,
   "metadata": {
    "tags": [
     "remove-input"
    ]
   },
   "outputs": [
    {
     "name": "stdout",
     "output_type": "stream",
     "text": [
      "# MAJIS - SCENARIO=S007_01 OBS_NAME=MAJ_JUP_DISK_SCAN_101 TARGET=JUPITER CU_TREP=100ms CU_FRAME=109 BINNING=1 PPE=64 START_ROW_VIS=436\n",
      "# MAJIS - START_ANGLE=-0.27937 STOP_ANGLE=+0.23385 SYNCHRONOUS=+3 START_SCAN_SPEED=+0.0022421078 STOP_SCAN_SPEED=+0.0022421078\n",
      "2032-09-23T02:58:11.000  MAJIS  OBS_START  MAJ_JUP_DISK_SCAN\n",
      "2032-09-23T03:01:59.900  MAJIS  OBS_END    MAJ_JUP_DISK_SCAN\n",
      "\n",
      "# MAJIS - SCENARIO=S007_01 OBS_NAME=MAJ_JUP_DISK_SCAN_102 TARGET=JUPITER CU_TREP=200ms CU_FRAME=109 BINNING=4 PPE=64 START_ROW_VIS=802\n",
      "# MAJIS - START_ANGLE=-0.37981 STOP_ANGLE=+0.13341 SYNCHRONOUS=+3 START_SCAN_SPEED=+0.0022421078 STOP_SCAN_SPEED=+0.0022421078\n",
      "2032-09-23T03:04:34.000  MAJIS  OBS_START  MAJ_JUP_DISK_SCAN\n",
      "2032-09-23T03:08:22.900  MAJIS  OBS_END    MAJ_JUP_DISK_SCAN\n",
      "\n",
      "# MAJIS - SCENARIO=S007_01 OBS_NAME=MAJ_JUP_DISK_SCAN_001 TARGET=JUPITER CU_TREP=500ms CU_FRAME=300 BINNING=1 PPE=400 START_ROW_VIS=100\n",
      "# MAJIS - START_ANGLE=-1.31051 STOP_ANGLE=+0.10202 SYNCHRONOUS=0 START_SCAN_SPEED=+0.0022421078 STOP_SCAN_SPEED=+0.0022421078\n",
      "# MAJIS - COMMENTS : MULTI WORDS COMMENT with , and ;\n",
      "# MAJIS - COMMENTS : MULTI LINES COMMENT\n",
      "2032-09-23T05:15:45.000  MAJIS  OBS_START  MAJ_JUP_DISK_SCAN (PRIME=TRUE)\n",
      "2032-09-23T05:26:15.000  MAJIS  OBS_END    MAJ_JUP_DISK_SCAN\n",
      "\n",
      "# MAJIS - SCENARIO=S007_01 OBS_NAME=MAJ_JUP_DISK_SCAN_002 TARGET=JUPITER CU_TREP=2100ms CU_FRAME=300 BINNING=2 PPE=400 START_ROW_VIS=372\n",
      "# MAJIS - START_ANGLE=+1.32935 STOP_ANGLE=-0.08318 SYNCHRONOUS=+3 START_SCAN_SPEED=-0.0022421078 STOP_SCAN_SPEED=-0.0022421078\n",
      "2032-09-23T06:09:45.000  MAJIS  OBS_START  MAJ_JUP_DISK_SCAN (PRIME=TRUE)\n",
      "2032-09-23T06:20:15.000  MAJIS  OBS_END    MAJ_JUP_DISK_SCAN\n"
     ]
    }
   ],
   "source": [
    "!cat output.itl"
   ]
  },
  {
   "cell_type": "markdown",
   "metadata": {},
   "source": [
    "```{note}\n",
    "- When multiple ITL are provided, they will be concatenate and ordered by **increasing time**.\n",
    "- Absolute and relative ITL are compatible.\n",
    "- Observation block must not overlap (can be by-pass with `overlap=True`)\n",
    "- If no relative reference is provided, the output will be in absolute time (see below for relative time).\n",
    "```"
   ]
  },
  {
   "cell_type": "markdown",
   "metadata": {},
   "source": [
    "## Export ITL with repesct to a relative time reference:"
   ]
  },
  {
   "cell_type": "code",
   "execution_count": 6,
   "metadata": {
    "tags": [
     "remove-output"
    ]
   },
   "outputs": [
    {
     "data": {
      "text/plain": [
       "PosixPath('output.itl')"
      ]
     },
     "execution_count": 6,
     "metadata": {},
     "output_type": "execute_result"
    }
   ],
   "source": [
    "save_itl('output.itl', itl_abs, itl_rel, ref='01-SEP-2032_00:00:02 EVENT_NAME (COUNT = 1)')"
   ]
  },
  {
   "cell_type": "code",
   "execution_count": 7,
   "metadata": {
    "tags": [
     "remove-input"
    ]
   },
   "outputs": [
    {
     "name": "stdout",
     "output_type": "stream",
     "text": [
      "# Relative time reference:\n",
      "# 2032-09-01T00:00:02  EVENT_NAME (COUNT = 1)\n",
      "\n",
      "# MAJIS - SCENARIO=S007_01 OBS_NAME=MAJ_JUP_DISK_SCAN_101 TARGET=JUPITER CU_TREP=100ms CU_FRAME=109 BINNING=1 PPE=64 START_ROW_VIS=436\n",
      "# MAJIS - START_ANGLE=-0.27937 STOP_ANGLE=+0.23385 SYNCHRONOUS=+3 START_SCAN_SPEED=+0.0022421078 STOP_SCAN_SPEED=+0.0022421078\n",
      "EVENT_NAME (COUNT = 1)  022.02:58:09.000  MAJIS  OBS_START  MAJ_JUP_DISK_SCAN\n",
      "EVENT_NAME (COUNT = 1)  022.03:01:57.900  MAJIS  OBS_END    MAJ_JUP_DISK_SCAN\n",
      "\n",
      "# MAJIS - SCENARIO=S007_01 OBS_NAME=MAJ_JUP_DISK_SCAN_102 TARGET=JUPITER CU_TREP=200ms CU_FRAME=109 BINNING=4 PPE=64 START_ROW_VIS=802\n",
      "# MAJIS - START_ANGLE=-0.37981 STOP_ANGLE=+0.13341 SYNCHRONOUS=+3 START_SCAN_SPEED=+0.0022421078 STOP_SCAN_SPEED=+0.0022421078\n",
      "EVENT_NAME (COUNT = 1)  022.03:04:32.000  MAJIS  OBS_START  MAJ_JUP_DISK_SCAN\n",
      "EVENT_NAME (COUNT = 1)  022.03:08:20.900  MAJIS  OBS_END    MAJ_JUP_DISK_SCAN\n",
      "\n",
      "# MAJIS - SCENARIO=S007_01 OBS_NAME=MAJ_JUP_DISK_SCAN_001 TARGET=JUPITER CU_TREP=500ms CU_FRAME=300 BINNING=1 PPE=400 START_ROW_VIS=100\n",
      "# MAJIS - START_ANGLE=-1.31051 STOP_ANGLE=+0.10202 SYNCHRONOUS=0 START_SCAN_SPEED=+0.0022421078 STOP_SCAN_SPEED=+0.0022421078\n",
      "# MAJIS - COMMENTS : MULTI WORDS COMMENT with , and ;\n",
      "# MAJIS - COMMENTS : MULTI LINES COMMENT\n",
      "EVENT_NAME (COUNT = 1)  022.05:15:43.000  MAJIS  OBS_START  MAJ_JUP_DISK_SCAN (PRIME=TRUE)\n",
      "EVENT_NAME (COUNT = 1)  022.05:26:13.000  MAJIS  OBS_END    MAJ_JUP_DISK_SCAN\n",
      "\n",
      "# MAJIS - SCENARIO=S007_01 OBS_NAME=MAJ_JUP_DISK_SCAN_002 TARGET=JUPITER CU_TREP=2100ms CU_FRAME=300 BINNING=2 PPE=400 START_ROW_VIS=372\n",
      "# MAJIS - START_ANGLE=+1.32935 STOP_ANGLE=-0.08318 SYNCHRONOUS=+3 START_SCAN_SPEED=-0.0022421078 STOP_SCAN_SPEED=-0.0022421078\n",
      "EVENT_NAME (COUNT = 1)  022.06:09:43.000  MAJIS  OBS_START  MAJ_JUP_DISK_SCAN (PRIME=TRUE)\n",
      "EVENT_NAME (COUNT = 1)  022.06:20:13.000  MAJIS  OBS_END    MAJ_JUP_DISK_SCAN\n"
     ]
    }
   ],
   "source": [
    "!cat output.itl"
   ]
  },
  {
   "cell_type": "markdown",
   "metadata": {},
   "source": [
    "## Export ITL to CSV"
   ]
  },
  {
   "cell_type": "code",
   "execution_count": 8,
   "metadata": {
    "tags": [
     "remove-output"
    ]
   },
   "outputs": [
    {
     "data": {
      "text/plain": [
       "PosixPath('output.csv')"
      ]
     },
     "execution_count": 8,
     "metadata": {},
     "output_type": "execute_result"
    }
   ],
   "source": [
    "save_csv('output.csv', itl_abs)"
   ]
  },
  {
   "cell_type": "code",
   "execution_count": 9,
   "metadata": {
    "tags": [
     "remove-input"
    ]
   },
   "outputs": [
    {
     "name": "stdout",
     "output_type": "stream",
     "text": [
      "#OBS_NAME;OBS_START;OBS_END;INSTRUMENT;SCENARIO;TARGET;CU_TREP;CU_FRAME;BINNING;PPE;START_ROW_VIS;START_ANGLE;STOP_ANGLE;SYNCHRONOUS;START_SCAN_SPEED;STOP_SCAN_SPEED;PRIME;ITL;COMMENTS\n",
      "MAJ_JUP_DISK_SCAN_001;2032-09-23T05:15:45.000;2032-09-23T05:26:15.000;MAJIS;S007_01;JUPITER;500ms;300;1;400;100;-1.31051;+0.10202;0;+0.0022421078;+0.0022421078;True;absolute_time.itl;\"MULTI WORDS COMMENT with , and ; / MULTI LINES COMMENT\"\n",
      "MAJ_JUP_DISK_SCAN_002;2032-09-23T06:09:45.000;2032-09-23T06:20:15.000;MAJIS;S007_01;JUPITER;2100ms;300;2;400;372;+1.32935;-0.08318;+3;-0.0022421078;-0.0022421078;True;absolute_time.itl;\"None\""
     ]
    }
   ],
   "source": [
    "!cat output.csv"
   ]
  },
  {
   "cell_type": "markdown",
   "metadata": {},
   "source": [
    "## Export ITL to XLSM timeline"
   ]
  },
  {
   "cell_type": "code",
   "execution_count": 10,
   "metadata": {
    "tags": [
     "remove-output"
    ]
   },
   "outputs": [
    {
     "data": {
      "text/plain": [
       "PosixPath('output.xlsm')"
      ]
     },
     "execution_count": 10,
     "metadata": {},
     "output_type": "execute_result"
    }
   ],
   "source": [
    "save_xlsm('output.xlsm', itl_abs, ca_ref='01-SEP-2032_00:00:02 CA_REF (COUNT = 1)')"
   ]
  },
  {
   "cell_type": "code",
   "execution_count": 11,
   "metadata": {
    "tags": [
     "remove-input"
    ]
   },
   "outputs": [
    {
     "data": {
      "text/html": [
       "<table><thead><tr><th>Event Name</th><th>Phase</th><th>block</th><th>Comments</th><th>OBS_NAME</th><th>start_time_relative_ca</th><th>stop_time_relative_ca</th><th>start_time_utc</th><th>stop_time_utc</th><th>pointing desc</th><th>MAJIS resol</th><th>prime</th><th>MAJIS ODF name</th><th>ITL name</th><th>Mirror Flag</th><th>start_angle</th><th>start_scan_speed</th><th>stop_scan_speed</th><th>Scanner step per frame</th><th>stop_angle</th><th>scanner_timetot (ms)</th><th>First CU_frame start wrt C/A</th><th>Last CU_frame stop wrt C/A</th><th>First CU_frame start (UTC)</th><th>Last CU_frame stop (UTC)</th><th>cu_trep_ms</th><th>spatial_binning</th><th>obs durat (sec) (w/o borders)</th><th>nb_cu_frames_tot</th><th>nb_cu_frames_tot (computed)</th><th>ppe</th><th>Spectral Mapping</th><th>Number of spectels after spectral binning</th><th>Nb of bits per spectel after compression</th><th>datarate (bits/s)</th><th>DV (Mbits)</th><th>Browse Parameters</th><th>Number of browse spectels</th><th>Nb of bits per browse spectel after compression</th><th>browse datarate (bits/s)</th><th>browse DV (Mbits)</th><th>Image Mode</th><th>Dark Strategy</th><th>Dark Subtraction</th><th>VI flag</th><th>IR flag</th><th>VI Readout</th><th>IR Readout</th><th>Start Row VI</th><th>Start Row IR</th><th>VI Despiking N</th><th>VI Despiking M</th><th>VI Despiking K</th><th>VI Tint</th><th>VI Gain</th><th>VI Offset</th><th>VI NPE</th><th>IR Despiking N</th><th>IR Despiking M</th><th>IR Despiking K</th><th>IR Tint</th><th>IR Gain</th><th>IR Offset</th><th>IR NPE</th><th>Power (W)</th><th>Science mode (for power estimation)</th></tr></thead><tbody><tr><td/><td/><td/><td>MULTI WORDS COMMENT with , and ; / MULTI LINES COMMENT</td><td>MAJ_JUP_DISK_SCAN_001</td><td/><td/><td/><td/><td/><td/><td>MAJIS</td><td/><td>absolute_time.itl</td><td>ENABLE</td><td>-1.31051</td><td>0.0022421078</td><td>0.0022421078</td><td>0</td><td>0.10202</td><td>=IF(AND(Mirror_Flag=\"ENABLE\",ABS(Scanner_step_per_frame)<>3),\n",
       "    IF(start_scan_speed=stop_scan_speed,\n",
       "        ABS( (stop_angle - start_angle) / start_scan_speed ) *1000,\n",
       "        ABS( (stop_angle - start_angle) / (stop_scan_speed - start_scan_speed) * LN( stop_scan_speed / start_scan_speed ) ) *1000\n",
       "        ),\n",
       "    \"N/A\")</td><td>022.05:15:43.000</td><td>022.05:26:13.000</td><td>2032-09-23T05:15:45.000</td><td>2032-09-23T05:26:15.000</td><td>500</td><td>No Binning</td><td/><td>300</td><td>=IF(AND(Mirror_Flag=\"ENABLE\",ABS(Scanner_step_per_frame)<>3),\n",
       "          INT( (scanner_timetot__ms / cu_trep_ms) + 0.5),\n",
       "          \"N/A\")</td><td>400</td><td/><td>=(VI_flag=\"ON\") * VLOOKUP(SPECTRAL_MASK,list_of_spectral_masks,2,FALSE) +\n",
       "  (IR_flag=\"ON\") * VLOOKUP(SPECTRAL_MASK,list_of_spectral_masks,4,FALSE)</td><td>=((VI_flag=\"ON\") * (VLOOKUP(SPECTRAL_MASK,list_of_spectral_masks,3,FALSE)*VLOOKUP(SPECTRAL_MASK,list_of_spectral_masks,2,FALSE)) +\n",
       "   (IR_flag=\"ON\") * (VLOOKUP(SPECTRAL_MASK,list_of_spectral_masks,5,FALSE)*VLOOKUP(SPECTRAL_MASK,list_of_spectral_masks,4,FALSE))\n",
       "   ) / Number_of_spectels_after_spectral_binning</td><td>=DV__Mbits/cu_trep_ms/\n",
       "IF(nb_cu_frames_tot=65535,\n",
       "    DIFF_TIME_CA_ms(First_CU_frame_start_wrt_C_A,\n",
       "    Last_CU_frame_stop_wrt_C_A)/cu_trep_ms,nb_cu_frames_tot)*(1024*1024)</td><td>=IF(AND(nb_cu_frames_tot__computed<>\"N/A\",nb_cu_frames_tot<>nb_cu_frames_tot__computed),\n",
       "          \"ERROR: nb_cu_frames_tot and nb_cu_frames_tot (computed) are not equal\",\n",
       "          IF(nb_cu_frames_tot=65535,\n",
       "                DIFF_TIME_CA_ms(First_CU_frame_start_wrt_C_A,Last_CU_frame_stop_wrt_C_A)/cu_trep_ms,\n",
       "                nb_cu_frames_tot)\n",
       "            * ( ppe / 2^(IF(spatial_binning=\"No Binning\",0,IF(spatial_binning=\"Binning x2\",1,IF(spatial_binning=\"Binning x4\",2,\"N/A\")))) )\n",
       "            * Number_of_spectels_after_spectral_binning\n",
       "            * Nb_of_bits_per_spectel_after_compression\n",
       "            / (1024*1024)\n",
       "          )</td><td/><td>=(VI_flag=\"ON\") * VLOOKUP(BROWSE_PARAMETERS,list_of_browse_parameters,2,FALSE) +\n",
       "  (IR_flag=\"ON\") * VLOOKUP(BROWSE_PARAMETERS,list_of_browse_parameters,4,FALSE)</td><td>=IF(Number_of_browse_spectels=0,0,\n",
       "      ((VI_flag=\"ON\") * (VLOOKUP(BROWSE_PARAMETERS,list_of_browse_parameters,3,FALSE)*VLOOKUP(BROWSE_PARAMETERS,list_of_browse_parameters,2,FALSE)) +\n",
       "         (IR_flag=\"ON\") * (VLOOKUP(BROWSE_PARAMETERS,list_of_browse_parameters,5,FALSE)*VLOOKUP(BROWSE_PARAMETERS,list_of_browse_parameters,4,FALSE))\n",
       "         ) / Number_of_browse_spectels\n",
       "      )</td><td>=browse_DV__Mbits / cu_trep_ms / nb_cu_frames_tot * (1024*1024)</td><td>=IF(AND(nb_cu_frames_tot__computed<>\"N/A\",nb_cu_frames_tot<>nb_cu_frames_tot__computed),\n",
       "          \"ERROR: nb_cu_frames_tot and nb_cu_frames_tot (computed) are not equal\",\n",
       "          IF(nb_cu_frames_tot=65535,\n",
       "                DIFF_TIME_CA_ms(First_CU_frame_start_wrt_C_A,Last_CU_frame_stop_wrt_C_A)/cu_trep_ms,\n",
       "                nb_cu_frames_tot)\n",
       "            * ( ppe / 2^(IF(spatial_binning=\"No Binning\",0,IF(spatial_binning=\"Binning x2\",1,IF(spatial_binning=\"Binning x4\",2,\"N/A\")))) )\n",
       "            * Number_of_browse_spectels\n",
       "            * Nb_of_bits_per_browse_spectel_after_compression\n",
       "            / (1024*1024)\n",
       "          )</td><td/><td/><td/><td/><td/><td/><td/><td>100</td><td/><td/><td/><td/><td/><td/><td/><td/><td/><td/><td/><td/><td/><td/><td/><td>=IF(AND(VI_flag=\"ON\",IR_flag=\"ON\"),\n",
       "      IF( Mirror_Flag = \"ENABLE\",\n",
       "          power_2ch_science_scanning,\n",
       "          power_2ch_science_pointing),\n",
       "      IF( Mirror_Flag = \"ENABLE\",\n",
       "          power_1ch_science_scanning,\n",
       "          power_1ch_science_pointing))</td><td>=IF(AND(VI_flag=\"ON\",IR_flag=\"ON\"),\n",
       "      IF( Mirror_Flag = \"ENABLE\",\n",
       "          power_2ch_science_scanning_description,\n",
       "          power_2ch_science_pointing_description),\n",
       "      IF( Mirror_Flag = \"ENABLE\",\n",
       "          power_1ch_science_scanning_description,\n",
       "          power_1ch_science_pointing_description))</td></tr><tr><td/><td/><td/><td/><td>MAJ_JUP_DISK_SCAN_002</td><td/><td/><td/><td/><td/><td/><td>MAJIS</td><td/><td>absolute_time.itl</td><td>ENABLE</td><td>1.32935</td><td>-0.0022421078</td><td>-0.0022421078</td><td>3</td><td>-0.08318</td><td>=IF(AND(Mirror_Flag=\"ENABLE\",ABS(Scanner_step_per_frame)<>3),\n",
       "IF(start_scan_speed=stop_scan_speed,\n",
       "ABS( (stop_angle - start_angle) / start_scan_speed ) *1000,\n",
       "ABS( (stop_angle - start_angle) / (stop_scan_speed - start_scan_speed) * LN( stop_scan_speed / start_scan_speed ) ) *\n",
       "1000),\n",
       "\"N/A\")</td><td>022.06:09:43.000</td><td>022.06:20:13.000</td><td>2032-09-23T06:09:45.000</td><td>2032-09-23T06:20:15.000</td><td>2100</td><td>Binning x2</td><td/><td>300</td><td>=IF(AND(Mirror_Flag=\"ENABLE\",ABS(Scanner_step_per_frame)<>3),\n",
       "INT( (scanner_timetot__ms / cu_trep_ms) + 0.5),\n",
       "\"N/A\")</td><td>400</td><td/><td>=(VI_flag=\"ON\") * VLOOKUP(SPECTRAL_MASK,list_of_spectral_masks,2,FALSE) +\n",
       "(IR_flag=\"ON\") * VLOOKUP(SPECTRAL_MASK,list_of_spectral_masks,4,FALSE)</td><td>=((VI_flag=\"ON\") * (VLOOKUP(SPECTRAL_MASK,list_of_spectral_masks,3,FALSE)*VLOOKUP(SPECTRAL_MASK,list_of_spectral_masks,2,FALSE)) +\n",
       "(IR_flag=\"ON\") * (VLOOKUP(SPECTRAL_MASK,list_of_spectral_masks,5,FALSE)*VLOOKUP(SPECTRAL_MASK,list_of_spectral_masks,4,FALSE))\n",
       ") / Number_of_spectels_after_spectral_binning</td><td>=DV__Mbits/cu_trep_ms/\n",
       "IF(nb_cu_frames_tot=65535,\n",
       "    DIFF_TIME_CA_ms(First_CU_frame_start_wrt_C_A,\n",
       "    Last_CU_frame_stop_wrt_C_A)/cu_trep_ms,nb_cu_frames_tot)*(1024*1024)</td><td>=IF(AND(nb_cu_frames_tot__computed<>\"N/A\",nb_cu_frames_tot<>nb_cu_frames_tot__computed),\n",
       "          \"ERROR: nb_cu_frames_tot and nb_cu_frames_tot (computed) are not equal\",\n",
       "          IF(nb_cu_frames_tot=65535,\n",
       "                DIFF_TIME_CA_ms(First_CU_frame_start_wrt_C_A,Last_CU_frame_stop_wrt_C_A)/cu_trep_ms,\n",
       "                nb_cu_frames_tot)\n",
       "            * ( ppe / 2^(IF(spatial_binning=\"No Binning\",0,IF(spatial_binning=\"Binning x2\",1,IF(spatial_binning=\"Binning x4\",2,\"N/A\")))) )\n",
       "            * Number_of_spectels_after_spectral_binning\n",
       "            * Nb_of_bits_per_spectel_after_compression\n",
       "            / (1024*1024)\n",
       "          )</td><td/><td>=(VI_flag=\"ON\") * VLOOKUP(BROWSE_PARAMETERS,list_of_browse_parameters,2,FALSE) +\n",
       "(IR_flag=\"ON\") * VLOOKUP(BROWSE_PARAMETERS,list_of_browse_parameters,4,FALSE)</td><td>=IF(Number_of_browse_spectels=0,0,\n",
       "((VI_flag=\"ON\") * (VLOOKUP(BROWSE_PARAMETERS,list_of_browse_parameters,3,FALSE)*VLOOKUP(BROWSE_PARAMETERS,list_of_browse_parameters,2,FALSE)) +\n",
       "(IR_flag=\"ON\") * (VLOOKUP(BROWSE_PARAMETERS,list_of_browse_parameters,5,FALSE)*VLOOKUP(BROWSE_PARAMETERS,list_of_browse_parameters,4,FALSE))\n",
       ") / \n",
       "Number_of_browse_spectels)</td><td>=browse_DV__Mbits / cu_trep_ms / nb_cu_frames_tot * (1024*1024)</td><td>=IF(AND(nb_cu_frames_tot__computed<>\"N/A\",nb_cu_frames_tot<>nb_cu_frames_tot__computed),\n",
       "          \"ERROR: nb_cu_frames_tot and nb_cu_frames_tot (computed) are not equal\",\n",
       "          IF(nb_cu_frames_tot=65535,\n",
       "                DIFF_TIME_CA_ms(First_CU_frame_start_wrt_C_A,Last_CU_frame_stop_wrt_C_A)/cu_trep_ms,\n",
       "                nb_cu_frames_tot)\n",
       "            * ( ppe / 2^(IF(spatial_binning=\"No Binning\",0,IF(spatial_binning=\"Binning x2\",1,IF(spatial_binning=\"Binning x4\",2,\"N/A\")))) )\n",
       "            * Number_of_browse_spectels\n",
       "            * Nb_of_bits_per_browse_spectel_after_compression\n",
       "            / (1024*1024)\n",
       "          )</td><td/><td/><td/><td/><td/><td/><td/><td>372</td><td/><td/><td/><td/><td/><td/><td/><td/><td/><td/><td/><td/><td/><td/><td/><td>=IF(AND(VI_flag=\"ON\",IR_flag=\"ON\"),\n",
       "IF( Mirror_Flag = \"ENABLE\",\n",
       "power_2ch_science_scanning,\n",
       "power_2ch_science_pointing),\n",
       "IF( Mirror_Flag = \"ENABLE\",\n",
       "power_1ch_science_scanning,\n",
       "power_1ch_science_pointing))</td><td>=IF(AND(VI_flag=\"ON\",IR_flag=\"ON\"),\n",
       "IF( Mirror_Flag = \"ENABLE\",\n",
       "power_2ch_science_scanning_description,\n",
       "power_2ch_science_pointing_description),\n",
       "IF( Mirror_Flag = \"ENABLE\",\n",
       "power_1ch_science_scanning_description,\n",
       "power_1ch_science_pointing_description))</td></tr></tbody></table>"
      ],
      "text/plain": [
       "Timeline('output.xlsm')"
      ]
     },
     "execution_count": 11,
     "metadata": {},
     "output_type": "execute_result"
    }
   ],
   "source": [
    "from majis import Timeline\n",
    "\n",
    "Timeline(timeline='output.xlsm')"
   ]
  }
 ],
 "metadata": {
  "kernelspec": {
   "display_name": ".venv",
   "language": "python",
   "name": "python3"
  },
  "language_info": {
   "codemirror_mode": {
    "name": "ipython",
    "version": 3
   },
   "file_extension": ".py",
   "mimetype": "text/x-python",
   "name": "python",
   "nbconvert_exporter": "python",
   "pygments_lexer": "ipython3",
   "version": "3.11.5"
  }
 },
 "nbformat": 4,
 "nbformat_minor": 2
}
