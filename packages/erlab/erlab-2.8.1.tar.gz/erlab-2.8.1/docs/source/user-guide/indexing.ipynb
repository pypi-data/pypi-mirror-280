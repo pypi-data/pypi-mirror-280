{
    "cells": [
        {
            "cell_type": "raw",
            "id": "37312770",
            "metadata": {
                "editable": true,
                "raw_mimetype": "text/restructuredtext",
                "slideshow": {
                    "slide_type": ""
                },
                "tags": []
            },
            "source": [
                "Selecting and indexing data\n",
                "===========================\n",
                "\n",
                "In most cases, the powerful data manipulation and indexing methods provided by :mod:`xarray` are sufficient. In this page, some frequently used :mod:`xarray` features are summarized in addition to some utilities provided by this package. Refer to the `xarray user guide <https://docs.xarray.dev/en/stable/usedatr-guide/indexing.html>`_ for more information.\n",
                "\n",
                "First, let us import some example data: a simple tight binding simulation of graphene."
            ]
        },
        {
            "cell_type": "code",
            "execution_count": null,
            "id": "a1be0841",
            "metadata": {},
            "outputs": [],
            "source": [
                "import xarray as xr\n",
                "\n",
                "xr.set_options(display_expand_data=False)"
            ]
        },
        {
            "cell_type": "code",
            "execution_count": null,
            "id": "8633209c",
            "metadata": {
                "editable": true,
                "slideshow": {
                    "slide_type": ""
                },
                "tags": []
            },
            "outputs": [],
            "source": [
                "from erlab.io.exampledata import generate_data\n",
                "\n",
                "dat = generate_data(seed=1).T"
            ]
        },
        {
            "cell_type": "code",
            "execution_count": null,
            "id": "082ec477",
            "metadata": {
                "editable": true,
                "slideshow": {
                    "slide_type": ""
                },
                "tags": []
            },
            "outputs": [],
            "source": [
                "dat"
            ]
        },
        {
            "cell_type": "markdown",
            "id": "046a132c",
            "metadata": {},
            "source": [
                "We can see that the generated data is a three-dimensional DataArray. Now, let's extract a cut along $k_y = 0.3$."
            ]
        },
        {
            "cell_type": "code",
            "execution_count": null,
            "id": "c00a34a2",
            "metadata": {
                "editable": true,
                "slideshow": {
                    "slide_type": ""
                },
                "tags": []
            },
            "outputs": [],
            "source": [
                "dat.sel(ky=0.3, method=\"nearest\")"
            ]
        },
        {
            "cell_type": "markdown",
            "id": "8f54de42",
            "metadata": {},
            "source": [
                "How about the Fermi surface?"
            ]
        },
        {
            "cell_type": "code",
            "execution_count": null,
            "id": "ee860369",
            "metadata": {},
            "outputs": [],
            "source": [
                "dat.sel(eV=0.0, method=\"nearest\")"
            ]
        },
        {
            "cell_type": "markdown",
            "id": "987121ee",
            "metadata": {},
            "source": [
                "In many scenarios, it is necessary to perform integration across multiple array slices. This can be done by slicing and averaging. The following code integrates the intensity over a window of 50 meV centered at $E_F$."
            ]
        },
        {
            "cell_type": "code",
            "execution_count": null,
            "id": "b495a686",
            "metadata": {},
            "outputs": [],
            "source": [
                "dat.sel(eV=slice(-0.025, 0.025)).mean(\"eV\")"
            ]
        },
        {
            "cell_type": "raw",
            "id": "9e68fdb4",
            "metadata": {
                "editable": true,
                "raw_mimetype": "text/restructuredtext",
                "slideshow": {
                    "slide_type": ""
                },
                "tags": [],
                "vscode": {
                    "languageId": "raw"
                }
            },
            "source": [
                "However, doing this every time is cumbersome, and we have lost the coordinate `eV`. \n",
                "\n",
                "The ``qsel`` accessor\n",
                "---------------------\n",
                "ERLabPy provides a callable accessor :class:`qsel <erlab.accessors.utils.SelectionAccessor>` to streamline this process."
            ]
        },
        {
            "cell_type": "code",
            "execution_count": null,
            "id": "00d3b00f",
            "metadata": {},
            "outputs": [],
            "source": [
                "dat.qsel(eV=0.0, eV_width=0.05)"
            ]
        },
        {
            "cell_type": "raw",
            "id": "dfc0348b",
            "metadata": {
                "editable": true,
                "raw_mimetype": "text/restructuredtext",
                "slideshow": {
                    "slide_type": ""
                },
                "tags": [],
                "vscode": {
                    "languageId": "raw"
                }
            },
            "source": [
                "Note that the averaged coordinate is automatically added to the data array. This is\n",
                "useful for plotting and further analysis.\n",
                "\n",
                "- If the width is not specified, :class:`qsel <erlab.accessors.utils.SelectionAccessor>`\n",
                "  behaves like passing ``method='nearest'`` to :meth:`sel <xarray.DataArray.sel>`.\n",
                "\n",
                "- If a `slice` object is given instead of a single value, no integration is performed.\n",
                "\n",
                "- All of these methods can be combined:"
            ]
        },
        {
            "cell_type": "code",
            "execution_count": null,
            "id": "e3bdd1ba",
            "metadata": {},
            "outputs": [],
            "source": [
                "dat.qsel(kx=slice(-0.3, 0.3), ky=0.3, eV=0.0, eV_width=0.05)"
            ]
        },
        {
            "cell_type": "raw",
            "id": "0d36f0c0",
            "metadata": {
                "editable": true,
                "raw_mimetype": "text/restructuredtext",
                "slideshow": {
                    "slide_type": ""
                },
                "tags": [],
                "vscode": {
                    "languageId": "raw"
                }
            },
            "source": [
                "The :class:`qsel <erlab.accessors.utils.SelectionAccessor>` accessor also provides a\n",
                "method :meth:`qsel.around <erlab.accessors.utils.SelectionAccessor.around>` to average\n",
                "over points within a certain distance of a given point."
            ]
        },
        {
            "cell_type": "raw",
            "id": "41bac675",
            "metadata": {
                "editable": true,
                "raw_mimetype": "text/restructuredtext",
                "slideshow": {
                    "slide_type": ""
                },
                "tags": [],
                "vscode": {
                    "languageId": "raw"
                }
            },
            "source": [
                "Masking\n",
                "-------\n",
                "\n",
                "In some cases, it is necessary to mask the data. Although basic masks are supported by :mod:`xarray`, ERLabPy provides a way to mask data with arbitrary polygons.\n",
                "\n",
                ".. admonition:: Work in Progress\n",
                "   :class: warning\n",
                "\n",
                "   This part of the user guide is still under construction. For now, see\n",
                "   :mod:`erlab.analysis.mask`. For the full list of packages and modules provided by\n",
                "   ERLabPy, see :doc:`../reference`."
            ]
        },
        {
            "cell_type": "raw",
            "id": "761eafa9",
            "metadata": {
                "editable": true,
                "raw_mimetype": "text/restructuredtext",
                "slideshow": {
                    "slide_type": ""
                },
                "tags": [],
                "vscode": {
                    "languageId": "raw"
                }
            },
            "source": [
                "Interpolation\n",
                "-------------\n",
                "\n",
                "In addition to the `powerful interpolation methods\n",
                "<https://docs.xarray.dev/en/latest/user-guide/interpolation.html>`_ provided by\n",
                ":mod:`xarray`, ERLabPy provides a convenient way to interpolate data along an arbitrary\n",
                "path.\n",
                "\n",
                "Consider a Γ-M-K-Γ high symmetry path given as a list of kx and ky coordinates:"
            ]
        },
        {
            "cell_type": "code",
            "execution_count": null,
            "id": "4ab13824",
            "metadata": {},
            "outputs": [],
            "source": [
                "import erlab.plotting.erplot as eplt\n",
                "import matplotlib.pyplot as plt\n",
                "import numpy as np\n",
                "\n",
                "a = 6.97\n",
                "kx = [0, 2 * np.pi / (a * np.sqrt(3)), 2 * np.pi / (a * np.sqrt(3)), 0]\n",
                "ky = [0, 0, 2 * np.pi / (a * 3), 0]\n",
                "\n",
                "\n",
                "dat.qsel(eV=-0.2).qplot(aspect=\"equal\", cmap=\"Greys\")\n",
                "plt.plot(kx, ky, \"o-\")"
            ]
        },
        {
            "cell_type": "markdown",
            "id": "be5e2a2d",
            "metadata": {},
            "source": [
                "To interpolate the data along this path with a step of 0.01 Å$^{-1}$, we can use the following code:"
            ]
        },
        {
            "cell_type": "code",
            "execution_count": null,
            "id": "bf4ec3c2",
            "metadata": {},
            "outputs": [],
            "source": [
                "import erlab.analysis as era\n",
                "\n",
                "dat_sliced = era.interpolate.slice_along_path(\n",
                "    dat, vertices={\"kx\": kx, \"ky\": ky}, step_size=0.01\n",
                ")\n",
                "dat_sliced"
            ]
        },
        {
            "cell_type": "markdown",
            "id": "84418499",
            "metadata": {},
            "source": [
                "We can see that the data has been interpolated along the path. The new coordinate `path` contains the distance along the path, and the dimensions `kx` and `ky` are now expressed in terms of `path`.\n",
                "\n",
                "The distance along the path can be calculated as the sum of the distances between consecutive points in the path."
            ]
        },
        {
            "cell_type": "code",
            "execution_count": null,
            "id": "c00bb21c",
            "metadata": {},
            "outputs": [],
            "source": [
                "dat_sliced.plot(cmap=\"Greys\")\n",
                "eplt.fermiline()\n",
                "\n",
                "# Distance between each pair of consecutive points\n",
                "distances = np.linalg.norm(np.diff(np.vstack([kx, ky]), axis=-1), axis=0)\n",
                "seg_coords = np.concatenate(([0], np.cumsum(distances)))\n",
                "\n",
                "plt.xticks(seg_coords, labels=[\"Γ\", \"M\", \"K\", \"Γ\"])\n",
                "plt.xlim(0, seg_coords[-1])\n",
                "for seg in seg_coords[1:-1]:\n",
                "    plt.axvline(seg, ls=\"--\", c=\"k\", lw=1)"
            ]
        },
        {
            "cell_type": "markdown",
            "id": "5a9036d9",
            "metadata": {},
            "source": [
                "You will learn more about plotting in the next section."
            ]
        }
    ],
    "metadata": {
        "kernelspec": {
            "display_name": "Python 3 (ipykernel)",
            "language": "python",
            "name": "python3"
        },
        "language_info": {
            "codemirror_mode": {
                "name": "ipython",
                "version": 3
            },
            "file_extension": ".py",
            "mimetype": "text/x-python",
            "name": "python",
            "nbconvert_exporter": "python",
            "pygments_lexer": "ipython3",
            "version": "3.11.9"
        }
    },
    "nbformat": 4,
    "nbformat_minor": 5
}
