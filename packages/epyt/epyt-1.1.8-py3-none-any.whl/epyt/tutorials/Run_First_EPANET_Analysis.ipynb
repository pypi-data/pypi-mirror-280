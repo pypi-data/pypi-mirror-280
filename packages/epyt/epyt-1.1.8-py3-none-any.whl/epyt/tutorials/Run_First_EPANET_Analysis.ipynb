{
 "cells": [
  {
   "cell_type": "markdown",
   "source": [
    "# EpyT Basic Functionalities\n",
    "\n",
    "### Table of Contents\n",
    "* Initialize EPANET-MATLAB Toolkit\n",
    "* Running your first analysis\n",
    "* Other methods  to run EPANET\n",
    "* Plot results\n",
    "* Iteratively (step-by-step) hydraulic analysis\n",
    "* Iteratively (step-by-step) quality analysis"
   ],
   "metadata": {
    "collapsed": false
   },
   "id": "f5e4a1a0ab4123ff"
  },
  {
   "cell_type": "markdown",
   "source": [
    "### Initialize EPANET Python Toolkit (EPyT)\n",
    "\n",
    "You should always begin with this command to import the toolkit."
   ],
   "metadata": {
    "collapsed": false
   },
   "id": "e66af3efe802e0d3"
  },
  {
   "cell_type": "code",
   "outputs": [],
   "source": [
    "from epyt import epanet"
   ],
   "metadata": {
    "collapsed": false,
    "ExecuteTime": {
     "end_time": "2024-06-20T09:30:42.530048800Z",
     "start_time": "2024-06-20T09:30:42.467316100Z"
    }
   },
   "id": "32dc981b7df58ac2",
   "execution_count": null
  },
  {
   "cell_type": "markdown",
   "source": [
    "### Load a benchmark network\n",
    "Decide which benchmark network to use and load the network"
   ],
   "metadata": {
    "collapsed": false
   },
   "id": "9ab75467312bfab3"
  },
  {
   "cell_type": "code",
   "outputs": [],
   "source": [
    "#decide which network to load from the \"/networks/\" folder  \n",
    "filename = 'Net1.inp' #you can also try 'net2-cl2.inp', 'Net3.inp', etc.\n",
    "\n",
    "#call epanet class and load all data and functions in G structure\n",
    "G = epanet(filename)\n",
    "G.plot()"
   ],
   "metadata": {
    "collapsed": false,
    "ExecuteTime": {
     "end_time": "2024-06-20T09:30:43.034397800Z",
     "start_time": "2024-06-20T09:30:42.554090700Z"
    }
   },
   "id": "a19a6512998d48e8",
   "execution_count": null
  },
  {
   "cell_type": "markdown",
   "source": [
    "### Running your first analysis\n",
    "There are 4 ways to run a simulation using the Toolkit:\n",
    "\n",
    "1. &nbsp;&nbsp;&nbsp;&nbsp;Using the batch hydraulic/quality analysis function\n",
    "2. &nbsp;&nbsp;&nbsp;&nbsp;Using the iterative (step-by-step) hydraulic/quality analysis function\n",
    "3. &nbsp;&nbsp;&nbsp;&nbsp;Using the ENepanet function binary file\n",
    "4. &nbsp;&nbsp;&nbsp;&nbsp;Using the command line and the binary file\n",
    "\n"
   ],
   "metadata": {
    "collapsed": false
   },
   "id": "4bf16e38e375972f"
  },
  {
   "cell_type": "code",
   "outputs": [],
   "source": [
    "#set simulation duration at hours \n",
    "hrs = 48 \n",
    "G.setTimeSimulationDuration(3600*hrs)"
   ],
   "metadata": {
    "collapsed": false,
    "ExecuteTime": {
     "end_time": "2024-06-20T09:30:43.034397800Z",
     "start_time": "2024-06-20T09:30:42.943540200Z"
    }
   },
   "id": "fc39b8c3f2ce3639",
   "execution_count": null
  },
  {
   "cell_type": "markdown",
   "source": [
    "### Execute the simulation using the batch hydraulic analysis method\n"
   ],
   "metadata": {
    "collapsed": false
   },
   "id": "f2fa44cf59171470"
  },
  {
   "cell_type": "code",
   "outputs": [],
   "source": [
    "H = G.getComputedHydraulicTimeSeries()\n",
    "G.getAllAttributes(H)"
   ],
   "metadata": {
    "collapsed": false,
    "ExecuteTime": {
     "end_time": "2024-06-20T09:30:43.170461300Z",
     "start_time": "2024-06-20T09:30:42.958055700Z"
    }
   },
   "id": "b9d405f2d6ba9df7",
   "execution_count": null
  },
  {
   "cell_type": "markdown",
   "source": [
    "### Execute the simulation using the batch quality analysis method"
   ],
   "metadata": {
    "collapsed": false
   },
   "id": "b605d50d766968db"
  },
  {
   "cell_type": "code",
   "outputs": [],
   "source": [
    "Q = G.getComputedQualityTimeSeries()\n",
    "G.getAllAttributes(Q)"
   ],
   "metadata": {
    "collapsed": false,
    "ExecuteTime": {
     "end_time": "2024-06-20T09:30:43.230144100Z",
     "start_time": "2024-06-20T09:30:43.058687200Z"
    }
   },
   "id": "696f64a1dab4d583",
   "execution_count": null
  },
  {
   "cell_type": "markdown",
   "source": [
    "### Other methods  to run EPANET"
   ],
   "metadata": {
    "collapsed": false
   },
   "id": "b41c10e23d6de09c"
  },
  {
   "cell_type": "markdown",
   "source": [
    "### Method using the EPANET executable"
   ],
   "metadata": {
    "collapsed": false
   },
   "id": "58230995827c03ff"
  },
  {
   "cell_type": "code",
   "outputs": [],
   "source": [
    "Hexe = G.getComputedTimeSeries()\n",
    "G.getAllAttributes(Hexe)"
   ],
   "metadata": {
    "collapsed": false,
    "ExecuteTime": {
     "end_time": "2024-06-20T09:30:43.632487300Z",
     "start_time": "2024-06-20T09:30:43.118354400Z"
    }
   },
   "id": "aa79e0a6158ebb8b",
   "execution_count": null
  },
  {
   "cell_type": "markdown",
   "source": [
    "### Method using the ENepanet library function (fastest)"
   ],
   "metadata": {
    "collapsed": false
   },
   "id": "6b72020f3f42ebac"
  },
  {
   "cell_type": "code",
   "outputs": [],
   "source": [
    "Hbatch = G.getComputedTimeSeries_ENepanet()\n",
    "G.getAllAttributes(Hbatch)"
   ],
   "metadata": {
    "collapsed": false,
    "ExecuteTime": {
     "end_time": "2024-06-20T09:30:43.718249300Z",
     "start_time": "2024-06-20T09:30:43.626860900Z"
    }
   },
   "id": "c9a3380ec9ad43b",
   "execution_count": null
  },
  {
   "cell_type": "markdown",
   "source": [
    "### Plot results"
   ],
   "metadata": {
    "collapsed": false
   },
   "id": "e2aed1aed9876191"
  },
  {
   "cell_type": "code",
   "outputs": [],
   "source": [
    "import datetime\n",
    "import matplotlib.pyplot as plt\n",
    "import numpy as np\n",
    "\n",
    "#Get pressure in meters\n",
    "P = H.Pressure\n",
    "print(P)\n",
    "\n",
    "F = H.Flow\n",
    "print(F)\n",
    "\n",
    "C = Q.NodeQuality\n",
    "print(C)\n",
    "#Your turn: Plot Chlorine in node with index 10 "
   ],
   "metadata": {
    "collapsed": false,
    "ExecuteTime": {
     "end_time": "2024-06-20T09:30:43.764685500Z",
     "start_time": "2024-06-20T09:30:43.723949500Z"
    }
   },
   "id": "1bc3158238fd647b",
   "execution_count": null
  },
  {
   "cell_type": "code",
   "outputs": [],
   "source": [
    "T = H.Time.astype(float)  \n",
    "Tcl = Q.Time.astype(float)  \n",
    "TD = [datetime.datetime(2022, 7, 18, 0, 0) + datetime.timedelta(seconds=int(t)) for t in T]  \n",
    "TQ = [datetime.datetime(2022, 7, 18, 0, 0) + datetime.timedelta(seconds=int(t)) for t in Tcl] \n",
    "\n",
    "plt.rc('xtick', labelsize=5)\n",
    "plt.rc('ytick', labelsize=7)\n",
    "fig, ax = plt.subplots(figsize=(4, 3))\n",
    "\n",
    "fig.set_figwidth(8)\n",
    "ax.plot(TD, P[:, 5])\n",
    "ax.grid(True)\n",
    "ax.set_title(f\"Pressure in Node {G.getNodeNameID(6)}\", fontsize=8)\n",
    "ax.set_ylabel(\"Pressure (meters)\", fontsize=7)\n",
    "ax.set_xlabel(\"Time\", fontsize=7)\n",
    "\n",
    "#pipeindex = G.getLinkIndex(['0'])\n",
    "fig, ax = plt.subplots(figsize=(4, 3))\n",
    "fig.set_figwidth(8)\n",
    "ax.plot(TD, F[:, pipeindex])\n",
    "ax.grid(True)\n",
    "#ax.set_title(f\"Flow in Pipe {G.getLinkNameID(pipeindex)}\", fontsize=8)\n",
    "ax.set_title(f\"Flow in Pipe \", fontsize=8)\n",
    "ax.set_ylabel(\"Flow (CMH)\", fontsize=7)\n",
    "ax.set_xlabel(\"Time\", fontsize=7)\n",
    "\n",
    "fig, ax = plt.subplots(figsize=(4, 3))\n",
    "fig.set_figwidth(8)\n",
    "ax.plot(TQ, C[:, 5])\n",
    "ax.grid(True)\n",
    "ax.set_title(f\"Chlorine concentration in Node {G.getNodeNameID(1)}\", fontsize=8)\n",
    "ax.set_ylabel(\"Free Chlorine (mg/L)\", fontsize=7)\n",
    "ax.set_xlabel(\"Time\", fontsize=7)\n",
    "\n",
    "plt.show()"
   ],
   "metadata": {
    "collapsed": false,
    "ExecuteTime": {
     "end_time": "2024-06-20T09:31:30.592780900Z",
     "start_time": "2024-06-20T09:31:27.653674500Z"
    }
   },
   "id": "6ff44fc37f178697",
   "execution_count": null
  },
  {
   "cell_type": "markdown",
   "source": [
    "![Alt text](images/pic1.jpeg)"
   ],
   "metadata": {
    "collapsed": false
   },
   "id": "bf0a386bfff73b43"
  },
  {
   "cell_type": "markdown",
   "source": [
    "### Plot node pressures for specific nodes "
   ],
   "metadata": {
    "collapsed": false
   },
   "id": "326a65e8704563af"
  },
  {
   "cell_type": "code",
   "outputs": [],
   "source": [
    "node_indices = [1,2,3] #nodes 1, 2 and 3 \n",
    "print(\"Node_indeces = \",node_indices)\n",
    "node_names = [G.getNodeNameID(idx) for idx in node_indices]  # Python indexing starts from 0\n",
    "Units = G.getUnits()\n",
    "FlowUnits = G.getFlowUnits()\n",
    "print(\"Flow_Units = \",FlowUnits)\n",
    "\n",
    "fig, axs = plt.subplots(3, 1, figsize=(8, 6), sharex=True) \n",
    "\n",
    "for k, node_index in enumerate(node_indices):\n",
    "    ax = axs[k] \n",
    "    ax.plot(TD, P[:, node_index - 1])  # Python indexing starts from 0\n",
    "    fig.set_figwidth(7)\n",
    "    ax.set_title(f'Pressure for the node id \"{node_names[k]}\"', fontsize=11)\n",
    "    ax.set_xlabel('Time (hrs)', fontsize=7)\n",
    "    ax.set_ylabel(f'Pressure ({G.NodePressureUnits})', fontsize=9) \n",
    "\n",
    "plt.show()"
   ],
   "metadata": {
    "collapsed": false,
    "ExecuteTime": {
     "start_time": "2024-06-20T09:30:44.461322400Z"
    }
   },
   "id": "303d7ef88d9cc6ee",
   "execution_count": null
  },
  {
   "cell_type": "markdown",
   "source": [
    "![Alt text](images/pic2.jpeg)\n"
   ],
   "metadata": {
    "collapsed": false
   },
   "id": "6f871aec8fb701b4"
  },
  {
   "cell_type": "markdown",
   "source": [
    "### Iteratively (step-by-step) hydraulic analysis"
   ],
   "metadata": {
    "collapsed": false
   },
   "id": "c68e1622a247b31b"
  },
  {
   "cell_type": "code",
   "outputs": [],
   "source": [
    "# 4 steps to run hydraulics\n",
    "G.openHydraulicAnalysis()  # Step 1\n",
    "G.initializeHydraulicAnalysis()  # Step 2\n",
    "\n",
    "tstep = 1\n",
    "P2 = []\n",
    "T2 = []\n",
    "D2 = []\n",
    "H2 = []\n",
    "F2 = []\n",
    "\n",
    "while tstep > 0:\n",
    "    ttmp = G.runHydraulicAnalysis()  # Step 3\n",
    "    P2.append(G.getNodePressure())\n",
    "    D2.append(G.getNodeActualDemand())\n",
    "    H2.append(G.getNodeElevations())\n",
    "    #H2.append(G.getNodeHydaulicHead())\n",
    "    F2.append(G.getLinkFlows())\n",
    "    T2.append(ttmp)\n",
    "    tstep = G.nextHydraulicAnalysisStep()  # Step 4\n",
    "\n",
    "G.closeHydraulicAnalysis()"
   ],
   "metadata": {
    "collapsed": false,
    "ExecuteTime": {
     "start_time": "2024-06-20T09:30:44.464117400Z"
    }
   },
   "id": "9fc26765279b1afb",
   "execution_count": null
  },
  {
   "cell_type": "markdown",
   "source": [
    "### Plot figures"
   ],
   "metadata": {
    "collapsed": false
   },
   "id": "8728521d95df08fe"
  },
  {
   "cell_type": "code",
   "outputs": [],
   "source": [
    "#import matplotlib.pyplot as plt\n",
    "\n",
    "fig, ax = plt.subplots()\n",
    "for i, node_index in enumerate(node_indices):\n",
    "    ax.plot(TD, [row[node_index - 1] for row in P2], label=f'Node {node_index}')\n",
    "ax.set_title(f'Pressure for 3 nodes ', fontsize=10)\n",
    "ax.set_xlabel('Time', fontsize=8)\n",
    "ax.set_ylabel(f'Pressure({G.NodePressureUnits})', fontsize=8)\n",
    "fig.set_figwidth(7)\n",
    "ax.legend(loc='upper right', fontsize=7)\n",
    "plt.show()"
   ],
   "metadata": {
    "collapsed": false,
    "ExecuteTime": {
     "start_time": "2024-06-20T09:30:44.465860Z"
    }
   },
   "id": "5218adb452387e86",
   "execution_count": null
  },
  {
   "cell_type": "markdown",
   "source": [
    "### Iteratively (step-by-step) quality analysis"
   ],
   "metadata": {
    "collapsed": false
   },
   "id": "2f0900f6cfded80f"
  },
  {
   "cell_type": "code",
   "outputs": [],
   "source": [
    "# requires solveCompleteHydraulics\n",
    "G.openQualityAnalysis()\n",
    "G.initializeQualityAnalysis()\n",
    "tleft = 1\n",
    "QT = []\n",
    "QsN = []\n",
    "QsL = []\n",
    "\n",
    "while tleft > 0:\n",
    "    ttmp = G.runQualityAnalysis()\n",
    "    QsN.append(G.getNodeActualQuality())\n",
    "    QsL.append(G.getLinkActualQuality())\n",
    "    QT.append(ttmp)\n",
    "    tleft = G.stepQualityAnalysisTimeLeft()\n",
    "\n",
    "G.closeQualityAnalysis()"
   ],
   "metadata": {
    "collapsed": false,
    "ExecuteTime": {
     "start_time": "2024-06-20T09:30:44.468038400Z"
    }
   },
   "id": "659f766bd479d64",
   "execution_count": null
  },
  {
   "cell_type": "markdown",
   "source": [
    "### Plot figures"
   ],
   "metadata": {
    "collapsed": false
   },
   "id": "6ed7b9f7a9f860e5"
  },
  {
   "cell_type": "code",
   "outputs": [],
   "source": [
    "fig, ax = plt.subplots()\n",
    "ax.plot(QT, [row[4] for row in QsN])  # Assuming the node index is 5 (Python indexing starts from 0)\n",
    "\n",
    "ax.set_xlabel('Time', fontsize=7)\n",
    "ax.set_ylabel('Node Actual Quality', fontsize=7)\n",
    "ax.set_title('Node Actual Quality over Time', fontsize=8)\n",
    "\n",
    "fig.set_figwidth(6)\n",
    "plt.show()"
   ],
   "metadata": {
    "collapsed": false,
    "ExecuteTime": {
     "start_time": "2024-06-20T09:30:44.470424Z"
    }
   },
   "id": "ac2a65193b177584",
   "execution_count": null
  },
  {
   "cell_type": "code",
   "outputs": [],
   "source": [],
   "metadata": {
    "collapsed": false,
    "ExecuteTime": {
     "start_time": "2024-06-20T09:30:44.472728800Z"
    }
   },
   "id": "86de5a2a71f2e85d",
   "execution_count": null
  }
 ],
 "metadata": {
  "kernelspec": {
   "display_name": "Python 3",
   "language": "python",
   "name": "python3"
  },
  "language_info": {
   "codemirror_mode": {
    "name": "ipython",
    "version": 2
   },
   "file_extension": ".py",
   "mimetype": "text/x-python",
   "name": "python",
   "nbconvert_exporter": "python",
   "pygments_lexer": "ipython2",
   "version": "2.7.6"
  }
 },
 "nbformat": 4,
 "nbformat_minor": 5
}
