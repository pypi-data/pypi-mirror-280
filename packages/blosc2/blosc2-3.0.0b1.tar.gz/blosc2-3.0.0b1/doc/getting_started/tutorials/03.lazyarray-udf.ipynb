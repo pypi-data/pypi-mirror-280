{
 "cells": [
  {
   "cell_type": "markdown",
   "metadata": {},
   "source": [
    "# LazyArray: User Defined Functions\n",
    "\n",
    "Python-Blosc2 implements a powerful way to operate with NDArray (and other flavors) objects.  In this section, we will see how to do computations with NDArray arrays using functions defined by ourselves (aka User-Defined-Functions).\n"
   ]
  },
  {
   "cell_type": "code",
   "execution_count": 1,
   "metadata": {
    "is_executing": true
   },
   "outputs": [],
   "source": [
    "import blosc2\n",
    "import numpy as np\n",
    "import numba as nb"
   ]
  },
  {
   "cell_type": "markdown",
   "metadata": {},
   "source": [
    "## A simple example\n",
    "First, let's create a NumPy array which we will use to create and fill a NDArray."
   ]
  },
  {
   "cell_type": "code",
   "execution_count": 2,
   "metadata": {
    "ExecuteTime": {
     "end_time": "2024-06-17T16:25:37.933120Z",
     "start_time": "2024-06-17T16:25:37.917344Z"
    }
   },
   "outputs": [],
   "source": [
    "shape = (500, 1000)\n",
    "npa = np.linspace(0, 1, np.prod(shape), dtype=np.float32).reshape(shape)"
   ]
  },
  {
   "cell_type": "markdown",
   "metadata": {},
   "source": [
    "Now, let's define our function. This function can be executed for each block or chunk and will always receive 3 parameters. The first one is the inputs tuple to which we can pass any operand such as a NDArray, NumPy array or Python scalar. The second is the output buffer to be filled and the third is an offset corresponding to the start inside the array of the chunk or block being filled."
   ]
  },
  {
   "cell_type": "code",
   "execution_count": 3,
   "metadata": {
    "ExecuteTime": {
     "end_time": "2024-06-17T16:25:37.937379Z",
     "start_time": "2024-06-17T16:25:37.933866Z"
    }
   },
   "outputs": [],
   "source": [
    "def add_one(inputs_tuple, output, offset):\n",
    "    x = inputs_tuple[0]\n",
    "    output[:] = x + 1"
   ]
  },
  {
   "cell_type": "markdown",
   "metadata": {},
   "source": [
    "As you can see, this function will take the first input, add one and save the result in output.\n",
    "\n",
    "Now, to actually create a `LazyUDF` we will use its constructor `lazyudf`."
   ]
  },
  {
   "cell_type": "code",
   "execution_count": 4,
   "metadata": {
    "ExecuteTime": {
     "end_time": "2024-06-17T16:25:37.952919Z",
     "start_time": "2024-06-17T16:25:37.939388Z"
    }
   },
   "outputs": [
    {
     "name": "stdout",
     "output_type": "stream",
     "text": [
      "Class: <class 'blosc2.lazyexpr.LazyUDF'>\n"
     ]
    }
   ],
   "source": [
    "b = blosc2.lazyudf(add_one, (npa, ), npa.dtype)\n",
    "print(f\"Class: {type(b)}\")"
   ]
  },
  {
   "cell_type": "markdown",
   "metadata": {},
   "source": [
    "Next, to execute and get the result of your function you can choose between the `__getitem__` and `eval` methods.\n",
    "The main difference is that the first one will return the computed result as a NumPy array whereas the second one will return a NDArray. Let's see `__getitem__` first."
   ]
  },
  {
   "cell_type": "code",
   "execution_count": 5,
   "metadata": {
    "ExecuteTime": {
     "end_time": "2024-06-17T16:25:38.124960Z",
     "start_time": "2024-06-17T16:25:37.953509Z"
    }
   },
   "outputs": [
    {
     "name": "stdout",
     "output_type": "stream",
     "text": [
      "Class: <class 'numpy.ndarray'>\n",
      "CPU times: user 6.25 ms, sys: 6.59 ms, total: 12.8 ms\n",
      "Wall time: 8.49 ms\n"
     ]
    }
   ],
   "source": [
    "%%time\n",
    "npc = b[...]\n",
    "print(f\"Class: {type(npc)}\")"
   ]
  },
  {
   "cell_type": "markdown",
   "metadata": {},
   "source": [
    "\n",
    "Now, let's use `eval` for the same purpose. The advantage of using this method is that you can pass some construction parameters for the resulting NDArray like the `urlpath` to store the resulting array on-disk."
   ]
  },
  {
   "cell_type": "code",
   "execution_count": 6,
   "metadata": {
    "ExecuteTime": {
     "end_time": "2024-06-17T16:25:38.129282Z",
     "start_time": "2024-06-17T16:25:38.125643Z"
    }
   },
   "outputs": [
    {
     "name": "stdout",
     "output_type": "stream",
     "text": [
      "Class: <class 'blosc2.ndarray.NDArray'>\n",
      "type    : NDArray\n",
      "shape   : (500, 1000)\n",
      "chunks  : (500, 1000)\n",
      "blocks  : (20, 1000)\n",
      "dtype   : float32\n",
      "cratio  : 23.13\n",
      "cparams : {'blocksize': 80000,\n",
      " 'clevel': 1,\n",
      " 'codec': <Codec.ZSTD: 5>,\n",
      " 'codec_meta': 0,\n",
      " 'filters': [<Filter.NOFILTER: 0>,\n",
      "             <Filter.NOFILTER: 0>,\n",
      "             <Filter.NOFILTER: 0>,\n",
      "             <Filter.NOFILTER: 0>,\n",
      "             <Filter.NOFILTER: 0>,\n",
      "             <Filter.SHUFFLE: 1>],\n",
      " 'filters_meta': [0, 0, 0, 0, 0, 0],\n",
      " 'nthreads': 7,\n",
      " 'splitmode': <SplitMode.ALWAYS_SPLIT: 1>,\n",
      " 'typesize': 4,\n",
      " 'use_dict': 0}\n",
      "dparams : {'nthreads': 7}\n",
      "\n"
     ]
    }
   ],
   "source": [
    "c = b.eval(urlpath=\"res.b2nd\", mode=\"w\")\n",
    "print(f\"Class: {type(c)}\")\n",
    "print(c.info)"
   ]
  },
  {
   "cell_type": "markdown",
   "metadata": {},
   "source": [
    "## Comparison with Numba\n",
    "In this section we will compare Python-Blosc2 performance with Numba. For this we will execute the same function but using Numba."
   ]
  },
  {
   "cell_type": "code",
   "execution_count": 11,
   "metadata": {},
   "outputs": [],
   "source": [
    "@nb.jit(nopython=True, parallel=True)\n",
    "def add_one(inputs_tuple, output, offset):\n",
    "    x = inputs_tuple[0]\n",
    "    output[:] = x + 1"
   ]
  },
  {
   "cell_type": "code",
   "execution_count": 12,
   "metadata": {},
   "outputs": [
    {
     "name": "stdout",
     "output_type": "stream",
     "text": [
      "CPU times: user 188 ms, sys: 4.06 ms, total: 192 ms\n",
      "Wall time: 191 ms\n"
     ]
    }
   ],
   "source": [
    "%%time\n",
    "out = np.empty(c.shape, dtype=c.dtype)\n",
    "add_one((npa,), out, 0)"
   ]
  },
  {
   "cell_type": "markdown",
   "metadata": {},
   "source": [
    "As you can see, Python-Blosc2 was much faster than Numba."
   ]
  },
  {
   "cell_type": "markdown",
   "metadata": {},
   "source": [
    "## Summary\n",
    "\n",
    "In this section, we have seen how to execute user-defined fucntion and get the result as a NumPy or NDArray. We have also seen that the Python-Blosc2 `LazyUDF` is faster than the Numba way for getting the same result."
   ]
  }
 ],
 "metadata": {
  "kernelspec": {
   "display_name": "Python 3 (ipykernel)",
   "language": "python",
   "name": "python3"
  },
  "language_info": {
   "codemirror_mode": {
    "name": "ipython",
    "version": 3
   },
   "file_extension": ".py",
   "mimetype": "text/x-python",
   "name": "python",
   "nbconvert_exporter": "python",
   "pygments_lexer": "ipython3",
   "version": "3.11.4"
  }
 },
 "nbformat": 4,
 "nbformat_minor": 4
}
