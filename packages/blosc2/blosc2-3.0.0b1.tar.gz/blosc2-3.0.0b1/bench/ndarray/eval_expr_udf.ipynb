{
 "cells": [
  {
   "metadata": {
    "ExecuteTime": {
     "end_time": "2024-05-04T12:25:32.558507Z",
     "start_time": "2024-05-04T12:25:32.545676Z"
    }
   },
   "cell_type": "code",
   "source": [
    "#######################################################################\n",
    "# Copyright (c) 2019-present, Blosc Development Team <blosc@blosc.org>\n",
    "# All rights reserved.\n",
    "#\n",
    "# This source code is licensed under a BSD-style license (found in the\n",
    "# LICENSE file in the root directory of this source tree)\n",
    "#######################################################################\n",
    "\n",
    "# Benchmark to evaluate expressions with numba and NDArray instances as operands.\n",
    "# As numba takes a while to compile the first time, we use cached functions, so\n",
    "# make sure to run the script at least a couple of times.\n",
    "\n",
    "from time import time\n",
    "\n",
    "import numba as nb\n",
    "import numexpr as ne\n",
    "import numpy as np\n",
    "\n",
    "import blosc2\n",
    "%load_ext cython"
   ],
   "id": "4b68f2f4c5c9b2bd",
   "execution_count": 8,
   "outputs": []
  },
  {
   "metadata": {
    "ExecuteTime": {
     "end_time": "2024-05-04T12:25:32.569788Z",
     "start_time": "2024-05-04T12:25:32.562855Z"
    }
   },
   "cell_type": "code",
   "source": [
    "shape = (5000, 10_000)\n",
    "chunks = [500, 10_000]\n",
    "blocks = [4, 10_000]\n",
    "dtype = np.float32\n",
    "\n",
    "# Expression to evaluate\n",
    "exprs = (\"x < .5\",\n",
    "         \"(x**2 + y**2) <= (2 * x * y + 1)\",\n",
    "         \"(sin(x)**3 + cos(y)**2) >= (cos(x) * sin(y) + z)\",\n",
    "         )"
   ],
   "id": "b6c21b039603e094",
   "execution_count": 9,
   "outputs": []
  },
  {
   "metadata": {
    "ExecuteTime": {
     "end_time": "2024-05-04T12:25:33.548772Z",
     "start_time": "2024-05-04T12:25:32.570831Z"
    }
   },
   "cell_type": "code",
   "source": [
    "# Prepare the operands\n",
    "npx = np.linspace(0, 1, np.prod(shape), dtype=dtype).reshape(shape)\n",
    "npy = np.linspace(-1, 1, np.prod(shape), dtype=dtype).reshape(shape)\n",
    "npz = np.linspace(0, 10, np.prod(shape), dtype=dtype).reshape(shape)\n",
    "vardict = {\"x\": npx, \"y\": npy, \"z\": npz, \"np\": np}\n",
    "x = blosc2.asarray(npx, chunks=chunks, blocks=blocks)\n",
    "y = blosc2.asarray(npy, chunks=chunks, blocks=blocks)\n",
    "z = blosc2.asarray(npz, chunks=chunks, blocks=blocks)\n",
    "b2vardict = {\"x\": x, \"y\": y, \"z\": z, \"blosc2\": blosc2}"
   ],
   "id": "a5b1e447cca4b2cd",
   "execution_count": 10,
   "outputs": []
  },
  {
   "metadata": {
    "ExecuteTime": {
     "end_time": "2024-05-04T12:25:33.559612Z",
     "start_time": "2024-05-04T12:25:33.552277Z"
    }
   },
   "cell_type": "code",
   "source": [
    "# Define the functions to evaluate the expressions\n",
    "\n",
    "# The numba+blosc2 version using an udf\n",
    "@nb.jit(parallel=True, cache=True)\n",
    "def udf_numba(inputs, output, offset):\n",
    "    icount = len(inputs)\n",
    "    x = inputs[0]\n",
    "    if icount == 1:\n",
    "        for i in nb.prange(x.shape[0]):\n",
    "            for j in nb.prange(x.shape[1]):\n",
    "                output[i, j] = x[i, j] < .5\n",
    "    elif icount == 2:\n",
    "        y = inputs[1]\n",
    "        for i in nb.prange(x.shape[0]):\n",
    "            for j in nb.prange(x.shape[1]):\n",
    "                output[i, j] = x[i, j]**2 + y[i, j]**2 <= 2 * x[i, j] * y[i, j] + 1\n",
    "    elif icount == 3:\n",
    "        y = inputs[1]\n",
    "        z = inputs[2]\n",
    "        for i in nb.prange(x.shape[0]):\n",
    "            for j in nb.prange(x.shape[1]):\n",
    "                output[i, j] = (np.sin(x[i, j])**3 + np.cos(y[i, j])**2) >= (np.cos(x[i, j]) * np.sin(y[i, j]) + z[i, j])\n",
    "    return"
   ],
   "id": "9a51232c36a3b077",
   "execution_count": 11,
   "outputs": []
  },
  {
   "metadata": {
    "ExecuteTime": {
     "end_time": "2024-05-04T12:25:43.390067Z",
     "start_time": "2024-05-04T12:25:33.560173Z"
    }
   },
   "cell_type": "code",
   "source": [
    "# Evaluate expressions\n",
    "for n, expr in enumerate(exprs):\n",
    "    print(f\"*** Evaluating expression: {expr} ...\")\n",
    "\n",
    "    # Evaluate the expression with NumPy/numexpr\n",
    "    npexpr = expr.replace(\"sin\", \"np.sin\").replace(\"cos\", \"np.cos\")\n",
    "    t0 = time()\n",
    "    npres = eval(npexpr, vardict)\n",
    "    print(\"NumPy took %.3f s\" % (time() - t0))\n",
    "    # ne.set_num_threads(1)\n",
    "    # nb.set_num_threads(1)  # this does not work that well; better use the NUMBA_NUM_THREADS env var\n",
    "    output = npres.copy()\n",
    "    t0 = time()\n",
    "    ne.evaluate(expr, vardict, out=output)\n",
    "    print(\"NumExpr took %.3f s\" % (time() - t0))\n",
    "    np.testing.assert_equal(output, npres)\n",
    "\n",
    "    # Evaluate the expression with Blosc2+numexpr\n",
    "    blosc2.cparams_dflts[\"codec\"] = blosc2.Codec.LZ4\n",
    "    blosc2.cparams_dflts[\"clevel\"] = 5\n",
    "    b2expr = expr.replace(\"sin\", \"blosc2.sin\").replace(\"cos\", \"blosc2.cos\")\n",
    "    c = eval(b2expr, b2vardict)\n",
    "    t0 = time()\n",
    "    d = c.eval()\n",
    "    print(\"LazyExpr+eval took %.3f s\" % (time() - t0))\n",
    "    # Check\n",
    "    np.testing.assert_equal(d[:], npres)\n",
    "    t0 = time()\n",
    "    d = c[:]\n",
    "    print(\"LazyExpr+getitem took %.3f s\" % (time() - t0))\n",
    "    # Check\n",
    "    np.testing.assert_equal(d[:], npres)\n",
    "\n",
    "    inputs, npinputs = (x,), (npx,)\n",
    "    if n == 1:\n",
    "        inputs, npinputs = (x, y), (npx, npy)\n",
    "    elif n == 2:\n",
    "        inputs, npinputs = (x, y, z), (npx, npy, npz)\n",
    "\n",
    "    t0 = time()\n",
    "    udf_numba(npinputs, output, offset=None)\n",
    "    print(\"Numba took %.3f s\" % (time() - t0))\n",
    "    np.testing.assert_equal(output, npres)\n",
    "\n",
    "    expr_ = blosc2.lazyudf(udf_numba, inputs, np.bool_, chunked_eval=False,\n",
    "                           chunks=chunks, blocks=blocks)\n",
    "    # actual benchmark\n",
    "    # eval() uses the udf function as a prefilter\n",
    "    t0 = time()\n",
    "    res = expr_.eval()\n",
    "    print(\"LazyUDF+eval took %.3f s\" % (time() - t0))\n",
    "    np.testing.assert_equal(res[...], npres)\n",
    "    # getitem uses the same compiled function but as a postfilter\n",
    "    t0 = time()\n",
    "    res = expr_[:]\n",
    "    print(\"LazyUDF+getitem took %.3f s\" % (time() - t0))\n",
    "    np.testing.assert_equal(res[...], npres)\n",
    "\n",
    "    expr_ = blosc2.lazyudf(udf_numba, inputs, np.bool_, chunked_eval=True,\n",
    "                           chunks=chunks, blocks=blocks)\n",
    "    # getitem but using chunked evaluation\n",
    "    t0 = time()\n",
    "    res = expr_.eval()\n",
    "    print(\"LazyUDF+chunked_eval took %.3f s\" % (time() - t0))\n",
    "    np.testing.assert_equal(res[...], npres)\n",
    "    t0 = time()\n",
    "    res = expr_[:]\n",
    "    print(\"LazyUDF+getitem+chunked_eval took %.3f s\" % (time() - t0))\n",
    "    np.testing.assert_equal(res[...], npres)\n"
   ],
   "id": "9e47960a0fa46630",
   "execution_count": 12,
   "outputs": []
  },
  {
   "metadata": {
    "ExecuteTime": {
     "end_time": "2024-05-04T12:25:43.427233Z",
     "start_time": "2024-05-04T12:25:43.391016Z"
    }
   },
   "cell_type": "code",
   "source": [
    "%%cython\n",
    "# The cython+blosc2 version using an udf\n",
    "import numpy as np\n",
    "cimport numpy as np\n",
    "cimport cython\n",
    "from cython.parallel cimport parallel, prange\n",
    "from libc.math cimport sinf, cosf\n",
    "#from cpython cimport bool\n",
    "@cython.boundscheck(False)  # Deactivate bounds checking\n",
    "@cython.wraparound(False)   # Deactivate negative indexing.\n",
    "#def udf_cython(inputs, np.ndarray[np.npy_bool, ndim=2] output, object offset):\n",
    "def udf_cython(inputs, np.npy_bool[:, ::1] output, object offset) -> None:\n",
    "    cdef int icount = len(inputs)\n",
    "    #print(f\"*** icount: {icount}\")\n",
    "    cdef np.npy_float32[:, ::1] x, y, z\n",
    "    x = inputs[0]\n",
    "    cdef long shape0, shape1\n",
    "    shape0 = x.shape[0]\n",
    "    shape1 = x.shape[1]\n",
    "    cdef int i, j\n",
    "    if icount == 1:\n",
    "        with nogil, parallel():\n",
    "            for i in prange(shape0):\n",
    "                for j in prange(shape1):\n",
    "                    output[i, j] = x[i, j] < .5\n",
    "    elif icount == 2:\n",
    "        y = inputs[1]\n",
    "        with nogil, parallel():\n",
    "            for i in prange(shape0):\n",
    "                for j in prange(shape1):\n",
    "                    output[i, j] = x[i, j]**2 + y[i, j]**2 <= 2 * x[i, j] * y[i, j] + 1\n",
    "    elif icount == 3:\n",
    "        y = inputs[1]\n",
    "        z = inputs[2]\n",
    "        with nogil, parallel():\n",
    "            for i in prange(shape0):\n",
    "                for j in prange(shape1):\n",
    "                    output[i, j] = (sinf(x[i, j])**3 + cosf(y[i, j])**2) >= (cosf(x[i, j]) * sinf(y[i, j]) + z[i, j])\n",
    "    return"
   ],
   "id": "3a7dfa7269233a2a",
   "execution_count": 13,
   "outputs": []
  },
  {
   "metadata": {
    "ExecuteTime": {
     "end_time": "2024-05-04T12:25:52.427228Z",
     "start_time": "2024-05-04T12:25:43.427837Z"
    }
   },
   "cell_type": "code",
   "source": [
    "# Evaluate expressions for cython\n",
    "for n, expr in enumerate(exprs):\n",
    "    print(f\"*** Evaluating expression: {expr} ...\")\n",
    "    npres = np.empty_like(npx, dtype=np.bool_)\n",
    "    ne.evaluate(expr, vardict, out=npres)\n",
    "\n",
    "    inputs, npinputs = (x,), (npx,)\n",
    "    if n == 1:\n",
    "        inputs, npinputs = (x, y), (npx, npy)\n",
    "    elif n == 2:\n",
    "        inputs, npinputs = (x, y, z), (npx, npy, npz)\n",
    "\n",
    "    expr_ = blosc2.lazyudf(udf_cython, inputs, np.bool_, chunked_eval=False,\n",
    "                           chunks=chunks, blocks=blocks)\n",
    "    # actual benchmark\n",
    "    # eval() uses the udf function as a prefilter\n",
    "    t0 = time()\n",
    "    res = expr_.eval()\n",
    "    print(\"LazyUDF+eval+cython took %.3f s\" % (time() - t0))\n",
    "    np.testing.assert_equal(res[...], npres)\n",
    "    # getitem uses the same compiled function but as a postfilter\n",
    "    t0 = time()\n",
    "    res = expr_[:]\n",
    "    print(\"LazyUDF+getitem+cython took %.3f s\" % (time() - t0))\n",
    "    np.testing.assert_equal(res[...], npres)\n",
    "\n",
    "    expr_ = blosc2.lazyudf(udf_cython, inputs, np.bool_, chunked_eval=True,\n",
    "                           chunks=chunks, blocks=blocks)\n",
    "    # getitem but using chunked evaluation\n",
    "    t0 = time()\n",
    "    res = expr_.eval()\n",
    "    print(\"LazyUDF+chunked_eval+cython took %.3f s\" % (time() - t0))\n",
    "    np.testing.assert_equal(res[...], npres)\n",
    "    t0 = time()\n",
    "    res = expr_[:]\n",
    "    print(\"LazyUDF+getitem+chunked_eval+cython took %.3f s\" % (time() - t0))\n",
    "    np.testing.assert_equal(res[...], npres)\n"
   ],
   "id": "290f2f38aa29724d",
   "execution_count": 14,
   "outputs": []
  },
  {
   "metadata": {
    "ExecuteTime": {
     "end_time": "2024-05-04T12:25:52.429466Z",
     "start_time": "2024-05-04T12:25:52.428035Z"
    }
   },
   "cell_type": "code",
   "source": "",
   "id": "ae2b7cd68d60a875",
   "execution_count": 14,
   "outputs": []
  }
 ],
 "metadata": {
  "kernelspec": {
   "display_name": "Python 3",
   "language": "python",
   "name": "python3"
  },
  "language_info": {
   "codemirror_mode": {
    "name": "ipython",
    "version": 2
   },
   "file_extension": ".py",
   "mimetype": "text/x-python",
   "name": "python",
   "nbconvert_exporter": "python",
   "pygments_lexer": "ipython2",
   "version": "2.7.6"
  }
 },
 "nbformat": 4,
 "nbformat_minor": 5
}
