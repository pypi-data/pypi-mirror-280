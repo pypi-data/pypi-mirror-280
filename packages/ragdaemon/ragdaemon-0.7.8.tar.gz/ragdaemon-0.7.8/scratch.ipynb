{
 "cells": [
  {
   "cell_type": "code",
   "execution_count": 1,
   "metadata": {},
   "outputs": [
    {
     "name": "stdout",
     "output_type": "stream",
     "text": [
      "Initialized empty graph.\n",
      "Initializing annotators: ['hierarchy']...\n",
      "Saved updated graph to /Users/granthawkins/.mentat/ragdaemon/ragdaemon-django.json\n",
      "Elapsed time: 0:00:04.696033\n"
     ]
    }
   ],
   "source": [
    "from pathlib import Path\n",
    "\n",
    "from datetime import datetime\n",
    "\n",
    "from ragdaemon.daemon import Daemon\n",
    "\n",
    "annotators = {\n",
    "    \"hierarchy\": {},\n",
    "    # \"chunker\": {},\n",
    "    # \"call_graph\": {},\n",
    "    # \"summarizer\": {},\n",
    "    # \"diff\": {},\n",
    "}\n",
    "\n",
    "sample_dir = Path.home() / \"django\"\n",
    "# sample_dir = Path.cwd()\n",
    "start_time = datetime.now()\n",
    "daemon = Daemon(\n",
    "    cwd=sample_dir, \n",
    "    annotators=annotators, \n",
    "    verbose=2\n",
    ")\n",
    "await daemon.update()\n",
    "print(\"Elapsed time:\", datetime.now() - start_time)\n",
    "\n",
    "# Baseline: 1:12, 1:11\n",
    "# Remove bm25: 01:09, 1:11\n",
    "# lru_cache is_text_encoded: 1.05, 1.06"
   ]
  },
  {
   "cell_type": "code",
   "execution_count": 2,
   "metadata": {},
   "outputs": [
    {
     "name": "stdout",
     "output_type": "stream",
     "text": [
      "02-got_paths 0.6188850402832031\n",
      "03-load_files 0.30980491638183594\n",
      "04-load_dirs 65.60865926742554\n",
      "05-sync_db 0.09315681457519531\n"
     ]
    }
   ],
   "source": [
    "import json\n",
    "\n",
    "with open('timestamps.json') as f:\n",
    "    timestamps = json.load(f)\n",
    "# Sort alphabetically\n",
    "timestamps = dict(sorted(timestamps.items()))\n",
    "last_time = None\n",
    "for name, time in timestamps.items():\n",
    "    if last_time is not None:\n",
    "        print(name, time - last_time)\n",
    "    last_time = time"
   ]
  },
  {
   "cell_type": "code",
   "execution_count": 3,
   "metadata": {},
   "outputs": [
    {
     "name": "stdout",
     "output_type": "stream",
     "text": [
      "3221\n"
     ]
    }
   ],
   "source": [
    "directory_nodes = [\n",
    "    node for node, data in daemon.graph.nodes(data=True)\n",
    "    if data[\"type\"] == \"directory\"\n",
    "]\n",
    "print(len(directory_nodes))"
   ]
  },
  {
   "cell_type": "code",
   "execution_count": 3,
   "metadata": {},
   "outputs": [
    {
     "name": "stdout",
     "output_type": "stream",
     "text": [
      "['file1.py', 'ROOT', 'file1.py:BASE', 'file1.py:hello', 'DEFAULT']\n"
     ]
    }
   ],
   "source": [
    "from pathlib import Path\n",
    "from ragdaemon.daemon import Daemon\n",
    "\n",
    "cwd = Path.home() / \"Desktop\" / \"testrepo\"\n",
    "daemon = Daemon(cwd)\n",
    "await daemon.update()\n",
    "print([n for n in daemon.graph.nodes])"
   ]
  },
  {
   "cell_type": "code",
   "execution_count": 4,
   "metadata": {},
   "outputs": [
    {
     "name": "stdout",
     "output_type": "stream",
     "text": [
      "['file2', 'file1.py', 'ROOT', 'file1.py:BASE', 'file1.py:hello', 'DEFAULT']\n"
     ]
    }
   ],
   "source": [
    "# Create a new file, file2, with hello world\n",
    "file2 = cwd / \"file2\"\n",
    "file2.write_text(\"hello world\")\n",
    "# Stage it with git\n",
    "# import subprocess\n",
    "# subprocess.run([\"git\", \"add\", \"file2\"], cwd=cwd)\n",
    "# subprocess.run([\"git\", \"commit\", \"-m\", \"add file2\"], cwd=cwd)\n",
    "\n",
    "await daemon.update()\n",
    "print([n for n in daemon.graph.nodes])\n"
   ]
  },
  {
   "cell_type": "code",
   "execution_count": 1,
   "metadata": {},
   "outputs": [
    {
     "ename": "NameError",
     "evalue": "name 'daemon' is not defined",
     "output_type": "error",
     "traceback": [
      "\u001b[0;31m---------------------------------------------------------------------------\u001b[0m",
      "\u001b[0;31mNameError\u001b[0m                                 Traceback (most recent call last)",
      "Cell \u001b[0;32mIn[1], line 5\u001b[0m\n\u001b[1;32m      1\u001b[0m \u001b[38;5;28;01mfrom\u001b[39;00m \u001b[38;5;21;01mragdaemon\u001b[39;00m\u001b[38;5;21;01m.\u001b[39;00m\u001b[38;5;21;01mget_paths\u001b[39;00m \u001b[38;5;28;01mimport\u001b[39;00m get_paths_for_directory\n\u001b[1;32m      2\u001b[0m \u001b[38;5;28;01mfrom\u001b[39;00m \u001b[38;5;21;01mragdaemon\u001b[39;00m\u001b[38;5;21;01m.\u001b[39;00m\u001b[38;5;21;01mannotators\u001b[39;00m\u001b[38;5;21;01m.\u001b[39;00m\u001b[38;5;21;01mhierarchy\u001b[39;00m \u001b[38;5;28;01mimport\u001b[39;00m files_checksum\n\u001b[0;32m----> 5\u001b[0m \u001b[43mdaemon\u001b[49m\u001b[38;5;241m.\u001b[39mpipeline[\u001b[38;5;124m'\u001b[39m\u001b[38;5;124mhierarchy\u001b[39m\u001b[38;5;124m'\u001b[39m]\u001b[38;5;241m.\u001b[39mis_complete(daemon\u001b[38;5;241m.\u001b[39mgraph, \u001b[38;5;28;01mNone\u001b[39;00m)\n\u001b[1;32m      6\u001b[0m \u001b[38;5;28mprint\u001b[39m(daemon\u001b[38;5;241m.\u001b[39mgraph\u001b[38;5;241m.\u001b[39mgraph\u001b[38;5;241m.\u001b[39mget(\u001b[38;5;124m\"\u001b[39m\u001b[38;5;124mfiles_checksum\u001b[39m\u001b[38;5;124m\"\u001b[39m))\n\u001b[1;32m      7\u001b[0m \u001b[38;5;28mprint\u001b[39m(files_checksum(cwd))\n",
      "\u001b[0;31mNameError\u001b[0m: name 'daemon' is not defined"
     ]
    }
   ],
   "source": [
    "from ragdaemon.get_paths import get_paths_for_directory\n",
    "from ragdaemon.annotators.hierarchy import files_checksum\n",
    "\n",
    "\n",
    "daemon.pipeline['hierarchy'].is_complete(daemon.graph, None)\n",
    "print(daemon.graph.graph.get(\"files_checksum\"))\n",
    "print(files_checksum(cwd))\n",
    "\n",
    "for path in get_paths_for_directory(cwd):\n",
    "    print(str((cwd / path).stat().st_mtime))"
   ]
  },
  {
   "cell_type": "code",
   "execution_count": null,
   "metadata": {},
   "outputs": [],
   "source": []
  }
 ],
 "metadata": {
  "kernelspec": {
   "display_name": ".venv",
   "language": "python",
   "name": "python3"
  },
  "language_info": {
   "codemirror_mode": {
    "name": "ipython",
    "version": 3
   },
   "file_extension": ".py",
   "mimetype": "text/x-python",
   "name": "python",
   "nbconvert_exporter": "python",
   "pygments_lexer": "ipython3",
   "version": "3.11.7"
  }
 },
 "nbformat": 4,
 "nbformat_minor": 2
}
