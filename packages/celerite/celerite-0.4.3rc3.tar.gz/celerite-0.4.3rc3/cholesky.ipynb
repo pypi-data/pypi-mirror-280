{
 "cells": [
  {
   "cell_type": "code",
   "execution_count": 181,
   "metadata": {
    "collapsed": false
   },
   "outputs": [
    {
     "name": "stdout",
     "output_type": "stream",
     "text": [
      "Semiseparable error: 1.3500315867439023e-13\n",
      "Cholesky error: 2.2026890678642093e-13\n",
      "-1.36424205266e-12\n"
     ]
    }
   ],
   "source": [
    "import numpy as np\n",
    "\n",
    "N = 1000\n",
    "J = 8\n",
    "alpha = 1.0+np.random.rand(J//2) + 1.0j * np.random.rand(J//2)\n",
    "alpha = np.append(alpha, np.conj(alpha))\n",
    "beta = 1.0+np.random.rand(J//2) + 1.0j * np.random.rand(J//2)\n",
    "beta = np.append(beta, np.conj(beta))\n",
    "t = np.sort(np.random.uniform(-100.0, 100.0, N))\n",
    "y0 = np.sin(t)\n",
    "u = alpha*np.exp(-beta * t[:, None])\n",
    "v = np.exp(beta * t[:, None])\n",
    "diag = 0.1 + np.sum(alpha).real + np.zeros(N)\n",
    "\n",
    "K = np.sum(alpha*np.exp(-beta*np.abs(t[:, None] - t[None, :])[:, :, None]), axis=-1)\n",
    "K[np.diag_indices_from(K)] = diag\n",
    "\n",
    "K0 = np.tril(np.dot(u, v.T), -1) + np.triu(np.dot(v, u.T), 1)\n",
    "K0[np.diag_indices_from(K0)] = diag\n",
    "print(\"Semiseparable error: {0}\".format(np.max(np.abs(K - K0))))\n",
    "\n",
    "# Cholesky method\n",
    "dt = np.diff(t)\n",
    "phi = np.exp(-beta * dt[:, None])\n",
    "D = np.empty(N, dtype=alpha.dtype)\n",
    "X = np.empty((N, J), dtype=alpha.dtype)\n",
    "\n",
    "# Explicit first step\n",
    "# D[0] = np.sqrt(diag[0])\n",
    "D[0] = diag[0]\n",
    "X[0] = 1.0 / D[0]\n",
    "S = X[0][:, None] * X[0][None, :] * D[0]\n",
    "\n",
    "# Then the rest\n",
    "for n in range(1, N):\n",
    "    St = phi[n-1][:, None] * phi[n-1][None, :] * S\n",
    "#     D[n] = np.sqrt(diag[n] - np.sum(alpha[None, :] * alpha[:, None] * St))\n",
    "    D[n] = diag[n] - np.sum(alpha[None, :] * alpha[:, None] * St)\n",
    "    X[n] = (1.0 - np.sum(alpha[None, :] * St, axis=1)) / D[n]\n",
    "    S = St + X[n][:, None] * X[n][None, :] * D[n]\n",
    "\n",
    "# Check factorization\n",
    "L = np.tril(np.dot(u, (v*X).T), -1)\n",
    "L[np.diag_indices_from(L)] = 1.0\n",
    "# L[np.diag_indices_from(L)] = D\n",
    "\n",
    "print(\"Cholesky error: {0}\".format(np.max(np.abs(np.dot(L, np.dot(np.diag(D), L.T)) - K))))\n",
    "print(np.sum(np.log(D)).real - np.linalg.slogdet(K)[1])"
   ]
  },
  {
   "cell_type": "code",
   "execution_count": 182,
   "metadata": {
    "collapsed": false
   },
   "outputs": [],
   "source": [
    "D_orig = np.array(D)"
   ]
  },
  {
   "cell_type": "code",
   "execution_count": 183,
   "metadata": {
    "collapsed": false
   },
   "outputs": [
    {
     "name": "stdout",
     "output_type": "stream",
     "text": [
      "Forward sub error: 2.1902621458465837e-14\n",
      "Backward sub error: 4.05925762865106e-16\n",
      "Full solve error: 2.1331253615756953e-15\n"
     ]
    }
   ],
   "source": [
    "y = np.array(y0)\n",
    "z = np.empty(N, dtype=alpha.dtype)\n",
    "z[0] = y[0] / D[0]\n",
    "f = 0.0\n",
    "for n in range(1, N):\n",
    "    f = phi[n-1] * (f + alpha * X[n-1] * z[n-1] * D[n-1]) \n",
    "    z[n] = (y[n] - np.sum(f)) / D[n]\n",
    "print(\"Forward sub error: {0}\".format(np.max(np.abs(z - np.linalg.solve(L, y) / D))))\n",
    "\n",
    "y = np.array(z)  # / D\n",
    "z = np.empty(N, dtype=alpha.dtype)\n",
    "z[-1] = y[-1]  # / D[-1]\n",
    "f = 0.0\n",
    "for n in range(N-2, -1, -1):\n",
    "    f = phi[n] * (f + alpha * z[n+1]) \n",
    "    z[n] = (y[n] - np.sum(f * X[n]))  # / D[n]\n",
    "print(\"Backward sub error: {0}\".format(np.max(np.abs(z - np.linalg.solve(L.T, y)))))\n",
    "\n",
    "print(\"Full solve error: {0}\".format(np.max(np.abs(np.linalg.solve(K, y0) - z))))"
   ]
  },
  {
   "cell_type": "code",
   "execution_count": null,
   "metadata": {
    "collapsed": true
   },
   "outputs": [],
   "source": []
  },
  {
   "cell_type": "code",
   "execution_count": 208,
   "metadata": {
    "collapsed": false
   },
   "outputs": [
    {
     "name": "stdout",
     "output_type": "stream",
     "text": [
      "Semiseparable error: 1.3677947663381929e-13\n",
      "Cholesky error: 2.2382096176443156e-13\n",
      "Log determinant error: -1.8189894035458565e-12\n"
     ]
    }
   ],
   "source": [
    "a = 2*alpha[:J//2].real\n",
    "b = 2*alpha[:J//2].imag\n",
    "c = beta[:J//2].real\n",
    "d = beta[:J//2].imag\n",
    "\n",
    "tt = t[:, None]\n",
    "u1 = a*np.exp(-c*tt)*np.cos(d*tt) + b*np.exp(-c*tt)*np.sin(d*tt)\n",
    "u2 = a*np.exp(-c*tt)*np.sin(d*tt) - b*np.exp(-c*tt)*np.cos(d*tt)\n",
    "v1 = np.exp(c*tt)*np.cos(d*tt)\n",
    "v2 = np.exp(c*tt)*np.sin(d*tt)\n",
    "\n",
    "ut1 = a*np.cos(d*tt) + b*np.sin(d*tt)\n",
    "ut2 = a*np.sin(d*tt) - b*np.cos(d*tt)\n",
    "vt1 = np.cos(d*tt)\n",
    "vt2 = np.sin(d*tt)\n",
    "dt = np.diff(t)[:, None]\n",
    "phi = np.exp(-c * dt)\n",
    "\n",
    "K2 = np.tril(np.dot(u1, v1.T), -1) + np.triu(np.dot(v1, u1.T), 1)\n",
    "K2 += np.tril(np.dot(u2, v2.T), -1) + np.triu(np.dot(v2, u2.T), 1)\n",
    "K2[np.diag_indices_from(K2)] = diag\n",
    "print(\"Semiseparable error: {0}\".format(np.max(np.abs(K.real - K2))))\n",
    "\n",
    "D = np.empty(N)\n",
    "X1 = np.empty((N, J//2))\n",
    "X2 = np.empty((N, J//2))\n",
    "\n",
    "D[0] = diag[0]\n",
    "X1[0] = vt1[0] / D[0]\n",
    "X2[0] = vt2[0] / D[0]\n",
    "S11 = X1[0, None, :] * X1[0, :, None] * D[0]\n",
    "S12 = X1[0, :, None] * X2[0, None, :] * D[0]\n",
    "S22 = X2[0, None, :] * X2[0, :, None] * D[0]\n",
    "\n",
    "for n in range(1, N):\n",
    "    S11 *= phi[n-1, :, None] * phi[n-1, None, :]\n",
    "    S12 *= phi[n-1, :, None] * phi[n-1, None, :]\n",
    "    S22 *= phi[n-1, :, None] * phi[n-1, None, :]\n",
    "    \n",
    "    D[n] = diag[n]\n",
    "    D[n] -= np.sum(S11 * ut1[n, None, :] * ut1[n, :, None])\n",
    "    D[n] -= np.sum(S22 * ut2[n, None, :] * ut2[n, :, None])\n",
    "    D[n] -= 2*np.sum(S12 * ut1[n, :, None] * ut2[n, None, :])\n",
    "    \n",
    "    X1[n] = vt1[n]\n",
    "    X1[n] -= np.sum(S11 * ut1[n, None, :], axis=1)\n",
    "    X1[n] -= np.sum(S12 * ut2[n, None, :], axis=1)\n",
    "    X1[n] /= D[n]\n",
    "    \n",
    "    X2[n] = vt2[n]\n",
    "    X2[n] -= np.sum(S22 * ut2[n, None, :], axis=1)\n",
    "    X2[n] -= np.sum(S12 * ut1[n, :, None], axis=0)\n",
    "    X2[n] /= D[n]\n",
    "\n",
    "    S11 += X1[n, None, :] * X1[n, :, None] * D[n]\n",
    "    S12 += X1[n, :, None] * X2[n, None, :] * D[n]\n",
    "    S22 += X2[n, None, :] * X2[n, :, None] * D[n]\n",
    "    \n",
    "L = np.tril(np.dot(u1, (X1 * np.exp(c*tt)).T), -1) + np.tril(np.dot(u2, (X2 * np.exp(c*tt)).T), -1)\n",
    "L[np.diag_indices_from(L)] = 1.0\n",
    "\n",
    "print(\"Cholesky error: {0}\".format(np.max(np.abs(np.dot(L, np.dot(np.diag(D), L.T)) - K2))))\n",
    "print(\"Log determinant error: {0}\".format(np.sum(np.log(D.astype(np.complex))).real - np.linalg.slogdet(K2)[1]))"
   ]
  },
  {
   "cell_type": "code",
   "execution_count": 211,
   "metadata": {
    "collapsed": false
   },
   "outputs": [
    {
     "name": "stdout",
     "output_type": "stream",
     "text": [
      "Forward sub error: 9.825473767932635e-15\n",
      "Backward sub error: 4.49293380277993e-16\n",
      "Full solve error: 2.0982564644111967e-15\n"
     ]
    }
   ],
   "source": [
    "y = np.array(y0)\n",
    "z = np.empty(N)\n",
    "z[0] = y[0]\n",
    "f1 = 0.0\n",
    "f2 = 0.0\n",
    "for n in range(1, N):\n",
    "    f1 = phi[n-1] * (f1 + X1[n-1] * z[n-1])\n",
    "    f2 = phi[n-1] * (f2 + X2[n-1] * z[n-1])\n",
    "    z[n] = (y[n] - np.dot(ut1[n], f1) - np.dot(ut2[n], f2))\n",
    "print(\"Forward sub error: {0}\".format(np.max(np.abs(z - np.linalg.solve(L, y)))))\n",
    "\n",
    "y = np.array(z) / D\n",
    "z = np.empty(N)\n",
    "z[-1] = y[-1]\n",
    "f1 = 0.0\n",
    "f2 = 0.0\n",
    "for n in range(N-2, -1, -1):\n",
    "    f1 = phi[n] * (f1 + ut1[n+1] * z[n+1])\n",
    "    f2 = phi[n] * (f2 + ut2[n+1] * z[n+1])\n",
    "    z[n] = (y[n] - np.dot(X1[n], f1) - np.dot(X2[n], f2))\n",
    "print(\"Backward sub error: {0}\".format(np.max(np.abs(z - np.linalg.solve(L.T, y)))))\n",
    "\n",
    "print(\"Full solve error: {0}\".format(np.max(np.abs(np.linalg.solve(K, y0) - z))))"
   ]
  },
  {
   "cell_type": "code",
   "execution_count": 212,
   "metadata": {
    "collapsed": false
   },
   "outputs": [
    {
     "name": "stdout",
     "output_type": "stream",
     "text": [
      "Backward dot error: 3.4638958368304884e-14\n",
      "Forward dot error: 5.826450433232822e-13\n",
      "Full dot error: 9.947598300641403e-14\n"
     ]
    }
   ],
   "source": [
    "z = np.array(y0)\n",
    "y = np.empty(N)\n",
    "y[-1] = z[-1]\n",
    "f1 = 0.0\n",
    "f2 = 0.0\n",
    "for n in range(N-2, -1, -1):\n",
    "    f1 = phi[n] * (f1 + ut1[n+1] * z[n+1])\n",
    "    f2 = phi[n] * (f2 + ut2[n+1] * z[n+1])\n",
    "    y[n] = (z[n] + np.dot(X1[n], f1) + np.dot(X2[n], f2))\n",
    "print(\"Backward dot error: {0}\".format(np.max(np.abs(y - np.dot(L.T, z)))))\n",
    "\n",
    "z = np.array(y) * D\n",
    "y = np.empty(N)\n",
    "y[0] = z[0]\n",
    "f1 = 0.0\n",
    "f2 = 0.0\n",
    "for n in range(1, N):\n",
    "    f1 = phi[n-1] * (f1 + X1[n-1] * z[n-1])\n",
    "    f2 = phi[n-1] * (f2 + X2[n-1] * z[n-1])\n",
    "    y[n] = (z[n] + np.dot(ut1[n], f1) + np.dot(ut2[n], f2))\n",
    "print(\"Forward dot error: {0}\".format(np.max(np.abs(y - np.dot(L, z)))))\n",
    "\n",
    "print(\"Full dot error: {0}\".format(np.max(np.abs(np.dot(K, y0) - y))))"
   ]
  },
  {
   "cell_type": "code",
   "execution_count": 230,
   "metadata": {
    "collapsed": false
   },
   "outputs": [
    {
     "name": "stdout",
     "output_type": "stream",
     "text": [
      "Forward dot error: 3.268496584496461e-13\n",
      "Full dot error: 8.526512829121202e-14\n"
     ]
    }
   ],
   "source": [
    "z = np.array(y0)\n",
    "y = np.empty(N)\n",
    "y[0] = diag[0]*z[0]\n",
    "f1 = 0.0\n",
    "f2 = 0.0\n",
    "for n in range(1, N):\n",
    "    f1 = phi[n-1] * (f1 + vt1[n-1] * z[n-1])\n",
    "    f2 = phi[n-1] * (f2 + vt2[n-1] * z[n-1])\n",
    "    y[n] = (diag[n] * z[n] + np.dot(ut1[n], f1) + np.dot(ut2[n], f2))\n",
    "\n",
    "mat = np.tril(np.dot(u1, v1.T), -1) + np.tril(np.dot(u2, v2.T), -1)\n",
    "mat[np.diag_indices_from(mat)] = diag\n",
    "print(\"Forward dot error: {0}\".format(np.max(np.abs(np.dot(mat, y0) - y))))\n",
    "\n",
    "f1 = 0.0\n",
    "f2 = 0.0\n",
    "for n in range(N-2, -1, -1):\n",
    "    f1 = phi[n] * (f1 + ut1[n+1] * z[n+1])\n",
    "    f2 = phi[n] * (f2 + ut2[n+1] * z[n+1])\n",
    "    y[n] += np.dot(vt1[n], f1) + np.dot(vt2[n], f2)\n",
    "    \n",
    "print(\"Full dot error: {0}\".format(np.max(np.abs(np.dot(K, y0) - y))))"
   ]
  },
  {
   "cell_type": "code",
   "execution_count": 231,
   "metadata": {
    "collapsed": false
   },
   "outputs": [
    {
     "name": "stdout",
     "output_type": "stream",
     "text": [
      "Forward dot error: 4.405364961712621e-13\n",
      "Full dot error: 8.526512829121202e-14\n"
     ]
    }
   ],
   "source": [
    "z = np.array(y0)\n",
    "y = np.empty(N)\n",
    "y[-1] = diag[-1]*z[-1]\n",
    "f1 = 0.0\n",
    "f2 = 0.0\n",
    "for n in range(N-2, -1, -1):\n",
    "    f1 = phi[n] * (f1 + ut1[n+1] * z[n+1])\n",
    "    f2 = phi[n] * (f2 + ut2[n+1] * z[n+1])\n",
    "    y[n] = diag[n] * z[n] + np.dot(vt1[n], f1) + np.dot(vt2[n], f2)\n",
    "    \n",
    "mat = np.triu(np.dot(v1, u1.T), 1) + np.triu(np.dot(v2, u2.T), 1)\n",
    "mat[np.diag_indices_from(mat)] = diag\n",
    "print(\"Forward dot error: {0}\".format(np.max(np.abs(np.dot(mat, y0) - y))))\n",
    "\n",
    "f1 = 0.0\n",
    "f2 = 0.0\n",
    "for n in range(1, N):\n",
    "    f1 = phi[n-1] * (f1 + vt1[n-1] * z[n-1])\n",
    "    f2 = phi[n-1] * (f2 + vt2[n-1] * z[n-1])\n",
    "    y[n] += np.dot(ut1[n], f1) + np.dot(ut2[n], f2)\n",
    "\n",
    "print(\"Full dot error: {0}\".format(np.max(np.abs(np.dot(K, y0) - y))))"
   ]
  },
  {
   "cell_type": "code",
   "execution_count": null,
   "metadata": {
    "collapsed": true
   },
   "outputs": [],
   "source": []
  }
 ],
 "metadata": {
  "kernelspec": {
   "display_name": "Python 3",
   "language": "python",
   "name": "python3"
  },
  "language_info": {
   "codemirror_mode": {
    "name": "ipython",
    "version": 3
   },
   "file_extension": ".py",
   "mimetype": "text/x-python",
   "name": "python",
   "nbconvert_exporter": "python",
   "pygments_lexer": "ipython3",
   "version": "3.5.3"
  }
 },
 "nbformat": 4,
 "nbformat_minor": 2
}
