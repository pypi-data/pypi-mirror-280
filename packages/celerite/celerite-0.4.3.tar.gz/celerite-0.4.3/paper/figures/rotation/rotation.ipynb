{
 "cells": [
  {
   "cell_type": "code",
   "execution_count": null,
   "metadata": {},
   "outputs": [],
   "source": [
    "%matplotlib inline\n",
    "%config IPython.matplotlib.backend = \"retina\"\n",
    "from matplotlib import rcParams\n",
    "rcParams[\"savefig.dpi\"] = 300\n",
    "rcParams[\"figure.dpi\"] = 300\n",
    "\n",
    "from celerite import plot_setup\n",
    "plot_setup.setup(auto=False)"
   ]
  },
  {
   "cell_type": "code",
   "execution_count": null,
   "metadata": {},
   "outputs": [],
   "source": [
    "import kplr\n",
    "import copy\n",
    "import emcee\n",
    "import corner\n",
    "import autograd.numpy as np\n",
    "import matplotlib.pyplot as plt\n",
    "from scipy.optimize import minimize\n",
    "\n",
    "from celerite.plot_setup import setup, get_figsize, COLORS\n",
    "\n",
    "import celerite\n",
    "from celerite import terms"
   ]
  },
  {
   "cell_type": "code",
   "execution_count": null,
   "metadata": {},
   "outputs": [],
   "source": [
    "# Define the custom kernel\n",
    "class RotationTerm(terms.Term):\n",
    "    parameter_names = (\"log_amp\", \"log_timescale\", \"log_period\", \"log_factor\")\n",
    "\n",
    "    def get_real_coefficients(self, params):\n",
    "        log_amp, log_timescale, log_period, log_factor = params\n",
    "        f = np.exp(log_factor)\n",
    "        return (\n",
    "            np.exp(log_amp) * (1.0 + f) / (2.0 + f),\n",
    "            np.exp(-log_timescale),\n",
    "        )\n",
    "\n",
    "    def get_complex_coefficients(self, params):\n",
    "        log_amp, log_timescale, log_period, log_factor = params\n",
    "        f = np.exp(log_factor)\n",
    "        return (\n",
    "            np.exp(log_amp) / (2.0 + f),\n",
    "            0.0,\n",
    "            np.exp(-log_timescale),\n",
    "            2*np.pi*np.exp(-log_period),\n",
    "        )"
   ]
  },
  {
   "cell_type": "code",
   "execution_count": null,
   "metadata": {},
   "outputs": [],
   "source": [
    "# Load the data\n",
    "kicid = 1430163\n",
    "client = kplr.API()\n",
    "star = client.star(kicid)\n",
    "x = []\n",
    "y = []\n",
    "yerr = []\n",
    "for lc in star.get_light_curves(short_cadence=False):\n",
    "    data = lc.read()\n",
    "    x0 = data[\"TIME\"]\n",
    "    y0 = data[\"PDCSAP_FLUX\"]\n",
    "    m = (data[\"SAP_QUALITY\"] == 0) & np.isfinite(x0) & np.isfinite(y0)\n",
    "    x.append(x0[m])\n",
    "    mu = np.median(y0[m])\n",
    "    y.append((y0[m] / mu - 1.0) * 1e3)\n",
    "    yerr.append(1e3 * data[\"PDCSAP_FLUX_ERR\"][m] / mu)\n",
    "x = np.concatenate(x)\n",
    "y = np.concatenate(y)\n",
    "yerr = np.concatenate(yerr)\n",
    "inds = np.argsort(x)\n",
    "t = np.ascontiguousarray(x[inds], dtype=float)\n",
    "y = np.ascontiguousarray(y[inds], dtype=float)\n",
    "yerr = np.ascontiguousarray(yerr[inds], dtype=float)\n",
    "\n",
    "delta_t = np.median(np.diff(t))\n",
    "y_interp = np.interp(np.arange(t.min(), t.max(), delta_t),\n",
    "                     t, y)\n",
    "emp_acorr = emcee.autocorr.function(y_interp) * np.var(y_interp)\n",
    "\n",
    "plt.errorbar(t, y, yerr=yerr, fmt=\".k\", lw=1);"
   ]
  },
  {
   "cell_type": "code",
   "execution_count": null,
   "metadata": {},
   "outputs": [],
   "source": [
    "from astropy.stats import LombScargle\n",
    "\n",
    "# First guess at the period\n",
    "freq = np.linspace(1.0 / 10.0, 1.0 / 1.0, 5000)\n",
    "model = LombScargle(t, y)\n",
    "power = model.power(freq, method=\"fast\", normalization=\"psd\")\n",
    "power /= len(t)\n",
    "\n",
    "period = 1.0 / freq[np.argmax(power)]\n",
    "print(period)\n",
    "\n",
    "plt.plot(1.0 / freq, power, \"k\")\n",
    "\n",
    "plt.axvline(period, color=\"k\", alpha=0.5)\n",
    "plt.axvline(3.88, color=\"k\",ls=\"dashed\", alpha=0.5)\n",
    "\n",
    "plt.xlim(period - 1, period + 1)\n",
    "\n",
    "plt.xlabel(\"period\")\n",
    "plt.ylabel(\"LS periodogram\")\n",
    "plt.savefig(\"rot-ls.png\", bbox_inches=\"tight\")"
   ]
  },
  {
   "cell_type": "code",
   "execution_count": null,
   "metadata": {},
   "outputs": [],
   "source": [
    "tau = np.arange(len(emp_acorr)) * delta_t\n",
    "plt.plot(tau, emp_acorr)\n",
    "\n",
    "plt.axvline(period, color=\"k\", alpha=0.5)\n",
    "plt.axvline(2*period, color=\"k\", alpha=0.5)\n",
    "plt.axvline(3*period, color=\"k\", alpha=0.5)\n",
    "\n",
    "plt.axvline(3.88, color=\"k\",ls=\"dashed\", alpha=0.5)\n",
    "plt.axvline(2*3.88, color=\"k\",ls=\"dashed\", alpha=0.5)\n",
    "plt.axvline(3*3.88, color=\"k\",ls=\"dashed\", alpha=0.5)\n",
    "\n",
    "plt.xlim(0, 20)\n",
    "plt.ylabel(r\"$\\left< k(\\tau) \\right>$\")\n",
    "plt.xlabel(r\"$\\tau$\")\n",
    "\n",
    "plt.savefig(\"rot-acor.png\", bbox_inches=\"tight\")"
   ]
  },
  {
   "cell_type": "code",
   "execution_count": null,
   "metadata": {},
   "outputs": [],
   "source": [
    "m = (t >= 352.396596505) & (t <= 537.5502295)\n",
    "t = t[m]\n",
    "y = y[m]\n",
    "yerr = yerr[m]"
   ]
  },
  {
   "cell_type": "code",
   "execution_count": null,
   "metadata": {},
   "outputs": [],
   "source": [
    "kernel = terms.TermSum(RotationTerm(\n",
    "    log_amp=np.log(np.var(y)),\n",
    "    log_timescale=np.log(10.0),\n",
    "    log_period=np.log(period),\n",
    "    log_factor=np.log(1.0),\n",
    "    bounds=dict(\n",
    "        log_amp=(-10.0, 0.0),\n",
    "        log_timescale=(1.5, 5.0),\n",
    "        log_period=(-3.0, 5.0),\n",
    "        log_factor=(-5.0, 5.0),\n",
    "    ),\n",
    "))\n",
    "\n",
    "gp = celerite.GP(kernel, mean=np.median(y))\n",
    "gp.compute(t, yerr)\n",
    "\n",
    "def neg_log_like(params, y, gp, m):\n",
    "    gp.set_parameter_vector(params)\n",
    "    return -gp.log_likelihood(y[m])\n",
    "\n",
    "def grad_neg_log_like(params, y, gp, m):\n",
    "    gp.set_parameter_vector(params)\n",
    "    return -gp.grad_log_likelihood(y[m])[1]\n",
    "\n",
    "# Do another round of sigma clipping using the GP model\n",
    "initial_params = gp.get_parameter_vector()\n",
    "bounds = gp.get_parameter_bounds()\n",
    "m = np.ones(len(t), dtype=bool)\n",
    "for i in range(10):\n",
    "    gp.compute(t[m], yerr[m])\n",
    "    soln = minimize(neg_log_like, initial_params, jac=grad_neg_log_like,\n",
    "                    method=\"L-BFGS-B\", bounds=bounds, args=(y, gp, m))\n",
    "    gp.set_parameter_vector(soln.x)\n",
    "    print(soln)\n",
    "    # initial_params = soln.x\n",
    "    mu, var = gp.predict(y[m], t, return_var=True)\n",
    "    sig = np.sqrt(var + yerr**2)\n",
    "    \n",
    "    m0 = np.abs(y - mu) < 3 * sig\n",
    "    print(m0.sum(), m.sum(), np.exp(gp.get_parameter(\"kernel:terms[0]:log_period\")))\n",
    "    if np.all(m0 == m):\n",
    "        break\n",
    "    m = m0\n",
    "    \n",
    "fit_t, fit_y, fit_yerr = t[m], y[m], yerr[m]\n",
    "\n",
    "gp.compute(fit_t, fit_yerr)\n",
    "print(gp.get_parameter_dict())\n",
    "\n",
    "ml_gp = copy.deepcopy(gp)\n",
    "ml_gp.compute(fit_t, fit_yerr)\n",
    "ml_gp.log_likelihood(fit_y)"
   ]
  },
  {
   "cell_type": "code",
   "execution_count": null,
   "metadata": {},
   "outputs": [],
   "source": [
    "plt.errorbar(t % np.exp(gp.get_parameter(\"kernel:terms[0]:log_period\")), y, yerr=yerr, fmt=\".k\", lw=1);"
   ]
  },
  {
   "cell_type": "code",
   "execution_count": null,
   "metadata": {},
   "outputs": [],
   "source": [
    "omega = np.exp(np.linspace(np.log(0.1), np.log(20), 5000))\n",
    "psd = gp.kernel.get_psd(omega)\n",
    "\n",
    "plt.plot(omega, psd)\n",
    "for k in gp.kernel.terms:\n",
    "    plt.plot(omega, k.get_psd(omega), \"--\")\n",
    "\n",
    "plt.yscale(\"log\")\n",
    "plt.xscale(\"log\")\n",
    "plt.xlim(omega[0], omega[-1])\n",
    "plt.xlabel(\"$\\omega$\")\n",
    "plt.ylabel(\"$S(\\omega)$\");"
   ]
  },
  {
   "cell_type": "code",
   "execution_count": null,
   "metadata": {},
   "outputs": [],
   "source": [
    "# p = emcee.autocorr.function(y) * np.var(y)\n",
    "\n",
    "tau = np.linspace(0, 20, 5000)\n",
    "plt.plot(tau, ml_gp.kernel.get_value(tau))\n",
    "for k in ml_gp.kernel.terms:\n",
    "    plt.plot(tau, k.get_value(tau), \"--\")\n",
    "plt.ylabel(r\"$k(\\tau)$\")\n",
    "plt.xlabel(r\"$\\tau$\")\n",
    "\n",
    "plt.plot(np.arange(len(emp_acorr)) * delta_t, emp_acorr)\n",
    "plt.axvline(period)\n",
    "plt.xlim(0, 20)"
   ]
  },
  {
   "cell_type": "code",
   "execution_count": null,
   "metadata": {},
   "outputs": [],
   "source": [
    "plt.plot(t, y, \".k\")\n",
    "plt.plot(t, gp.predict(fit_y, t, return_cov=False))\n",
    "plt.xlim(375, 425)"
   ]
  },
  {
   "cell_type": "code",
   "execution_count": null,
   "metadata": {},
   "outputs": [],
   "source": [
    "plt.plot(fit_t, fit_y - gp.predict(fit_y, fit_t, return_cov=False), \".k\")\n",
    "plt.ylabel(\"residuals\")\n",
    "plt.xlabel(\"time\");"
   ]
  },
  {
   "cell_type": "code",
   "execution_count": null,
   "metadata": {},
   "outputs": [],
   "source": [
    "def log_prob(params):\n",
    "    gp.set_parameter_vector(params)\n",
    "    lp = gp.log_prior()\n",
    "    if not np.isfinite(lp):\n",
    "        return -np.inf\n",
    "    return lp + gp.log_likelihood(fit_y)\n",
    "\n",
    "ndim = len(soln.x)\n",
    "nwalkers = 32\n",
    "nburn = 500\n",
    "nsteps = 5000\n",
    "pos = soln.x + 1e-5 * np.random.randn(nwalkers, ndim)\n",
    "lp = np.array(list(map(log_prob, pos)))\n",
    "m = ~np.isfinite(lp)\n",
    "while np.any(m):\n",
    "    pos[m] = soln.x + 1e-5 * np.random.randn(m.sum(), ndim)\n",
    "    lp[m] = np.array(list(map(log_prob, pos[m])))\n",
    "    m = ~np.isfinite(lp)\n",
    "\n",
    "pool = emcee.interruptible_pool.InterruptiblePool(2)\n",
    "sampler = emcee.EnsembleSampler(nwalkers, ndim, log_prob, pool=pool)\n",
    "pos, _, _ = sampler.run_mcmc(pos, nburn)\n",
    "sampler.reset()\n",
    "sampler.run_mcmc(pos, nsteps)\n",
    "pool.close();"
   ]
  },
  {
   "cell_type": "code",
   "execution_count": null,
   "metadata": {},
   "outputs": [],
   "source": [
    "plt.plot(np.exp(sampler.chain[:, :, 2].T), alpha=0.3);"
   ]
  },
  {
   "cell_type": "code",
   "execution_count": null,
   "metadata": {},
   "outputs": [],
   "source": [
    "gp.get_parameter_names()"
   ]
  },
  {
   "cell_type": "code",
   "execution_count": null,
   "metadata": {},
   "outputs": [],
   "source": [
    "chain = np.concatenate((sampler.flatchain.T, [sampler.flatlnprobability]), axis=0).T\n",
    "corner.corner(chain);"
   ]
  },
  {
   "cell_type": "code",
   "execution_count": null,
   "metadata": {},
   "outputs": [],
   "source": [
    "t0 = t.min()\n",
    "x = np.linspace(t0, t0 + 60, 1000)\n",
    "mu, var = ml_gp.predict(fit_y, x, return_var=True)\n",
    "std = np.sqrt(var)\n",
    "\n",
    "fig = plt.figure(figsize=plot_setup.get_figsize(1, 2))\n",
    "\n",
    "ax1 = plt.subplot2grid((3, 2), (0, 0), rowspan=2)\n",
    "ax2 = plt.subplot2grid((3, 2), (2, 0), rowspan=1)\n",
    "ax3 = plt.subplot2grid((3, 2), (0, 1), rowspan=3)\n",
    "fig.subplots_adjust(hspace=0, wspace=0.1)\n",
    "\n",
    "m = t - t0 < 60\n",
    "ax1.plot(t[m] - t0, y[m], \".k\", ms=3)\n",
    "m = x - t0 < 60\n",
    "ax1.plot(x[m] - t0, mu[m], lw=0.75)\n",
    "ax1.fill_between(x[m]-t0, mu[m]+std[m], mu[m]-std[m],\n",
    "                 alpha=0.5, edgecolor=\"none\", zorder=100)\n",
    "ax1.set_xticklabels([])\n",
    "\n",
    "ax1.annotate(\"N = {0}\".format(len(fit_t)), xy=(0, 0),\n",
    "             xycoords=\"axes fraction\",\n",
    "             xytext=(5, 5), textcoords=\"offset points\",\n",
    "             ha=\"left\", va=\"bottom\")\n",
    "\n",
    "pred_mu = ml_gp.predict(fit_y, return_cov=False)\n",
    "m = fit_t - t0 < 60\n",
    "ax2.errorbar(fit_t[m] - t0, fit_y[m] - pred_mu[m], fmt=\".k\", ms=3)\n",
    "ax2.axhline(0.0, color=\"k\", lw=0.75)\n",
    "\n",
    "ax1.set_ylim(-1.1, 1.1)\n",
    "ax1.set_xlim(0., 60)\n",
    "ax2.set_ylim(-0.09, 0.09)\n",
    "ax2.set_xlim(0., 60)\n",
    "\n",
    "ax2.set_xlabel(\"time [day]\")\n",
    "ax1.set_ylabel(\"relative flux [ppt]\")\n",
    "ax2.set_ylabel(\"residuals\")\n",
    "\n",
    "for ax in [ax1, ax2]:\n",
    "    ax.yaxis.set_label_coords(-0.22, 0.5)\n",
    "\n",
    "period_samples = np.exp(sampler.flatchain[:, 2])\n",
    "mu, std = np.mean(period_samples), np.std(period_samples)\n",
    "n, b, p = ax3.hist(period_samples, 40,\n",
    "                   color=\"k\", histtype=\"step\", lw=2, normed=True)\n",
    "ax3.yaxis.set_major_locator(plt.NullLocator())\n",
    "ax3.set_xlim(b.min(), b.max())\n",
    "ax3.axvline(3.88, color=\"k\", lw=3, alpha=0.5)\n",
    "ax3.axvline(mu + std, color=\"k\", ls=\"dashed\")\n",
    "ax3.axvline(mu - std, color=\"k\", ls=\"dashed\")\n",
    "ax3.set_xlabel(\"period [day]\")\n",
    "\n",
    "ax2.xaxis.set_label_coords(0.5, -0.3)\n",
    "ax3.xaxis.set_label_coords(0.5, -0.1)\n",
    "\n",
    "fig.savefig(\"rotation.pdf\", bbox_inches=\"tight\", dpi=300, include_diff=False)"
   ]
  },
  {
   "cell_type": "code",
   "execution_count": null,
   "metadata": {},
   "outputs": [],
   "source": [
    "from scipy.linalg import cho_solve, cho_factor\n",
    "\n",
    "p0 = gp.get_parameter_vector()\n",
    "fast_timing = %timeit -o log_prob(p0)\n",
    "\n",
    "def _time_this():\n",
    "    K = gp.get_matrix(include_diagonal=True)\n",
    "    factor = cho_factor(K, overwrite_a=True)\n",
    "    ld = 2.0 * np.sum(np.log(np.diag(factor[0])))\n",
    "    ll = -0.5*(np.dot(fit_y, cho_solve(factor, fit_y))+ld) + gp.log_prior()\n",
    "\n",
    "slow_timing = %timeit -o _time_this()"
   ]
  },
  {
   "cell_type": "code",
   "execution_count": null,
   "metadata": {},
   "outputs": [],
   "source": [
    "chain = np.mean(sampler.chain[:, :, 2], axis=0)\n",
    "tau = emcee.autocorr.integrated_time(chain, c=5)\n",
    "neff = len(sampler.flatchain) / tau\n",
    "tau, neff"
   ]
  },
  {
   "cell_type": "code",
   "execution_count": null,
   "metadata": {},
   "outputs": [],
   "source": [
    "import json\n",
    "c = gp.kernel.coefficients\n",
    "with open(\"rotation.json\", \"w\") as f:\n",
    "    json.dump(dict(\n",
    "        N=len(t),\n",
    "        J=len(c[0]) + len(c[2]),\n",
    "        tau=tau,\n",
    "        neff=neff,\n",
    "        time=fast_timing.average,\n",
    "        direct_time=slow_timing.average,\n",
    "        nwalkers=nwalkers,\n",
    "        nburn=nburn,\n",
    "        nsteps=nsteps,\n",
    "        ndim=ndim,\n",
    "    ), f)"
   ]
  },
  {
   "cell_type": "code",
   "execution_count": null,
   "metadata": {},
   "outputs": [],
   "source": [
    "gp.get_parameter_names()"
   ]
  },
  {
   "cell_type": "code",
   "execution_count": null,
   "metadata": {},
   "outputs": [],
   "source": [
    "name_map = {\n",
    "    'kernel:terms[0]:log_amp': \"$\\ln(B/\\mathrm{ppt}^2)$\",\n",
    "    'kernel:terms[0]:log_timescale': \"$\\ln(L/\\mathrm{day})$\",\n",
    "    'kernel:terms[0]:log_period': \"$\\ln(P_\\mathrm{rot}/\\mathrm{day})$\",\n",
    "    'kernel:terms[0]:log_factor': \"$\\ln(C)$\",\n",
    "}\n",
    "params = list(zip(\n",
    "    (name_map[n] for n in gp.get_parameter_names()),\n",
    "    gp.get_parameter_bounds()\n",
    "))\n",
    "with open(\"rotation-params.json\", \"w\") as f:\n",
    "    json.dump(params, f)"
   ]
  },
  {
   "cell_type": "code",
   "execution_count": null,
   "metadata": {},
   "outputs": [],
   "source": [
    "period_samps = np.exp(sampler.flatchain[:, 2])\n",
    "q = np.percentile(period_samps, [16, 50, 84])\n",
    "print(q, np.diff(q), np.mean(period_samps), np.std(period_samps))\n",
    "\n",
    "with open(\"rotation.tex\", \"w\") as f:\n",
    "    f.write(\"% Automatically generated\\n\")\n",
    "    f.write((\"\\\\newcommand{{\\\\rotationperiod}}{{\\\\ensuremath{{{{\"\n",
    "             \"{0:.2f} \\pm {1:.2f}}}}}}}\\n\")\n",
    "            .format(np.mean(period_samps), np.std(period_samps)))"
   ]
  },
  {
   "cell_type": "code",
   "execution_count": null,
   "metadata": {},
   "outputs": [],
   "source": []
  },
  {
   "cell_type": "code",
   "execution_count": null,
   "metadata": {},
   "outputs": [],
   "source": []
  },
  {
   "cell_type": "code",
   "execution_count": null,
   "metadata": {},
   "outputs": [],
   "source": []
  }
 ],
 "metadata": {
  "kernelspec": {
   "display_name": "Python 3",
   "language": "python",
   "name": "python3"
  },
  "language_info": {
   "codemirror_mode": {
    "name": "ipython",
    "version": 3
   },
   "file_extension": ".py",
   "mimetype": "text/x-python",
   "name": "python",
   "nbconvert_exporter": "python",
   "pygments_lexer": "ipython3",
   "version": "3.6.0"
  }
 },
 "nbformat": 4,
 "nbformat_minor": 2
}