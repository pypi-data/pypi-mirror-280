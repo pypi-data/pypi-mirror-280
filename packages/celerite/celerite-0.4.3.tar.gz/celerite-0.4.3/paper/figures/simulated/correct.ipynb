{
 "cells": [
  {
   "cell_type": "code",
   "execution_count": null,
   "metadata": {},
   "outputs": [],
   "source": [
    "%matplotlib inline\n",
    "%config IPython.matplotlib.backend = \"retina\"\n",
    "from matplotlib import rcParams\n",
    "rcParams[\"savefig.dpi\"] = 300\n",
    "rcParams[\"figure.dpi\"] = 300\n",
    "\n",
    "from celerite import plot_setup\n",
    "plot_setup.setup(auto=False)"
   ]
  },
  {
   "cell_type": "markdown",
   "metadata": {},
   "source": [
    "## Recovery of a celerite process"
   ]
  },
  {
   "cell_type": "code",
   "execution_count": null,
   "metadata": {},
   "outputs": [],
   "source": [
    "import numpy as np\n",
    "import matplotlib.pyplot as plt\n",
    "\n",
    "import celerite\n",
    "from celerite import terms\n",
    "\n",
    "np.random.seed(123)\n",
    "\n",
    "# Simulate some data\n",
    "kernel = terms.SHOTerm(log_S0=0.0, log_omega0=2.0, log_Q=2.0,\n",
    "                       bounds=[(-10, 10), (-10, 10), (-10, 10)])\n",
    "gp = celerite.GP(kernel)\n",
    "true_params = np.array(gp.get_parameter_vector())\n",
    "omega = 2*np.pi*np.exp(np.linspace(-np.log(10.0), -np.log(0.1), 5000))\n",
    "true_psd = gp.kernel.get_psd(omega)\n",
    "N = 200\n",
    "t = np.sort(np.random.uniform(0, 10, N))\n",
    "yerr = 2.5\n",
    "\n",
    "gp.compute(t, yerr)\n",
    "y = gp.sample()\n",
    "\n",
    "fig, ax = plt.subplots(1, 1)\n",
    "ax.errorbar(t, y, yerr=yerr, fmt=\".k\", lw=1)\n",
    "ax.set_ylim(-26, 26)\n",
    "ax.set_xlim(0, 10)\n",
    "ax.set_xlabel(\"time [day]\")\n",
    "ax.set_ylabel(\"relative flux [ppm]\");"
   ]
  },
  {
   "cell_type": "code",
   "execution_count": null,
   "metadata": {},
   "outputs": [],
   "source": [
    "import copy\n",
    "from scipy.optimize import minimize\n",
    "\n",
    "def nll(params, gp, y):\n",
    "    gp.set_parameter_vector(params)\n",
    "    if not np.isfinite(gp.log_prior()):\n",
    "        return 1e10\n",
    "    ll = gp.log_likelihood(y)\n",
    "    return -ll if np.isfinite(ll) else 1e10\n",
    "\n",
    "p0 = true_params + 1e-4*np.random.randn(len(true_params))\n",
    "soln = minimize(nll, p0, method=\"L-BFGS-B\", args=(gp, y))\n",
    "gp.set_parameter_vector(soln.x)\n",
    "ml_psd = gp.kernel.get_psd(omega)\n",
    "\n",
    "ml_gp = copy.deepcopy(gp)\n",
    "ml_gp.log_likelihood(y)"
   ]
  },
  {
   "cell_type": "code",
   "execution_count": null,
   "metadata": {},
   "outputs": [],
   "source": [
    "import emcee\n",
    "\n",
    "def log_probability(params):\n",
    "    gp.set_parameter_vector(params)\n",
    "    \n",
    "    lp = gp.log_prior()\n",
    "    if not np.isfinite(lp):\n",
    "        return -np.inf\n",
    "\n",
    "    ll = gp.log_likelihood(y)\n",
    "    return ll + lp if np.isfinite(ll) else -np.inf\n",
    "\n",
    "ndim = len(soln.x)\n",
    "nwalkers = 32\n",
    "coords = soln.x + 1e-4 * np.random.randn(nwalkers, ndim)\n",
    "\n",
    "sampler = emcee.EnsembleSampler(nwalkers, ndim, log_probability)\n",
    "coords, _, _ = sampler.run_mcmc(coords, 500)\n",
    "sampler.reset()\n",
    "coords, _, _ = sampler.run_mcmc(coords, 2000)"
   ]
  },
  {
   "cell_type": "code",
   "execution_count": null,
   "metadata": {},
   "outputs": [],
   "source": [
    "# Compute the posterior PSD inference\n",
    "samples = sampler.flatchain[::15, :]\n",
    "post_psd = np.empty((len(samples), len(omega)))\n",
    "for i, s in enumerate(samples):\n",
    "    gp.set_parameter_vector(s)\n",
    "    post_psd[i] = gp.kernel.get_psd(omega)\n",
    "q = np.percentile(post_psd, [16, 50, 84], axis=0)"
   ]
  },
  {
   "cell_type": "code",
   "execution_count": null,
   "metadata": {},
   "outputs": [],
   "source": [
    "x = np.linspace(-0.5, 10.5, 500)\n",
    "mu, var = ml_gp.predict(y, x, return_var=True)\n",
    "std = np.sqrt(var)\n",
    "\n",
    "fig = plt.figure(figsize=plot_setup.get_figsize(1, 2.3))\n",
    "\n",
    "ax1 = plt.subplot2grid((3, 2), (0, 0), rowspan=2)\n",
    "ax2 = plt.subplot2grid((3, 2), (2, 0), rowspan=1)\n",
    "ax3 = plt.subplot2grid((3, 2), (0, 1), rowspan=3)\n",
    "fig.subplots_adjust(hspace=0, wspace=0.4)\n",
    "\n",
    "ax1.errorbar(t, y, yerr=yerr, fmt=\".k\", lw=1)\n",
    "ax1.plot(x, mu)\n",
    "ax1.fill_between(x, mu+std, mu-std, alpha=0.5, edgecolor=\"none\", zorder=100)\n",
    "ax1.set_xticklabels([])\n",
    "\n",
    "ax1.annotate(\"simulated data\", xy=(0, 1), xycoords=\"axes fraction\",\n",
    "             xytext=(5, -5), textcoords=\"offset points\",\n",
    "             ha=\"left\", va=\"top\")\n",
    "ax1.annotate(\"N = {0}\".format(len(t)), xy=(0, 0),\n",
    "             xycoords=\"axes fraction\",\n",
    "             xytext=(5, 5), textcoords=\"offset points\",\n",
    "             ha=\"left\", va=\"bottom\")\n",
    "\n",
    "pred_mu, pred_var = ml_gp.predict(y, return_var=True)\n",
    "std = np.sqrt(yerr**2 + pred_var)\n",
    "ax2.errorbar(t, y - pred_mu, yerr=std, fmt=\".k\", lw=1)\n",
    "ax2.axhline(0.0, color=\"k\", lw=0.75)\n",
    "\n",
    "ax1.set_ylim(-26, 26)\n",
    "ax1.set_xlim(-0.5, 10.5)\n",
    "ax2.set_ylim(-9, 9)\n",
    "ax2.set_xlim(-0.5, 10.5)\n",
    "\n",
    "ax2.set_xlabel(\"time [day]\")\n",
    "ax1.set_ylabel(\"relative flux [ppm]\")\n",
    "ax2.set_ylabel(\"residuals\")\n",
    "\n",
    "for ax in [ax1, ax2]:\n",
    "    ax.yaxis.set_label_coords(-0.2, 0.5)\n",
    "\n",
    "# plot the PSD comparison\n",
    "factor = 1.0 / (2*np.pi)\n",
    "f = omega * factor\n",
    "ax3.plot(f, q[1] * factor)\n",
    "ax3.fill_between(f, q[0] * factor, q[2] * factor, alpha=0.3)\n",
    "ax3.plot(f, true_psd * factor, \"--k\")\n",
    "ax3.set_xlim(f[0], f[-1])\n",
    "ax3.set_yscale(\"log\")\n",
    "ax3.set_xscale(\"log\")\n",
    "ax3.set_xlabel(\"frequency [day$^{-1}$]\")\n",
    "ax3.set_ylabel(\"power [ppm$^2$ day]\")\n",
    "\n",
    "ax2.xaxis.set_label_coords(0.5, -0.3)\n",
    "ax3.xaxis.set_label_coords(0.5, -0.1)\n",
    "\n",
    "fig.savefig(\"correct.pdf\", bbox_inches=\"tight\")"
   ]
  },
  {
   "cell_type": "code",
   "execution_count": null,
   "metadata": {},
   "outputs": [],
   "source": [
    "from scipy.linalg import cho_solve, cho_factor\n",
    "\n",
    "p0 = gp.get_parameter_vector()\n",
    "fast_timing = %timeit -o log_probability(p0)\n",
    "\n",
    "def _time_this():\n",
    "    K = gp.get_matrix(include_diagonal=True)\n",
    "    factor = cho_factor(K, overwrite_a=True)\n",
    "    ld = 2.0 * np.sum(np.log(np.diag(factor[0])))\n",
    "    ll = -0.5*(np.dot(y, cho_solve(factor, y))+ld) + gp.log_prior()\n",
    "\n",
    "slow_timing = %timeit -o _time_this()"
   ]
  },
  {
   "cell_type": "code",
   "execution_count": null,
   "metadata": {},
   "outputs": [],
   "source": [
    "tau = np.mean(sampler.get_autocorr_time(c=3))\n",
    "neff = len(sampler.flatchain) / tau"
   ]
  },
  {
   "cell_type": "code",
   "execution_count": null,
   "metadata": {},
   "outputs": [],
   "source": [
    "import json\n",
    "c = gp.kernel.coefficients\n",
    "with open(\"correct.json\", \"w\") as f:\n",
    "    json.dump(dict(\n",
    "        N=len(t),\n",
    "        J=len(c[0]) + len(c[2]),\n",
    "        tau=tau,\n",
    "        neff=neff,\n",
    "        time=fast_timing.average,\n",
    "        direct_time=slow_timing.average,\n",
    "        ndim=ndim,\n",
    "        nwalkers=nwalkers,\n",
    "        nburn=500,\n",
    "        nsteps=2000,\n",
    "    ), f)"
   ]
  },
  {
   "cell_type": "code",
   "execution_count": null,
   "metadata": {},
   "outputs": [],
   "source": [
    "name_map = {\n",
    "    \"kernel:log_S0\": r\"$\\ln(S_0)$\",\n",
    "    \"kernel:log_Q\": r\"$\\ln(Q)$\",\n",
    "    \"kernel:log_omega0\": r\"$\\ln(\\omega_0)$\",\n",
    "}\n",
    "params = list(zip(\n",
    "    (name_map[n] for n in gp.get_parameter_names()),\n",
    "    gp.get_parameter_bounds()\n",
    "))\n",
    "with open(\"correct-params.json\", \"w\") as f:\n",
    "    json.dump(params, f)"
   ]
  },
  {
   "cell_type": "code",
   "execution_count": null,
   "metadata": {},
   "outputs": [],
   "source": []
  }
 ],
 "metadata": {
  "kernelspec": {
   "display_name": "Python 3",
   "language": "python",
   "name": "python3"
  },
  "language_info": {
   "codemirror_mode": {
    "name": "ipython",
    "version": 3
   },
   "file_extension": ".py",
   "mimetype": "text/x-python",
   "name": "python",
   "nbconvert_exporter": "python",
   "pygments_lexer": "ipython3",
   "version": "3.6.0"
  }
 },
 "nbformat": 4,
 "nbformat_minor": 2
}