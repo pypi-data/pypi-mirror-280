{
 "cells": [
  {
   "cell_type": "markdown",
   "metadata": {},
   "source": [
    "# Structured backward elevations grids"
   ]
  },
  {
   "cell_type": "code",
   "execution_count": null,
   "metadata": {},
   "outputs": [],
   "source": [
    "import os\n",
    "import numpy as np\n",
    "from script import moveElev as mvElv\n",
    "\n",
    "import matplotlib\n",
    "from matplotlib import cm\n",
    "import matplotlib.pyplot as plt\n",
    "import matplotlib.colors as colors\n",
    "from mpl_toolkits.axes_grid1 import make_axes_locatable\n",
    "\n",
    "label_size = 7\n",
    "matplotlib.rcParams['xtick.labelsize'] = label_size \n",
    "matplotlib.rcParams['ytick.labelsize'] = label_size\n",
    "matplotlib.rc('font', size=6)\n",
    "\n",
    "%matplotlib inline\n",
    "%config InlineBackend.figure_format = 'svg' "
   ]
  },
  {
   "cell_type": "markdown",
   "metadata": {},
   "source": [
    "Get the elevation based on the following known paleo-topography accounting for horizontal displacements. \n",
    "\n",
    "First we specify the parameters:"
   ]
  },
  {
   "cell_type": "code",
   "execution_count": null,
   "metadata": {},
   "outputs": [],
   "source": [
    "src_path = 'data'\n",
    "elev_file = 'paleomap/'\n",
    "disp_file = 'velocity/velocity_'\n",
    "\n",
    "# Specify most recent time in Ma BP\n",
    "startMa = 15\n",
    "# Specify deepest time in Ma BP\n",
    "endMa = 20\n",
    "# Specify paleo-displacements time interval in Ma\n",
    "dtMa = 1"
   ]
  },
  {
   "cell_type": "markdown",
   "metadata": {},
   "source": [
    "We now run the main function, in cases where the `dtMa` parameters is not set to 1 then you will have to adjust the number of elevation store in the compressed array file. Same goes with the key values set to z15, z16... that can be adjusted too."
   ]
  },
  {
   "cell_type": "code",
   "execution_count": null,
   "metadata": {},
   "outputs": [],
   "source": [
    "elevListArray = []\n",
    "dt = -dtMa*1.e6\n",
    "timeframe = np.arange(startMa,endMa,dtMa)\n",
    "outputfile = 'backward-elev'+str(startMa)+'-'+str(endMa)\n",
    "ofile = os.path.join(src_path,outputfile)\n",
    "\n",
    "# dispListArray = [] # Not necessary...\n",
    "\n",
    "for k in range(len(timeframe)):\n",
    "    \n",
    "    dtime = timeframe[k]\n",
    "    dispfile = os.path.join(src_path, disp_file+str(dtime)+\".00Ma.xy\")\n",
    "    \n",
    "    if k == 0:\n",
    "        elevfile = os.path.join(src_path, elev_file+str(timeframe[k])+\"Ma.nc\")\n",
    "        mve = mvElv.moveElev(elevfile=elevfile, dispfile=dispfile, \n",
    "                             elev=None, erodep=None, scotese=True)\n",
    "    else:\n",
    "        mve.dispfile = dispfile\n",
    "        mve.elev = mve.new_elev.copy()\n",
    "        mve.getDisplacements()\n",
    "        \n",
    "    mve.applyDisplacements(dt)\n",
    "    print('Computed elevation at',timeframe[k],'Ma before applying the',dtime,'Ma displacements\\n')\n",
    "    elevListArray.append(mve.new_elev)\n",
    "    \n",
    "#     dispListArray.append(mve.disps) # Not necessary...\n",
    "\n",
    "# # Save the backward elevations as a compressed numpy file\n",
    "# np.savez_compressed(ofile, z15=elevListArray[0].flatten(), z16=elevListArray[1].flatten(),\n",
    "#                    z17=elevListArray[2].flatten(), z18=elevListArray[3].flatten(), \n",
    "#                    z19=elevListArray[4].flatten())\n",
    "\n",
    "# Not necessary\n",
    "# np.savez_compressed('paleo-disp15-20', d15=dispListArray[0], d16=dispListArray[1],\n",
    "#                    d17=dispListArray[2], d18=dispListArray[3], \n",
    "#                    d19=dispListArray[4])\n",
    "\n",
    "print('Backward paleo-elevations grids have been saved in',ofile+'.npz','\\n')"
   ]
  },
  {
   "cell_type": "code",
   "execution_count": null,
   "metadata": {},
   "outputs": [],
   "source": [
    "# Save the backward elevations as a compressed numpy file\n",
    "np.savez_compressed(ofile, \n",
    "                    z15=elevListArray[0].flatten(), \n",
    "                    z16=elevListArray[1].flatten(),\n",
    "                    z17=elevListArray[2].flatten(), \n",
    "                    z18=elevListArray[3].flatten(), \n",
    "                    z19=elevListArray[4].flatten()\n",
    "                   )"
   ]
  },
  {
   "cell_type": "markdown",
   "metadata": {},
   "source": [
    "Check the created backward elevations..."
   ]
  },
  {
   "cell_type": "code",
   "execution_count": null,
   "metadata": {
    "scrolled": false
   },
   "outputs": [],
   "source": [
    "# for k in range(len(elevListArray)):\n",
    "    \n",
    "#     fig = plt.figure(figsize=(10,8))\n",
    "#     ax = fig.add_subplot(111)\n",
    "#     ax.imshow(np.flipud(elevListArray[k]), extent=(-180, 180, -90, 90)) #, #vmin=-10, vmax=10, \n",
    "#     ax.set(xlabel='Longitude', ylabel='Latitude', yticks=np.arange(-90,120,30), xticks=np.arange(-180,180,30))\n",
    "#     ax.minorticks_on()\n",
    "\n",
    "fig = plt.figure(figsize=(10,8))\n",
    "ax = fig.add_subplot(111)\n",
    "ax.imshow(np.flipud(elevListArray[-1]-elevListArray[0]), extent=(-180, 180, -90, 90), vmin=-5000, vmax=5000, cmap=cm.RdBu) \n",
    "ax.set(xlabel='Longitude', ylabel='Latitude', yticks=np.arange(-90,120,30), xticks=np.arange(-180,180,30))\n",
    "ax.minorticks_on()"
   ]
  },
  {
   "cell_type": "code",
   "execution_count": null,
   "metadata": {},
   "outputs": [],
   "source": []
  }
 ],
 "metadata": {
  "kernelspec": {
   "display_name": "Python 3",
   "language": "python",
   "name": "python3"
  },
  "language_info": {
   "codemirror_mode": {
    "name": "ipython",
    "version": 3
   },
   "file_extension": ".py",
   "mimetype": "text/x-python",
   "name": "python",
   "nbconvert_exporter": "python",
   "pygments_lexer": "ipython3",
   "version": "3.7.3"
  }
 },
 "nbformat": 4,
 "nbformat_minor": 4
}
