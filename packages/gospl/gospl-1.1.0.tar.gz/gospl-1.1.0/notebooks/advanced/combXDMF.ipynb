{
 "cells": [
  {
   "cell_type": "markdown",
   "metadata": {},
   "source": [
    "# Combine multiple outputs for visualisation"
   ]
  },
  {
   "cell_type": "code",
   "execution_count": null,
   "metadata": {},
   "outputs": [],
   "source": [
    "import os \n",
    "import numpy as np\n",
    "from distutils.dir_util import copy_tree"
   ]
  },
  {
   "cell_type": "markdown",
   "metadata": {},
   "source": [
    "Parameters for combining models for Paraview visualisation"
   ]
  },
  {
   "cell_type": "code",
   "execution_count": null,
   "metadata": {},
   "outputs": [],
   "source": [
    "# Specify most recent time in Ma BP\n",
    "startMa = 16\n",
    "# Specify deepest time in Ma BP\n",
    "endMa = 20\n",
    "# Output steps\n",
    "steps = 50\n",
    "# XDMF file\n",
    "xdmf_file = 'model.xdmf'\n",
    "\n",
    "model_folder = 'model_out'\n",
    "if not os.path.exists(model_folder):\n",
    "    os.makedirs(model_folder)"
   ]
  },
  {
   "cell_type": "markdown",
   "metadata": {},
   "source": [
    "Getting the `XMF` files"
   ]
  },
  {
   "cell_type": "code",
   "execution_count": null,
   "metadata": {},
   "outputs": [],
   "source": [
    "timeframe = np.flipud(np.linspace(startMa,endMa,endMa-startMa+1,dtype=int))\n",
    "\n",
    "for k in range(len(timeframe)):\n",
    "    time = timeframe[k]\n",
    "\n",
    "    xmf_folder = os.path.join(model_folder,'xmf_'+str(time))\n",
    "    if not os.path.exists(xmf_folder):\n",
    "        os.makedirs(xmf_folder)\n",
    "\n",
    "    fromDirectory = 'model'+str(time)+'Ma/xmf'\n",
    "    toDirectory = os.path.join(model_folder,'xmf_'+str(time))\n",
    "    files = copy_tree(fromDirectory, toDirectory)\n",
    "\n",
    "    for f in files:\n",
    "        reading_file = open(f, \"r\")\n",
    "\n",
    "        new_file_content = \"\"\n",
    "        for line in reading_file:\n",
    "            stripped_line = line.strip()\n",
    "            new_line = stripped_line.replace('>h5', '>model'+str(time)+'Ma/h5')\n",
    "            new_file_content += new_line +\"\\n\"\n",
    "\n",
    "        reading_file.close()\n",
    "\n",
    "        writing_file = open(f, \"w\")\n",
    "        writing_file.write(new_file_content)\n",
    "        writing_file.close()\n",
    "    \n",
    "    \n",
    "    nbfile = len(files)"
   ]
  },
  {
   "cell_type": "markdown",
   "metadata": {},
   "source": [
    "Building the `XDMF` file that will be launch in Paraview"
   ]
  },
  {
   "cell_type": "code",
   "execution_count": null,
   "metadata": {},
   "outputs": [],
   "source": [
    "f = open(xdmf_file, 'w')\n",
    "\n",
    "f.write('<?xml version=\"1.0\" encoding=\"UTF-8\"?>\\n')\n",
    "f.write('<!DOCTYPE Xdmf SYSTEM \"Xdmf.dtd\">\\n')\n",
    "f.write('<Xdmf Version=\"2.0\" xmlns:xi=\"http://www.w3.org/2001/XInclude\">\\n')\n",
    "f.write(' <Domain>\\n')\n",
    "f.write('    <Grid GridType=\"Collection\" CollectionType=\"Temporal\">\\n')\n",
    "\n",
    "for s in range(len(timeframe)):\n",
    "    nb = steps\n",
    "    if s == 0:\n",
    "        nb = 0\n",
    "    for p in range(nb,nbfile,steps):\n",
    "        xmf_file = model_folder+'/xmf_'+str(timeframe[s])+'/gospl' + str(p) + '.xmf'\n",
    "        f.write(\n",
    "            '      <xi:include href=\"%s\" xpointer=\"xpointer(//Xdmf/Domain/Grid)\"/>\\n'\n",
    "            % xmf_file\n",
    "        )\n",
    "\n",
    "f.write('    </Grid>\\n')\n",
    "f.write(' </Domain>\\n')\n",
    "f.write('</Xdmf>\\n')\n",
    "f.close()"
   ]
  },
  {
   "cell_type": "code",
   "execution_count": null,
   "metadata": {},
   "outputs": [],
   "source": []
  }
 ],
 "metadata": {
  "kernelspec": {
   "display_name": "Python 3",
   "language": "python",
   "name": "python3"
  },
  "language_info": {
   "codemirror_mode": {
    "name": "ipython",
    "version": 3
   },
   "file_extension": ".py",
   "mimetype": "text/x-python",
   "name": "python",
   "nbconvert_exporter": "python",
   "pygments_lexer": "ipython3",
   "version": "3.7.3"
  }
 },
 "nbformat": 4,
 "nbformat_minor": 4
}
