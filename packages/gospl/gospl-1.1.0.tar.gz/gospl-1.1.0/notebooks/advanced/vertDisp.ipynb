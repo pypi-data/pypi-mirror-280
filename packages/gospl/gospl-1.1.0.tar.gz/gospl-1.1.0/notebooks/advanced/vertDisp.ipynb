{
 "cells": [
  {
   "cell_type": "markdown",
   "metadata": {},
   "source": [
    "# Scaled vertical tectonics from backward vs computed elevations"
   ]
  },
  {
   "cell_type": "code",
   "execution_count": null,
   "metadata": {},
   "outputs": [],
   "source": [
    "import numpy as np\n",
    "from scipy import spatial\n",
    "from scipy import ndimage\n",
    "from script import readOutput as output\n",
    "\n",
    "import matplotlib\n",
    "from matplotlib import cm\n",
    "import matplotlib.pyplot as plt\n",
    "import matplotlib.colors as colors\n",
    "from mpl_toolkits.axes_grid1 import make_axes_locatable\n",
    "\n",
    "label_size = 7\n",
    "matplotlib.rcParams['xtick.labelsize'] = label_size \n",
    "matplotlib.rcParams['ytick.labelsize'] = label_size\n",
    "matplotlib.rc('font', size=6)\n",
    "\n",
    "%matplotlib inline\n",
    "%config InlineBackend.figure_format = 'svg' "
   ]
  },
  {
   "cell_type": "markdown",
   "metadata": {},
   "source": [
    "Assuming uniform vertical displacements evolution, the scaling factor is growing from 0.2 to 1. over a 5 Ma period when considering a 1Ma interval."
   ]
  },
  {
   "cell_type": "code",
   "execution_count": null,
   "metadata": {},
   "outputs": [],
   "source": [
    "it = 20\n",
    "factor = 0.6\n",
    "\n",
    "backfile = 'data/backward-elev15-20.npz'\n",
    "backstep = 'z'+str(it-1)\n",
    "\n",
    "modelinput = 'inputs/model'+str(it)+'Ma.yml'\n",
    "outNb = 100 # Final time step for the model (last step in Paraview...)\n",
    "\n",
    "sigma = 10 # Gaussian filter on tectonic grid\n",
    "tecfile = 'input'+str(it)+'/vtec'+str(it)+'Ma'\n",
    "\n",
    "res = 0.1\n",
    "dt = 1.e6"
   ]
  },
  {
   "cell_type": "markdown",
   "metadata": {},
   "source": [
    "Main loop for mapping the tectonic differences over a 0.1 degree structured map"
   ]
  },
  {
   "cell_type": "code",
   "execution_count": null,
   "metadata": {},
   "outputs": [],
   "source": [
    "out = output.readOutput(filename=modelinput, step=outNb, uplift=False)\n",
    "out.buildLonLatMesh(res=res, nghb=3)\n",
    "\n",
    "shape = out.z.shape\n",
    "lon = np.linspace(0.0, 360, shape[1])\n",
    "lat = np.linspace(0.0, 180, shape[0])\n",
    "glon, glat = np.meshgrid(lon, lat)\n",
    "glonlat = np.dstack([glon.flatten(), glat.flatten()])[0]\n",
    "\n",
    "backMesh = np.load(backfile)\n",
    "back_elev = backMesh[backstep]\n",
    "\n",
    "tecto = factor * (back_elev - out.z.flatten())\n",
    "tecto = ndimage.gaussian_filter(tecto,sigma)"
   ]
  },
  {
   "cell_type": "code",
   "execution_count": null,
   "metadata": {},
   "outputs": [],
   "source": [
    "# import meshio\n",
    "# vtkfile = 'model19Ma.vtk'\n",
    "# vis_mesh = meshio.Mesh(out.vertices, {'triangle': out.cells}, \n",
    "#                                    point_data={\"Z\":out.elev, \"ED\":out.erodep})\n",
    "# meshio.write(vtkfile, vis_mesh)"
   ]
  },
  {
   "cell_type": "markdown",
   "metadata": {},
   "source": [
    "Check the scaled tectonic differences..."
   ]
  },
  {
   "cell_type": "code",
   "execution_count": null,
   "metadata": {},
   "outputs": [],
   "source": [
    "fig = plt.figure(figsize=(10,8))\n",
    "ax = fig.add_subplot(111)\n",
    "ax.imshow(np.flipud(tecto.reshape(shape)), extent=(-180, 180, -90, 90), vmin=-500, vmax=500, cmap=cm.RdBu) \n",
    "ax.set(xlabel='Longitude', ylabel='Latitude', yticks=np.arange(-90,120,30), xticks=np.arange(-180,180,30))\n",
    "ax.minorticks_on()"
   ]
  },
  {
   "cell_type": "markdown",
   "metadata": {},
   "source": [
    "Map the tectonic displacement on the unstructured mesh"
   ]
  },
  {
   "cell_type": "code",
   "execution_count": null,
   "metadata": {},
   "outputs": [],
   "source": [
    "tree = spatial.cKDTree(glonlat, leafsize=10)\n",
    "\n",
    "distances, indices = tree.query(out.lonlat, k=3)\n",
    "onIDs = np.where(distances[:, 0] == 0)[0]\n",
    "\n",
    "# Inverse weighting distance...\n",
    "weights = np.divide(\n",
    "    1.0, distances ** 2, out=np.zeros_like(distances), where=distances != 0\n",
    ")\n",
    "sumweights = np.sum(weights, axis=1)\n",
    "onIDs = np.where(sumweights == 0)[0]\n",
    "sumweights[sumweights == 0] = 1.0e-4\n",
    "\n",
    "tec = tecto.flatten()/dt\n",
    "uplift = np.sum(weights * tec[indices][:, :], axis=1) / sumweights\n",
    "\n",
    "if len(onIDs) > 0:\n",
    "    uplift[onIDs] = tec[indices[onIDs, 0]]\n",
    "    \n",
    "np.savez_compressed(tecfile, z=uplift)"
   ]
  },
  {
   "cell_type": "markdown",
   "metadata": {},
   "source": [
    "For checking in Paraview"
   ]
  },
  {
   "cell_type": "code",
   "execution_count": null,
   "metadata": {},
   "outputs": [],
   "source": [
    "# import meshio\n",
    "\n",
    "# mesh_struct = np.load('input20/20Ma.npz')\n",
    "\n",
    "# print(\"Field names: {}\".format(mesh_struct.files))\n",
    "\n",
    "# ngbIDs = mesh_struct['n']\n",
    "# vertices = mesh_struct['v']\n",
    "# cells = mesh_struct['c']\n",
    "# elev = mesh_struct['z']\n",
    "\n",
    "# checkvtk = \"check.vtk\"\n",
    "# vis_mesh = meshio.Mesh(vertices, {'triangle': cells}, point_data={\"z\":elev, \"vtec\":uplift})\n",
    "# meshio.write(checkvtk, vis_mesh)"
   ]
  }
 ],
 "metadata": {
  "kernelspec": {
   "display_name": "Python 3",
   "language": "python",
   "name": "python3"
  },
  "language_info": {
   "codemirror_mode": {
    "name": "ipython",
    "version": 3
   },
   "file_extension": ".py",
   "mimetype": "text/x-python",
   "name": "python",
   "nbconvert_exporter": "python",
   "pygments_lexer": "ipython3",
   "version": "3.7.3"
  }
 },
 "nbformat": 4,
 "nbformat_minor": 4
}
