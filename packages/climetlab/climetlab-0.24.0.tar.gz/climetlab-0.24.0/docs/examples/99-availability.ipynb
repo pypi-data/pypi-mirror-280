{
 "cells": [
  {
   "cell_type": "code",
   "execution_count": 1,
   "metadata": {
    "tags": []
   },
   "outputs": [],
   "source": [
    "!pip install --quiet climetlab"
   ]
  },
  {
   "source": [
    "# Dataset availability"
   ],
   "cell_type": "markdown",
   "metadata": {}
  },
  {
   "source": [
    "(Work in progress)"
   ],
   "cell_type": "markdown",
   "metadata": {}
  },
  {
   "cell_type": "code",
   "execution_count": 2,
   "metadata": {},
   "outputs": [],
   "source": [
    "from climetlab.utils.availability import Availability\nfrom climetlab.decorators import availability"
   ]
  },
  {
   "cell_type": "code",
   "execution_count": 3,
   "metadata": {
    "tags": []
   },
   "outputs": [],
   "source": [
    "C0 = [\n",
    "    {\"level\": \"500\", \"param\": \"Z\", \"step\": \"24\"},\n",
    "    {\"level\": \"500\", \"param\": \"Z\", \"step\": \"36\"},\n",
    "    {\"level\": \"500\", \"param\": \"Z\", \"step\": \"48\"},\n",
    "    {\"level\": \"500\", \"param\": \"T\", \"step\": \"24\"},\n",
    "    {\"level\": \"500\", \"param\": \"T\", \"step\": \"36\"},\n",
    "    {\"level\": \"500\", \"param\": \"T\", \"step\": \"48\"},\n",
    "    {\"level\": \"850\", \"param\": \"T\", \"step\": \"36\"},\n",
    "    {\"level\": \"850\", \"param\": \"T\", \"step\": \"48\"},\n",
    "    {\"level\": \"1000\", \"param\": \"Z\", \"step\": \"24\"},\n",
    "    {\"level\": \"1000\", \"param\": \"Z\", \"step\": \"48\"},\n",
    "]"
   ]
  },
  {
   "cell_type": "code",
   "execution_count": 4,
   "metadata": {},
   "outputs": [],
   "source": [
    "a0 = Availability(C0)"
   ]
  },
  {
   "cell_type": "code",
   "execution_count": 5,
   "metadata": {},
   "outputs": [
    {
     "output_type": "execute_result",
     "data": {
      "text/plain": [
       "<climetlab.utils.availability.Availability at 0x114a0ad60>"
      ],
      "text/html": "<hr><pre>level=1000, param=Z, step=[24, 48]\nlevel=500, param=[T, Z], step=[24, 36, 48]\nlevel=850, param=T, step=[36, 48]\n</pre><hr>"
     },
     "metadata": {},
     "execution_count": 5
    }
   ],
   "source": [
    "a0"
   ]
  },
  {
   "cell_type": "code",
   "execution_count": 6,
   "metadata": {},
   "outputs": [],
   "source": [
    "C1 = [\n",
    "    {\"level\": \"500\", \"param\": \"Z\", \"step\": \"24\"},\n",
    "    {\"level\": \"500\", \"param\": \"Z\", \"step\": \"36\"},\n",
    "    {\"level\": \"500\", \"param\": \"Z\", \"step\": \"48\"},\n",
    "    {\"level\": \"500\", \"param\": \"T\", \"step\": \"24\"},\n",
    "    {\"level\": \"500\", \"param\": \"T\", \"step\": \"36\"},\n",
    "    {\"level\": \"500\", \"param\": \"T\", \"step\": \"48\"},\n",
    "    {\"level\": \"850\", \"param\": \"T\", \"step\": \"36\"},\n",
    "    {\"level\": \"850\", \"param\": \"T\", \"step\": \"48\"},\n",
    "    {\"level\": \"1000\", \"param\": \"Z\", \"step\": \"24\"},\n",
    "    {\"level\": \"1000\", \"param\": \"Z\", \"step\": \"48\"},\n",
    "    {\"level\": \"850\", \"param\": \"Z\", \"step\": \"36\"},\n",
    "    {\"level\": \"850\", \"param\": \"Z\", \"step\": \"48\"},\n",
    "]"
   ]
  },
  {
   "cell_type": "code",
   "execution_count": 7,
   "metadata": {},
   "outputs": [],
   "source": [
    "a1 = Availability(C1)"
   ]
  },
  {
   "cell_type": "code",
   "execution_count": 8,
   "metadata": {},
   "outputs": [
    {
     "output_type": "execute_result",
     "data": {
      "text/plain": [
       "<climetlab.utils.availability.Availability at 0x10341e430>"
      ],
      "text/html": "<hr><pre>param=[T, Z]\n   level=500, step=[24, 36, 48]\n   level=850, step=[36, 48]\nparam=Z, level=1000, step=[24, 48]\n</pre><hr>"
     },
     "metadata": {},
     "execution_count": 8
    }
   ],
   "source": [
    "a1"
   ]
  },
  {
   "cell_type": "code",
   "execution_count": 9,
   "metadata": {},
   "outputs": [
    {
     "output_type": "execute_result",
     "data": {
      "text/plain": [
       "<climetlab.utils.availability.Availability at 0x114a0a790>"
      ],
      "text/html": "<hr><pre>param=Z\n   level=1000, step=[24, 48]\n   level=500, step=[24, 36, 48]\n   level=850, step=[36, 48]\n</pre><hr>"
     },
     "metadata": {},
     "execution_count": 9
    }
   ],
   "source": [
    "a1.select(param=\"Z\")"
   ]
  },
  {
   "cell_type": "code",
   "execution_count": 10,
   "metadata": {},
   "outputs": [
    {
     "output_type": "execute_result",
     "data": {
      "text/plain": [
       "<climetlab.utils.availability.Availability at 0x114a2d0d0>"
      ],
      "text/html": "<hr><pre>param=T\n   level=500, step=[24, 36, 48]\n   level=850, step=[36, 48]\n</pre><hr>"
     },
     "metadata": {},
     "execution_count": 10
    }
   ],
   "source": [
    "a1.select(param=\"T\")"
   ]
  },
  {
   "cell_type": "code",
   "execution_count": 11,
   "metadata": {},
   "outputs": [
    {
     "output_type": "stream",
     "name": "stdout",
     "text": [
      "{'param': ('T',), 'level': ('500',), 'step': ('24', '36', '48')}\n{'param': ('T',), 'level': ('850',), 'step': ('36', '48')}\n"
     ]
    }
   ],
   "source": [
    "for r in a1.select(param=\"T\").iterate():\n",
    "    print(r)"
   ]
  },
  {
   "cell_type": "code",
   "execution_count": 12,
   "metadata": {},
   "outputs": [
    {
     "output_type": "stream",
     "name": "stdout",
     "text": [
      "{'param': 'T', 'level': '500', 'step': '24'}\n{'param': 'T', 'level': '500', 'step': '36'}\n{'param': 'T', 'level': '500', 'step': '48'}\n{'param': 'T', 'level': '850', 'step': '36'}\n{'param': 'T', 'level': '850', 'step': '48'}\n"
     ]
    }
   ],
   "source": [
    "for r in a1.select(param=\"T\").iterate(True):\n",
    "    print(r)"
   ]
  },
  {
   "cell_type": "code",
   "execution_count": 13,
   "metadata": {},
   "outputs": [
    {
     "output_type": "execute_result",
     "data": {
      "text/plain": [
       "<climetlab.utils.availability.Availability at 0x114a2daf0>"
      ],
      "text/html": "<hr><pre>level=[500, 850], param=[T, Z], step=36\n</pre><hr>"
     },
     "metadata": {},
     "execution_count": 13
    }
   ],
   "source": [
    "a1.select(step=\"36\")"
   ]
  },
  {
   "cell_type": "code",
   "execution_count": 14,
   "metadata": {},
   "outputs": [
    {
     "output_type": "execute_result",
     "data": {
      "text/plain": [
       "<climetlab.utils.availability.Availability at 0x114a2db20>"
      ],
      "text/html": "<hr><pre>level=[500, 850], param=T, step=36\n</pre><hr>"
     },
     "metadata": {},
     "execution_count": 14
    }
   ],
   "source": [
    "a1.select(step=\"36\", param=\"T\")"
   ]
  },
  {
   "cell_type": "code",
   "execution_count": 15,
   "metadata": {},
   "outputs": [
    {
     "output_type": "execute_result",
     "data": {
      "text/plain": [
       "2"
      ]
     },
     "metadata": {},
     "execution_count": 15
    }
   ],
   "source": [
    "a1.count(step=\"36\", param=\"T\")"
   ]
  },
  {
   "cell_type": "code",
   "execution_count": 16,
   "metadata": {},
   "outputs": [
    {
     "output_type": "execute_result",
     "data": {
      "text/plain": [
       "12"
      ]
     },
     "metadata": {},
     "execution_count": 16
    }
   ],
   "source": [
    "a1.count()"
   ]
  },
  {
   "cell_type": "code",
   "execution_count": 17,
   "metadata": {},
   "outputs": [
    {
     "output_type": "execute_result",
     "data": {
      "text/plain": [
       "<climetlab.utils.availability.Availability at 0x114a2d7c0>"
      ],
      "text/html": "<hr><pre></pre><hr>"
     },
     "metadata": {},
     "execution_count": 17
    }
   ],
   "source": [
    "a1.select(step=\"22\")"
   ]
  },
  {
   "cell_type": "code",
   "execution_count": 18,
   "metadata": {},
   "outputs": [
    {
     "output_type": "execute_result",
     "data": {
      "text/plain": [
       "0"
      ]
     },
     "metadata": {},
     "execution_count": 18
    }
   ],
   "source": [
    "a1.select(param=\"Z\", step=\"99\").count()"
   ]
  },
  {
   "cell_type": "code",
   "execution_count": 19,
   "metadata": {},
   "outputs": [],
   "source": [
    "a3 = Availability(\n",
    "    [\n",
    "        {\"date\": [\"1990-01-01/1990-01-02\"], \"param\": [\"Z\", \"T\"]},\n",
    "        {\"date\": [\"1990-01-02/1990-01-05\"], \"param\": [\"Z\"]},\n",
    "        {\"date\": [\"1990-01-04/1990-01-15\"], \"param\": [\"Z\", \"T\"]},\n",
    "    ],\n",
    "    intervals=[\"date\"],\n",
    ")"
   ]
  },
  {
   "cell_type": "code",
   "execution_count": 20,
   "metadata": {},
   "outputs": [
    {
     "output_type": "execute_result",
     "data": {
      "text/plain": [
       "<climetlab.utils.availability.Availability at 0x114a2d460>"
      ],
      "text/html": "<hr><pre>date=1990-01-01/1990-01-15, param=Z\ndate=[1990-01-01/1990-01-02, 1990-01-04/1990-01-15], param=T\n</pre><hr>"
     },
     "metadata": {},
     "execution_count": 20
    }
   ],
   "source": [
    "a3"
   ]
  },
  {
   "cell_type": "code",
   "execution_count": 21,
   "metadata": {},
   "outputs": [
    {
     "output_type": "execute_result",
     "data": {
      "text/plain": [
       "29"
      ]
     },
     "metadata": {},
     "execution_count": 21
    }
   ],
   "source": [
    "a3.count()"
   ]
  },
  {
   "cell_type": "code",
   "execution_count": 22,
   "metadata": {},
   "outputs": [
    {
     "output_type": "execute_result",
     "data": {
      "text/plain": [
       "<climetlab.utils.availability.Availability at 0x114a2d610>"
      ],
      "text/html": "<hr><pre>date=[1990-01-02, 1990-01-04], param=T\ndate=1990-01-02/1990-01-04, param=Z\n</pre><hr>"
     },
     "metadata": {},
     "execution_count": 22
    }
   ],
   "source": [
    "a3.select(date=\"1990-01-02/1990-01-04\")"
   ]
  },
  {
   "cell_type": "code",
   "execution_count": 23,
   "metadata": {},
   "outputs": [
    {
     "output_type": "stream",
     "name": "stdout",
     "text": [
      "{'date': datetime.date(1990, 1, 2), 'param': 'T'}\n{'date': datetime.date(1990, 1, 4), 'param': 'T'}\n{'date': datetime.date(1990, 1, 2), 'param': 'Z'}\n{'date': datetime.date(1990, 1, 3), 'param': 'Z'}\n{'date': datetime.date(1990, 1, 4), 'param': 'Z'}\n"
     ]
    }
   ],
   "source": [
    "for r in a3.select(date=\"1990-01-02/1990-01-04\").iterate(True):\n",
    "    print(r)"
   ]
  },
  {
   "cell_type": "code",
   "execution_count": 24,
   "metadata": {},
   "outputs": [
    {
     "output_type": "execute_result",
     "data": {
      "text/plain": [
       "<climetlab.utils.availability.Availability at 0x114a2dc10>"
      ],
      "text/html": "<hr><pre>date=1990-01-03, param=T\n</pre><hr>"
     },
     "metadata": {},
     "execution_count": 24
    }
   ],
   "source": [
    "a3.missing(param=\"T\", date=\"1990-01-01/1990-01-15\")"
   ]
  },
  {
   "cell_type": "code",
   "execution_count": null,
   "metadata": {},
   "outputs": [],
   "source": []
  }
 ],
 "metadata": {
  "kernelspec": {
   "display_name": "Python 3",
   "language": "python",
   "name": "python3"
  },
  "language_info": {
   "codemirror_mode": {
    "name": "ipython",
    "version": 3
   },
   "file_extension": ".py",
   "mimetype": "text/x-python",
   "name": "python",
   "nbconvert_exporter": "python",
   "pygments_lexer": "ipython3",
   "version": "3.9.2-final"
  }
 },
 "nbformat": 4,
 "nbformat_minor": 4
}
