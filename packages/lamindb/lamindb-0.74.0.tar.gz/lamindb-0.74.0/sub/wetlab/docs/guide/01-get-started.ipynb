{
 "cells": [
  {
   "attachments": {},
   "cell_type": "markdown",
   "id": "7f26a335-cf1c-4e69-be3b-0c26b154606a",
   "metadata": {},
   "source": [
    "# Get started"
   ]
  },
  {
   "attachments": {},
   "cell_type": "markdown",
   "id": "a51faaf3-ee27-43c6-b48d-13be1adb5c46",
   "metadata": {},
   "source": [
    "Install all required dependencies:\n",
    "\n",
    "```\n",
    "pip install git+https://github.com/laminlabs/wetlab\n",
    "```"
   ]
  },
  {
   "attachments": {},
   "cell_type": "markdown",
   "id": "47e8839b-8acf-46f1-b071-6b91139aca9e",
   "metadata": {},
   "source": [
    "## Choose your instance"
   ]
  },
  {
   "cell_type": "code",
   "execution_count": null,
   "id": "051e43fa",
   "metadata": {},
   "outputs": [],
   "source": [
    "import lamindb as ln"
   ]
  },
  {
   "cell_type": "code",
   "execution_count": null,
   "id": "9be5522a",
   "metadata": {},
   "outputs": [],
   "source": [
    "ln.setup.init(storage=\"./wetlab-storage\", schema=\"wetlab,bionty\")"
   ]
  },
  {
   "cell_type": "code",
   "execution_count": null,
   "id": "12fccd84",
   "metadata": {},
   "outputs": [],
   "source": []
  }
 ],
 "metadata": {
  "kernelspec": {
   "display_name": "Python 3 (ipykernel)",
   "language": "python",
   "name": "python3"
  },
  "language_info": {
   "codemirror_mode": {
    "name": "ipython",
    "version": 3
   },
   "file_extension": ".py",
   "mimetype": "text/x-python",
   "name": "python",
   "nbconvert_exporter": "python",
   "pygments_lexer": "ipython3",
   "version": "3.10.13"
  },
  "nbproject": {
   "id": "KDHYIJsMH8U3",
   "parent": null,
   "pypackage": null,
   "time_init": "2022-10-21T07:09:17.947060+00:00",
   "user_handle": "bpenteado",
   "user_id": "b9ZS4jXD",
   "user_name": "Bernardo Penteado",
   "version": "0"
  },
  "vscode": {
   "interpreter": {
    "hash": "ae1fefc8646a06dd2e75004cd934adda7c5727b046986a772e3b44b0ffba9754"
   }
  }
 },
 "nbformat": 4,
 "nbformat_minor": 5
}
