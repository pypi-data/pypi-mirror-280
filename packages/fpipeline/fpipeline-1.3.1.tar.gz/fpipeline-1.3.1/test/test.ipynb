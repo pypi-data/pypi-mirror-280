{
 "cells": [
  {
   "cell_type": "code",
   "execution_count": 1,
   "metadata": {},
   "outputs": [],
   "source": [
    "from dataclasses import dataclass, field\n",
    "import sys, os\n",
    "sys.path.insert(1,os.path.abspath('../src'))"
   ]
  },
  {
   "attachments": {},
   "cell_type": "markdown",
   "metadata": {},
   "source": [
    "Import our code under test."
   ]
  },
  {
   "cell_type": "code",
   "execution_count": 2,
   "metadata": {},
   "outputs": [],
   "source": [
    "from fpipeline import pipeline, stepfn, conditionfn, variables, if_, not_, and_, \\\n",
    "    or_, Variable, Attribute, VariableContext, store, eval_vars, \\\n",
    "    list_, dict_, tuple_, set_"
   ]
  },
  {
   "attachments": {},
   "cell_type": "markdown",
   "metadata": {},
   "source": [
    "Load our Test framework, located in [notebook_reporter.py](./notebook_reporter.py).\n",
    "It makes use of a simple agnostic [tester.py](./tester.py)."
   ]
  },
  {
   "cell_type": "code",
   "execution_count": 3,
   "metadata": {
    "tags": [
     "hide-input"
    ]
   },
   "outputs": [],
   "source": [
    "from tester import Test, set_test_reporter\n",
    "\n",
    "from notebook_reporter import NotebookTestReporter\n",
    "\n",
    "from collections import namedtuple\n",
    "\n",
    "REPORTER = NotebookTestReporter()\n",
    "\n",
    "set_test_reporter(REPORTER)"
   ]
  },
  {
   "cell_type": "markdown",
   "metadata": {},
   "source": [
    "Test our Test framework"
   ]
  },
  {
   "cell_type": "code",
   "execution_count": 4,
   "metadata": {
    "tags": [
     "hide-input"
    ]
   },
   "outputs": [
    {
     "data": {
      "text/html": [
       "<span style='color:green'>✅ Test Test: OK</span>"
      ]
     },
     "metadata": {},
     "output_type": "display_data"
    }
   ],
   "source": [
    "Test(\"Test Test\", None).equals(None)"
   ]
  },
  {
   "cell_type": "code",
   "execution_count": 5,
   "metadata": {},
   "outputs": [
    {
     "data": {
      "text/html": [
       "<span style='color:green'>✅ Test Negate Test: OK</span>"
      ]
     },
     "metadata": {},
     "output_type": "display_data"
    }
   ],
   "source": [
    "Test(\"Test Negate Test\", None).negate.equals(False)"
   ]
  },
  {
   "attachments": {},
   "cell_type": "markdown",
   "metadata": {},
   "source": [
    "#### Test Data Setup"
   ]
  },
  {
   "attachments": {},
   "cell_type": "markdown",
   "metadata": {},
   "source": [
    "Our test setup consists of a context class `ctx`, a tracing step function `tstep`, and a predicte `has_value`\n",
    "\n",
    "Executing a `tstep` adds the arguments to a list in `ctx.trace`. This allows us to verify that the step was called, and that the arguments were properly passed.\n",
    "\n",
    "The `has_value` condition function compares the valuie in `ctx.value`, returning `True` if it equals\n",
    "the supplied value.\n",
    "\n",
    "The `get_trace` function returns the `ctx.trace` list; it can be used in `.apply` to extract it for comparison.\n",
    "\n",
    "The `ok` step function just returns `\"OK\"`.\n",
    "\n",
    "The `fail` step function just returns `\"Failed\"`\n",
    "\n",
    "The `true` condition function returns `True`.\n",
    "\n",
    "The `false` condition function returns `False`."
   ]
  },
  {
   "cell_type": "code",
   "execution_count": 6,
   "metadata": {},
   "outputs": [],
   "source": [
    "@dataclass\n",
    "class Ctx:\n",
    "    value: any = None\n",
    "    result: any = None # Used for testing store()\n",
    "    trace: list[tuple] = field(default_factory=list)"
   ]
  },
  {
   "cell_type": "code",
   "execution_count": 7,
   "metadata": {},
   "outputs": [],
   "source": [
    "@stepfn\n",
    "def tstep(data: Ctx, *args, **kwargs):\n",
    "    d = (*args, {**kwargs})\n",
    "    data.trace.append(d)\n",
    "    return data\n",
    "\n",
    "def get_trace(data: Ctx):\n",
    "    return data.trace\n",
    "\n",
    "@stepfn\n",
    "def ok(_: Ctx):\n",
    "    return 'OK'\n",
    "\n",
    "@stepfn\n",
    "def fail(_: Ctx):\n",
    "    return \"Failed\""
   ]
  },
  {
   "cell_type": "code",
   "execution_count": 8,
   "metadata": {},
   "outputs": [],
   "source": [
    "@conditionfn\n",
    "def has_value(data: Ctx, value):\n",
    "    return data.value == value\n",
    "\n",
    "@conditionfn\n",
    "def true(_: Ctx):\n",
    "    return True\n",
    "\n",
    "@conditionfn\n",
    "def false(_: Ctx):\n",
    "    return False"
   ]
  },
  {
   "attachments": {},
   "cell_type": "markdown",
   "metadata": {},
   "source": [
    "> Debugging note: inserting `.raise_exception` into a `Test` call chain will cause erroring tests\n",
    "to raise the original exception. `Test(`_..._`handle_exceptions=False)` will turn off exception handling entirely."
   ]
  },
  {
   "attachments": {},
   "cell_type": "markdown",
   "metadata": {},
   "source": [
    "#### Test Cases"
   ]
  },
  {
   "cell_type": "code",
   "execution_count": 9,
   "metadata": {},
   "outputs": [
    {
     "data": {
      "text/html": [
       "<span style='color:green'>✅ @stepfn step takes a single argument: OK</span>"
      ]
     },
     "metadata": {},
     "output_type": "display_data"
    }
   ],
   "source": [
    "Test(\"@stepfn step takes a single argument\",\n",
    "    tstep(7, 8).__code__.co_argcount\n",
    ").equals(1)"
   ]
  },
  {
   "cell_type": "code",
   "execution_count": 10,
   "metadata": {},
   "outputs": [
    {
     "data": {
      "text/html": [
       "<span style='color:green'>✅ @conditionfn condition takes a single argument: OK</span>"
      ]
     },
     "metadata": {},
     "output_type": "display_data"
    }
   ],
   "source": [
    "Test(\"@conditionfn condition takes a single argument\",\n",
    "    has_value(7, 8).__code__.co_argcount\n",
    ").equals(1)"
   ]
  },
  {
   "cell_type": "code",
   "execution_count": 11,
   "metadata": {},
   "outputs": [
    {
     "data": {
      "text/html": [
       "<span style='color:green'>✅ @stepfn capture args: OK</span>"
      ]
     },
     "metadata": {},
     "output_type": "display_data"
    }
   ],
   "source": [
    "Test(\"@stepfn capture args\",\n",
    "    tstep(7, 5)(Ctx()).trace\n",
    ").equals([(7, 5, {})])"
   ]
  },
  {
   "cell_type": "code",
   "execution_count": 12,
   "metadata": {},
   "outputs": [
    {
     "data": {
      "text/html": [
       "<span style='color:green'>✅ @conditionfn capture args (true): OK</span>"
      ]
     },
     "metadata": {},
     "output_type": "display_data"
    }
   ],
   "source": [
    "Test(\"@conditionfn capture args (true)\",\n",
    "    has_value(7)\n",
    ").apply(Ctx(7)).is_true()"
   ]
  },
  {
   "cell_type": "code",
   "execution_count": 13,
   "metadata": {},
   "outputs": [
    {
     "data": {
      "text/html": [
       "<span style='color:green'>✅ @conditionfn capture args (false): OK</span>"
      ]
     },
     "metadata": {},
     "output_type": "display_data"
    }
   ],
   "source": [
    "Test(\"@conditionfn capture args (false)\",\n",
    "    has_value(7)\n",
    ").apply(Ctx()).is_false()"
   ]
  },
  {
   "cell_type": "code",
   "execution_count": 14,
   "metadata": {},
   "outputs": [
    {
     "data": {
      "text/html": [
       "<span style='color:green'>✅ @stepfn name: OK</span>"
      ]
     },
     "metadata": {},
     "output_type": "display_data"
    }
   ],
   "source": [
    "Test(\"@stepfn name\",\n",
    "tstep.__name__\n",
    ").equals(\"tstep\")"
   ]
  },
  {
   "cell_type": "code",
   "execution_count": 15,
   "metadata": {},
   "outputs": [
    {
     "data": {
      "text/html": [
       "<span style='color:green'>✅ @comditionfn name: OK</span>"
      ]
     },
     "metadata": {},
     "output_type": "display_data"
    }
   ],
   "source": [
    "Test(\"@comditionfn name\",\n",
    "has_value.__name__\n",
    ").equals(\"has_value\")"
   ]
  },
  {
   "cell_type": "code",
   "execution_count": 16,
   "metadata": {},
   "outputs": [
    {
     "data": {
      "text/html": [
       "<span style='color:green'>✅ Simple pipeline: OK</span>"
      ]
     },
     "metadata": {},
     "output_type": "display_data"
    }
   ],
   "source": [
    "Test(\"Simple pipeline\",\n",
    "    pipeline(\n",
    "        tstep(7),\n",
    "        tstep(78)\n",
    "        )\n",
    " ).apply(Ctx()).call(get_trace).equals([\n",
    "    (7, {}),\n",
    "    (78, {})\n",
    "    ])"
   ]
  },
  {
   "attachments": {},
   "cell_type": "markdown",
   "metadata": {},
   "source": [
    "#### Conditional Tests"
   ]
  },
  {
   "cell_type": "code",
   "execution_count": 17,
   "metadata": {},
   "outputs": [
    {
     "data": {
      "text/html": [
       "<span style='color:green'>✅ if_ True: OK</span>"
      ]
     },
     "metadata": {},
     "output_type": "display_data"
    }
   ],
   "source": [
    "Test(\"if_ True\",\n",
    "    if_(\n",
    "        true(),\n",
    "        ok()\n",
    "        )\n",
    ").apply(Ctx()).equals('OK')"
   ]
  },
  {
   "cell_type": "code",
   "execution_count": 18,
   "metadata": {},
   "outputs": [
    {
     "data": {
      "text/html": [
       "<span style='color:green'>✅ if_ False: OK</span>"
      ]
     },
     "metadata": {},
     "output_type": "display_data"
    }
   ],
   "source": [
    "Test(\"if_ False\",\n",
    "     if_(\n",
    "        false(),\n",
    "        ok()\n",
    "     )\n",
    ").apply(Ctx()).equals(None)\n"
   ]
  },
  {
   "cell_type": "code",
   "execution_count": 19,
   "metadata": {},
   "outputs": [
    {
     "data": {
      "text/html": [
       "<span style='color:green'>✅ if_ True else: OK</span>"
      ]
     },
     "metadata": {},
     "output_type": "display_data"
    }
   ],
   "source": [
    "Test(\"if_ True else\",\n",
    "    if_(\n",
    "        true(),\n",
    "        ok(),\n",
    "        fail()\n",
    "    )\n",
    ").apply(Ctx(42)).equals('OK')"
   ]
  },
  {
   "cell_type": "code",
   "execution_count": 20,
   "metadata": {},
   "outputs": [
    {
     "data": {
      "text/html": [
       "<span style='color:green'>✅ if_ False else: OK</span>"
      ]
     },
     "metadata": {},
     "output_type": "display_data"
    }
   ],
   "source": [
    "Test(\"if_ False else\",\n",
    "     if_(\n",
    "         false(),\n",
    "         fail(),\n",
    "         ok()\n",
    "     )\n",
    "     ).apply(Ctx()).equals('OK')\n"
   ]
  },
  {
   "cell_type": "code",
   "execution_count": 21,
   "metadata": {},
   "outputs": [
    {
     "data": {
      "text/html": [
       "<span style='color:green'>✅ not_ True: OK</span>"
      ]
     },
     "metadata": {},
     "output_type": "display_data"
    }
   ],
   "source": [
    "Test(\"not_ True\",\n",
    "    not_(true())\n",
    ").apply(Ctx()).equals(False)"
   ]
  },
  {
   "cell_type": "code",
   "execution_count": 22,
   "metadata": {},
   "outputs": [
    {
     "data": {
      "text/html": [
       "<span style='color:green'>✅ not_ False: OK</span>"
      ]
     },
     "metadata": {},
     "output_type": "display_data"
    }
   ],
   "source": [
    "Test(\"not_ False\",\n",
    "     not_(false())\n",
    "     ).apply(Ctx()).equals(True)"
   ]
  },
  {
   "cell_type": "code",
   "execution_count": 23,
   "metadata": {},
   "outputs": [
    {
     "data": {
      "text/html": [
       "<span style='color:green'>✅ or_ 0: OK</span>"
      ]
     },
     "metadata": {},
     "output_type": "display_data"
    }
   ],
   "source": [
    "Test(\"or_ 0\",\n",
    "or_()\n",
    ").apply(Ctx()).equals(False)"
   ]
  },
  {
   "cell_type": "code",
   "execution_count": 24,
   "metadata": {},
   "outputs": [
    {
     "data": {
      "text/html": [
       "<span style='color:green'>✅ or_ T: OK</span>"
      ]
     },
     "metadata": {},
     "output_type": "display_data"
    }
   ],
   "source": [
    "Test(\"or_ T\",\n",
    "     or_(true())\n",
    "     ).apply(Ctx()).equals(True)\n"
   ]
  },
  {
   "cell_type": "code",
   "execution_count": 25,
   "metadata": {},
   "outputs": [
    {
     "data": {
      "text/html": [
       "<span style='color:green'>✅ or_ F: OK</span>"
      ]
     },
     "metadata": {},
     "output_type": "display_data"
    }
   ],
   "source": [
    "Test(\"or_ F\",\n",
    "or_(false())\n",
    ").apply(Ctx()).equals(False)"
   ]
  },
  {
   "cell_type": "code",
   "execution_count": 26,
   "metadata": {},
   "outputs": [
    {
     "data": {
      "text/html": [
       "<span style='color:green'>✅ or_ F T: OK</span>"
      ]
     },
     "metadata": {},
     "output_type": "display_data"
    }
   ],
   "source": [
    "Test(\"or_ F T\",\n",
    "     or_(false(), true())\n",
    "     ).apply(Ctx()).equals(True)"
   ]
  },
  {
   "cell_type": "code",
   "execution_count": 27,
   "metadata": {},
   "outputs": [
    {
     "data": {
      "text/html": [
       "<span style='color:green'>✅ or_ T F: OK</span>"
      ]
     },
     "metadata": {},
     "output_type": "display_data"
    }
   ],
   "source": [
    "Test(\"or_ T F\",\n",
    "     or_(true(), false())\n",
    "     ).apply(Ctx()).equals(True)"
   ]
  },
  {
   "cell_type": "code",
   "execution_count": 28,
   "metadata": {},
   "outputs": [
    {
     "data": {
      "text/html": [
       "<span style='color:green'>✅ or_ T T: OK</span>"
      ]
     },
     "metadata": {},
     "output_type": "display_data"
    }
   ],
   "source": [
    "Test(\"or_ T T\",\n",
    "     or_(true(), true())\n",
    "     ).apply(Ctx()).equals(True)"
   ]
  },
  {
   "cell_type": "code",
   "execution_count": 29,
   "metadata": {},
   "outputs": [
    {
     "data": {
      "text/html": [
       "<span style='color:green'>✅ and_ 0: OK</span>"
      ]
     },
     "metadata": {},
     "output_type": "display_data"
    }
   ],
   "source": [
    "Test(\"and_ 0\",\n",
    "    and_()\n",
    ").apply(Ctx()).equals(True)"
   ]
  },
  {
   "cell_type": "code",
   "execution_count": 30,
   "metadata": {},
   "outputs": [
    {
     "data": {
      "text/html": [
       "<span style='color:green'>✅ and_ T: OK</span>"
      ]
     },
     "metadata": {},
     "output_type": "display_data"
    }
   ],
   "source": [
    "Test(\"and_ T\",\n",
    "     and_(true())\n",
    "     ).apply(Ctx()).equals(True)"
   ]
  },
  {
   "cell_type": "code",
   "execution_count": 31,
   "metadata": {},
   "outputs": [
    {
     "data": {
      "text/html": [
       "<span style='color:green'>✅ and_ F: OK</span>"
      ]
     },
     "metadata": {},
     "output_type": "display_data"
    }
   ],
   "source": [
    "Test(\"and_ F\",\n",
    "     and_(false())\n",
    "     ).apply(Ctx()).equals(False)"
   ]
  },
  {
   "cell_type": "code",
   "execution_count": 32,
   "metadata": {},
   "outputs": [
    {
     "data": {
      "text/html": [
       "<span style='color:green'>✅ and_ T F: OK</span>"
      ]
     },
     "metadata": {},
     "output_type": "display_data"
    }
   ],
   "source": [
    "Test(\"and_ T F\",\n",
    "    and_(true(), false())\n",
    "    ).apply(Ctx()).equals(False)"
   ]
  },
  {
   "cell_type": "code",
   "execution_count": 33,
   "metadata": {},
   "outputs": [
    {
     "data": {
      "text/html": [
       "<span style='color:green'>✅ and_ F T: OK</span>"
      ]
     },
     "metadata": {},
     "output_type": "display_data"
    }
   ],
   "source": [
    "Test(\"and_ F T\",\n",
    "     and_(false(), true())\n",
    "     ).apply(Ctx()).equals(False)"
   ]
  },
  {
   "cell_type": "code",
   "execution_count": 34,
   "metadata": {},
   "outputs": [
    {
     "data": {
      "text/html": [
       "<span style='color:green'>✅ and_ T T: OK</span>"
      ]
     },
     "metadata": {},
     "output_type": "display_data"
    }
   ],
   "source": [
    "Test(\"and_ T T\",\n",
    "    and_(true(), true())\n",
    "    ).apply(Ctx()).equals(True)"
   ]
  },
  {
   "cell_type": "code",
   "execution_count": 35,
   "metadata": {},
   "outputs": [
    {
     "data": {
      "text/html": [
       "<span style='color:green'>✅ and_ F F: OK</span>"
      ]
     },
     "metadata": {},
     "output_type": "display_data"
    }
   ],
   "source": [
    "Test(\"and_ F F\",\n",
    "     and_(false(), false())\n",
    "     ).apply(Ctx()).equals(False)"
   ]
  },
  {
   "attachments": {},
   "cell_type": "markdown",
   "metadata": {},
   "source": [
    "#### Variable Tests"
   ]
  },
  {
   "cell_type": "code",
   "execution_count": 36,
   "metadata": {},
   "outputs": [
    {
     "data": {
      "text/html": [
       "<span style='color:green'>✅ Close vars: OK</span>"
      ]
     },
     "metadata": {},
     "output_type": "display_data"
    }
   ],
   "source": [
    "@stepfn\n",
    "def f0(ctx: Ctx):\n",
    "    with variables(ctx) as vars:\n",
    "        return vars\n",
    "Test('Close vars',\n",
    "    f0()\n",
    ").apply(Ctx()).call(lambda c: c.closed).is_true()"
   ]
  },
  {
   "cell_type": "code",
   "execution_count": 37,
   "metadata": {},
   "outputs": [
    {
     "data": {
      "text/html": [
       "<span style='color:green'>✅ Clear vars: OK</span>"
      ]
     },
     "metadata": {},
     "output_type": "display_data"
    }
   ],
   "source": [
    "@stepfn\n",
    "def f1(ctx: Ctx):\n",
    "    with variables(ctx) as vars:\n",
    "        v1, v2 = vars.variable('v1', 'v2')\n",
    "        a1, a2 = vars.attribute('value', 'a2')\n",
    "        return vars\n",
    "Test('Clear vars',\n",
    "     f1()\n",
    "     ).apply(Ctx()).call(lambda c: len(c._variables)).equals(0)"
   ]
  },
  {
   "cell_type": "code",
   "execution_count": 38,
   "metadata": {},
   "outputs": [
    {
     "data": {
      "text/html": [
       "<span style='color:green'>✅ Check vars lifecycle: OK</span>"
      ]
     },
     "metadata": {},
     "output_type": "display_data"
    }
   ],
   "source": [
    "@stepfn\n",
    "def f2(ctx: Ctx):\n",
    "    c = VariableContext(ctx)\n",
    "    v = c.variable('v')\n",
    "    a = c.attribute('a')\n",
    "    c.close()\n",
    "Test(\"Check vars lifecycle\",\n",
    "    f2()\n",
    "    ).apply(Ctx()).equals(None)"
   ]
  },
  {
   "cell_type": "code",
   "execution_count": 39,
   "metadata": {},
   "outputs": [
    {
     "data": {
      "text/html": [
       "<span style='color:green'>✅ Check vars recorded: OK</span>"
      ]
     },
     "metadata": {},
     "output_type": "display_data"
    }
   ],
   "source": [
    "@stepfn\n",
    "def f3(ctx: Ctx):\n",
    "    with variables(ctx) as vars:\n",
    "        v1, v2 = vars.variable('v1', 'v2')\n",
    "        a1, a2 = vars.attribute('a1', 'a2')\n",
    "        return list(vars._variables.keys())\n",
    "\n",
    "Test('Check vars recorded',\n",
    "     f3()\n",
    "     ).apply(Ctx()).equals(['v1', 'v2', 'a1', 'a2'])\n"
   ]
  },
  {
   "cell_type": "code",
   "execution_count": 40,
   "metadata": {},
   "outputs": [
    {
     "data": {
      "text/html": [
       "<span style='color:green'>✅ Attribute.value: OK</span>"
      ]
     },
     "metadata": {},
     "output_type": "display_data"
    }
   ],
   "source": [
    "@stepfn\n",
    "def f4(ctx: Ctx):\n",
    "    with variables(ctx) as vars:\n",
    "        a = vars.attribute('value')\n",
    "        return a.value\n",
    "Test(\"Attribute.value\",\n",
    "    f4()\n",
    ").apply(Ctx(55)).equals(55)"
   ]
  },
  {
   "cell_type": "code",
   "execution_count": 41,
   "metadata": {},
   "outputs": [
    {
     "data": {
      "text/html": [
       "<span style='color:green'>✅ Attribute return: OK</span>"
      ]
     },
     "metadata": {},
     "output_type": "display_data"
    }
   ],
   "source": [
    "# Attributes should not be returned from steps.\n",
    "@stepfn\n",
    "def f5(ctx: Ctx):\n",
    "    with variables(ctx) as vars:\n",
    "        a = vars.attribute('value')\n",
    "        return a\n",
    "Test(\"Attribute return\",\n",
    "    f5()\n",
    ").apply(Ctx(55)).is_exception()"
   ]
  },
  {
   "cell_type": "code",
   "execution_count": 42,
   "metadata": {},
   "outputs": [
    {
     "data": {
      "text/html": [
       "<span style='color:green'>✅ Variables: OK</span>"
      ]
     },
     "metadata": {},
     "output_type": "display_data"
    }
   ],
   "source": [
    "@stepfn\n",
    "def f6(ctx: Ctx):\n",
    "    with variables(ctx) as vars:\n",
    "        v1, v2 = vars.variable('v1', 'v2')\n",
    "        v1.value = 'a'\n",
    "        v2.value = v1.value\n",
    "        return v2.value\n",
    "Test('Variables',\n",
    "    f6()\n",
    ").apply(Ctx()).equals('a')"
   ]
  },
  {
   "cell_type": "code",
   "execution_count": 43,
   "metadata": {},
   "outputs": [
    {
     "data": {
      "text/html": [
       "<span style='color:green'>✅ Variable return forbidden: OK</span>"
      ]
     },
     "metadata": {},
     "output_type": "display_data"
    }
   ],
   "source": [
    "# Variables should not be returned from steps\n",
    "@stepfn\n",
    "def f7(ctx: Ctx):\n",
    "    with variables(ctx) as vars:\n",
    "        v = vars.variable('value')\n",
    "        return v\n",
    "\n",
    "Test(\"Variable return forbidden\",\n",
    "     f7()\n",
    "     ).apply(Ctx(55)).is_exception()\n"
   ]
  },
  {
   "cell_type": "code",
   "execution_count": 44,
   "metadata": {},
   "outputs": [
    {
     "data": {
      "text/html": [
       "<span style='color:green'>✅ Variable Pipeline return variable: OK</span>"
      ]
     },
     "metadata": {},
     "output_type": "display_data"
    }
   ],
   "source": [
    "@stepfn\n",
    "def f8(ctx: Ctx):\n",
    "    with variables(ctx) as vars:\n",
    "        v = vars.variable('v')\n",
    "        v.value = 99\n",
    "        return vars.pipeline(v)\n",
    "Test('Variable Pipeline return variable',\n",
    "    f8()).apply(Ctx()).equals(99)"
   ]
  },
  {
   "cell_type": "code",
   "execution_count": 45,
   "metadata": {},
   "outputs": [
    {
     "data": {
      "text/html": [
       "<span style='color:green'>✅ Store: OK</span>"
      ]
     },
     "metadata": {},
     "output_type": "display_data"
    }
   ],
   "source": [
    "@stepfn\n",
    "def f9(ctx: Ctx):\n",
    "    with variables(ctx) as vars:\n",
    "        v, r = vars.attribute('value', 'result')\n",
    "        return vars.pipeline(\n",
    "            store(r, v)\n",
    "        )\n",
    "Test('Store',\n",
    "    f9()\n",
    ").apply(Ctx(72)).equals(72)"
   ]
  },
  {
   "cell_type": "code",
   "execution_count": 46,
   "metadata": {},
   "outputs": [
    {
     "data": {
      "text/html": [
       "<span style='color:green'>✅ Store ctx.result: OK</span>"
      ]
     },
     "metadata": {},
     "output_type": "display_data"
    }
   ],
   "source": [
    "@stepfn\n",
    "def f10(ctx: Ctx):\n",
    "    with variables(ctx) as vars:\n",
    "        v, r = vars.attribute('value', 'result')\n",
    "        return vars.pipeline(\n",
    "            store(r, v),\n",
    "            lambda data: data # Return the context data for examination\n",
    "        )\n",
    "Test('Store ctx.result',\n",
    "    f10()\n",
    ").apply(Ctx(72)).attribute('result').equals(72)"
   ]
  },
  {
   "attachments": {},
   "cell_type": "markdown",
   "metadata": {},
   "source": [
    "### Test eval_vars"
   ]
  },
  {
   "cell_type": "code",
   "execution_count": 47,
   "metadata": {},
   "outputs": [
    {
     "data": {
      "text/html": [
       "<span style='color:green'>✅ eval_vars simple: OK</span>"
      ]
     },
     "metadata": {},
     "output_type": "display_data"
    }
   ],
   "source": [
    "Test(\"eval_vars simple\",\n",
    "    eval_vars({}, [3, {'a': 5}, (7, 3)])\n",
    ").equals([3, {'a': 5}, (7, 3)])"
   ]
  },
  {
   "cell_type": "code",
   "execution_count": 48,
   "metadata": {},
   "outputs": [
    {
     "data": {
      "text/html": [
       "<span style='color:green'>✅ eval_vars variable: OK</span>"
      ]
     },
     "metadata": {},
     "output_type": "display_data"
    }
   ],
   "source": [
    "vv = Variable('vv')\n",
    "vv.value = 77\n",
    "Test(\"eval_vars variable\", eval_vars({}, vv)).equals(77)"
   ]
  },
  {
   "cell_type": "code",
   "execution_count": 49,
   "metadata": {},
   "outputs": [
    {
     "data": {
      "text/html": [
       "<span style='color:green'>✅ eval_vars namedtuple: OK</span>"
      ]
     },
     "metadata": {},
     "output_type": "display_data"
    }
   ],
   "source": [
    "snt = Variable('snt')\n",
    "snt.value = 77\n",
    "tup = namedtuple('typ', ['x', 'y'])\n",
    "Test(\"eval_vars namedtuple\", eval_vars({}, tup(3, snt))).equals(tup(3, 77))"
   ]
  },
  {
   "cell_type": "code",
   "execution_count": 50,
   "metadata": {},
   "outputs": [
    {
     "data": {
      "text/html": [
       "<span style='color:green'>✅ eval_vars set: OK</span>"
      ]
     },
     "metadata": {},
     "output_type": "display_data"
    }
   ],
   "source": [
    "vset = Variable('vset')\n",
    "vset.value = 42\n",
    "Test(\"eval_vars set\", eval_vars({},{8, vset, 42})).equals({8, 42})"
   ]
  },
  {
   "cell_type": "code",
   "execution_count": 51,
   "metadata": {},
   "outputs": [
    {
     "data": {
      "text/html": [
       "<span style='color:green'>✅ Pipeline struct return: OK</span>"
      ]
     },
     "metadata": {},
     "output_type": "display_data"
    }
   ],
   "source": [
    "@stepfn\n",
    "def f11(ctx: Ctx):\n",
    "    with variables(ctx) as vars:\n",
    "        x, y = vars.attribute('x', 'y')\n",
    "        return vars.pipeline(lambda data: (y, x))\n",
    "Test('Pipeline struct return',\n",
    "    f11()\n",
    "    ).apply({'x': 5, 'y': 7}).equals((7, 5))"
   ]
  },
  {
   "cell_type": "code",
   "execution_count": 52,
   "metadata": {},
   "outputs": [
    {
     "data": {
      "text/html": [
       "<table><tr><td style='text-align:left'><span style='color:green'>✅ Test Test: OK</span></td><td style='text-align:left'><span style='color:green'>✅ Test Negate Test: OK</span></td><td style='text-align:left'><span style='color:green'>✅ @stepfn step takes a single argument: OK</span></td></tr>\n",
       "<tr><td style='text-align:left'><span style='color:green'>✅ @conditionfn condition takes a single argument: OK</span></td><td style='text-align:left'><span style='color:green'>✅ @stepfn capture args: OK</span></td><td style='text-align:left'><span style='color:green'>✅ @conditionfn capture args (true): OK</span></td></tr>\n",
       "<tr><td style='text-align:left'><span style='color:green'>✅ @conditionfn capture args (false): OK</span></td><td style='text-align:left'><span style='color:green'>✅ @stepfn name: OK</span></td><td style='text-align:left'><span style='color:green'>✅ @comditionfn name: OK</span></td></tr>\n",
       "<tr><td style='text-align:left'><span style='color:green'>✅ Simple pipeline: OK</span></td><td style='text-align:left'><span style='color:green'>✅ if_ True: OK</span></td><td style='text-align:left'><span style='color:green'>✅ if_ False: OK</span></td></tr>\n",
       "<tr><td style='text-align:left'><span style='color:green'>✅ if_ True else: OK</span></td><td style='text-align:left'><span style='color:green'>✅ if_ False else: OK</span></td><td style='text-align:left'><span style='color:green'>✅ not_ True: OK</span></td></tr>\n",
       "<tr><td style='text-align:left'><span style='color:green'>✅ not_ False: OK</span></td><td style='text-align:left'><span style='color:green'>✅ or_ 0: OK</span></td><td style='text-align:left'><span style='color:green'>✅ or_ T: OK</span></td></tr>\n",
       "<tr><td style='text-align:left'><span style='color:green'>✅ or_ F: OK</span></td><td style='text-align:left'><span style='color:green'>✅ or_ F T: OK</span></td><td style='text-align:left'><span style='color:green'>✅ or_ T F: OK</span></td></tr>\n",
       "<tr><td style='text-align:left'><span style='color:green'>✅ or_ T T: OK</span></td><td style='text-align:left'><span style='color:green'>✅ and_ 0: OK</span></td><td style='text-align:left'><span style='color:green'>✅ and_ T: OK</span></td></tr>\n",
       "<tr><td style='text-align:left'><span style='color:green'>✅ and_ F: OK</span></td><td style='text-align:left'><span style='color:green'>✅ and_ T F: OK</span></td><td style='text-align:left'><span style='color:green'>✅ and_ F T: OK</span></td></tr>\n",
       "<tr><td style='text-align:left'><span style='color:green'>✅ and_ T T: OK</span></td><td style='text-align:left'><span style='color:green'>✅ and_ F F: OK</span></td><td style='text-align:left'><span style='color:green'>✅ Close vars: OK</span></td></tr>\n",
       "<tr><td style='text-align:left'><span style='color:green'>✅ Clear vars: OK</span></td><td style='text-align:left'><span style='color:green'>✅ Check vars lifecycle: OK</span></td><td style='text-align:left'><span style='color:green'>✅ Check vars recorded: OK</span></td></tr>\n",
       "<tr><td style='text-align:left'><span style='color:green'>✅ Attribute.value: OK</span></td><td style='text-align:left'><span style='color:green'>✅ Attribute return: OK</span></td><td style='text-align:left'><span style='color:green'>✅ Variables: OK</span></td></tr>\n",
       "<tr><td style='text-align:left'><span style='color:green'>✅ Variable return forbidden: OK</span></td><td style='text-align:left'><span style='color:green'>✅ Variable Pipeline return variable: OK</span></td><td style='text-align:left'><span style='color:green'>✅ Store: OK</span></td></tr>\n",
       "<tr><td style='text-align:left'><span style='color:green'>✅ Store ctx.result: OK</span></td><td style='text-align:left'><span style='color:green'>✅ eval_vars simple: OK</span></td><td style='text-align:left'><span style='color:green'>✅ eval_vars variable: OK</span></td></tr>\n",
       "<tr><td style='text-align:left'><span style='color:green'>✅ eval_vars namedtuple: OK</span></td><td style='text-align:left'><span style='color:green'>✅ eval_vars set: OK</span></td><td style='text-align:left'><span style='color:green'>✅ Pipeline struct return: OK</span></td></tr></table><br>45 successes, 0 failures, 0 errors"
      ]
     },
     "metadata": {},
     "output_type": "display_data"
    }
   ],
   "source": [
    "REPORTER.report(columns=3)"
   ]
  }
 ],
 "metadata": {
  "kernelspec": {
   "display_name": "Python 3",
   "language": "python",
   "name": "python3"
  },
  "language_info": {
   "codemirror_mode": {
    "name": "ipython",
    "version": 3
   },
   "file_extension": ".py",
   "mimetype": "text/x-python",
   "name": "python",
   "nbconvert_exporter": "python",
   "pygments_lexer": "ipython3",
   "version": "3.12.2"
  }
 },
 "nbformat": 4,
 "nbformat_minor": 4
}
