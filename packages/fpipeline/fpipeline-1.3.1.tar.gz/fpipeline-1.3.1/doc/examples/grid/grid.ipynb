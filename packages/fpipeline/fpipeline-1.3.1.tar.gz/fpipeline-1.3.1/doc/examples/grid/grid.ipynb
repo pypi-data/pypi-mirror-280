{
 "cells": [
  {
   "cell_type": "code",
   "execution_count": 2,
   "metadata": {},
   "outputs": [
    {
     "name": "stdout",
     "output_type": "stream",
     "text": [
      "Requirement already satisfied: shapely in /Users/rwk/.pyenv/versions/3.10.1/lib/python3.10/site-packages (2.0.0)\n",
      "Requirement already satisfied: numpy>=1.14 in /Users/rwk/.pyenv/versions/3.10.1/lib/python3.10/site-packages (from shapely) (1.24.0)\n",
      "Note: you may need to restart the kernel to use updated packages.\n",
      "Requirement already satisfied: geopandas in /Users/rwk/.pyenv/versions/3.10.1/lib/python3.10/site-packages (0.12.2)\n",
      "Requirement already satisfied: pyproj>=2.6.1.post1 in /Users/rwk/.pyenv/versions/3.10.1/lib/python3.10/site-packages (from geopandas) (3.4.1)\n",
      "Requirement already satisfied: shapely>=1.7 in /Users/rwk/.pyenv/versions/3.10.1/lib/python3.10/site-packages (from geopandas) (2.0.0)\n",
      "Requirement already satisfied: packaging in /Users/rwk/.pyenv/versions/3.10.1/lib/python3.10/site-packages (from geopandas) (21.3)\n",
      "Requirement already satisfied: pandas>=1.0.0 in /Users/rwk/.pyenv/versions/3.10.1/lib/python3.10/site-packages (from geopandas) (1.5.2)\n",
      "Requirement already satisfied: fiona>=1.8 in /Users/rwk/.pyenv/versions/3.10.1/lib/python3.10/site-packages (from geopandas) (1.8.22)\n",
      "Requirement already satisfied: certifi in /Users/rwk/.pyenv/versions/3.10.1/lib/python3.10/site-packages (from fiona>=1.8->geopandas) (2021.10.8)\n",
      "Requirement already satisfied: click-plugins>=1.0 in /Users/rwk/.pyenv/versions/3.10.1/lib/python3.10/site-packages (from fiona>=1.8->geopandas) (1.1.1)\n",
      "Requirement already satisfied: setuptools in /Users/rwk/.pyenv/versions/3.10.1/lib/python3.10/site-packages (from fiona>=1.8->geopandas) (58.1.0)\n",
      "Requirement already satisfied: click>=4.0 in /Users/rwk/.pyenv/versions/3.10.1/lib/python3.10/site-packages (from fiona>=1.8->geopandas) (8.1.3)\n",
      "Requirement already satisfied: munch in /Users/rwk/.pyenv/versions/3.10.1/lib/python3.10/site-packages (from fiona>=1.8->geopandas) (2.5.0)\n",
      "Requirement already satisfied: attrs>=17 in /Users/rwk/.pyenv/versions/3.10.1/lib/python3.10/site-packages (from fiona>=1.8->geopandas) (21.4.0)\n",
      "Requirement already satisfied: six>=1.7 in /Users/rwk/.pyenv/versions/3.10.1/lib/python3.10/site-packages (from fiona>=1.8->geopandas) (1.16.0)\n",
      "Requirement already satisfied: cligj>=0.5 in /Users/rwk/.pyenv/versions/3.10.1/lib/python3.10/site-packages (from fiona>=1.8->geopandas) (0.7.2)\n",
      "Requirement already satisfied: python-dateutil>=2.8.1 in /Users/rwk/.pyenv/versions/3.10.1/lib/python3.10/site-packages (from pandas>=1.0.0->geopandas) (2.8.2)\n",
      "Requirement already satisfied: numpy>=1.21.0 in /Users/rwk/.pyenv/versions/3.10.1/lib/python3.10/site-packages (from pandas>=1.0.0->geopandas) (1.24.0)\n",
      "Requirement already satisfied: pytz>=2020.1 in /Users/rwk/.pyenv/versions/3.10.1/lib/python3.10/site-packages (from pandas>=1.0.0->geopandas) (2022.7)\n",
      "Requirement already satisfied: pyparsing!=3.0.5,>=2.0.2 in /Users/rwk/.pyenv/versions/3.10.1/lib/python3.10/site-packages (from packaging->geopandas) (3.0.6)\n",
      "Note: you may need to restart the kernel to use updated packages.\n",
      "Requirement already satisfied: geojsonio in /Users/rwk/.pyenv/versions/3.10.1/lib/python3.10/site-packages (0.0.3)\n",
      "Requirement already satisfied: github3.py in /Users/rwk/.pyenv/versions/3.10.1/lib/python3.10/site-packages (from geojsonio) (3.2.0)\n",
      "Requirement already satisfied: six in /Users/rwk/.pyenv/versions/3.10.1/lib/python3.10/site-packages (from geojsonio) (1.16.0)\n",
      "Requirement already satisfied: PyJWT[crypto]>=2.3.0 in /Users/rwk/.pyenv/versions/3.10.1/lib/python3.10/site-packages (from github3.py->geojsonio) (2.6.0)\n",
      "Requirement already satisfied: python-dateutil>=2.6.0 in /Users/rwk/.pyenv/versions/3.10.1/lib/python3.10/site-packages (from github3.py->geojsonio) (2.8.2)\n",
      "Requirement already satisfied: uritemplate>=3.0.0 in /Users/rwk/.pyenv/versions/3.10.1/lib/python3.10/site-packages (from github3.py->geojsonio) (4.1.1)\n",
      "Requirement already satisfied: requests>=2.18 in /Users/rwk/.pyenv/versions/3.10.1/lib/python3.10/site-packages (from github3.py->geojsonio) (2.27.1)\n",
      "Requirement already satisfied: cryptography>=3.4.0 in /Users/rwk/.pyenv/versions/3.10.1/lib/python3.10/site-packages (from PyJWT[crypto]>=2.3.0->github3.py->geojsonio) (38.0.4)\n",
      "Requirement already satisfied: certifi>=2017.4.17 in /Users/rwk/.pyenv/versions/3.10.1/lib/python3.10/site-packages (from requests>=2.18->github3.py->geojsonio) (2021.10.8)\n",
      "Requirement already satisfied: urllib3<1.27,>=1.21.1 in /Users/rwk/.pyenv/versions/3.10.1/lib/python3.10/site-packages (from requests>=2.18->github3.py->geojsonio) (1.26.8)\n",
      "Requirement already satisfied: charset-normalizer~=2.0.0 in /Users/rwk/.pyenv/versions/3.10.1/lib/python3.10/site-packages (from requests>=2.18->github3.py->geojsonio) (2.0.10)\n",
      "Requirement already satisfied: idna<4,>=2.5 in /Users/rwk/.pyenv/versions/3.10.1/lib/python3.10/site-packages (from requests>=2.18->github3.py->geojsonio) (3.3)\n",
      "Requirement already satisfied: cffi>=1.12 in /Users/rwk/.pyenv/versions/3.10.1/lib/python3.10/site-packages (from cryptography>=3.4.0->PyJWT[crypto]>=2.3.0->github3.py->geojsonio) (1.15.0)\n",
      "Requirement already satisfied: pycparser in /Users/rwk/.pyenv/versions/3.10.1/lib/python3.10/site-packages (from cffi>=1.12->cryptography>=3.4.0->PyJWT[crypto]>=2.3.0->github3.py->geojsonio) (2.21)\n",
      "Note: you may need to restart the kernel to use updated packages.\n"
     ]
    }
   ],
   "source": [
    "%pip install shapely\n",
    "%pip install geopandas\n",
    "%pip install geojsonio"
   ]
  },
  {
   "cell_type": "code",
   "execution_count": 3,
   "metadata": {},
   "outputs": [],
   "source": [
    "from shapely.geometry import Point, Polygon\n",
    "import geopandas as gpd\n",
    "import geojsonio as gjio"
   ]
  },
  {
   "cell_type": "code",
   "execution_count": 4,
   "metadata": {},
   "outputs": [
    {
     "data": {
      "image/svg+xml": "<svg xmlns=\"http://www.w3.org/2000/svg\" xmlns:xlink=\"http://www.w3.org/1999/xlink\" width=\"100.0\" height=\"100.0\" viewBox=\"2.0 4.0 2.0 2.0\" preserveAspectRatio=\"xMinYMin meet\"><g transform=\"matrix(1,0,0,-1,0,10.0)\"><circle cx=\"3.0\" cy=\"5.0\" r=\"0.06\" stroke=\"#555555\" stroke-width=\"0.02\" fill=\"#66cc99\" opacity=\"0.6\" /></g></svg>",
      "text/plain": [
       "<POINT (3 5)>"
      ]
     },
     "execution_count": 4,
     "metadata": {},
     "output_type": "execute_result"
    }
   ],
   "source": [
    "p1 = Point(3, 5)\n",
    "p1"
   ]
  },
  {
   "cell_type": "code",
   "execution_count": 5,
   "metadata": {},
   "outputs": [
    {
     "data": {
      "image/svg+xml": "<svg xmlns=\"http://www.w3.org/2000/svg\" xmlns:xlink=\"http://www.w3.org/1999/xlink\" width=\"100.0\" height=\"100.0\" viewBox=\"-0.04 -0.04 1.08 1.08\" preserveAspectRatio=\"xMinYMin meet\"><g transform=\"matrix(1,0,0,-1,0,1.0)\"><path fill-rule=\"evenodd\" fill=\"#66cc99\" stroke=\"#555555\" stroke-width=\"0.0216\" opacity=\"0.6\" d=\"M 0.0,0.0 L 1.0,1.0 L 1.0,0.0 L 0.0,0.0 z\" /></g></svg>",
      "text/plain": [
       "<POLYGON ((0 0, 1 1, 1 0, 0 0))>"
      ]
     },
     "execution_count": 5,
     "metadata": {},
     "output_type": "execute_result"
    }
   ],
   "source": [
    "polygon = Polygon([(0,0),(1,1),(1,0)])\n",
    "polygon"
   ]
  },
  {
   "cell_type": "code",
   "execution_count": 6,
   "metadata": {},
   "outputs": [
    {
     "name": "stdout",
     "output_type": "stream",
     "text": [
      "  id adm1_code          featurecla  scalerank  \\\n",
      "0  0  USA-3514  Admin-1 scale rank          2   \n",
      "1  1  USA-3515  Admin-1 scale rank          2   \n",
      "2  2  USA-3516  Admin-1 scale rank          2   \n",
      "3  3  USA-3517  Admin-1 scale rank          2   \n",
      "4  4  USA-3518  Admin-1 scale rank          2   \n",
      "\n",
      "                                            geometry  \n",
      "0  POLYGON ((-89.59941 48.01027, -89.48888 48.013...  \n",
      "1  POLYGON ((-111.19419 44.56116, -111.29155 44.7...  \n",
      "2  POLYGON ((-96.60136 46.35136, -96.53891 46.199...  \n",
      "3  MULTIPOLYGON (((-155.93665 19.05939, -155.9080...  \n",
      "4  POLYGON ((-111.04973 44.48816, -111.05025 42.0...  \n"
     ]
    }
   ],
   "source": [
    "states = gpd.read_file('states.geojson')\n",
    "print(states.head())"
   ]
  },
  {
   "cell_type": "code",
   "execution_count": 7,
   "metadata": {},
   "outputs": [],
   "source": [
    "gjio.display(states)"
   ]
  }
 ],
 "metadata": {
  "kernelspec": {
   "display_name": "Python 3",
   "language": "python",
   "name": "python3"
  },
  "language_info": {
   "codemirror_mode": {
    "name": "ipython",
    "version": 3
   },
   "file_extension": ".py",
   "mimetype": "text/x-python",
   "name": "python",
   "nbconvert_exporter": "python",
   "pygments_lexer": "ipython3",
   "version": "3.10.1"
  },
  "orig_nbformat": 4,
  "vscode": {
   "interpreter": {
    "hash": "7c7b99bd201352e3d39c632f1828cd5fc08554f13882fe64bc7bf11423167141"
   }
  }
 },
 "nbformat": 4,
 "nbformat_minor": 2
}
